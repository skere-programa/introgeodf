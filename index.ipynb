{
  "cells": [
    {
      "cell_type": "markdown",
      "metadata": {
        "id": "Rq_-jS9HtUU-"
      },
      "source": [
        "<center><img src=\"https://i.imgur.com/zRrFdsf.png\" width=\"700\"></center>"
      ]
    },
    {
      "cell_type": "markdown",
      "metadata": {
        "id": "-cCaZ1r2tUVA"
      },
      "source": [
        "<a target=\"_blank\" href=\"https://colab.research.google.com/github/CienciaDeDatosEspacial/intro_geodataframe/blob/main/index.ipynb\">\n",
        "  <img src=\"https://colab.research.google.com/assets/colab-badge.svg\" alt=\"Open In Colab\"/>\n",
        "</a>\n",
        "\n",
        "# The Geo Dataframe\n",
        "\n",
        "The geodataframe (GDF) is a dataframe (DF) where every row represents an spatial element (point, line, polygon).\n",
        "\n",
        "The most common file type that stores spatial elements is the shapefile. Let's take a look at some of them:\n",
        "\n",
        "1. In GitHub (cloud), create a repository named: introgeodf.\n",
        "2. Clone that repo to a local folder in your computer.\n",
        "3. In that local folder in your computer, create a folder named **maps**.\n",
        "4. Go to **Paidea** and download three compressed files from the folder **WorldMaps**."
      ]
    },
    {
      "cell_type": "markdown",
      "metadata": {
        "id": "PhGJmen1tUVB"
      },
      "source": [
        "You may see something like this:\n",
        "\n",
        "<img src=\"https://github.com/CienciaDeDatosEspacial/code_and_data/blob/main/mapsFolderImage.png?raw=true\">"
      ]
    },
    {
      "cell_type": "markdown",
      "metadata": {
        "id": "HBs3ovRstUVB"
      },
      "source": [
        "You can decompress those files:\n",
        "\n",
        "<img title=\"a title\" alt=\"Alt text\" src=\"https://github.com/CienciaDeDatosEspacial/code_and_data/blob/main/folderRar_1.png?raw=true\">"
      ]
    },
    {
      "cell_type": "markdown",
      "metadata": {
        "id": "OzvFDa2JtUVB"
      },
      "source": [
        "Now, take a look a **World_Countries**:\n",
        "\n",
        "<img src=\"https://github.com/CienciaDeDatosEspacial/code_and_data/blob/main/imageCountries_shp.png?raw=true\">"
      ]
    },
    {
      "cell_type": "markdown",
      "metadata": {
        "id": "BUOIWMOTtUVB"
      },
      "source": [
        "There, you see that this **one map** requires **several files**. That is the nature of the shapefile.\n",
        "\n",
        "Let's read the file with the help of **geopandas**:"
      ]
    },
    {
      "cell_type": "code",
      "execution_count": 70,
      "metadata": {
        "id": "KJV5G0POtUVB"
      },
      "outputs": [],
      "source": [
        "import os, geopandas as gpd\n",
        "\n",
        "countries=gpd.read_file('https://github.com/skere-programa/introgeodf/raw/refs/heads/main/maps/World_Countries/World_Countries.shp')"
      ]
    },
    {
      "cell_type": "markdown",
      "metadata": {
        "id": "a5AOj3mktUVC"
      },
      "source": [
        "Let's use some familiar DF functions:"
      ]
    },
    {
      "cell_type": "code",
      "execution_count": 71,
      "metadata": {
        "id": "BTVBGfNatUVC",
        "colab": {
          "base_uri": "https://localhost:8080/",
          "height": 186
        },
        "outputId": "09e86640-69a6-4f18-dbde-ba8df8e0bb75"
      },
      "outputs": [
        {
          "output_type": "execute_result",
          "data": {
            "text/plain": [
              "geopandas.geodataframe.GeoDataFrame"
            ],
            "text/html": [
              "<div style=\"max-width:800px; border: 1px solid var(--colab-border-color);\"><style>\n",
              "      pre.function-repr-contents {\n",
              "        overflow-x: auto;\n",
              "        padding: 8px 12px;\n",
              "        max-height: 500px;\n",
              "      }\n",
              "\n",
              "      pre.function-repr-contents.function-repr-contents-collapsed {\n",
              "        cursor: pointer;\n",
              "        max-height: 100px;\n",
              "      }\n",
              "    </style>\n",
              "    <pre style=\"white-space: initial; background:\n",
              "         var(--colab-secondary-surface-color); padding: 8px 12px;\n",
              "         border-bottom: 1px solid var(--colab-border-color);\"><b>geopandas.geodataframe.GeoDataFrame</b><br/>def __init__(data=None, *args, geometry=None, crs=None, **kwargs)</pre><pre class=\"function-repr-contents function-repr-contents-collapsed\" style=\"\"><a class=\"filepath\" style=\"display:none\" href=\"#\">/usr/local/lib/python3.10/dist-packages/geopandas/geodataframe.py</a>A GeoDataFrame object is a pandas.DataFrame that has one or more columns\n",
              "containing geometry. In addition to the standard DataFrame constructor arguments,\n",
              "GeoDataFrame also accepts the following keyword arguments:\n",
              "\n",
              "Parameters\n",
              "----------\n",
              "crs : value (optional)\n",
              "    Coordinate Reference System of the geometry objects. Can be anything accepted by\n",
              "    :meth:`pyproj.CRS.from_user_input() &lt;pyproj.crs.CRS.from_user_input&gt;`,\n",
              "    such as an authority string (eg &quot;EPSG:4326&quot;) or a WKT string.\n",
              "geometry : str or array-like (optional)\n",
              "    Value to use as the active geometry column.\n",
              "    If str, treated as column name to use. If array-like, it will be\n",
              "    added as new column named &#x27;geometry&#x27; on the GeoDataFrame and set as the\n",
              "    active geometry column.\n",
              "\n",
              "    Note that if ``geometry`` is a (Geo)Series with a\n",
              "    name, the name will not be used, a column named &quot;geometry&quot; will still be\n",
              "    added. To preserve the name, you can use :meth:`~GeoDataFrame.rename_geometry`\n",
              "    to update the geometry column name.\n",
              "\n",
              "Examples\n",
              "--------\n",
              "Constructing GeoDataFrame from a dictionary.\n",
              "\n",
              "&gt;&gt;&gt; from shapely.geometry import Point\n",
              "&gt;&gt;&gt; d = {&#x27;col1&#x27;: [&#x27;name1&#x27;, &#x27;name2&#x27;], &#x27;geometry&#x27;: [Point(1, 2), Point(2, 1)]}\n",
              "&gt;&gt;&gt; gdf = geopandas.GeoDataFrame(d, crs=&quot;EPSG:4326&quot;)\n",
              "&gt;&gt;&gt; gdf\n",
              "    col1     geometry\n",
              "0  name1  POINT (1 2)\n",
              "1  name2  POINT (2 1)\n",
              "\n",
              "Notice that the inferred dtype of &#x27;geometry&#x27; columns is geometry.\n",
              "\n",
              "&gt;&gt;&gt; gdf.dtypes\n",
              "col1          object\n",
              "geometry    geometry\n",
              "dtype: object\n",
              "\n",
              "Constructing GeoDataFrame from a pandas DataFrame with a column of WKT geometries:\n",
              "\n",
              "&gt;&gt;&gt; import pandas as pd\n",
              "&gt;&gt;&gt; d = {&#x27;col1&#x27;: [&#x27;name1&#x27;, &#x27;name2&#x27;], &#x27;wkt&#x27;: [&#x27;POINT (1 2)&#x27;, &#x27;POINT (2 1)&#x27;]}\n",
              "&gt;&gt;&gt; df = pd.DataFrame(d)\n",
              "&gt;&gt;&gt; gs = geopandas.GeoSeries.from_wkt(df[&#x27;wkt&#x27;])\n",
              "&gt;&gt;&gt; gdf = geopandas.GeoDataFrame(df, geometry=gs, crs=&quot;EPSG:4326&quot;)\n",
              "&gt;&gt;&gt; gdf\n",
              "    col1          wkt     geometry\n",
              "0  name1  POINT (1 2)  POINT (1 2)\n",
              "1  name2  POINT (2 1)  POINT (2 1)\n",
              "\n",
              "See also\n",
              "--------\n",
              "GeoSeries : Series object designed to store shapely geometry objects</pre>\n",
              "      <script>\n",
              "      if (google.colab.kernel.accessAllowed && google.colab.files && google.colab.files.view) {\n",
              "        for (const element of document.querySelectorAll('.filepath')) {\n",
              "          element.style.display = 'block'\n",
              "          element.onclick = (event) => {\n",
              "            event.preventDefault();\n",
              "            event.stopPropagation();\n",
              "            google.colab.files.view(element.textContent, 78);\n",
              "          };\n",
              "        }\n",
              "      }\n",
              "      for (const element of document.querySelectorAll('.function-repr-contents')) {\n",
              "        element.onclick = (event) => {\n",
              "          event.preventDefault();\n",
              "          event.stopPropagation();\n",
              "          element.classList.toggle('function-repr-contents-collapsed');\n",
              "        };\n",
              "      }\n",
              "      </script>\n",
              "      </div>"
            ]
          },
          "metadata": {},
          "execution_count": 71
        }
      ],
      "source": [
        "# what is it?\n",
        "type(countries)"
      ]
    },
    {
      "cell_type": "code",
      "execution_count": 73,
      "metadata": {
        "id": "AkvWskZytUVC",
        "colab": {
          "base_uri": "https://localhost:8080/"
        },
        "outputId": "a4395a92-da59-445d-b1cf-4ec4ff98cf6e"
      },
      "outputs": [
        {
          "output_type": "execute_result",
          "data": {
            "text/plain": [
              "(252, 2)"
            ]
          },
          "metadata": {},
          "execution_count": 73
        }
      ],
      "source": [
        "# dimensions\n",
        "countries.shape"
      ]
    },
    {
      "cell_type": "code",
      "execution_count": 72,
      "metadata": {
        "id": "ETJdBBR1tUVD",
        "colab": {
          "base_uri": "https://localhost:8080/"
        },
        "outputId": "4c1e8b4d-8a28-4ac7-e025-2123817e3346"
      },
      "outputs": [
        {
          "output_type": "execute_result",
          "data": {
            "text/plain": [
              "Index(['COUNTRY', 'geometry'], dtype='object')"
            ]
          },
          "metadata": {},
          "execution_count": 72
        }
      ],
      "source": [
        "# names\n",
        "countries.columns"
      ]
    },
    {
      "cell_type": "code",
      "execution_count": 74,
      "metadata": {
        "id": "QrbZt4g5tUVD",
        "colab": {
          "base_uri": "https://localhost:8080/",
          "height": 206
        },
        "outputId": "49c80816-cea9-4a79-d7fd-aabf9298aee7"
      },
      "outputs": [
        {
          "output_type": "execute_result",
          "data": {
            "text/plain": [
              "               COUNTRY                                           geometry\n",
              "0  Aruba (Netherlands)  POLYGON ((-69.88223 12.41111, -69.94695 12.436...\n",
              "1  Antigua and Barbuda  MULTIPOLYGON (((-61.73889 17.54055, -61.75195 ...\n",
              "2          Afghanistan  POLYGON ((61.27656 35.60725, 61.29638 35.62853...\n",
              "3              Algeria  POLYGON ((-5.15213 30.18047, -5.13917 30.19236...\n",
              "4           Azerbaijan  MULTIPOLYGON (((46.54037 38.87559, 46.49554 38..."
            ],
            "text/html": [
              "\n",
              "  <div id=\"df-2367c2c0-b63c-44aa-a25b-28650e52b08d\" class=\"colab-df-container\">\n",
              "    <div>\n",
              "<style scoped>\n",
              "    .dataframe tbody tr th:only-of-type {\n",
              "        vertical-align: middle;\n",
              "    }\n",
              "\n",
              "    .dataframe tbody tr th {\n",
              "        vertical-align: top;\n",
              "    }\n",
              "\n",
              "    .dataframe thead th {\n",
              "        text-align: right;\n",
              "    }\n",
              "</style>\n",
              "<table border=\"1\" class=\"dataframe\">\n",
              "  <thead>\n",
              "    <tr style=\"text-align: right;\">\n",
              "      <th></th>\n",
              "      <th>COUNTRY</th>\n",
              "      <th>geometry</th>\n",
              "    </tr>\n",
              "  </thead>\n",
              "  <tbody>\n",
              "    <tr>\n",
              "      <th>0</th>\n",
              "      <td>Aruba (Netherlands)</td>\n",
              "      <td>POLYGON ((-69.88223 12.41111, -69.94695 12.436...</td>\n",
              "    </tr>\n",
              "    <tr>\n",
              "      <th>1</th>\n",
              "      <td>Antigua and Barbuda</td>\n",
              "      <td>MULTIPOLYGON (((-61.73889 17.54055, -61.75195 ...</td>\n",
              "    </tr>\n",
              "    <tr>\n",
              "      <th>2</th>\n",
              "      <td>Afghanistan</td>\n",
              "      <td>POLYGON ((61.27656 35.60725, 61.29638 35.62853...</td>\n",
              "    </tr>\n",
              "    <tr>\n",
              "      <th>3</th>\n",
              "      <td>Algeria</td>\n",
              "      <td>POLYGON ((-5.15213 30.18047, -5.13917 30.19236...</td>\n",
              "    </tr>\n",
              "    <tr>\n",
              "      <th>4</th>\n",
              "      <td>Azerbaijan</td>\n",
              "      <td>MULTIPOLYGON (((46.54037 38.87559, 46.49554 38...</td>\n",
              "    </tr>\n",
              "  </tbody>\n",
              "</table>\n",
              "</div>\n",
              "    <div class=\"colab-df-buttons\">\n",
              "\n",
              "  <div class=\"colab-df-container\">\n",
              "    <button class=\"colab-df-convert\" onclick=\"convertToInteractive('df-2367c2c0-b63c-44aa-a25b-28650e52b08d')\"\n",
              "            title=\"Convert this dataframe to an interactive table.\"\n",
              "            style=\"display:none;\">\n",
              "\n",
              "  <svg xmlns=\"http://www.w3.org/2000/svg\" height=\"24px\" viewBox=\"0 -960 960 960\">\n",
              "    <path d=\"M120-120v-720h720v720H120Zm60-500h600v-160H180v160Zm220 220h160v-160H400v160Zm0 220h160v-160H400v160ZM180-400h160v-160H180v160Zm440 0h160v-160H620v160ZM180-180h160v-160H180v160Zm440 0h160v-160H620v160Z\"/>\n",
              "  </svg>\n",
              "    </button>\n",
              "\n",
              "  <style>\n",
              "    .colab-df-container {\n",
              "      display:flex;\n",
              "      gap: 12px;\n",
              "    }\n",
              "\n",
              "    .colab-df-convert {\n",
              "      background-color: #E8F0FE;\n",
              "      border: none;\n",
              "      border-radius: 50%;\n",
              "      cursor: pointer;\n",
              "      display: none;\n",
              "      fill: #1967D2;\n",
              "      height: 32px;\n",
              "      padding: 0 0 0 0;\n",
              "      width: 32px;\n",
              "    }\n",
              "\n",
              "    .colab-df-convert:hover {\n",
              "      background-color: #E2EBFA;\n",
              "      box-shadow: 0px 1px 2px rgba(60, 64, 67, 0.3), 0px 1px 3px 1px rgba(60, 64, 67, 0.15);\n",
              "      fill: #174EA6;\n",
              "    }\n",
              "\n",
              "    .colab-df-buttons div {\n",
              "      margin-bottom: 4px;\n",
              "    }\n",
              "\n",
              "    [theme=dark] .colab-df-convert {\n",
              "      background-color: #3B4455;\n",
              "      fill: #D2E3FC;\n",
              "    }\n",
              "\n",
              "    [theme=dark] .colab-df-convert:hover {\n",
              "      background-color: #434B5C;\n",
              "      box-shadow: 0px 1px 3px 1px rgba(0, 0, 0, 0.15);\n",
              "      filter: drop-shadow(0px 1px 2px rgba(0, 0, 0, 0.3));\n",
              "      fill: #FFFFFF;\n",
              "    }\n",
              "  </style>\n",
              "\n",
              "    <script>\n",
              "      const buttonEl =\n",
              "        document.querySelector('#df-2367c2c0-b63c-44aa-a25b-28650e52b08d button.colab-df-convert');\n",
              "      buttonEl.style.display =\n",
              "        google.colab.kernel.accessAllowed ? 'block' : 'none';\n",
              "\n",
              "      async function convertToInteractive(key) {\n",
              "        const element = document.querySelector('#df-2367c2c0-b63c-44aa-a25b-28650e52b08d');\n",
              "        const dataTable =\n",
              "          await google.colab.kernel.invokeFunction('convertToInteractive',\n",
              "                                                    [key], {});\n",
              "        if (!dataTable) return;\n",
              "\n",
              "        const docLinkHtml = 'Like what you see? Visit the ' +\n",
              "          '<a target=\"_blank\" href=https://colab.research.google.com/notebooks/data_table.ipynb>data table notebook</a>'\n",
              "          + ' to learn more about interactive tables.';\n",
              "        element.innerHTML = '';\n",
              "        dataTable['output_type'] = 'display_data';\n",
              "        await google.colab.output.renderOutput(dataTable, element);\n",
              "        const docLink = document.createElement('div');\n",
              "        docLink.innerHTML = docLinkHtml;\n",
              "        element.appendChild(docLink);\n",
              "      }\n",
              "    </script>\n",
              "  </div>\n",
              "\n",
              "\n",
              "<div id=\"df-f87356a1-c330-418e-91f8-9f8f4bfc7a8f\">\n",
              "  <button class=\"colab-df-quickchart\" onclick=\"quickchart('df-f87356a1-c330-418e-91f8-9f8f4bfc7a8f')\"\n",
              "            title=\"Suggest charts\"\n",
              "            style=\"display:none;\">\n",
              "\n",
              "<svg xmlns=\"http://www.w3.org/2000/svg\" height=\"24px\"viewBox=\"0 0 24 24\"\n",
              "     width=\"24px\">\n",
              "    <g>\n",
              "        <path d=\"M19 3H5c-1.1 0-2 .9-2 2v14c0 1.1.9 2 2 2h14c1.1 0 2-.9 2-2V5c0-1.1-.9-2-2-2zM9 17H7v-7h2v7zm4 0h-2V7h2v10zm4 0h-2v-4h2v4z\"/>\n",
              "    </g>\n",
              "</svg>\n",
              "  </button>\n",
              "\n",
              "<style>\n",
              "  .colab-df-quickchart {\n",
              "      --bg-color: #E8F0FE;\n",
              "      --fill-color: #1967D2;\n",
              "      --hover-bg-color: #E2EBFA;\n",
              "      --hover-fill-color: #174EA6;\n",
              "      --disabled-fill-color: #AAA;\n",
              "      --disabled-bg-color: #DDD;\n",
              "  }\n",
              "\n",
              "  [theme=dark] .colab-df-quickchart {\n",
              "      --bg-color: #3B4455;\n",
              "      --fill-color: #D2E3FC;\n",
              "      --hover-bg-color: #434B5C;\n",
              "      --hover-fill-color: #FFFFFF;\n",
              "      --disabled-bg-color: #3B4455;\n",
              "      --disabled-fill-color: #666;\n",
              "  }\n",
              "\n",
              "  .colab-df-quickchart {\n",
              "    background-color: var(--bg-color);\n",
              "    border: none;\n",
              "    border-radius: 50%;\n",
              "    cursor: pointer;\n",
              "    display: none;\n",
              "    fill: var(--fill-color);\n",
              "    height: 32px;\n",
              "    padding: 0;\n",
              "    width: 32px;\n",
              "  }\n",
              "\n",
              "  .colab-df-quickchart:hover {\n",
              "    background-color: var(--hover-bg-color);\n",
              "    box-shadow: 0 1px 2px rgba(60, 64, 67, 0.3), 0 1px 3px 1px rgba(60, 64, 67, 0.15);\n",
              "    fill: var(--button-hover-fill-color);\n",
              "  }\n",
              "\n",
              "  .colab-df-quickchart-complete:disabled,\n",
              "  .colab-df-quickchart-complete:disabled:hover {\n",
              "    background-color: var(--disabled-bg-color);\n",
              "    fill: var(--disabled-fill-color);\n",
              "    box-shadow: none;\n",
              "  }\n",
              "\n",
              "  .colab-df-spinner {\n",
              "    border: 2px solid var(--fill-color);\n",
              "    border-color: transparent;\n",
              "    border-bottom-color: var(--fill-color);\n",
              "    animation:\n",
              "      spin 1s steps(1) infinite;\n",
              "  }\n",
              "\n",
              "  @keyframes spin {\n",
              "    0% {\n",
              "      border-color: transparent;\n",
              "      border-bottom-color: var(--fill-color);\n",
              "      border-left-color: var(--fill-color);\n",
              "    }\n",
              "    20% {\n",
              "      border-color: transparent;\n",
              "      border-left-color: var(--fill-color);\n",
              "      border-top-color: var(--fill-color);\n",
              "    }\n",
              "    30% {\n",
              "      border-color: transparent;\n",
              "      border-left-color: var(--fill-color);\n",
              "      border-top-color: var(--fill-color);\n",
              "      border-right-color: var(--fill-color);\n",
              "    }\n",
              "    40% {\n",
              "      border-color: transparent;\n",
              "      border-right-color: var(--fill-color);\n",
              "      border-top-color: var(--fill-color);\n",
              "    }\n",
              "    60% {\n",
              "      border-color: transparent;\n",
              "      border-right-color: var(--fill-color);\n",
              "    }\n",
              "    80% {\n",
              "      border-color: transparent;\n",
              "      border-right-color: var(--fill-color);\n",
              "      border-bottom-color: var(--fill-color);\n",
              "    }\n",
              "    90% {\n",
              "      border-color: transparent;\n",
              "      border-bottom-color: var(--fill-color);\n",
              "    }\n",
              "  }\n",
              "</style>\n",
              "\n",
              "  <script>\n",
              "    async function quickchart(key) {\n",
              "      const quickchartButtonEl =\n",
              "        document.querySelector('#' + key + ' button');\n",
              "      quickchartButtonEl.disabled = true;  // To prevent multiple clicks.\n",
              "      quickchartButtonEl.classList.add('colab-df-spinner');\n",
              "      try {\n",
              "        const charts = await google.colab.kernel.invokeFunction(\n",
              "            'suggestCharts', [key], {});\n",
              "      } catch (error) {\n",
              "        console.error('Error during call to suggestCharts:', error);\n",
              "      }\n",
              "      quickchartButtonEl.classList.remove('colab-df-spinner');\n",
              "      quickchartButtonEl.classList.add('colab-df-quickchart-complete');\n",
              "    }\n",
              "    (() => {\n",
              "      let quickchartButtonEl =\n",
              "        document.querySelector('#df-f87356a1-c330-418e-91f8-9f8f4bfc7a8f button');\n",
              "      quickchartButtonEl.style.display =\n",
              "        google.colab.kernel.accessAllowed ? 'block' : 'none';\n",
              "    })();\n",
              "  </script>\n",
              "</div>\n",
              "\n",
              "    </div>\n",
              "  </div>\n"
            ],
            "application/vnd.google.colaboratory.intrinsic+json": {
              "type": "dataframe",
              "variable_name": "countries",
              "summary": "{\n  \"name\": \"countries\",\n  \"rows\": 252,\n  \"fields\": [\n    {\n      \"column\": \"COUNTRY\",\n      \"properties\": {\n        \"dtype\": \"string\",\n        \"num_unique_values\": 252,\n        \"samples\": [\n          \"Nepal\",\n          \"Armenia\",\n          \"Japan\"\n        ],\n        \"semantic_type\": \"\",\n        \"description\": \"\"\n      }\n    },\n    {\n      \"column\": \"geometry\",\n      \"properties\": {\n        \"dtype\": \"geometry\",\n        \"num_unique_values\": 252,\n        \"samples\": [\n          \"POLYGON ((82.70109558105469 27.711105346679688, 82.65790557861328 27.70763397216797, 82.61720275878906 27.696941375732422, 82.59803771972656 27.69027328491211, 82.56805419921875 27.685272216796875, 82.47886657714844 27.672771453857422, 82.45207214355469 27.672216415405273, 82.42942810058594 27.6774959564209, 82.40609741210938 27.69083023071289, 82.30429077148438 27.75916290283203, 82.2783203125 27.778053283691406, 82.14888000488281 27.86416244506836, 82.06639862060547 27.914154052734375, 82.04331970214844 27.91860580444336, 81.99971008300781 27.922218322753906, 81.96949768066406 27.91305160522461, 81.93692016601562 27.887496948242188, 81.90105438232422 27.85492706298828, 81.78082275390625 27.91082763671875, 81.7269287109375 27.955829620361328, 81.60748291015625 28.01888656616211, 81.47876739501953 28.08437156677246, 81.37442016601562 28.166107177734375, 81.29803466796875 28.163883209228516, 81.22248840332031 28.324718475341797, 81.19358825683594 28.366662979125977, 81.18887329101562 28.369163513183594, 81.16693115234375 28.375274658203125, 81.13916015625 28.382495880126953, 81.09414672851562 28.393329620361328, 81.0313720703125 28.40304946899414, 80.93025207519531 28.44554901123047, 80.7047119140625 28.578609466552734, 80.58499145507812 28.653606414794922, 80.54136657714844 28.685272216796875, 80.51901245117188 28.671384811401367, 80.50589752197266 28.6552734375, 80.51081848144531 28.621109008789062, 80.47221374511719 28.589996337890625, 80.38749694824219 28.624996185302734, 80.316650390625 28.69291114807129, 80.2502670288086 28.747495651245117, 80.15081787109375 28.793609619140625, 80.06137084960938 28.829927444458008, 80.05220031738281 28.89832878112793, 80.0576171875 28.924301147460938, 80.06971740722656 28.949440002441406, 80.19692993164062 29.12833023071289, 80.2491455078125 29.16360855102539, 80.28776550292969 29.205551147460938, 80.30192565917969 29.278610229492188, 80.30615997314453 29.30888557434082, 80.28567504882812 29.320205688476562, 80.23802947998047 29.42298126220703, 80.29026794433594 29.483051300048828, 80.31303405761719 29.49860382080078, 80.34609985351562 29.521387100219727, 80.40846252441406 29.60138511657715, 80.41658020019531 29.639995574951172, 80.39652252197266 29.660829544067383, 80.3841552734375 29.681243896484375, 80.37500762939453 29.740203857421875, 80.41581726074219 29.78569221496582, 80.44331359863281 29.796525955200195, 80.48282623291016 29.798259735107422, 80.53727722167969 29.844648361206055, 80.57415771484375 29.909996032714844, 80.59546661376953 29.949647903442383, 80.62553405761719 29.96291160583496, 80.659423828125 29.963329315185547, 80.67886352539062 29.970272064208984, 80.74401092529297 30.019580841064453, 80.8741455078125 30.140968322753906, 80.94303894042969 30.181106567382812, 81.02536010742188 30.20435333251953, 81.04443359375 30.176105499267578, 81.07388305664062 30.12860870361328, 81.09609985351562 30.084720611572266, 81.11943054199219 30.01944351196289, 81.16095733642578 30.030414581298828, 81.19984436035156 30.017776489257812, 81.23220825195312 30.011943817138672, 81.25332641601562 30.02874755859375, 81.24748229980469 30.056385040283203, 81.27859497070312 30.067218780517578, 81.29859924316406 30.078052520751953, 81.38082122802734 30.172496795654297, 81.39276123046875 30.265552520751953, 81.39096069335938 30.31527328491211, 81.40859985351562 30.375551223754883, 81.42623138427734 30.38499641418457, 81.44692993164062 30.377220153808594, 81.46638488769531 30.359439849853516, 81.49359893798828 30.341524124145508, 81.5456771850586 30.33207893371582, 81.550537109375 30.35832977294922, 81.56053161621094 30.38443946838379, 81.63025665283203 30.42471694946289, 81.65498352050781 30.41916275024414, 81.72804260253906 30.392494201660156, 81.80831909179688 30.363746643066406, 81.85304260253906 30.376663208007812, 81.95138549804688 30.36388397216797, 82.1112289428711 30.334442138671875, 82.15123748779297 30.120412826538086, 82.17525482177734 30.069232940673828, 82.22491455078125 30.074996948242188, 82.42082214355469 30.010276794433594, 82.59860229492188 29.89221954345703, 82.65235137939453 29.838329315185547, 82.77665710449219 29.733882904052734, 82.87206268310547 29.66693878173828, 82.90824890136719 29.69062042236328, 82.99859619140625 29.66999626159668, 83.01805114746094 29.658329010009766, 83.05998229980469 29.623329162597656, 83.12081146240234 29.622079849243164, 83.16499328613281 29.633052825927734, 83.19108581542969 29.631662368774414, 83.25749206542969 29.579998016357422, 83.35443115234375 29.490550994873047, 83.379150390625 29.466106414794922, 83.37747955322266 29.437633514404297, 83.38053894042969 29.416385650634766, 83.4144287109375 29.36555290222168, 83.54790496826172 29.189023971557617, 83.60594940185547 29.164718627929688, 83.62858581542969 29.165828704833984, 83.63610076904297 29.169437408447266, 83.67227172851562 29.163330078125, 83.68830871582031 29.183883666992188, 83.69511413574219 29.206382751464844, 83.72053527832031 29.2288818359375, 83.75082397460938 29.24277114868164, 83.91249084472656 29.289718627929688, 83.9760971069336 29.29694175720215, 84.11650848388672 29.260971069335938, 84.18095397949219 29.209716796875, 84.1803970336914 29.18332862854004, 84.15943145751953 29.156661987304688, 84.16207122802734 29.12999725341797, 84.23997497558594 29.05388641357422, 84.23275756835938 28.976104736328125, 84.23692321777344 28.91888427734375, 84.24443054199219 28.91360855102539, 84.32652282714844 28.871801376342773, 84.38859558105469 28.86332893371582, 84.40554809570312 28.849163055419922, 84.43026733398438 28.812496185302734, 84.45915222167969 28.759164810180664, 84.4862289428711 28.73402214050293, 84.57083129882812 28.712493896484375, 84.63638305664062 28.702774047851562, 84.70845794677734 28.65152359008789, 84.70310974121094 28.607219696044922, 84.82331848144531 28.55194091796875, 84.84664916992188 28.54444122314453, 84.94720458984375 28.54207992553711, 85.03166198730469 28.603885650634766, 85.0522689819336 28.63422966003418, 85.07221984863281 28.64138412475586, 85.10693359375 28.636661529541016, 85.19518280029297 28.59103775024414, 85.18193054199219 28.529998779296875, 85.13512420654297 28.465272903442383, 85.11360168457031 28.395828247070312, 85.10331726074219 28.316389083862305, 85.11095428466797 28.306663513183594, 85.13998413085938 28.295276641845703, 85.23692321777344 28.278610229492188, 85.28387451171875 28.272220611572266, 85.37664794921875 28.26361083984375, 85.397216796875 28.266387939453125, 85.41387939453125 28.279720306396484, 85.43692016601562 28.300134658813477, 85.45887756347656 28.30166244506836, 85.58360290527344 28.28249740600586, 85.72137451171875 28.279163360595703, 85.74248504638672 28.242633819580078, 85.78082275390625 28.206104278564453, 85.82054138183594 28.185272216796875, 85.84721374511719 28.173606872558594, 85.86942291259766 28.167339324951172, 85.88777160644531 28.148605346679688, 85.95166015625 28.01305389404297, 85.97637176513672 27.91013526916504, 86.00540161132812 27.886245727539062, 86.06971740722656 27.888050079345703, 86.08941650390625 27.89082908630371, 86.1359634399414 27.935340881347656, 86.12387084960938 27.98082733154297, 86.10386657714844 28.02694320678711, 86.09622955322266 28.086732864379883, 86.19769287109375 28.158050537109375, 86.2145767211914 28.112356185913086, 86.1969223022461 28.072080612182617, 86.2230453491211 28.01138687133789, 86.35206604003906 27.944995880126953, 86.45137023925781 27.908884048461914, 86.51776123046875 27.94027328491211, 86.53776550292969 27.959716796875, 86.54109191894531 28.024166107177734, 86.5694351196289 28.100414276123047, 86.5886001586914 28.113052368164062, 86.69526672363281 28.111661911010742, 86.72859191894531 28.10055160522461, 86.756103515625 28.08222007751465, 86.756103515625 28.05596923828125, 86.75999450683594 28.030553817749023, 86.90359497070312 27.969715118408203, 86.94707489013672 27.947635650634766, 87.03255462646484 27.9632568359375, 87.08651733398438 27.924301147460938, 87.09707641601562 27.891244888305664, 87.14151763916016 27.844024658203125, 87.1927490234375 27.82305145263672, 87.30609130859375 27.816387176513672, 87.32916259765625 27.822219848632812, 87.40887451171875 27.84305191040039, 87.53665161132812 27.840274810791016, 87.59054565429688 27.814857482910156, 87.62608337402344 27.813610076904297, 87.66053771972656 27.82888412475586, 87.72053527832031 27.804996490478516, 87.75138854980469 27.813053131103516, 87.7802734375 27.824996948242188, 87.8045654296875 27.84388542175293, 87.82527160644531 27.86971664428711, 87.84900665283203 27.910690307617188, 87.87261962890625 27.917217254638672, 87.9769287109375 27.889995574951172, 88.0030517578125 27.88582992553711, 88.02777099609375 27.888607025146484, 88.05442810058594 27.89860725402832, 88.09165954589844 27.89221954345703, 88.14279174804688 27.86605453491211, 88.15248107910156 27.86416244506836, 88.18830871582031 27.849231719970703, 88.18733978271484 27.782636642456055, 88.14888000488281 27.680274963378906, 88.12067413330078 27.611940383911133, 88.0933837890625 27.58715057373047, 88.05693054199219 27.53333282470703, 88.04734802246094 27.4964542388916, 88.03471374511719 27.283607482910156, 88.01402282714844 27.22360610961914, 88.00999450683594 27.19416046142578, 88.01081848144531 27.151391983032227, 87.99497985839844 27.112287521362305, 88.03526306152344 27.04930305480957, 88.0729751586914 27.030969619750977, 88.11859130859375 26.984439849853516, 88.17428588867188 26.876802444458008, 88.1945571899414 26.76041603088379, 88.19178009033203 26.725967407226562, 88.17970275878906 26.685272216796875, 88.17276000976562 26.66568946838379, 88.12136840820312 26.56610870361328, 88.1019287109375 26.5302791595459, 88.10741424560547 26.488813400268555, 88.09068298339844 26.433189392089844, 88.02019500732422 26.368364334106445, 87.94747161865234 26.402496337890625, 87.92720031738281 26.423328399658203, 87.90803527832031 26.44638442993164, 87.89415740966797 26.46929931640625, 87.79136657714844 26.458885192871094, 87.68678283691406 26.425273895263672, 87.65054321289062 26.39971923828125, 87.6430435180664 26.392492294311523, 87.5535888671875 26.40583038330078, 87.5302734375 26.41832733154297, 87.4858169555664 26.434022903442383, 87.45512390136719 26.43360710144043, 87.3992919921875 26.418190002441406, 87.36873626708984 26.40152359008789, 87.26971435546875 26.375274658203125, 87.16998291015625 26.39999771118164, 87.08442687988281 26.48638153076172, 87.00444030761719 26.534442901611328, 86.96517944335938 26.525829315185547, 86.94802856445312 26.530929565429688, 86.90068054199219 26.50041389465332, 86.8915786743164 26.477052688598633, 86.82095336914062 26.43673324584961, 86.73338317871094 26.420202255249023, 86.65998840332031 26.456661224365234, 86.47554016113281 26.54610824584961, 86.33415222167969 26.607772827148438, 86.20478057861328 26.587635040283203, 86.1838607788086 26.608051300048828, 86.13832092285156 26.603469848632812, 86.10498809814453 26.618606567382812, 86.08943176269531 26.6330509185791, 86.06387329101562 26.653953552246094, 86.03290557861328 26.663190841674805, 85.9658203125 26.64805030822754, 85.95060729980469 26.627704620361328, 85.8604736328125 26.572843551635742, 85.75345611572266 26.642772674560547, 85.72887420654297 26.673606872558594, 85.72499084472656 26.704994201660156, 85.7269287109375 26.733604431152344, 85.73019409179688 26.787080764770508, 85.71054077148438 26.81610870361328, 85.63075256347656 26.865968704223633, 85.56859588623047 26.845136642456055, 85.54026794433594 26.82971954345703, 85.50804138183594 26.813884735107422, 85.45304870605469 26.786941528320312, 85.33734893798828 26.7369384765625, 85.32804870605469 26.736106872558594, 85.31053161621094 26.739437103271484, 85.221923828125 26.76305389404297, 85.20116424560547 26.775066375732422, 85.18553161621094 26.798053741455078, 84.96775817871094 26.935829162597656, 84.85498046875 26.995548248291016, 84.80220031738281 27.015274047851562, 84.78109741210938 27.01138687133789, 84.75346374511719 27.007360458374023, 84.70748901367188 27.02111053466797, 84.65526580810547 27.04034423828125, 84.64623260498047 27.061386108398438, 84.66026306152344 27.09416389465332, 84.67984008789062 27.135690689086914, 84.68511962890625 27.20624542236328, 84.68025970458984 27.232215881347656, 84.65318298339844 27.29152488708496, 84.63804626464844 27.31110954284668, 84.598388671875 27.339996337890625, 84.49942016601562 27.35638427734375, 84.39498901367188 27.367496490478516, 84.3297119140625 27.37777328491211, 84.29776000976562 27.388328552246094, 84.147216796875 27.51138687133789, 84.0513687133789 27.452980041503906, 84.01914978027344 27.443050384521484, 83.9356689453125 27.44721794128418, 83.92249298095703 27.451772689819336, 83.87136840820312 27.44027328491211, 83.87220764160156 27.385272979736328, 83.85830688476562 27.352224349975586, 83.82609558105469 27.371109008789062, 83.80165100097656 27.383052825927734, 83.77748107910156 27.394718170166016, 83.74803161621094 27.408607482910156, 83.63388061523438 27.459716796875, 83.60775756835938 27.469161987304688, 83.54054260253906 27.47304916381836, 83.41831970214844 27.47277069091797, 83.39401245117188 27.411176681518555, 83.37664794921875 27.375274658203125, 83.35887145996094 27.35610580444336, 83.34235382080078 27.34249496459961, 83.30997467041016 27.336246490478516, 83.2734603881836 27.34471893310547, 83.26110076904297 27.371246337890625, 83.25179290771484 27.389995574951172, 83.17658233642578 27.44700813293457, 83.13053894042969 27.449440002441406, 83.05747985839844 27.44832992553711, 83.02873992919922 27.4495792388916, 82.96804809570312 27.461105346679688, 82.76651763916016 27.503469467163086, 82.74365997314453 27.55590057373047, 82.7469253540039 27.5816650390625, 82.73248291015625 27.63943862915039, 82.71755981445312 27.690410614013672, 82.70109558105469 27.711105346679688))\",\n          \"MULTIPOLYGON (((46.540374755859375 38.875587463378906, 46.516387939453125 38.87803649902344, 46.451934814453125 38.889991760253906, 46.376380920410156 38.90693664550781, 46.35109329223633 38.90998077392578, 46.294715881347656 38.89582061767578, 46.26860427856445 38.882347106933594, 46.2449951171875 38.86679458618164, 46.195533752441406 38.844146728515625, 46.178245544433594 38.841148376464844, 46.12360382080078 38.90998077392578, 46.107215881347656 38.93610382080078, 45.96873474121094 39.17457580566406, 45.969425201416016 39.1977653503418, 45.98609161376953 39.22304153442383, 46.005619049072266 39.2490234375, 45.98512649536133 39.2754020690918, 45.855552673339844 39.34803771972656, 45.82894515991211 39.4463005065918, 45.819358825683594 39.54916000366211, 45.79193878173828 39.5655403137207, 45.73838806152344 39.579158782958984, 45.62665557861328 39.55998992919922, 45.599159240722656 39.55165481567383, 45.558326721191406 39.53387451171875, 45.52832794189453 39.5172119140625, 45.50235366821289 39.504432678222656, 45.464988708496094 39.4940185546875, 45.32693099975586 39.5389518737793, 45.266387939453125 39.611106872558594, 45.07554244995117 39.77227783203125, 45.04706954956055 39.77915573120117, 45.02109909057617 39.76985168457031, 44.99874496459961 39.75191879272461, 44.960540771484375 39.72943115234375, 44.92679214477539 39.7198486328125, 44.88957214355469 39.722904205322266, 44.85832977294922 39.72499084472656, 44.794281005859375 39.71123123168945, 44.77886199951172 39.706382751464844, 44.74610137939453 39.730552673339844, 44.64138412475586 39.80374526977539, 44.59249496459961 39.8317985534668, 44.560264587402344 39.879432678222656, 44.551795959472656 39.89874267578125, 44.48777770996094 39.9627685546875, 44.39915466308594 40.00360870361328, 44.351661682128906 40.022220611572266, 44.28263473510742 40.04609680175781, 44.04429244995117 40.01034164428711, 43.97137451171875 40.01081848144531, 43.93388366699219 40.01361083984375, 43.91249084472656 40.01860046386719, 43.66839599609375 40.103179931640625, 43.6488151550293 40.12485122680664, 43.66852569580078 40.146175384521484, 43.715370178222656 40.15718078613281, 43.661651611328125 40.274436950683594, 43.60693359375 40.36888885498047, 43.58305358886719 40.45111083984375, 43.59276580810547 40.5010986328125, 43.653045654296875 40.53137969970703, 43.717933654785156 40.62091827392578, 43.74137878417969 40.666656494140625, 43.75040817260742 40.744998931884766, 43.74249267578125 40.770263671875, 43.672489166259766 40.92652130126953, 43.59519577026367 40.993324279785156, 43.56597137451172 40.996665954589844, 43.4838752746582 41.022769927978516, 43.45416259765625 41.09492492675781, 43.46076965332031 41.11296081542969, 43.54638671875 41.13499450683594, 43.570133209228516 41.13554763793945, 43.599708557128906 41.12971496582031, 43.63749694824219 41.123046875, 43.73442840576172 41.11360168457031, 43.75624465942383 41.11262512207031, 43.79137420654297 41.11866760253906, 43.8336067199707 41.145545959472656, 43.85651779174805 41.160125732421875, 43.892486572265625 41.1654052734375, 43.992759704589844 41.164146423339844, 44.122764587402344 41.18193054199219, 44.14470672607422 41.18498992919922, 44.172698974609375 41.196861267089844, 44.248870849609375 41.223594665527344, 44.340545654296875 41.212493896484375, 44.42999267578125 41.19221496582031, 44.484153747558594 41.18775939941406, 44.56623458862305 41.185264587402344, 44.728599548339844 41.21221160888672, 44.82471466064453 41.212493896484375, 44.848876953125 41.213050842285156, 44.869712829589844 41.21664810180664, 44.978599548339844 41.270263671875, 45.02294158935547 41.29705047607422, 45.04694366455078 41.22331237792969, 45.14360046386719 41.201515197753906, 45.19304656982422 41.17304992675781, 45.21137237548828 41.15971374511719, 45.221092224121094 41.139984130859375, 45.204708099365234 41.12075424194336, 45.175960540771484 41.11499786376953, 45.12790298461914 41.11817932128906, 45.08207321166992 41.11363220214844, 45.079986572265625 41.080406188964844, 45.09637451171875 41.05970764160156, 45.35095977783203 41.00096130371094, 45.61943435668945 40.86658477783203, 45.61804962158203 40.83596420288086, 45.60269546508789 40.800472259521484, 45.57693862915039 40.777488708496094, 45.5233154296875 40.76305389404297, 45.455543518066406 40.742210388183594, 45.436378479003906 40.733734130859375, 45.42040252685547 40.71998977661133, 45.389156341552734 40.66373825073242, 45.413604736328125 40.60803985595703, 45.53638458251953 40.45692825317383, 45.638038635253906 40.39110565185547, 45.66276550292969 40.375823974609375, 45.88220977783203 40.267486572265625, 45.91334533691406 40.26449966430664, 45.95602798461914 40.27213668823242, 45.99773025512695 40.2308235168457, 45.977413177490234 40.11845779418945, 45.9079704284668 40.023948669433594, 45.88054275512695 40.01402282714844, 45.84777069091797 40.01610565185547, 45.824432373046875 40.019981384277344, 45.76361083984375 40.024436950683594, 45.71360778808594 40.026092529296875, 45.68193054199219 40.02582550048828, 45.638038635253906 40.02165985107422, 45.61360168457031 40.014434814453125, 45.597557067871094 39.997352600097656, 45.607765197753906 39.9717903137207, 45.70526885986328 39.96137237548828, 45.729705810546875 39.95832061767578, 45.7510986328125 39.95331573486328, 45.779296875 39.94054412841797, 45.796932220458984 39.91790008544922, 45.80471420288086 39.89207458496094, 45.82026672363281 39.86040115356445, 45.85068130493164 39.829017639160156, 45.881378173828125 39.80859375, 45.91762924194336 39.79166030883789, 45.96027374267578 39.778602600097656, 45.98387145996094 39.777488708496094, 46.0086669921875 39.77019500732422, 46.030540466308594 39.74553680419922, 46.04331970214844 39.72303771972656, 46.05748748779297 39.69984436035156, 46.18971252441406 39.607215881347656, 46.2076301574707 39.597068786621094, 46.24422836303711 39.59498596191406, 46.30457305908203 39.616519927978516, 46.329429626464844 39.62512969970703, 46.357215881347656 39.62651062011719, 46.5262336730957 39.57811737060547, 46.54568862915039 39.54936599731445, 46.512969970703125 39.475608825683594, 46.44860076904297 39.457763671875, 46.404293060302734 39.45124053955078, 46.38602828979492 39.43866729736328, 46.3841552734375 39.405967712402344, 46.39817810058594 39.384151458740234, 46.55748748779297 39.26914978027344, 46.581382751464844 39.25360870361328, 46.62053680419922 39.22942352294922, 46.62047576904297 39.22165298461914, 46.54165267944336 39.189422607421875, 46.49609375 39.20360565185547, 46.45581817626953 39.217552185058594, 46.42314910888672 39.208702087402344, 46.42443084716797 39.16561508178711, 46.45832061767578 39.14276885986328, 46.47748565673828 39.13665771484375, 46.49506378173828 39.126441955566406, 46.51776885986328 39.07373809814453, 46.523597717285156 39.044158935546875, 46.51609802246094 39.024845123291016, 46.5022087097168 38.999847412109375, 46.495540618896484 38.95734786987305, 46.540374755859375 38.875587463378906), (45.02582931518555 41.030548095703125, 45.049713134765625 41.03874588012695, 45.055267333984375 41.05971908569336, 45.02388000488281 41.087074279785156, 44.99263381958008 41.08540725708008, 44.98415756225586 41.05762481689453, 45.00999069213867 41.033050537109375, 45.02582931518555 41.030548095703125), (45.22916030883789 40.96915054321289, 45.24110412597656 40.985130310058594, 45.202030181884766 40.99943542480469, 45.20637893676758 40.97943115234375, 45.22916030883789 40.96915054321289)), ((45.52888107299805 40.60609817504883, 45.506103515625 40.61207962036133, 45.491939544677734 40.636940002441406, 45.509437561035156 40.66178894042969, 45.56391525268555 40.66421127319336, 45.58790969848633 40.65110397338867, 45.57305145263672 40.63248825073242, 45.52888107299805 40.60609817504883)))\",\n          \"MULTIPOLYGON (((144.36773681640625 43.953880310058594, 144.4110870361328 43.942073822021484, 144.5 43.930824279785156, 144.53997802734375 43.92638397216797, 144.61773681640625 43.91777038574219, 144.65664672851562 43.913604736328125, 144.70053100585938 43.91082000732422, 144.7230224609375 43.91027069091797, 144.74468994140625 43.91027069091797, 144.79164123535156 43.91769790649414, 144.88333129882812 43.97443389892578, 144.90914916992188 43.993186950683594, 144.93309020996094 44.02436447143555, 144.97857666015625 44.07138442993164, 145.01971435546875 44.101661682128906, 145.08302307128906 44.13971710205078, 145.11495971679688 44.15415954589844, 145.1892852783203 44.197486877441406, 145.21788024902344 44.23096466064453, 145.2432861328125 44.260826110839844, 145.3194122314453 44.33332443237305, 145.33885192871094 44.344154357910156, 145.37759399414062 44.26784133911133, 145.359130859375 44.22943115234375, 145.33273315429688 44.185264587402344, 145.24664306640625 44.0505485534668, 145.2230224609375 44.0343017578125, 145.203857421875 44.02276611328125, 145.18496704101562 44.00471496582031, 145.1676025390625 43.98401641845703, 145.13162231445312 43.93138122558594, 145.10968017578125 43.895545959472656, 145.07066345214844 43.77749252319336, 145.07150268554688 43.754024505615234, 145.10494995117188 43.69999694824219, 145.11746215820312 43.6824951171875, 145.13929748535156 43.654296875, 145.16387939453125 43.63276672363281, 145.20159912109375 43.607032775878906, 145.22842407226562 43.601661682128906, 145.2591552734375 43.598045349121094, 145.29443359375 43.59638214111328, 145.33580017089844 43.57679748535156, 145.35684204101562 43.55318832397461, 145.2872772216797 43.546260833740234, 145.2957000732422 43.57032775878906, 145.2755126953125 43.58132553100586, 145.24383544921875 43.5958251953125, 145.2081298828125 43.60090637207031, 145.23312377929688 43.532047271728516, 145.27969360351562 43.4244384765625, 145.3035888671875 43.36859893798828, 145.28135681152344 43.3401985168457, 145.26124572753906 43.33818435668945, 145.256103515625 43.31763458251953, 145.31149291992188 43.27513122558594, 145.35745239257812 43.26361083984375, 145.38217163085938 43.25804901123047, 145.41400146484375 43.25277328491211, 145.47247314453125 43.25110626220703, 145.4970703125 43.268798828125, 145.65109252929688 43.3781852722168, 145.7713623046875 43.38304901123047, 145.81240844726562 43.365478515625, 145.73773193359375 43.32610321044922, 145.68081665039062 43.305267333984375, 145.6519317626953 43.30513000488281, 145.623291015625 43.304710388183594, 145.5717010498047 43.257076263427734, 145.55767822265625 43.217281341552734, 145.52081298828125 43.17027282714844, 145.4913330078125 43.16888427734375, 145.45858764648438 43.17610168457031, 145.42636108398438 43.17555236816406, 145.37078857421875 43.17193603515625, 145.2891387939453 43.1634635925293, 145.13705444335938 43.125823974609375, 145.11947631835938 43.099021911621094, 145.12704467773438 43.08027267456055, 145.107177734375 43.04582977294922, 145.00344848632812 42.98429870605469, 144.97857666015625 42.976932525634766, 144.9053955078125 42.97290802001953, 144.87466430664062 42.97887420654297, 144.8421173095703 43.007423400878906, 144.83615112304688 43.03464889526367, 144.8062286376953 43.0443000793457, 144.78233337402344 43.03554916381836, 144.76275634765625 43.01915740966797, 144.7348175048828 42.980201721191406, 144.74050903320312 42.96082305908203, 144.66165161132812 42.93721008300781, 144.48606872558594 42.929298400878906, 144.46359252929688 42.930824279785156, 144.40414428710938 42.9466552734375, 144.3753662109375 42.95915985107422, 144.3607940673828 42.989295959472656, 144.3321990966797 42.99818801879883, 144.29193115234375 42.993324279785156, 144.17941284179688 42.967491149902344, 144.14166259765625 42.958045959472656, 144.01539611816406 42.91818618774414, 143.98968505859375 42.906654357910156, 143.89276123046875 42.849159240722656, 143.85244750976562 42.81360626220703, 143.79998779296875 42.76666259765625, 143.7813720703125 42.74916076660156, 143.64971923828125 42.663047790527344, 143.62217712402344 42.642356872558594, 143.59097290039062 42.61493682861328, 143.562744140625 42.5877685546875, 143.53997802734375 42.56471252441406, 143.46414184570312 42.479156494140625, 143.43496704101562 42.44248962402344, 143.3861083984375 42.378326416015625, 143.37384033203125 42.361663818359375, 143.34442138671875 42.31304931640625, 143.3319091796875 42.28777313232422, 143.32565307617188 42.22019958496094, 143.33859252929688 42.165138244628906, 143.31692504882812 42.04277038574219, 143.24314880371094 41.92471694946289, 143.2027587890625 41.94415283203125, 143.17156982421875 41.97019958496094, 143.14468383789062 42, 143.11431884765625 42.026519775390625, 142.95037841796875 42.103328704833984, 142.92288208007812 42.11277389526367, 142.8671875 42.12360382080078, 142.82745361328125 42.13220977783203, 142.79330444335938 42.14166259765625, 142.70635986328125 42.172218322753906, 142.657470703125 42.190826416015625, 142.4852294921875 42.25804901123047, 142.3135986328125 42.34082794189453, 142.28651428222656 42.35610580444336, 142.254150390625 42.380271911621094, 142.10357666015625 42.454437255859375, 142.05648803710938 42.46651840209961, 142.01651000976562 42.48263168334961, 141.96359252929688 42.518882751464844, 141.92816162109375 42.548744201660156, 141.84051513671875 42.59082794189453, 141.816650390625 42.598876953125, 141.79052734375 42.60638427734375, 141.74899291992188 42.61277389526367, 141.69552612304688 42.615272521972656, 141.65887451171875 42.61610412597656, 141.62344360351562 42.61457824707031, 141.5577392578125 42.603050231933594, 141.532470703125 42.59693908691406, 141.43649291992188 42.56943893432617, 141.40219116210938 42.554298400878906, 141.15469360351562 42.42249298095703, 141.11135864257812 42.39833068847656, 141.09051513671875 42.38499450683594, 141.05580139160156 42.35874557495117, 141.0244140625 42.32721710205078, 140.99024963378906 42.2970085144043, 140.94503784179688 42.30624008178711, 140.92941284179688 42.32110595703125, 140.90428161621094 42.38888168334961, 140.89955139160156 42.41818618774414, 140.8798370361328 42.44498825073242, 140.75225830078125 42.55096435546875, 140.71580505371094 42.569580078125, 140.6873321533203 42.5755500793457, 140.520263671875 42.57916259765625, 140.4993896484375 42.577491760253906, 140.4706573486328 42.57082748413086, 140.42718505859375 42.541107177734375, 140.40386962890625 42.52027130126953, 140.38525390625 42.5030517578125, 140.35494995117188 42.47026824951172, 140.3373260498047 42.445823669433594, 140.2988739013672 42.379432678222656, 140.2847900390625 42.34490966796875, 140.28082275390625 42.31666564941406, 140.2799835205078 42.2701301574707, 140.29872131347656 42.241241455078125, 140.32872009277344 42.227073669433594, 140.35830688476562 42.220542907714844, 140.38217163085938 42.212493896484375, 140.42745971679688 42.18998718261719, 140.4746856689453 42.15485382080078, 140.48995971679688 42.138465881347656, 140.5376739501953 42.10784149169922, 140.58120727539062 42.10360336303711, 140.68817138671875 42.121238708496094, 140.7123260498047 42.12623977661133, 140.74302673339844 42.11513137817383, 140.77191162109375 42.09526824951172, 140.79302978515625 42.070274353027344, 140.81024169921875 42.0494384765625, 140.85079956054688 42.009437561035156, 140.9684295654297 41.9094352722168, 140.99134826660156 41.895687103271484, 141.01388549804688 41.88721466064453, 141.03829956054688 41.88276672363281, 141.06829833984375 41.880821228027344, 141.09329223632812 41.87554931640625, 141.13873291015625 41.85041046142578, 141.1944122314453 41.79495620727539, 141.04165649414062 41.71776580810547, 141.01165771484375 41.707496643066406, 140.9807891845703 41.70513153076172, 140.72122192382812 41.809852600097656, 140.69996643066406 41.82124328613281, 140.66636657714844 41.824161529541016, 140.63121032714844 41.805057525634766, 140.61691284179688 41.773048400878906, 140.59982299804688 41.732906341552734, 140.5240020751953 41.69693374633789, 140.4560089111328 41.68193817138672, 140.4346923828125 41.64686584472656, 140.43246459960938 41.605552673339844, 140.43844604492188 41.56443405151367, 140.4434356689453 41.542354583740234, 140.41456604003906 41.51430130004883, 140.284423828125 41.48638153076172, 140.270263671875 41.479854583740234, 140.2487335205078 41.462215423583984, 140.21981811523438 41.41887664794922, 140.19898986816406 41.39728546142578, 140.07400512695312 41.417911529541016, 140.05191040039062 41.429161071777344, 140.03219604492188 41.44915771484375, 139.9848175048828 41.5483283996582, 139.9794158935547 41.5882568359375, 140.0091552734375 41.67499542236328, 140.0230255126953 41.6987419128418, 140.07302856445312 41.757774353027344, 140.12745666503906 41.81721496582031, 140.1459503173828 41.91485595703125, 140.13763427734375 41.98360061645508, 140.05511474609375 42.08485412597656, 140.03887939453125 42.098045349121094, 140.01596069335938 42.109161376953125, 139.98828125 42.118324279785156, 139.939697265625 42.12860107421875, 139.91665649414062 42.14221954345703, 139.7860870361328 42.2431526184082, 139.76976013183594 42.312076568603516, 139.78802490234375 42.349998474121094, 139.80523681640625 42.36888122558594, 139.82518005371094 42.39790725708008, 139.84164428710938 42.44499206542969, 139.84469604492188 42.46776580810547, 139.8480224609375 42.495967864990234, 139.8474578857422 42.51985168457031, 139.8399658203125 42.54749298095703, 139.8309326171875 42.57680130004883, 139.83621215820312 42.613948822021484, 139.86363220214844 42.6531867980957, 139.89540100097656 42.67235565185547, 139.92095947265625 42.678466796875, 139.96441650390625 42.67887878417969, 139.98773193359375 42.677215576171875, 140.03538513183594 42.67985153198242, 140.13900756835938 42.75054931640625, 140.219970703125 42.798606872558594, 140.30831909179688 42.80915832519531, 140.32275390625 42.82804870605469, 140.37440490722656 42.88930130004883, 140.40554809570312 42.91693878173828, 140.46051025390625 42.95749282836914, 140.5145721435547 42.98818588256836, 140.52963256835938 43.00749206542969, 140.47857666015625 43.08387756347656, 140.421630859375 43.150543212890625, 140.38943481445312 43.166664123535156, 140.3645477294922 43.176937103271484, 140.346923828125 43.18971252441406, 140.32260131835938 43.23589324951172, 140.35621643066406 43.31652069091797, 140.48342895507812 43.36589431762695, 140.5111083984375 43.35499572753906, 140.64886474609375 43.27887725830078, 140.77719116210938 43.203880310058594, 140.79928588867188 43.18721008300781, 141.01913452148438 43.17388153076172, 141.1585235595703 43.13853454589844, 141.20816040039062 43.142356872558594, 141.24276733398438 43.15949249267578, 141.27996826171875 43.1815185546875, 141.34829711914062 43.23249053955078, 141.3671875 43.24916076660156, 141.38943481445312 43.272491455078125, 141.4110870361328 43.29693603515625, 141.42831420898438 43.3306884765625, 141.43870544433594 43.382286071777344, 141.43218994140625 43.414710998535156, 141.38272094726562 43.56694030761719, 141.33822631835938 43.711585998535156, 141.38136291503906 43.783607482910156, 141.42193603515625 43.80846405029297, 141.46189880371094 43.82152557373047, 141.48745727539062 43.821800231933594, 141.50860595703125 43.82971954345703, 141.5663604736328 43.85617446899414, 141.59747314453125 43.87804412841797, 141.62149047851562 43.90249252319336, 141.64581298828125 43.94221496582031, 141.64886474609375 43.953880310058594, 141.66552734375 44.000831604003906, 141.67025756835938 44.02887725830078, 141.66830444335938 44.06554412841797, 141.65969848632812 44.21720886230469, 141.6524658203125 44.263328552246094, 141.6585235595703 44.302974700927734, 141.67803955078125 44.32249450683594, 141.72579956054688 44.388885498046875, 141.75094604492188 44.43241882324219, 141.78829956054688 44.57971954345703, 141.79566955566406 44.616661071777344, 141.7974853515625 44.64110565185547, 141.79525756835938 44.68305206298828, 141.79385375976562 44.708885192871094, 141.78997802734375 44.73443603515625, 141.77053833007812 44.83055114746094, 141.76165771484375 44.8609619140625, 141.72134399414062 44.948326110839844, 141.70858764648438 44.9708251953125, 141.69122314453125 44.99707794189453, 141.67691040039062 45.013885498046875, 141.61163330078125 45.10999298095703, 141.60025024414062 45.12748718261719, 141.58718872070312 45.15526580810547, 141.5748291015625 45.18915557861328, 141.57357788085938 45.20985412597656, 141.5814971923828 45.2388801574707, 141.69386291503906 45.399993896484375, 141.81387329101562 45.416664123535156, 141.83303833007812 45.42332458496094, 141.86988830566406 45.44721603393555, 141.9710693359375 45.48638153076172, 141.98995971679688 45.46582794189453, 142.04830932617188 45.40470886230469, 142.0738525390625 45.38082504272461, 142.09219360351562 45.370826721191406, 142.15234375 45.347076416015625, 142.17872619628906 45.331520080566406, 142.24551391601562 45.27027130126953, 142.30191040039062 45.21360778808594, 142.31942749023438 45.19776916503906, 142.3419189453125 45.17832946777344, 142.38388061523438 45.14332580566406, 142.41302490234375 45.12054443359375, 142.45245361328125 45.089988708496094, 142.4891357421875 45.06443786621094, 142.5162353515625 45.043609619140625, 142.534423828125 45.02027130126953, 142.59024047851562 44.93693542480469, 142.61204528808594 44.904022216796875, 142.62733459472656 44.88763427734375, 142.74050903320312 44.77721405029297, 142.76165771484375 44.75721740722656, 142.77886962890625 44.74137878417969, 142.8121795654297 44.711795806884766, 142.97994995117188 44.584991455078125, 143.02804565429688 44.552215576171875, 143.12188720703125 44.490272521972656, 143.13970947265625 44.479156494140625, 143.36981201171875 44.339576721191406, 143.38470458984375 44.32555389404297, 143.40386962890625 44.31554412841797, 143.46414184570312 44.286659240722656, 143.49468994140625 44.27471160888672, 143.65887451171875 44.219154357910156, 143.691650390625 44.208045959472656, 143.68365478515625 44.18318557739258, 143.7264862060547 44.115966796875, 143.77622985839844 44.094085693359375, 143.89999389648438 44.10277557373047, 143.9912872314453 44.12998962402344, 144.0333251953125 44.13360595703125, 144.17135620117188 44.10853576660156, 144.330810546875 43.97443389892578, 144.35244750976562 43.959716796875, 144.36773681640625 43.953880310058594)), ((140.99493408203125 45.448951721191406, 141.05247497558594 45.44693374633789, 141.06802368164062 45.433326721191406, 141.07440185546875 45.414154052734375, 141.05996704101562 45.31110382080078, 141.05523681640625 45.29638671875, 141.04136657714844 45.26971435546875, 141.03041076660156 45.26652145385742, 140.99163818359375 45.37971496582031, 140.96815490722656 45.45985412597656, 140.98184204101562 45.46367263793945, 140.99493408203125 45.448951721191406)), ((141.17587280273438 45.242340087890625, 141.19732666015625 45.250274658203125, 141.21136474609375 45.24943923950195, 141.27191162109375 45.21998596191406, 141.282470703125 45.2127685546875, 141.30831909179688 45.188880920410156, 141.32052612304688 45.17694091796875, 141.32745361328125 45.168601989746094, 141.3338623046875 45.15721130371094, 141.33038330078125 45.14610290527344, 141.310791015625 45.123878479003906, 141.2828826904297 45.10277557373047, 141.25942993164062 45.098045349121094, 141.2405242919922 45.09721374511719, 141.21829223632812 45.10249328613281, 141.16580200195312 45.12804412841797, 141.14971923828125 45.138885498046875, 141.13748168945312 45.15082550048828, 141.1289825439453 45.16415786743164, 141.13357543945312 45.2108268737793, 141.16024780273438 45.232765197753906, 141.1705322265625 45.240272521972656, 141.17587280273438 45.242340087890625)), ((139.45303344726562 42.21360778808594, 139.45497131347656 42.2116584777832, 139.46524047851562 42.212493896484375, 139.53123474121094 42.229156494140625, 139.54830932617188 42.23680114746094, 139.56190490722656 42.23214340209961, 139.55331420898438 42.203880310058594, 139.51748657226562 42.113609313964844, 139.50192260742188 42.08110809326172, 139.4545440673828 42.04763412475586, 139.4272003173828 42.0634651184082, 139.40774536132812 42.15082550048828, 139.4120635986328 42.165687561035156, 139.425537109375 42.19165802001953, 139.43331909179688 42.201934814453125, 139.44192504882812 42.21138000488281, 139.45303344726562 42.21360778808594)), ((131.68020629882812 34.662208557128906, 131.74441528320312 34.674163818359375, 131.78054809570312 34.68193817138672, 131.81637573242188 34.68971252441406, 131.83273315429688 34.69609832763672, 131.8453826904297 34.7027702331543, 132.05191040039062 34.86804962158203, 132.07691955566406 34.903045654296875, 132.09884643554688 34.92610168457031, 132.13079833984375 34.94999694824219, 132.21578979492188 35.00749969482422, 132.24774169921875 35.02110290527344, 132.28887939453125 35.03193664550781, 132.29998779296875 35.036109924316406, 132.316650390625 35.051658630371094, 132.35968017578125 35.099998474121094, 132.3983154296875 35.150543212890625, 132.40469360351562 35.161376953125, 132.41470336914062 35.17207717895508, 132.54721069335938 35.24748992919922, 132.57940673828125 35.2611083984375, 132.59579467773438 35.267494201660156, 132.61328125 35.271934509277344, 132.62939453125 35.279991149902344, 132.63888549804688 35.28638458251953, 132.65191650390625 35.298606872558594, 132.65887451171875 35.30860137939453, 132.66497802734375 35.320274353027344, 132.6746826171875 35.34638214111328, 132.68136596679688 35.369022369384766, 132.67831420898438 35.38166046142578, 132.66693115234375 35.38804626464844, 132.64166259765625 35.39888000488281, 132.6299591064453 35.40776824951172, 132.63365173339844 35.421104431152344, 132.68109130859375 35.44054412841797, 132.82968139648438 35.48888397216797, 132.85302734375 35.4949951171875, 132.86605834960938 35.49638366699219, 132.88665771484375 35.49665832519531, 132.92913818359375 35.49554443359375, 132.96121215820312 35.49415969848633, 133.0546875 35.550270080566406, 133.0697021484375 35.56499481201172, 133.091064453125 35.582496643066406, 133.10162353515625 35.58221435546875, 133.24856567382812 35.528602600097656, 133.24900817871094 35.514713287353516, 133.25387573242188 35.502777099609375, 133.26748657226562 35.483604431152344, 133.2794189453125 35.47499084472656, 133.31387329101562 35.456382751464844, 133.32830810546875 35.45166015625, 133.34469604492188 35.44776916503906, 133.35995483398438 35.44554138183594, 133.38107299804688 35.44499206542969, 133.40164184570312 35.44526672363281, 133.41761779785156 35.44721221923828, 133.4346923828125 35.45777130126953, 133.44720458984375 35.46998596191406, 133.45608520507812 35.477210998535156, 133.47024536132812 35.4869384765625, 133.48025512695312 35.49249267578125, 133.51998901367188 35.505828857421875, 133.5435791015625 35.51166534423828, 133.56192016601562 35.51527404785156, 133.57467651367188 35.51666259765625, 133.59927368164062 35.5162467956543, 133.6182861328125 35.51361083984375, 133.63470458984375 35.509437561035156, 133.64913940429688 35.50471496582031, 133.69830322265625 35.492767333984375, 133.73663330078125 35.487213134765625, 133.75137329101562 35.48582458496094, 133.7794189453125 35.48499298095703, 133.8135986328125 35.48554992675781, 134.08468627929688 35.50999450683594, 134.11663818359375 35.513885498046875, 134.2600555419922 35.53902053833008, 134.27249145507812 35.54888153076172, 134.2833251953125 35.56360626220703, 134.30245971679688 35.576385498046875, 134.3349609375 35.58943176269531, 134.35885620117188 35.59526824951172, 134.36865234375 35.59754180908203, 134.39193725585938 35.60749816894531, 134.5148468017578 35.645965576171875, 134.53775024414062 35.647491455078125, 134.772216796875 35.65277099609375, 134.79412841796875 35.651100158691406, 134.81301879882812 35.646385192871094, 134.82608032226562 35.63804626464844, 134.89706420898438 35.63346862792969, 134.91651916503906 35.6351318359375, 135.03414916992188 35.682212829589844, 135.05413818359375 35.69415283203125, 135.06829833984375 35.70360565185547, 135.08609008789062 35.729156494140625, 135.16802978515625 35.75249481201172, 135.191650390625 35.75804901123047, 135.21023559570312 35.761383056640625, 135.22219848632812 35.76221466064453, 135.27804565429688 35.724708557128906, 135.28469848632812 35.71638488769531, 135.30636596679688 35.683738708496094, 135.30331420898438 35.668601989746094, 135.28968811035156 35.65964126586914, 135.27413940429688 35.6583251953125, 135.26608276367188 35.649436950683594, 135.20553588867188 35.57555389404297, 135.19802856445312 35.565826416015625, 135.19192504882812 35.554161071777344, 135.187744140625 35.53846740722656, 135.1934356689453 35.52540588378906, 135.3399658203125 35.47193145751953, 135.38720703125 35.46638488769531, 135.40158081054688 35.477901458740234, 135.3916473388672 35.499229431152344, 135.3763427734375 35.49415588378906, 135.3545379638672 35.50186538696289, 135.34579467773438 35.52471160888672, 135.34649658203125 35.53874588012695, 135.35398864746094 35.546939849853516, 135.44857788085938 35.58610534667969, 135.46109008789062 35.588043212890625, 135.47628784179688 35.539398193359375, 135.47537231445312 35.52151870727539, 135.51095581054688 35.48902130126953, 135.52163696289062 35.48638153076172, 135.62744140625 35.476654052734375, 135.71359252929688 35.47637939453125, 135.72552490234375 35.47943115234375, 135.73635864257812 35.48387908935547, 135.82220458984375 35.52165985107422, 135.83108520507812 35.52887725830078, 135.968017578125 35.64874267578125, 135.96371459960938 35.70290756225586, 135.97134399414062 35.71665954589844, 136.01470947265625 35.740966796875, 136.02955627441406 35.73804473876953, 136.0435791015625 35.711936950683594, 136.04998779296875 35.69512939453125, 136.04302978515625 35.679019927978516, 136.0372772216797 35.668460845947266, 136.06204223632812 35.6491584777832, 136.07275390625 35.64860534667969, 136.08135986328125 35.66054916381836, 136.09857177734375 35.74610137939453, 136.09857177734375 35.76277160644531, 136.0919189453125 35.78221130371094, 136.08578491210938 35.796104431152344, 136.08026123046875 35.80499267578125, 136.06192016601562 35.82499694824219, 136.05413818359375 35.83305358886719, 136.03192138671875 35.85193634033203, 136.02081298828125 35.85832977294922, 136.0067901611328 35.870479583740234, 135.9605255126953 35.959712982177734, 135.96107482910156 35.976097106933594, 136.0697021484375 36.11915588378906, 136.1282958984375 36.19554138183594, 136.18191528320312 36.241661071777344, 136.24313354492188 36.26970672607422, 136.35858154296875 36.35332489013672, 136.40692138671875 36.397216796875, 136.51858520507812 36.51305389404297, 136.53109741210938 36.526100158691406, 136.5849609375 36.582496643066406, 136.61328125 36.61388397216797, 136.64913940429688 36.65582275390625, 136.6563720703125 36.66554260253906, 136.69552612304688 36.723602294921875, 136.71246337890625 36.75138854980469, 136.72161865234375 36.76971435546875, 136.75164794921875 36.831382751464844, 136.76138305664062 36.85749816894531, 136.76885986328125 36.88276672363281, 136.76776123046875 36.96527099609375, 136.76608276367188 36.981101989746094, 136.72994995117188 37.092491149902344, 136.68328857421875 37.133811950683594, 136.67996215820312 37.147216796875, 136.68246459960938 37.17610168457031, 136.68942260742188 37.19554138183594, 136.7377471923828 37.32485580444336, 136.75247192382812 37.33971405029297, 136.77191162109375 37.353050231933594, 136.78692626953125 37.362213134765625, 136.8441162109375 37.38249206542969, 136.86773681640625 37.388885498046875, 136.88107299804688 37.38971710205078, 136.9105224609375 37.38721466064453, 136.92276000976562 37.38971710205078, 137.02719116210938 37.42332458496094, 137.07717895507812 37.443321228027344, 137.08609008789062 37.45110321044922, 137.094970703125 37.45915985107422, 137.10385131835938 37.46693420410156, 137.12579345703125 37.47748565673828, 137.14276123046875 37.48332977294922, 137.24856567382812 37.516937255859375, 137.26693725585938 37.52082824707031, 137.2802734375 37.521934509277344, 137.29470825195312 37.52082824707031, 137.32412719726562 37.51832580566406, 137.34329223632812 37.51319122314453, 137.35635375976562 37.50471496582031, 137.35968017578125 37.4949951171875, 137.35995483398438 37.43943405151367, 137.3527374267578 37.42985534667969, 137.24884033203125 37.36054992675781, 137.14553833007812 37.28638458251953, 137.07080078125 37.201934814453125, 137.0348358154297 37.18082809448242, 137.02276611328125 37.17818832397461, 137.00831604003906 37.17902374267578, 136.9564208984375 37.1971435546875, 136.92135620117188 37.19721221923828, 136.87579345703125 37.131378173828125, 136.865234375 37.09943389892578, 136.86328125 37.0877685546875, 136.86972045898438 37.06769561767578, 136.9827423095703 37.040828704833984, 137.0038604736328 37.04839324951172, 137.01443481445312 37.06166076660156, 137.04443359375 37.05665588378906, 137.05386352539062 36.991519927978516, 137.05300903320312 36.95859146118164, 137.01080322265625 36.877769470214844, 136.99037170410156 36.854854583740234, 136.99774169921875 36.83721160888672, 137.00555419921875 36.82916259765625, 137.07247924804688 36.78166198730469, 137.09274291992188 36.77165985107422, 137.17800903320312 36.74817657470703, 137.19691467285156 36.74457550048828, 137.30245971679688 36.74638366699219, 137.31497192382812 36.748329162597656, 137.33163452148438 36.75499725341797, 137.346923828125 36.763328552246094, 137.38552856445312 36.78971862792969, 137.39637756347656 36.799991607666016, 137.4044189453125 36.81471252441406, 137.42080688476562 36.85721969604492, 137.42080688476562 36.873600006103516, 137.42108154296875 36.88749694824219, 137.42941284179688 36.91228103637695, 137.4434356689453 36.925689697265625, 137.4619140625 36.934715270996094, 137.4730224609375 36.93915557861328, 137.48440551757812 36.94248962402344, 137.54525756835938 36.95582580566406, 137.58245849609375 36.96332550048828, 137.6165771484375 36.969276428222656, 137.62579345703125 36.97221374511719, 137.76498413085938 37.01554870605469, 137.80581665039062 37.027488708496094, 137.83026123046875 37.032493591308594, 137.89999389648438 37.053321838378906, 137.91165161132812 37.05693817138672, 137.93997192382812 37.06694030761719, 137.95608520507812 37.074440002441406, 138.02468872070312 37.10777282714844, 138.2099609375 37.160545349121094, 138.24383544921875 37.17249298095703, 138.27108764648438 37.18415832519531, 138.30081176757812 37.20332336425781, 138.58053588867188 37.39860534667969, 138.72940063476562 37.563880920410156, 138.740234375 37.58027648925781, 138.7471923828125 37.59165954589844, 138.75637817382812 37.61027526855469, 138.76803588867188 37.63665771484375, 138.77359008789062 37.649993896484375, 138.78082275390625 37.6744384765625, 138.784423828125 37.68665313720703, 138.78701782226562 37.69987487792969, 138.78887939453125 37.71582794189453, 138.79135131835938 37.72776794433594, 138.79885864257812 37.74694061279297, 138.81607055664062 37.7752685546875, 138.82662963867188 37.79249572753906, 138.83856201171875 37.80693817138672, 138.85662841796875 37.82249450683594, 138.87551879882812 37.83721160888672, 138.90386962890625 37.85888671875, 138.92108154296875 37.87040710449219, 138.97161865234375 37.895545959472656, 138.982177734375 37.900543212890625, 139.02719116210938 37.91777038574219, 139.03915405273438 37.921104431152344, 139.08303833007812 37.935264587402344, 139.12384033203125 37.94915771484375, 139.13497924804688 37.95332336425781, 139.23577880859375 37.99388122558594, 139.256103515625 38.006103515625, 139.27609252929688 38.018882751464844, 139.29998779296875 38.036659240722656, 139.31442260742188 38.04749298095703, 139.34274291992188 38.068885803222656, 139.36578369140625 38.08832550048828, 139.4262237548828 38.15457534790039, 139.44662475585938 38.21887969970703, 139.44998168945312 38.279991149902344, 139.4508056640625 38.296661376953125, 139.45053100585938 38.318328857421875, 139.45135498046875 38.334991455078125, 139.45358276367188 38.35221862792969, 139.46218872070312 38.381378173828125, 139.47247314453125 38.406097412109375, 139.48745727539062 38.438880920410156, 139.57025146484375 38.582496643066406, 139.6121826171875 38.65138244628906, 139.62863159179688 38.67339324951172, 139.64622497558594 38.681800842285156, 139.701904296875 38.72248840332031, 139.74163818359375 38.761383056640625, 139.75469970703125 38.774993896484375, 139.76580810546875 38.791107177734375, 139.78997802734375 38.84332275390625, 139.86050415039062 39.02777099609375, 139.90414428710938 39.15971374511719, 139.97439575195312 39.29582977294922, 139.98690795898438 39.310272216796875, 139.99411010742188 39.321380615234375, 140.01165771484375 39.35277557373047, 140.02276611328125 39.37860107421875, 140.03359985351562 39.40943145751953, 140.04635620117188 39.4466552734375, 140.05218505859375 39.464996337890625, 140.06219482421875 39.52276611328125, 140.07080078125 39.585548400878906, 140.07025146484375 39.60277557373047, 140.06442260742188 39.687767028808594, 140.0635986328125 39.698326110839844, 140.062744140625 39.708885192871094, 140.060791015625 39.719154357910156, 140.05746459960938 39.734161376953125, 140.04721069335938 39.77915954589844, 140.04248046875 39.79388427734375, 140.03829956054688 39.80304718017578, 140.02468872070312 39.82527160644531, 140.01052856445312 39.84193420410156, 139.99774169921875 39.853607177734375, 139.97744750976562 39.86804962158203, 139.96136474609375 39.87860107421875, 139.9488525390625 39.88499450683594, 139.93191528320312 39.88971710205078, 139.91220092773438 39.89304733276367, 139.895263671875 39.89166259765625, 139.87106323242188 39.88526916503906, 139.86288452148438 39.8741569519043, 139.86065673828125 39.864158630371094, 139.82289123535156 39.855411529541016, 139.75332641601562 39.85804748535156, 139.7138671875 39.90888214111328, 139.70831298828125 39.91777038574219, 139.70315551757812 39.929439544677734, 139.6962127685547 39.97901916503906, 139.69859313964844 39.99013137817383, 139.70982360839844 39.99263000488281, 139.7214813232422 39.98179244995117, 139.74163818359375 39.974159240722656, 139.80760192871094 39.95777130126953, 139.8299560546875 39.959434509277344, 139.84274291992188 39.96166229248047, 139.8541259765625 39.96582794189453, 139.88580322265625 39.983604431152344, 139.895263671875 39.99137878417969, 139.9083251953125 40.00471496582031, 139.91970825195312 40.02082824707031, 139.94052124023438 40.05638122558594, 139.96636962890625 40.10694122314453, 140.00833129882812 40.19276428222656, 140.02053833007812 40.23081970214844, 140.02664184570312 40.27638244628906, 140.02691650390625 40.28721618652344, 140.02468872070312 40.318885803222656, 140.01873779296875 40.33582305908203, 140.01193237304688 40.34693908691406, 139.93850708007812 40.42860412597656, 139.94497680664062 40.474708557128906, 139.94607543945312 40.49137878417969, 139.94497680664062 40.50721740722656, 139.93551635742188 40.53638458251953, 139.9252471923828 40.55166244506836, 139.9044189453125 40.565826416015625, 139.86550903320312 40.575687408447266, 139.8538360595703 40.5877685546875, 139.85232543945312 40.59818649291992, 139.99911499023438 40.73054504394531, 140.00888061523438 40.73804473876953, 140.0322723388672 40.74916076660156, 140.05413818359375 40.75138473510742, 140.066650390625 40.748878479003906, 140.08523559570312 40.739158630371094, 140.1031494140625 40.73207473754883, 140.11386108398438 40.73193359375, 140.13302612304688 40.737213134765625, 140.15054321289062 40.743324279785156, 140.21884155273438 40.77165985107422, 140.22994995117188 40.77665710449219, 140.24606323242188 40.785552978515625, 140.26025390625 40.797218322753906, 140.26885986328125 40.80665588378906, 140.2763671875 40.817771911621094, 140.282470703125 40.83082580566406, 140.286376953125 40.843048095703125, 140.30441284179688 40.90221405029297, 140.3399658203125 41.03777313232422, 140.316650390625 41.09443664550781, 140.32080078125 41.13471984863281, 140.32872009277344 41.20929718017578, 140.337158203125 41.23779296875, 140.34552001953125 41.247074127197266, 140.3560791015625 41.24748992919922, 140.4033660888672 41.22478103637695, 140.41525268554688 41.21415710449219, 140.42303466796875 41.20610046386719, 140.43997192382812 41.190269470214844, 140.45677185058594 41.1826286315918, 140.47898864746094 41.18165969848633, 140.49356079101562 41.18721008300781, 140.5105438232422 41.200130462646484, 140.52513122558594 41.21166229248047, 140.54872131347656 41.21998977661133, 140.56607055664062 41.221099853515625, 140.5944061279297 41.21304702758789, 140.6392822265625 41.18138122558594, 140.6483154296875 41.167076110839844, 140.64971923828125 41.15415954589844, 140.64498901367188 41.1361083984375, 140.63858032226562 41.123321533203125, 140.6324462890625 41.10499572753906, 140.63107299804688 41.08832550048828, 140.63217163085938 41.07249450683594, 140.657470703125 40.94054412841797, 140.66079711914062 40.92555236816406, 140.671630859375 40.891380310058594, 140.68386840820312 40.86888122558594, 140.69720458984375 40.85193634033203, 140.70858764648438 40.83971405029297, 140.72190856933594 40.83082962036133, 140.75372314453125 40.82068634033203, 140.77859497070312 40.820831298828125, 140.79776000976562 40.82416534423828, 140.81552124023438 40.83027648925781, 140.8258056640625 40.836936950683594, 140.83523559570312 40.84471130371094, 140.84384155273438 40.854164123535156, 140.87161254882812 40.89054870605469, 140.873291015625 40.90193176269531, 140.8702392578125 40.911659240722656, 140.85745239257812 40.94499206542969, 140.87315368652344 40.98387908935547, 140.8827362060547 40.991519927978516, 140.93206787109375 40.980960845947266, 140.94996643066406 40.971099853515625, 140.9630126953125 40.95665740966797, 140.98745727539062 40.932769775390625, 140.99746704101562 40.92555236816406, 141.0849609375 40.87471008300781, 141.11605834960938 40.86054992675781, 141.13482666015625 40.85694122314453, 141.1494140625 40.862213134765625, 141.159423828125 40.86915588378906, 141.16912841796875 40.87665557861328, 141.17970275878906 40.888885498046875, 141.19552612304688 40.91582489013672, 141.205810546875 40.93443298339844, 141.22802734375 40.978599548339844, 141.2330322265625 40.99110412597656, 141.23941040039062 41.009437561035156, 141.2787322998047 41.14693832397461, 141.2733154296875 41.169158935546875, 141.26138305664062 41.19276428222656, 141.252197265625 41.20555114746094, 141.24551391601562 41.21415710449219, 141.22885131835938 41.22998809814453, 141.19857788085938 41.25193786621094, 141.18344116210938 41.260276794433594, 141.16151428222656 41.26249694824219, 141.1446990966797 41.24165725708008, 141.15650939941406 41.23652267456055, 141.1222381591797 41.20596694946289, 141.062744140625 41.177215576171875, 141.0465087890625 41.17457580566406, 141.03121948242188 41.17596435546875, 141.00094604492188 41.186100006103516, 140.9710693359375 41.182212829589844, 140.8861083984375 41.157493591308594, 140.83551025390625 41.13471984863281, 140.81942749023438 41.125823974609375, 140.8026123046875 41.12262725830078, 140.79165649414062 41.123321533203125, 140.7813720703125 41.13054656982422, 140.77359008789062 41.13860321044922, 140.76666259765625 41.152488708496094, 140.7626190185547 41.16985321044922, 140.8385772705078 41.40054702758789, 140.91123962402344 41.52554702758789, 140.9230194091797 41.52957534790039, 141.08746337890625 41.470542907714844, 141.1060791015625 41.46082305908203, 141.13162231445312 41.44248962402344, 141.15191650390625 41.424163818359375, 141.16470336914062 41.41249084472656, 141.17135620117188 41.40387725830078, 141.1766357421875 41.394996643066406, 141.18609619140625 41.381935119628906, 141.1947021484375 41.37360382080078, 141.20858764648438 41.362213134765625, 141.22482299804688 41.35443878173828, 141.25442504882812 41.345542907714844, 141.27081298828125 41.342491149902344, 141.30081176757812 41.33971405029297, 141.31497192382812 41.34027099609375, 141.33551025390625 41.34193420410156, 141.355224609375 41.3458251953125, 141.37301635742188 41.35193634033203, 141.395263671875 41.362770080566406, 141.41775512695312 41.373878479003906, 141.455810546875 41.34387969970703, 141.41885375976562 41.20416259765625, 141.41220092773438 41.19110107421875, 141.4030303955078 41.17679977416992, 141.39678955078125 41.158599853515625, 141.39553833007812 41.14471435546875, 141.39999389648438 40.92638397216797, 141.40191650390625 40.87971496582031, 141.40386962890625 40.85999298095703, 141.41580200195312 40.745269775390625, 141.41802978515625 40.72998809814453, 141.42108154296875 40.714996337890625, 141.4285888671875 40.69054412841797, 141.46051025390625 40.59387969970703, 141.466064453125 40.57971954345703, 141.47134399414062 40.57054901123047, 141.47662353515625 40.56166076660156, 141.48190307617188 40.552772521972656, 141.5712127685547 40.53166198730469, 141.58273315429688 40.5302734375, 141.63272094726562 40.48749542236328, 141.63916015625 40.47887420654297, 141.647216796875 40.465545654296875, 141.6583251953125 40.45860290527344, 141.674560546875 40.447906494140625, 141.68914794921875 40.43693542480469, 141.69692993164062 40.42887878417969, 141.70718383789062 40.416099548339844, 141.82025146484375 40.2672119140625, 141.84133911132812 40.22526550292969, 141.86245727539062 40.157493591308594, 141.85440063476562 40.11804962158203, 141.84469604492188 40.11054992675781, 141.83663940429688 40.10027313232422, 141.83358764648438 40.08832550048828, 141.83413696289062 40.07777404785156, 141.84051513671875 40.063323974609375, 141.8480224609375 40.055267333984375, 141.89776611328125 40.01832580566406, 141.94052124023438 39.997493743896484, 141.94873046875 39.989437103271484, 141.95718383789062 39.9627685546875, 141.98855590820312 39.788330078125, 141.97885131835938 39.65277099609375, 142.03109741210938 39.606658935546875, 142.06442260742188 39.55554962158203, 142.0697021484375 39.546661376953125, 142.05470275878906 39.465824127197266, 142.03387451171875 39.414573669433594, 142.01416015625 39.414154052734375, 141.9866180419922 39.4163818359375, 141.94329833984375 39.38096618652344, 141.9063720703125 39.329994201660156, 141.89859008789062 39.26610565185547, 141.89901733398438 39.24832534790039, 141.88998413085938 39.15387725830078, 141.88470458984375 39.11749267578125, 141.8671875 39.06304931640625, 141.84815979003906 39.01985549926758, 141.74856567382812 39.018882751464844, 141.6361083984375 38.99485397338867, 141.6298065185547 38.985130310058594, 141.63363647460938 38.969482421875, 141.64358520507812 38.92249298095703, 141.64248657226562 38.88499450683594, 141.63217163085938 38.88721466064453, 141.592529296875 38.885684967041016, 141.58053588867188 38.87360382080078, 141.53305053710938 38.780548095703125, 141.5152587890625 38.68138122558594, 141.53109741210938 38.620269775390625, 141.54693603515625 38.51361083984375, 141.546630859375 38.3861083984375, 141.5374755859375 38.29888153076172, 141.51942443847656 38.263465881347656, 141.45870971679688 38.300689697265625, 141.43609619140625 38.331939697265625, 141.43885803222656 38.361663818359375, 141.42303466796875 38.38096237182617, 141.35772705078125 38.39833068847656, 141.34329223632812 38.39971923828125, 141.30746459960938 38.40221405029297, 141.29385375976562 38.40165710449219, 141.256103515625 38.39582824707031, 141.09579467773438 38.36444091796875, 141.0812225341797 38.359718322753906, 141.05581665039062 38.338043212890625, 141.04412841796875 38.317771911621094, 140.95358276367188 38.148048400878906, 140.93997192382812 38.10527038574219, 140.92303466796875 38.033607482910156, 140.91885375976562 38.005271911621094, 140.91775512695312 37.98304748535156, 140.91748046875 37.97221374511719, 140.9181671142578 37.93735122680664, 140.9205322265625 37.919158935546875, 140.92608642578125 37.89527130126953, 140.95831298828125 37.78443908691406, 140.97994995117188 37.770545959472656, 140.9993896484375 37.756103515625, 141.01443481445312 37.739715576171875, 141.01943969726562 37.73081970214844, 141.02249145507812 37.7208251953125, 141.03305053710938 37.57860565185547, 141.03887939453125 37.456382751464844, 141.03915405273438 37.37499237060547, 141.03665161132812 37.35804748535156, 141.00387573242188 37.18305206298828, 140.97454833984375 36.98471450805664, 140.96746826171875 36.968597412109375, 140.95831298828125 36.95915985107422, 140.92401123046875 36.93346405029297, 140.87274169921875 36.91944122314453, 140.82440185546875 36.90179443359375, 140.8096923828125 36.8861083984375, 140.797607421875 36.86693572998047, 140.7974853515625 36.848045349121094, 140.798583984375 36.84606170654297, 140.76748657226562 36.81304931640625, 140.7530517578125 36.790550231933594, 140.74606323242188 36.77915954589844, 140.63665771484375 36.530548095703125, 140.60580444335938 36.421661376953125, 140.5677490234375 36.2622184753418, 140.56552124023438 36.24748992919922, 140.5677490234375 36.210548400878906, 140.57025146484375 36.18971252441406, 140.57220458984375 36.17943572998047, 140.5888671875 36.109718322753906, 140.5923309326172 36.096797943115234, 140.60052490234375 36.08082580566406, 140.62188720703125 36.044715881347656, 140.63052368164062 36.03166198730469, 140.7774658203125 35.81944274902344, 140.83718872070312 35.743324279785156, 140.82412719726562 35.69499206542969, 140.67526245117188 35.67388153076172, 140.66360473632812 35.67054748535156, 140.64166259765625 35.66249084472656, 140.62606811523438 35.65443420410156, 140.5880126953125 35.62721252441406, 140.56912231445312 35.613609313964844, 140.5455322265625 35.596099853515625, 140.537109375 35.588722229003906, 140.4791259765625 35.53638458251953, 140.47052001953125 35.52777099609375, 140.4508056640625 35.503883361816406, 140.43692016601562 35.48137664794922, 140.41302490234375 35.42887878417969, 140.40554809570312 35.40971374511719, 140.39804077148438 35.38526916503906, 140.3963623046875 35.373878479003906, 140.39608764648438 35.362770080566406, 140.3983154296875 35.34721374511719, 140.4024658203125 35.332496643066406, 140.4134521484375 35.31221389770508, 140.41720581054688 35.294715881347656, 140.4163818359375 35.23387908935547, 140.41470336914062 35.22248840332031, 140.40719604492188 35.20332336425781, 140.3983154296875 35.18360137939453, 140.39080810546875 35.17332458496094, 140.33218383789062 35.129852294921875, 140.2352294921875 35.10027313232422, 140.2230224609375 35.09721374511719, 140.12188720703125 35.08638000488281, 140.002197265625 35.01527404785156, 139.99301147460938 35.008331298828125, 139.9720458984375 34.97200393676758, 139.9659423828125 34.925132751464844, 139.95468139648438 34.910823822021484, 139.941650390625 34.90470886230469, 139.907470703125 34.894996643066406, 139.88943481445312 34.891380310058594, 139.86358642578125 34.889991760253906, 139.83816528320312 34.894996643066406, 139.77206420898438 34.951377868652344, 139.7716522216797 34.96311950683594, 139.7955322265625 34.967491149902344, 139.80859375 34.968048095703125, 139.82635498046875 34.971656799316406, 139.859130859375 34.984161376953125, 139.8671875 34.99653244018555, 139.86468505859375 35.009437561035156, 139.84552001953125 35.063880920410156, 139.82440185546875 35.15415954589844, 139.82357788085938 35.164710998535156, 139.84884643554688 35.27887725830078, 139.9205322265625 35.37499237060547, 139.96969604492188 35.430274963378906, 140.04248046875 35.486656188964844, 140.1041259765625 35.53638458251953, 140.11314392089844 35.5523567199707, 140.10870361328125 35.56693649291992, 140.07525634765625 35.615272521972656, 140.06414794921875 35.62721252441406, 140.04164123535156 35.64332580566406, 139.99578857421875 35.658042907714844, 139.96856689453125 35.66082000732422, 139.93746948242188 35.656654357910156, 139.77719116210938 35.633331298828125, 139.76866149902344 35.62116241455078, 139.76641845703125 35.60655975341797, 139.7672119140625 35.589988708496094, 139.7713623046875 35.56443786621094, 139.78448486328125 35.51164245605469, 139.77804565429688 35.5019416809082, 139.75860595703125 35.489158630371094, 139.72689819335938 35.47804260253906, 139.70330810546875 35.47248840332031, 139.67776489257812 35.47026824951172, 139.64608764648438 35.45749282836914, 139.63470458984375 35.38499450683594, 139.64984130859375 35.2974967956543, 139.65719604492188 35.28137969970703, 139.68746948242188 35.263328552246094, 139.70718383789062 35.25874710083008, 139.7249755859375 35.257774353027344, 139.74502563476562 35.25172805786133, 139.67872619628906 35.13721466064453, 139.659423828125 35.12998962402344, 139.641357421875 35.125823974609375, 139.62454223632812 35.125823974609375, 139.61427307128906 35.13221740722656, 139.62188720703125 35.15971374511719, 139.62342834472656 35.17985153198242, 139.61245727539062 35.21665954589844, 139.60830688476562 35.22582244873047, 139.56788635253906 35.278465270996094, 139.55789184570312 35.285552978515625, 139.44940185546875 35.304161071777344, 139.43524169921875 35.305267333984375, 139.40277099609375 35.30387878417969, 139.344970703125 35.29999542236328, 139.3258056640625 35.29804992675781, 139.28387451171875 35.28943634033203, 139.23745727539062 35.271934509277344, 139.216064453125 35.26249694824219, 139.19024658203125 35.24916076660156, 139.17330932617188 35.2380485534668, 139.159423828125 35.22193145751953, 139.1463623046875 35.19804382324219, 139.14080810546875 35.18498992919922, 139.11282348632812 35.111114501953125, 139.0999755859375 35.09693908691406, 139.09356689453125 35.084716796875, 139.08828735351562 35.057212829589844, 139.091064453125 34.99054718017578, 139.09634399414062 34.981658935546875, 139.10926818847656 34.967628479003906, 139.1289825439453 34.96110534667969, 139.1473388671875 34.94096374511719, 139.15122985839844 34.92068862915039, 139.14303588867188 34.88749694824219, 139.13858032226562 34.87471008300781, 139.06802368164062 34.77137756347656, 139.060791015625 34.7611083984375, 138.98162841796875 34.6663818359375, 138.91192626953125 34.61915588378906, 138.88580322265625 34.606658935546875, 138.8503875732422 34.59318542480469, 138.82955932617188 34.594852447509766, 138.80746459960938 34.604164123535156, 138.74600219726562 34.680824279785156, 138.7485809326172 34.71499252319336, 138.76361083984375 34.729156494140625, 138.76580810546875 34.761940002441406, 138.76638793945312 34.82221984863281, 138.7652587890625 34.881103515625, 138.7678985595703 34.95464324951172, 138.77359008789062 34.97637939453125, 138.7827606201172 34.998046875, 138.79971313476562 35.005828857421875, 138.8238525390625 35.00999450683594, 138.8441162109375 35.00249481201172, 138.89385986328125 35.008888244628906, 138.90594482421875 35.03478240966797, 138.8460693359375 35.08055114746094, 138.83441162109375 35.086936950683594, 138.816650390625 35.09638214111328, 138.7611083984375 35.118324279785156, 138.7412109375 35.12346267700195, 138.72329711914062 35.125267028808594, 138.71051025390625 35.12443542480469, 138.69830322265625 35.12193298339844, 138.57662963867188 35.0958251953125, 138.56690979003906 35.08971405029297, 138.33245849609375 34.85804748535156, 138.22439575195312 34.70110321044922, 138.20523071289062 34.666099548339844, 138.19912719726562 34.653602600097656, 138.19775390625 34.631103515625, 138.20135498046875 34.61610412597656, 138.20663452148438 34.607215881347656, 138.21414184570312 34.599159240722656, 138.16580200195312 34.59748840332031, 138.0374755859375 34.63804626464844, 137.98245239257812 34.65221405029297, 137.96136474609375 34.653602600097656, 137.92913818359375 34.65138244628906, 137.8641357421875 34.63721466064453, 137.84567260742188 34.63502502441406, 137.8197021484375 34.63360595703125, 137.79940795898438 34.633880615234375, 137.6361083984375 34.654991149902344, 137.59133911132812 34.66888427734375, 137.52859497070312 34.66193389892578, 137.40859985351562 34.648048400878906, 137.34634399414062 34.64027404785156, 137.32803344726562 34.63721466064453, 137.29885864257812 34.628875732421875, 137.24301147460938 34.61054992675781, 137.17608642578125 34.58832550048828, 137.143310546875 34.575828552246094, 137.12551879882812 34.571937561035156, 137.02879333496094 34.567840576171875, 137.02386474609375 34.578330993652344, 137.06137084960938 34.63220977783203, 137.06997680664062 34.639991760253906, 137.08621215820312 34.64082717895508, 137.14193725585938 34.645545959472656, 137.18359375 34.65387725830078, 137.34205627441406 34.70804977416992, 137.34829711914062 34.71874237060547, 137.3277587890625 34.76221466064453, 137.32135009765625 34.770545959472656, 137.29940795898438 34.789161682128906, 137.28970336914062 34.79638671875, 137.27691650390625 34.80193328857422, 137.21414184570312 34.79791259765625, 137.15386962890625 34.76805114746094, 137.09092712402344 34.75527572631836, 137.0435791015625 34.75666046142578, 137.0267791748047 34.759300231933594, 137.01638793945312 34.76860046386719, 137.006103515625 34.781105041503906, 136.98886108398438 34.80693817138672, 136.98052978515625 34.831382751464844, 136.98101806640625 34.859130859375, 136.9835205078125 34.87337875366211, 136.98606872558594 34.90818405151367, 136.97789001464844 34.91902160644531, 136.95852661132812 34.89182662963867, 136.93768310546875 34.857322692871094, 136.9246826171875 34.82804870605469, 136.91665649414062 34.7831916809082, 136.91775512695312 34.77263259887695, 136.92385864257812 34.761383056640625, 136.95025634765625 34.733604431152344, 136.95663452148438 34.72526550292969, 136.96746826171875 34.707496643066406, 136.97384643554688 34.68540954589844, 136.96343994140625 34.68263244628906, 136.9323272705078 34.690269470214844, 136.92303466796875 34.69470977783203, 136.87774658203125 34.72026824951172, 136.86328125 34.73081970214844, 136.85467529296875 34.73832702636719, 136.84747314453125 34.74665832519531, 136.82467651367188 34.88665771484375, 136.82302856445312 34.902488708496094, 136.8238525390625 34.91387939453125, 136.82676696777344 34.929019927978516, 136.8319091796875 34.94499206542969, 136.83828735351562 34.956382751464844, 136.8499755859375 34.97026824951172, 136.86093139648438 34.97957229614258, 136.88525390625 35.003257751464844, 136.9013671875 35.031105041503906, 136.90219116210938 35.04541015625, 136.89303588867188 35.079368591308594, 136.84983825683594 35.07902526855469, 136.82135009765625 35.06443786621094, 136.7447509765625 35.02088928222656, 136.73550415039062 35.01776885986328, 136.69747924804688 35.0030517578125, 136.66665649414062 34.9869384765625, 136.65774536132812 34.97998809814453, 136.65081787109375 34.96943664550781, 136.64205932617188 34.94637680053711, 136.6485137939453 34.933738708496094, 136.6551055908203 34.91436767578125, 136.64581298828125 34.87040710449219, 136.63970947265625 34.854164123535156, 136.61605834960938 34.825828552246094, 136.60079956054688 34.81235122680664, 136.5849609375 34.799720764160156, 136.57220458984375 34.78777313232422, 136.55191040039062 34.765830993652344, 136.53720092773438 34.74638366699219, 136.53082275390625 34.73499298095703, 136.51998901367188 34.69693374633789, 136.52108764648438 34.676658630371094, 136.53573608398438 34.60127258300781, 136.57205200195312 34.588741302490234, 136.58773803710938 34.590545654296875, 136.607177734375 34.59193420410156, 136.626220703125 34.588321685791016, 136.64193725585938 34.58110809326172, 136.6947021484375 34.54332733154297, 136.7681884765625 34.49916076660156, 136.7935791015625 34.49610137939453, 136.82760620117188 34.49082565307617, 136.85800170898438 34.47637939453125, 136.86773681640625 34.46943664550781, 136.91567993164062 34.4336051940918, 136.921630859375 34.405548095703125, 136.89768981933594 34.26652145385742, 136.85275268554688 34.24415588378906, 136.83787536621094 34.241241455078125, 136.82717895507812 34.242218017578125, 136.78802490234375 34.25138854980469, 136.77149963378906 34.26277160644531, 136.7794189453125 34.269989013671875, 136.76498413085938 34.29444122314453, 136.66885375976562 34.29833221435547, 136.58969116210938 34.259437561035156, 136.48052978515625 34.22137451171875, 136.371826171875 34.191864013671875, 136.35357666015625 34.19609832763672, 136.34384155273438 34.18971252441406, 136.30331420898438 34.16027069091797, 136.29246520996094 34.142696380615234, 136.26498413085938 34.02832794189453, 136.27777099609375 33.981658935546875, 136.27468872070312 33.969154357910156, 136.26580810546875 33.961936950683594, 136.22940063476562 33.93665313720703, 136.20330810546875 33.91999053955078, 136.17526245117188 33.913604736328125, 136.14999389648438 33.90277099609375, 136.11898803710938 33.884578704833984, 136.09579467773438 33.86305236816406, 136.08358764648438 33.849998474121094, 136.07275390625 33.83526611328125, 136.0635986328125 33.81805419921875, 136.05413818359375 33.794158935546875, 136.048583984375 33.774993896484375, 136.04107666015625 33.75499725341797, 136.02386474609375 33.71776580810547, 136.01666259765625 33.708045959472656, 135.99606323242188 33.685028076171875, 135.98385620117188 33.664154052734375, 135.95135498046875 33.57666015625, 135.93829345703125 33.563323974609375, 135.90914916992188 33.537498474121094, 135.89080810546875 33.52388000488281, 135.772216796875 33.454994201660156, 135.58981323242188 33.496517181396484, 135.53192138671875 33.513328552246094, 135.45773315429688 33.53999328613281, 135.40719604492188 33.5736083984375, 135.39971923828125 33.581382751464844, 135.33621215820312 33.656795501708984, 135.34884643554688 33.68207550048828, 135.36593627929688 33.67652130126953, 135.38107299804688 33.679161071777344, 135.39852905273438 33.70151901245117, 135.37857055664062 33.71943664550781, 135.32025146484375 33.75138854980469, 135.27996826171875 33.76610565185547, 135.1947021484375 33.80804443359375, 135.06468200683594 33.875545501708984, 135.06192016601562 33.888328552246094, 135.08551025390625 33.96832275390625, 135.12911987304688 34.05665588378906, 135.19595336914062 34.140411376953125, 135.13470458984375 34.21527099609375, 135.11273193359375 34.239158630371094, 135.0980224609375 34.24943542480469, 135.1324462890625 34.31721496582031, 135.14498901367188 34.31999206542969, 135.2271728515625 34.349998474121094, 135.29580688476562 34.390830993652344, 135.36691284179688 34.44999694824219, 135.37939453125 34.46221160888672, 135.43637084960938 34.52582550048828, 135.45260620117188 34.548187255859375, 135.4579315185547 34.565277099609375, 135.45481872558594 34.62902069091797, 135.4192352294922 34.691368103027344, 135.33358764648438 34.71832275390625, 135.31497192382812 34.71582794189453, 135.22329711914062 34.684017181396484, 135.19253540039062 34.66374206542969, 135.18856811523438 34.65221405029297, 135.17025756835938 34.64110565185547, 135.1533203125 34.635826110839844, 135.0635986328125 34.61693572998047, 135.04885864257812 34.61859893798828, 134.96913146972656 34.63401794433594, 134.91302490234375 34.66332244873047, 134.89053344726562 34.68138122558594, 134.87689208984375 34.69221496582031, 134.76248168945312 34.75666046142578, 134.74258422851562 34.763031005859375, 134.70858764648438 34.772491455078125, 134.67469787597656 34.77777099609375, 134.66387939453125 34.778602600097656, 134.65109252929688 34.777488708496094, 134.49969482421875 34.75471496582031, 134.41329956054688 34.71998596191406, 134.34579467773438 34.70054626464844, 134.3231658935547 34.69832229614258, 134.29937744140625 34.70412063598633, 134.25027465820312 34.71527099609375, 134.24209594726562 34.703880310058594, 134.2493896484375 34.68915557861328, 134.18942260742188 34.62471008300781, 134.13720703125 34.59027099609375, 134.1192626953125 34.58110427856445, 134.09912109375 34.57555389404297, 134.07325744628906 34.582603454589844, 134.05941772460938 34.592491149902344, 134.04940795898438 34.59943389892578, 134.033447265625 34.60582733154297, 133.99398803710938 34.60624313354492, 133.93246459960938 34.58332443237305, 133.92677307128906 34.57346725463867, 133.9272003173828 34.56013107299805, 133.93722534179688 34.550174713134766, 133.9508056640625 34.55665588378906, 133.95773315429688 34.56666564941406, 133.97024536132812 34.578880310058594, 133.98025512695312 34.584434509277344, 134.004150390625 34.58943176269531, 134.02276611328125 34.59221649169922, 134.0420684814453 34.584716796875, 134.02394104003906 34.547176361083984, 133.9368438720703 34.45082092285156, 133.9181671142578 34.4455451965332, 133.89913940429688 34.448326110839844, 133.82635498046875 34.46388244628906, 133.76943969726562 34.490272521972656, 133.72219848632812 34.52082824707031, 133.70303344726562 34.52165985107422, 133.67913818359375 34.51666259765625, 133.66802978515625 34.51277160644531, 133.47607421875 34.421661376953125, 133.34246826171875 34.345542907714844, 133.3001251220703 34.34374237060547, 133.313720703125 34.353885650634766, 133.31594848632812 34.364994049072266, 133.2672119140625 34.42055130004883, 133.25192260742188 34.42319107055664, 133.24066162109375 34.4163818359375, 133.23468017578125 34.40415954589844, 133.2169647216797 34.35149383544922, 133.2097930908203 34.318824768066406, 133.19032287597656 34.27749252319336, 133.07115173339844 34.24978256225586, 133.06524658203125 34.30110549926758, 133.04635620117188 34.32416534423828, 132.90191650390625 34.31554412841797, 132.8201141357422 34.30790710449219, 132.8096923828125 34.30304718017578, 132.7802734375 34.27082824707031, 132.76858520507812 34.25471496582031, 132.77490234375 34.241172790527344, 132.76498413085938 34.231658935546875, 132.69052124023438 34.20707702636719, 132.65428161621094 34.19818115234375, 132.63217163085938 34.19526672363281, 132.57052612304688 34.189430236816406, 132.5504608154297 34.191932678222656, 132.5004119873047 34.293190002441406, 132.50387573242188 34.32249450683594, 132.40872192382812 34.36457824707031, 132.39859008789062 34.36444091796875, 132.3706512451172 34.35929870605469, 132.35398864746094 34.35346603393555, 132.33636474609375 34.344154357910156, 132.32247924804688 34.33415985107422, 132.22494506835938 34.23637771606445, 132.23257446289062 34.19190979003906, 132.23745727539062 34.17638397216797, 132.24105834960938 34.161102294921875, 132.23968505859375 34.14888000488281, 132.21328735351562 33.99054718017578, 132.197021484375 33.96491241455078, 132.1792449951172 33.95074462890625, 132.12953186035156 33.941471099853516, 132.1323699951172 33.90850067138672, 132.15374755859375 33.85698699951172, 132.15455627441406 33.83485412597656, 132.143310546875 33.826385498046875, 132.060791015625 33.77721405029297, 132.050537109375 33.772491455078125, 132.03775024414062 33.77110290527344, 132.06857299804688 33.805824279785156, 132.048583984375 33.89527130126953, 131.83663940429688 33.99748992919922, 131.82412719726562 34.01652145385742, 131.78720092773438 34.04332733154297, 131.74578857421875 34.05360412597656, 131.60467529296875 34.02971649169922, 131.39608764648438 33.97637939453125, 131.3349609375 33.95166015625, 131.32440185546875 33.9466552734375, 131.25831604003906 33.9184684753418, 131.172607421875 33.93221664428711, 131.16470336914062 33.94248962402344, 131.16387939453125 33.95360565185547, 131.14804077148438 33.98027038574219, 131.10858154296875 34.011383056640625, 131.09219360351562 34.02082824707031, 131.05996704101562 34.03388214111328, 131.0303955078125 34.039581298828125, 130.9977264404297 34.00735855102539, 130.9909210205078 33.98860168457031, 130.98025512695312 33.976097106933594, 130.9169158935547 33.91666030883789, 130.90512084960938 33.91373825073242, 130.893310546875 33.921661376953125, 130.88442993164062 33.93443298339844, 130.88693237304688 34.125267028808594, 130.89498901367188 34.13360595703125, 130.92373657226562 34.1663818359375, 130.92776489257812 34.18138122558594, 130.9246826171875 34.191375732421875, 130.91220092773438 34.22526550292969, 130.90609741210938 34.23387908935547, 130.88400268554688 34.26027297973633, 130.87966918945312 34.293052673339844, 130.93637084960938 34.401100158691406, 130.94468688964844 34.41387939453125, 130.9649658203125 34.425270080566406, 130.97662353515625 34.42860412597656, 131.16552734375 34.417213439941406, 131.2119140625 34.39833068847656, 131.21009826660156 34.370338439941406, 131.26275634765625 34.37693786621094, 131.316650390625 34.388885498046875, 131.40609741210938 34.42207717895508, 131.41360473632812 34.45166015625, 131.5546875 34.60332489013672, 131.591064453125 34.641937255859375, 131.60385131835938 34.653602600097656, 131.62301635742188 34.65582275390625, 131.68020629882812 34.662208557128906)), ((138.5111083984375 38.281105041503906, 138.50775146484375 38.24137878417969, 138.5 38.21110534667969, 138.4913330078125 38.191375732421875, 138.4710693359375 38.15637969970703, 138.453857421875 38.12804412841797, 138.44747924804688 38.11554718017578, 138.441650390625 38.10249328613281, 138.42982482910156 38.06047821044922, 138.44302368164062 38.04575729370117, 138.52235412597656 38.06763458251953, 138.53164672851562 38.07499313354492, 138.54275512695312 38.079715728759766, 138.56581115722656 38.075965881347656, 138.57801818847656 38.06971740722656, 138.58108520507812 38.057212829589844, 138.57858276367188 38.04527282714844, 138.56329345703125 38.013328552246094, 138.5105438232422 37.9152717590332, 138.4772491455078 37.8817253112793, 138.37551879882812 37.8236083984375, 138.3614959716797 37.81818771362305, 138.27886962890625 37.79888153076172, 138.25108337402344 37.79374694824219, 138.2285614013672 37.79652404785156, 138.21829223632812 37.80082702636719, 138.2099609375 37.81193542480469, 138.21148681640625 37.82291030883789, 138.236083984375 37.83360290527344, 138.25637817382812 37.834716796875, 138.2713623046875 37.838321685791016, 138.28219604492188 37.848876953125, 138.33274841308594 37.945823669433594, 138.33718872070312 37.96665954589844, 138.33261108398438 37.978599548339844, 138.3133087158203 37.993045806884766, 138.2991485595703 37.99790954589844, 138.28623962402344 37.99637985229492, 138.27609252929688 37.990272521972656, 138.26693725585938 37.97693634033203, 138.2555389404297 37.967071533203125, 138.2398223876953 37.973388671875, 138.23330688476562 38.01776885986328, 138.235107421875 38.058048248291016, 138.24246215820312 38.07499694824219, 138.30801391601562 38.16693878173828, 138.44830322265625 38.29388427734375, 138.4669189453125 38.30860137939453, 138.4771728515625 38.31471252441406, 138.49411010742188 38.32110595703125, 138.51206970214844 38.32138442993164, 138.5198516845703 38.3134651184082, 138.5111083984375 38.281105041503906)), ((133.29855346679688 36.318275451660156, 133.31011962890625 36.318885803222656, 133.32107543945312 36.315826416015625, 133.36273193359375 36.283607482910156, 133.38525390625 36.251522064208984, 133.37677001953125 36.198184967041016, 133.33523559570312 36.158878326416016, 133.25636291503906 36.15193557739258, 133.246337890625 36.155548095703125, 133.18856811523438 36.20304870605469, 133.18246459960938 36.23860168457031, 133.18914794921875 36.26971435546875, 133.19747924804688 36.278045654296875, 133.22775268554688 36.30665588378906, 133.24732971191406 36.31922912597656, 133.27664184570312 36.32499694824219, 133.29193115234375 36.32499694824219, 133.29855346679688 36.318275451660156)), ((129.47305297851562 34.68561553955078, 129.48828125 34.67499542236328, 129.50526428222656 34.657630920410156, 129.50027465820312 34.62804412841797, 129.48025512695312 34.54804992675781, 129.47607421875 34.53443908691406, 129.3963623046875 34.348602294921875, 129.3782958984375 34.30998992919922, 129.37078857421875 34.30138397216797, 129.35275268554688 34.296661376953125, 129.3365020751953 34.294715881347656, 129.25497436523438 34.33971405029297, 129.2452392578125 34.356658935546875, 129.30026245117188 34.55693817138672, 129.3332977294922 34.631378173828125, 129.44052124023438 34.68498992919922, 129.45997619628906 34.689849853515625, 129.47305297851562 34.68561553955078)), ((134.76220703125 34.18443298339844, 134.75177001953125 34.18596267700195, 134.73745727539062 34.193603515625, 134.6738739013672 34.23790740966797, 134.6627655029297 34.26652145385742, 134.66122436523438 34.282630920410156, 134.66693115234375 34.29694366455078, 134.67413330078125 34.30665588378906, 134.79998779296875 34.4385986328125, 134.87496948242188 34.51166534423828, 134.98272705078125 34.58638000488281, 135.00318908691406 34.59416198730469, 135.0199737548828 34.590824127197266, 135.02767944335938 34.576175689697266, 135.02484130859375 34.56013107299805, 134.9921875 34.510276794433594, 134.97329711914062 34.487213134765625, 134.94442749023438 34.458045959472656, 134.91998291015625 34.43305206298828, 134.90914916992188 34.418052673339844, 134.90164184570312 34.398048400878906, 134.89358520507812 34.366661071777344, 134.89498901367188 34.356101989746094, 134.9202423095703 34.31415939331055, 134.93580627441406 34.298606872558594, 134.94607543945312 34.28888702392578, 134.951904296875 34.27631378173828, 134.94650268554688 34.261383056640625, 134.93496704101562 34.2530517578125, 134.79025268554688 34.193321228027344, 134.76220703125 34.18443298339844)), ((134.37158203125 34.512413024902344, 134.36260986328125 34.46138000488281, 134.34927368164062 34.4315185546875, 134.19384765625 34.47137451171875, 134.1927490234375 34.50999450683594, 134.2779083251953 34.54221725463867, 134.33551025390625 34.549163818359375, 134.3648223876953 34.55082702636719, 134.37158203125 34.512413024902344)), ((133.5875244140625 34.024330139160156, 133.62051391601562 34.046592712402344, 133.64358520507812 34.099159240722656, 133.64678955078125 34.15110397338867, 133.6796875 34.22068405151367, 133.7381591796875 34.25110626220703, 133.89385986328125 34.35999298095703, 134.00637817382812 34.348602294921875, 134.08261108398438 34.338741302490234, 134.1060791015625 34.368324279785156, 134.13150024414062 34.386383056640625, 134.15232849121094 34.383880615234375, 134.22357177734375 34.34443664550781, 134.26060485839844 34.29159164428711, 134.33663940429688 34.25054931640625, 134.4342803955078 34.2076301574707, 134.47190856933594 34.200828552246094, 134.55191040039062 34.21415710449219, 134.57913208007812 34.224159240722656, 134.6324462890625 34.14582824707031, 134.61968994140625 34.11610412597656, 134.6095428466797 34.091102600097656, 134.5919189453125 34.02735137939453, 134.60523986816406 33.983951568603516, 134.64227294921875 33.9795036315918, 134.6944122314453 33.932769775390625, 134.74468994140625 33.81735610961914, 134.69857788085938 33.79777526855469, 134.6383056640625 33.77638244628906, 134.58856201171875 33.748878479003906, 134.38308715820312 33.623046875, 134.3399658203125 33.55638122558594, 134.30514526367188 33.52757263183594, 134.2965087890625 33.51958084106445, 134.26776123046875 33.48054504394531, 134.24676513671875 33.44540786743164, 134.216064453125 33.373321533203125, 134.20274353027344 33.33360290527344, 134.19802856445312 33.303321838378906, 134.19677734375 33.27207565307617, 134.18655395507812 33.24200439453125, 134.11509704589844 33.28235626220703, 134.04248046875 33.35624313354492, 134.03421020507812 33.38895034790039, 133.92454528808594 33.47401809692383, 133.90524291992188 33.482208251953125, 133.87411499023438 33.49054718017578, 133.7476043701172 33.51638412475586, 133.7169189453125 33.516937255859375, 133.657470703125 33.51471710205078, 133.63333129882812 33.51055145263672, 133.60426330566406 33.50333023071289, 133.58384704589844 33.49360656738281, 133.39443969726562 33.38860321044922, 133.3595428466797 33.384300231933594, 133.28150939941406 33.36290740966797, 133.24928283691406 33.32138442993164, 133.25302124023438 33.2776985168457, 133.26560974121094 33.25110626220703, 133.25332641601562 33.21776580810547, 133.24163818359375 33.1966552734375, 133.145263671875 33.08360290527344, 133.1102294921875 33.047027587890625, 133.0573272705078 33.02416229248047, 133.03553771972656 33.01624298095703, 133.01734924316406 32.99832534790039, 133.00790405273438 32.973602294921875, 132.99606323242188 32.85582733154297, 133.00747680664062 32.767494201660156, 132.96441650390625 32.74304962158203, 132.93482971191406 32.76874542236328, 132.9017791748047 32.77416229248047, 132.85586547851562 32.76742172241211, 132.81671142578125 32.74040985107422, 132.63929748535156 32.75180435180664, 132.63470458984375 32.774993896484375, 132.661376953125 32.83387756347656, 132.68844604492188 32.85902404785156, 132.7099609375 32.879783630371094, 132.71400451660156 32.90665817260742, 132.6519317626953 32.90846252441406, 132.64154052734375 32.90728759765625, 132.61329650878906 32.90013122558594, 132.51422119140625 32.88860321044922, 132.48301696777344 32.89554977416992, 132.46414184570312 33.024993896484375, 132.49246215820312 33.17388153076172, 132.51512145996094 33.20124053955078, 132.53469848632812 33.244712829589844, 132.48828125 33.27971649169922, 132.46109008789062 33.294158935546875, 132.4138641357422 33.29069137573242, 132.3773193359375 33.31082534790039, 132.39317321777344 33.432769775390625, 132.36671447753906 33.46773147583008, 132.30523681640625 33.45304870605469, 132.17373657226562 33.38555145263672, 132.14962768554688 33.358673095703125, 132.12744140625 33.348876953125, 132.0187225341797 33.340476989746094, 132.11009216308594 33.39638137817383, 132.2851104736328 33.47304153442383, 132.30801391601562 33.47943115234375, 132.41775512695312 33.539161682128906, 132.5635986328125 33.63555145263672, 132.58941650390625 33.647491455078125, 132.6178741455078 33.660682678222656, 132.63983154296875 33.67374038696289, 132.67164611816406 33.71221160888672, 132.69558715820312 33.755550384521484, 132.69970703125 33.80499267578125, 132.70892333984375 33.87492370605469, 132.77719116210938 33.987770080566406, 132.8969268798828 34.10610580444336, 132.94552612304688 34.117767333984375, 132.97996520996094 34.103050231933594, 133.0404052734375 34.020687103271484, 133.05441284179688 33.99610137939453, 133.06350708007812 33.962284088134766, 133.1136932373047 33.92179870605469, 133.1459503173828 33.912349700927734, 133.16830444335938 33.914154052734375, 133.2034454345703 33.92277145385742, 133.24830627441406 33.94221115112305, 133.27386474609375 33.96221160888672, 133.31532287597656 33.98394775390625, 133.3541259765625 33.984161376953125, 133.42039489746094 33.97943115234375, 133.47274780273438 33.96720886230469, 133.52310180664062 33.9627685546875, 133.548583984375 33.97582244873047, 133.5875244140625 34.024330139160156)), ((129.33078002929688 34.229698181152344, 129.330810546875 34.208885192871094, 129.29345703125 34.124298095703125, 129.270263671875 34.10332489013672, 129.23690795898438 34.08221435546875, 129.22219848632812 34.0736083984375, 129.1851806640625 34.100337982177734, 129.18331909179688 34.16443634033203, 129.187744140625 34.198875427246094, 129.20553588867188 34.302215576171875, 129.2105255126953 34.31735610961914, 129.22093200683594 34.322078704833984, 129.28274536132812 34.307212829589844, 129.34788513183594 34.27770233154297, 129.33078002929688 34.229698181152344)), ((132.49810791015625 34.25508117675781, 132.49884033203125 34.23387908935547, 132.49578857421875 34.209716796875, 132.48370361328125 34.12998962402344, 132.44607543945312 34.11485290527344, 132.39303588867188 34.218597412109375, 132.38916015625 34.22804260253906, 132.38644409179688 34.24534225463867, 132.40345764160156 34.26027297973633, 132.4821014404297 34.27721405029297, 132.4986572265625 34.25856018066406, 132.49810791015625 34.25508117675781)), ((132.42721557617188 33.896697998046875, 132.33163452148438 33.849159240722656, 132.21829223632812 33.85360336303711, 132.19692993164062 33.87915802001953, 132.19107055664062 33.88777160644531, 132.18482971191406 33.90485382080078, 132.1929473876953 33.937767028808594, 132.2130126953125 33.94554138183594, 132.24606323242188 33.947486877441406, 132.2858123779297 33.94123840332031, 132.2974853515625 33.921661376953125, 132.32801818847656 33.89485168457031, 132.35330200195312 33.903045654296875, 132.36773681640625 33.91193389892578, 132.4201202392578 33.94026565551758, 132.44830322265625 33.93360137939453, 132.45162963867188 33.922767639160156, 132.44052124023438 33.904014587402344, 132.43136596679688 33.89749526977539, 132.42721557617188 33.896697998046875)), ((129.74606323242188 32.56110382080078, 129.80609130859375 32.63054656982422, 129.85745239257812 32.6982536315918, 129.85760498046875 32.71874237060547, 129.7752685546875 32.802490234375, 129.7357177734375 32.79325866699219, 129.68551635742188 32.838043212890625, 129.6376190185547 32.94054412841797, 129.6355438232422 32.96540832519531, 129.68753051757812 33.07857131958008, 129.7248992919922 33.06669235229492, 129.7472686767578 33.05310821533203, 129.7672119140625 33.041107177734375, 129.8214874267578 32.975406646728516, 129.8199005126953 32.90745162963867, 129.8017120361328 32.93512725830078, 129.79220581054688 32.91276931762695, 129.79385375976562 32.88499450683594, 129.8040008544922 32.858463287353516, 129.8517608642578 32.82249450683594, 129.94857788085938 32.846099853515625, 129.969970703125 32.86305236816406, 129.9431610107422 32.99485397338867, 129.92691040039062 33.01277160644531, 129.88272094726562 33.04249572753906, 129.74351501464844 33.115882873535156, 129.63665771484375 33.18610382080078, 129.5701446533203 33.20950698852539, 129.566650390625 33.24193572998047, 129.5885772705078 33.36402130126953, 129.83433532714844 33.2922248840332, 129.8517303466797 33.34249496459961, 129.87838745117188 33.37506866455078, 129.87069702148438 33.39511489868164, 129.82553100585938 33.40985107421875, 129.8011932373047 33.44926071166992, 129.8692626953125 33.52721405029297, 129.9210968017578 33.53666305541992, 129.96385192871094 33.5049934387207, 129.95233154296875 33.47356414794922, 129.9827423095703 33.442073822021484, 130.00332641601562 33.439430236816406, 130.0277557373047 33.448326110839844, 130.03631591796875 33.457496643066406, 130.060791015625 33.489158630371094, 130.14498901367188 33.59137725830078, 130.20745849609375 33.65082550048828, 130.23634338378906 33.618045806884766, 130.28358459472656 33.575965881347656, 130.36537170410156 33.58401870727539, 130.3994140625 33.60416030883789, 130.41664123535156 33.62846374511719, 130.46815490722656 33.75041198730469, 130.4564208984375 33.77339172363281, 130.4510040283203 33.79957580566406, 130.496337890625 33.846099853515625, 130.53497314453125 33.87721252441406, 130.70274353027344 33.935890197753906, 130.806640625 33.919715881347656, 130.844970703125 33.912071228027344, 130.982177734375 33.881103515625, 130.95497131347656 33.81429672241211, 131.02719116210938 33.69915771484375, 131.04608154296875 33.674163818359375, 131.09877014160156 33.6125602722168, 131.19491577148438 33.60710906982422, 131.21414184570312 33.595542907714844, 131.27206420898438 33.570274353027344, 131.35189819335938 33.56249237060547, 131.41893005371094 33.5666618347168, 131.46315002441406 33.59526824951172, 131.48426818847656 33.62915802001953, 131.5055389404297 33.660823822021484, 131.52719116210938 33.66888427734375, 131.5865020751953 33.68013381958008, 131.64358520507812 33.663604736328125, 131.66970825195312 33.647491455078125, 131.69247436523438 33.62416076660156, 131.73037719726562 33.5747184753418, 131.74070739746094 33.54262924194336, 131.72955322265625 33.46638107299805, 131.70086669921875 33.41471481323242, 131.5834503173828 33.3429069519043, 131.5587158203125 33.33999252319336, 131.53164672851562 33.35152053833008, 131.503173828125 33.33992385864258, 131.50193786621094 33.315547943115234, 131.5173797607422 33.2646598815918, 131.5394287109375 33.253883361816406, 131.57122802734375 33.2469367980957, 131.59329223632812 33.24443817138672, 131.75942993164062 33.234161376953125, 131.8006591796875 33.23318862915039, 131.8264923095703 33.23527145385742, 131.84747314453125 33.24415588378906, 131.8966827392578 33.2471809387207, 131.86941528320312 33.19999694824219, 131.83663940429688 33.1583251953125, 131.81655883789062 33.11964416503906, 131.90554809570312 32.989715576171875, 131.9852294921875 32.90387725830078, 131.98941040039062 32.83055114746094, 131.897216796875 32.78333282470703, 131.8743896484375 32.73126983642578, 131.87342834472656 32.72651672363281, 131.84579467773438 32.679019927978516, 131.81796264648438 32.682281494140625, 131.76727294921875 32.64762878417969, 131.7027587890625 32.56415557861328, 131.6851806640625 32.5349235534668, 131.68975830078125 32.50839614868164, 131.70413208007812 32.46027374267578, 131.6494140625 32.393882751464844, 131.61578369140625 32.339988708496094, 131.57635498046875 32.24137878417969, 131.54275512695312 32.13416290283203, 131.47384643554688 31.969715118408203, 131.44664001464844 31.88902473449707, 131.451416015625 31.83291244506836, 131.4724578857422 31.821941375732422, 131.49078369140625 31.789579391479492, 131.45025634765625 31.618053436279297, 131.397216796875 31.489437103271484, 131.36273193359375 31.411941528320312, 131.3345489501953 31.369232177734375, 131.24627685546875 31.38492774963379, 131.2414093017578 31.412494659423828, 131.20545959472656 31.459716796875, 131.15011596679688 31.46584701538086, 131.13246154785156 31.467355728149414, 131.07162475585938 31.448745727539062, 131.0394287109375 31.422496795654297, 131.02691650390625 31.401386260986328, 131.00521850585938 31.351713180541992, 131.02996826171875 31.343887329101562, 131.05345153808594 31.342775344848633, 131.1060791015625 31.322498321533203, 131.12911987304688 31.267358779907227, 130.97802734375 31.146942138671875, 130.93496704101562 31.11707878112793, 130.89913940429688 31.106107711791992, 130.87606811523438 31.100830078125, 130.8499755859375 31.090274810791016, 130.74746704101562 31.044164657592773, 130.72120666503906 31.021663665771484, 130.70635986328125 31.006385803222656, 130.66824340820312 30.99958038330078, 130.67837524414062 31.073816299438477, 130.73190307617188 31.115135192871094, 130.7627716064453 31.15791130065918, 130.79608154296875 31.248882293701172, 130.79872131347656 31.314302444458008, 130.77191162109375 31.399301528930664, 130.67372131347656 31.54291343688965, 130.6309356689453 31.549718856811523, 130.60565185546875 31.56437110900879, 130.60211181640625 31.585899353027344, 130.65054321289062 31.617080688476562, 130.6807403564453 31.618398666381836, 130.7184295654297 31.595308303833008, 130.72232055664062 31.557865142822266, 130.7510986328125 31.553329467773438, 130.77499389648438 31.576107025146484, 130.79469299316406 31.60138511657715, 130.80718994140625 31.64069175720215, 130.80795288085938 31.6824951171875, 130.77413940429688 31.706939697265625, 130.67788696289062 31.724994659423828, 130.64498901367188 31.714160919189453, 130.6243896484375 31.694995880126953, 130.6102294921875 31.67666244506836, 130.56109619140625 31.593887329101562, 130.534423828125 31.528884887695312, 130.520263671875 31.480274200439453, 130.5155487060547 31.446245193481445, 130.52468872070312 31.41944122314453, 130.56094360351562 31.331247329711914, 130.57496643066406 31.31263542175293, 130.60745239257812 31.291664123535156, 130.63844299316406 31.278608322143555, 130.6634521484375 31.26249885559082, 130.65359497070312 31.21527099609375, 130.6383056640625 31.18228530883789, 130.58441162109375 31.15499496459961, 130.5201873779297 31.16367530822754, 130.51341247558594 31.194856643676758, 130.4861297607422 31.231590270996094, 130.45831298828125 31.235828399658203, 130.3388671875 31.24443817138672, 130.2548370361328 31.244993209838867, 130.2310791015625 31.247493743896484, 130.20330810546875 31.33916473388672, 130.23385620117188 31.395828247070312, 130.2713623046875 31.41944122314453, 130.30470275878906 31.45367431640625, 130.31829833984375 31.493328094482422, 130.33358764648438 31.55097007751465, 130.33621215820312 31.62596893310547, 130.2565155029297 31.7163143157959, 130.21788024902344 31.738605499267578, 130.18580627441406 31.75468635559082, 130.1766357421875 31.776803970336914, 130.18136596679688 31.820274353027344, 130.19940185546875 31.89944076538086, 130.1624755859375 32.00694274902344, 130.17733764648438 32.08943557739258, 130.20606994628906 32.12345886230469, 130.2578887939453 32.12276840209961, 130.2687225341797 32.10527038574219, 130.2872772216797 32.096099853515625, 130.32191467285156 32.11693572998047, 130.34527587890625 32.160987854003906, 130.46023559570312 32.32305145263672, 130.51443481445312 32.38555145263672, 130.5488739013672 32.418880462646484, 130.56455993652344 32.43526840209961, 130.5985870361328 32.503604888916016, 130.609130859375 32.58888244628906, 130.58746337890625 32.631935119628906, 130.4502410888672 32.61943435668945, 130.46246337890625 32.63652038574219, 130.56497192382812 32.691932678222656, 130.60244750976562 32.715545654296875, 130.60691833496094 32.78346633911133, 130.5848388671875 32.81541061401367, 130.55496215820312 32.840545654296875, 130.51052856445312 32.87499237060547, 130.45663452148438 32.91123962402344, 130.43331909179688 32.96027374267578, 130.42276000976562 32.989990234375, 130.4294891357422 33.04423141479492, 130.41580200195312 33.087493896484375, 130.3635711669922 33.136661529541016, 130.21109008789062 33.17082977294922, 130.13775634765625 33.10582733154297, 130.16470336914062 33.04833221435547, 130.17636108398438 33.030548095703125, 130.2184295654297 32.95818328857422, 130.18385314941406 32.9054069519043, 130.15997314453125 32.89582824707031, 130.11065673828125 32.87346267700195, 130.09620666503906 32.85401916503906, 130.12704467773438 32.835960388183594, 130.16761779785156 32.8295783996582, 130.1947021484375 32.834991455078125, 130.21954345703125 32.8479118347168, 130.24066162109375 32.86124801635742, 130.27386474609375 32.86749267578125, 130.3141326904297 32.861934661865234, 130.34239196777344 32.836936950683594, 130.37078857421875 32.79222106933594, 130.37661743164062 32.76930236816406, 130.3702392578125 32.72887420654297, 130.3394012451172 32.659297943115234, 130.21524047851562 32.59832763671875, 130.17691040039062 32.5872802734375, 130.13546752929688 32.63380813598633, 130.1446533203125 32.67401885986328, 130.19053649902344 32.701656341552734, 130.2019805908203 32.725196838378906, 130.174072265625 32.78297805786133, 130.08815002441406 32.78443908691406, 129.96578979492188 32.73943328857422, 129.94442749023438 32.726097106933594, 129.92745971679688 32.69221496582031, 129.91067504882812 32.659156799316406, 129.89749145507812 32.643882751464844, 129.82191467285156 32.58388137817383, 129.7941436767578 32.57027053833008, 129.752197265625 32.56193542480469, 129.74606323242188 32.56110382080078)), ((129.72079467773438 33.697486877441406, 129.71359252929688 33.69971466064453, 129.66302490234375 33.73554992675781, 129.65887451171875 33.74916458129883, 129.68246459960938 33.82221984863281, 129.687744140625 33.83387756347656, 129.69955444335938 33.8559684753418, 129.77247619628906 33.843326568603516, 129.79412841796875 33.76277160644531, 129.75469970703125 33.72693634033203, 129.72079467773438 33.697486877441406)), ((129.5379638671875 33.30748748779297, 129.53887939453125 33.29222106933594, 129.50247192382812 33.231658935546875, 129.49273681640625 33.21638488769531, 129.48440551757812 33.20860290527344, 129.4710693359375 33.19860076904297, 129.45663452148438 33.18998718261719, 129.44134521484375 33.1824951171875, 129.40969848632812 33.16888427734375, 129.39540100097656 33.16512680053711, 129.38525390625 33.164710998535156, 129.36106872558594 33.169715881347656, 129.45413208007812 33.3316650390625, 129.53915405273438 33.38679885864258, 129.5616455078125 33.388328552246094, 129.5687255859375 33.38040542602539, 129.565673828125 33.340267181396484, 129.5379638671875 33.30748748779297)), ((129.12368774414062 33.068519592285156, 129.1105194091797 33.04957580566406, 129.107177734375 33.03971862792969, 129.09690856933594 32.98554611206055, 129.10398864746094 32.97762680053711, 129.12579345703125 32.97998809814453, 129.13693237304688 32.98332977294922, 129.14915466308594 32.99026870727539, 129.1770477294922 32.997352600097656, 129.18304443359375 32.986106872558594, 129.17913818359375 32.97248840332031, 129.17330932617188 32.96138000488281, 129.06788635253906 32.8226318359375, 129.05552673339844 32.81867218017578, 129.00555419921875 32.93498992919922, 129.04135131835938 32.96138000488281, 129.10079956054688 33.10291290283203, 129.1151580810547 33.14242172241211, 129.12802124023438 33.08360290527344, 129.12496948242188 33.07054901123047, 129.12368774414062 33.068519592285156)), ((128.65240478515625 32.69664001464844, 128.64749145507812 32.711936950683594, 128.64749145507812 32.755828857421875, 128.64886474609375 32.774574279785156, 128.66079711914062 32.78193664550781, 128.78665161132812 32.7913818359375, 128.81329345703125 32.79249572753906, 128.8441162109375 32.75166320800781, 128.8861083984375 32.68610382080078, 128.90101623535156 32.64686965942383, 128.74191284179688 32.58915710449219, 128.66998291015625 32.59971618652344, 128.6383056640625 32.60527038574219, 128.6102294921875 32.611663818359375, 128.60107421875 32.61859893798828, 128.6196746826172 32.66172409057617, 128.65240478515625 32.69664001464844)), ((130 32.188316345214844, 129.98800659179688 32.20054626464844, 129.95523071289062 32.24360656738281, 129.9710693359375 32.355552673339844, 129.98745727539062 32.40943145751953, 129.99273681640625 32.42137908935547, 130.02719116210938 32.498329162597656, 130.04608154296875 32.51221466064453, 130.11009216308594 32.54207992553711, 130.15386962890625 32.543609619140625, 130.18295288085938 32.526309967041016, 130.19857788085938 32.483604431152344, 130.20162963867188 32.46776580810547, 130.21109008789062 32.373321533203125, 130.20761108398438 32.33346176147461, 130.09219360351562 32.23193359375, 130.07440185546875 32.218597412109375, 130.06497192382812 32.212493896484375, 130.02996826171875 32.19499206542969, 130 32.188316345214844)), ((130.2393798828125 32.460350036621094, 130.24026489257812 32.46281433105469, 130.27804565429688 32.49138259887695, 130.3319091796875 32.516387939453125, 130.36509704589844 32.522216796875, 130.44802856445312 32.505271911621094, 130.4033203125 32.423606872558594, 130.38107299804688 32.38721466064453, 130.36941528320312 32.37471008300781, 130.35885620117188 32.37054443359375, 130.2357940673828 32.39707565307617, 130.20870971679688 32.42930221557617, 130.21051025390625 32.444156646728516, 130.22384643554688 32.455963134765625, 130.2393798828125 32.460350036621094)), ((131.0718994140625 30.826675415039062, 131.08509826660156 30.803192138671875, 131.08273315429688 30.747772216796875, 131.07662963867188 30.701385498046875, 131.07440185546875 30.689163208007812, 131.05523681640625 30.632774353027344, 130.96969604492188 30.390552520751953, 130.90248107910156 30.354162216186523, 130.87911987304688 30.354995727539062, 130.8716278076172 30.365413665771484, 130.86183166503906 30.41048240661621, 130.86300659179688 30.43804931640625, 130.86636352539062 30.456939697265625, 130.86941528320312 30.469715118408203, 130.88357543945312 30.48055076599121, 130.90414428710938 30.506664276123047, 130.93109130859375 30.544998168945312, 130.94720458984375 30.570274353027344, 130.951904296875 30.583053588867188, 130.95468139648438 30.598468780517578, 130.94775390625 30.626384735107422, 130.9441375732422 30.678537368774414, 131.00833129882812 30.789440155029297, 131.03970336914062 30.83110809326172, 131.05108642578125 30.839025497436523, 131.06593322753906 30.8337459564209, 131.0718994140625 30.826675415039062)), ((130.52352905273438 30.443096160888672, 130.54637145996094 30.442495346069336, 130.59246826171875 30.42471694946289, 130.63333129882812 30.4052734375, 130.64303588867188 30.398883819580078, 130.66818237304688 30.38013458251953, 130.67135620117188 30.37027359008789, 130.661376953125 30.324718475341797, 130.65664672851562 30.30416488647461, 130.64747619628906 30.28569221496582, 130.59829711914062 30.243606567382812, 130.5616455078125 30.236799240112305, 130.5223388671875 30.236244201660156, 130.4891357421875 30.241104125976562, 130.4444122314453 30.250690460205078, 130.38845825195312 30.349578857421875, 130.38388061523438 30.367218017578125, 130.38189697265625 30.37749481201172, 130.38433837890625 30.394092559814453, 130.47384643554688 30.454994201660156, 130.48663330078125 30.460411071777344, 130.51080322265625 30.458885192871094, 130.51971435546875 30.45193862915039, 130.52352905273438 30.443096160888672)), ((129.69046020507812 28.497718811035156, 129.69607543945312 28.491382598876953, 129.70440673828125 28.478607177734375, 129.71551513671875 28.451107025146484, 129.71774291992188 28.433813095092773, 129.70773315429688 28.424163818359375, 129.66275024414062 28.404163360595703, 129.64971923828125 28.404163360595703, 129.62161254882812 28.39749526977539, 129.58441162109375 28.3699951171875, 129.51193237304688 28.294998168945312, 129.46551513671875 28.211383819580078, 129.373291015625 28.116315841674805, 129.15774536132812 28.23499298095703, 129.143310546875 28.25249671936035, 129.25665283203125 28.320831298828125, 129.32662963867188 28.352218627929688, 129.57498168945312 28.46166229248047, 129.62161254882812 28.476940155029297, 129.6196746826172 28.451385498046875, 129.66748046875 28.476940155029297, 129.69046020507812 28.497718811035156)), ((128.93362426757812 27.901103973388672, 128.93914794921875 27.905134201049805, 128.95053100585938 27.906801223754883, 128.95970153808594 27.90069007873535, 129.02928161621094 27.771663665771484, 129.02178955078125 27.74749755859375, 129.00665283203125 27.727218627929688, 128.98550415039062 27.701107025146484, 128.9534454345703 27.677078247070312, 128.9413604736328 27.67666244506836, 128.9188690185547 27.687633514404297, 128.897216796875 27.725826263427734, 128.8806610107422 27.822080612182617, 128.88189697265625 27.83721923828125, 128.88552856445312 27.86221694946289, 128.8902587890625 27.881938934326172, 128.89886474609375 27.89777374267578, 128.93362426757812 27.901103973388672)), ((128.28720092773438 26.854995727539062, 128.30026245117188 26.848052978515625, 128.3113555908203 26.839580535888672, 128.33010864257812 26.809581756591797, 128.33303833007812 26.79694366455078, 128.33551025390625 26.764999389648438, 128.33261108398438 26.755414962768555, 128.2713623046875 26.658329010009766, 128.25277709960938 26.638885498046875, 128.240234375 26.62860870361328, 128.14663696289062 26.568885803222656, 127.94637298583984 26.451107025146484, 127.87468719482422 26.44666290283203, 127.86360168457031 26.44416046142578, 127.84971618652344 26.436382293701172, 127.83929443359375 26.4258975982666, 127.7785873413086 26.23666000366211, 127.81011962890625 26.19027328491211, 127.81818389892578 26.184301376342773, 127.81302642822266 26.15555191040039, 127.78749084472656 26.12749481201172, 127.77609252929688 26.11638641357422, 127.72859191894531 26.088607788085938, 127.716796875 26.0826358795166, 127.70247650146484 26.079998016357422, 127.68094635009766 26.078746795654297, 127.65221405029297 26.085691452026367, 127.63997650146484 26.208606719970703, 127.67192077636719 26.23110580444336, 127.72484588623047 26.271526336669922, 127.74414825439453 26.3094425201416, 127.73442077636719 26.346664428710938, 127.72527313232422 26.381938934326172, 127.71804809570312 26.41277313232422, 127.71754455566406 26.432079315185547, 127.7644271850586 26.43860626220703, 127.79789733886719 26.4415225982666, 127.95999145507812 26.5473575592041, 127.9658203125 26.56777572631836, 127.96513366699219 26.581802368164062, 127.94595336914062 26.600133895874023, 127.91249084472656 26.60027313232422, 127.8840103149414 26.611940383911133, 127.87678527832031 26.623746871948242, 127.88388061523438 26.667495727539062, 127.90776062011719 26.688884735107422, 127.94331359863281 26.69416046142578, 127.95845794677734 26.6955509185791, 127.99567413330078 26.680828094482422, 127.98567199707031 26.659996032714844, 127.98650360107422 26.64374542236328, 127.99373626708984 26.636245727539062, 128.02386474609375 26.631107330322266, 128.06747436523438 26.642494201660156, 128.1050262451172 26.667564392089844, 128.10052490234375 26.680967330932617, 128.103759765625 26.692951202392578, 128.123291015625 26.716106414794922, 128.2471923828125 26.839996337890625, 128.28720092773438 26.854995727539062)), ((125.2883071899414 24.865550994873047, 125.32513427734375 24.807497024536133, 125.34970092773438 24.781248092651367, 125.36012268066406 24.775970458984375, 125.38832092285156 24.77694320678711, 125.40248107910156 24.77499771118164, 125.44261932373047 24.75499725341797, 125.45054626464844 24.742216110229492, 125.44637298583984 24.732772827148438, 125.34526062011719 24.71749496459961, 125.32026672363281 24.716384887695312, 125.30427551269531 24.716384887695312, 125.27332305908203 24.721107482910156, 125.25916290283203 24.72735595703125, 125.25221252441406 24.737773895263672, 125.26602935791016 24.88298225402832, 125.2813720703125 24.875274658203125, 125.2883071899414 24.865550994873047)), ((124.09491729736328 24.439495086669922, 124.1483154296875 24.434579849243164, 124.19178771972656 24.436105728149414, 124.21720886230469 24.44513511657715, 124.24609375 24.496105194091797, 124.28567504882812 24.55680274963379, 124.31108093261719 24.58346939086914, 124.32505798339844 24.58610725402832, 124.33055114746094 24.5736083984375, 124.32630157470703 24.55451011657715, 124.30498504638672 24.537635803222656, 124.29609680175781 24.528053283691406, 124.27637481689453 24.49068832397461, 124.26165771484375 24.457496643066406, 124.25360107421875 24.417495727539062, 124.25248718261719 24.4052734375, 124.25249481201172 24.390413284301758, 124.23943328857422 24.35138702392578, 124.23165130615234 24.34013557434082, 124.21914672851562 24.33527374267578, 124.17915344238281 24.328330993652344, 124.16373443603516 24.32735824584961, 124.15386962890625 24.32944107055664, 124.14166259765625 24.333606719970703, 124.12371826171875 24.343191146850586, 124.07678985595703 24.42235565185547, 124.08074951171875 24.435758590698242, 124.09491729736328 24.439495086669922)), ((123.79225158691406 24.405242919921875, 123.90220642089844 24.376663208007812, 123.92741394042969 24.367218017578125, 123.93650817871094 24.35430145263672, 123.92526245117188 24.32138442993164, 123.90193176269531 24.283607482910156, 123.87289428710938 24.253887176513672, 123.86193084716797 24.251386642456055, 123.71832275390625 24.2772216796875, 123.67886352539062 24.31610870361328, 123.76915740966797 24.41624641418457, 123.78108978271484 24.416522979736328, 123.79225158691406 24.405242919921875)))\"\n        ],\n        \"semantic_type\": \"\",\n        \"description\": \"\"\n      }\n    }\n  ]\n}"
            }
          },
          "metadata": {},
          "execution_count": 74
        }
      ],
      "source": [
        "# some content\n",
        "countries.head()"
      ]
    },
    {
      "cell_type": "code",
      "execution_count": 47,
      "metadata": {
        "id": "2iqP-0r8uicC",
        "colab": {
          "base_uri": "https://localhost:8080/"
        },
        "outputId": "a59aae3c-e7c2-4573-e3a4-f43146124363"
      },
      "outputs": [
        {
          "output_type": "execute_result",
          "data": {
            "text/plain": [
              "array(['Polygon', 'MultiPolygon'], dtype=object)"
            ]
          },
          "metadata": {},
          "execution_count": 47
        }
      ],
      "source": [
        "# what geometry?\n",
        "countries.geom_type.unique()"
      ]
    },
    {
      "cell_type": "code",
      "execution_count": 93,
      "metadata": {
        "id": "vPHdGEtatUVD",
        "colab": {
          "base_uri": "https://localhost:8080/",
          "height": 53
        },
        "outputId": "533a2a3c-3b70-4504-e215-c821c8ac7180"
      },
      "outputs": [
        {
          "output_type": "execute_result",
          "data": {
            "text/plain": [
              "Empty GeoDataFrame\n",
              "Columns: [COUNTRY, geometry]\n",
              "Index: []"
            ],
            "text/html": [
              "\n",
              "  <div id=\"df-e4cf13de-eba0-4148-9ef3-9f802386d7b1\" class=\"colab-df-container\">\n",
              "    <div>\n",
              "<style scoped>\n",
              "    .dataframe tbody tr th:only-of-type {\n",
              "        vertical-align: middle;\n",
              "    }\n",
              "\n",
              "    .dataframe tbody tr th {\n",
              "        vertical-align: top;\n",
              "    }\n",
              "\n",
              "    .dataframe thead th {\n",
              "        text-align: right;\n",
              "    }\n",
              "</style>\n",
              "<table border=\"1\" class=\"dataframe\">\n",
              "  <thead>\n",
              "    <tr style=\"text-align: right;\">\n",
              "      <th></th>\n",
              "      <th>COUNTRY</th>\n",
              "      <th>geometry</th>\n",
              "    </tr>\n",
              "  </thead>\n",
              "  <tbody>\n",
              "  </tbody>\n",
              "</table>\n",
              "</div>\n",
              "    <div class=\"colab-df-buttons\">\n",
              "\n",
              "  <div class=\"colab-df-container\">\n",
              "    <button class=\"colab-df-convert\" onclick=\"convertToInteractive('df-e4cf13de-eba0-4148-9ef3-9f802386d7b1')\"\n",
              "            title=\"Convert this dataframe to an interactive table.\"\n",
              "            style=\"display:none;\">\n",
              "\n",
              "  <svg xmlns=\"http://www.w3.org/2000/svg\" height=\"24px\" viewBox=\"0 -960 960 960\">\n",
              "    <path d=\"M120-120v-720h720v720H120Zm60-500h600v-160H180v160Zm220 220h160v-160H400v160Zm0 220h160v-160H400v160ZM180-400h160v-160H180v160Zm440 0h160v-160H620v160ZM180-180h160v-160H180v160Zm440 0h160v-160H620v160Z\"/>\n",
              "  </svg>\n",
              "    </button>\n",
              "\n",
              "  <style>\n",
              "    .colab-df-container {\n",
              "      display:flex;\n",
              "      gap: 12px;\n",
              "    }\n",
              "\n",
              "    .colab-df-convert {\n",
              "      background-color: #E8F0FE;\n",
              "      border: none;\n",
              "      border-radius: 50%;\n",
              "      cursor: pointer;\n",
              "      display: none;\n",
              "      fill: #1967D2;\n",
              "      height: 32px;\n",
              "      padding: 0 0 0 0;\n",
              "      width: 32px;\n",
              "    }\n",
              "\n",
              "    .colab-df-convert:hover {\n",
              "      background-color: #E2EBFA;\n",
              "      box-shadow: 0px 1px 2px rgba(60, 64, 67, 0.3), 0px 1px 3px 1px rgba(60, 64, 67, 0.15);\n",
              "      fill: #174EA6;\n",
              "    }\n",
              "\n",
              "    .colab-df-buttons div {\n",
              "      margin-bottom: 4px;\n",
              "    }\n",
              "\n",
              "    [theme=dark] .colab-df-convert {\n",
              "      background-color: #3B4455;\n",
              "      fill: #D2E3FC;\n",
              "    }\n",
              "\n",
              "    [theme=dark] .colab-df-convert:hover {\n",
              "      background-color: #434B5C;\n",
              "      box-shadow: 0px 1px 3px 1px rgba(0, 0, 0, 0.15);\n",
              "      filter: drop-shadow(0px 1px 2px rgba(0, 0, 0, 0.3));\n",
              "      fill: #FFFFFF;\n",
              "    }\n",
              "  </style>\n",
              "\n",
              "    <script>\n",
              "      const buttonEl =\n",
              "        document.querySelector('#df-e4cf13de-eba0-4148-9ef3-9f802386d7b1 button.colab-df-convert');\n",
              "      buttonEl.style.display =\n",
              "        google.colab.kernel.accessAllowed ? 'block' : 'none';\n",
              "\n",
              "      async function convertToInteractive(key) {\n",
              "        const element = document.querySelector('#df-e4cf13de-eba0-4148-9ef3-9f802386d7b1');\n",
              "        const dataTable =\n",
              "          await google.colab.kernel.invokeFunction('convertToInteractive',\n",
              "                                                    [key], {});\n",
              "        if (!dataTable) return;\n",
              "\n",
              "        const docLinkHtml = 'Like what you see? Visit the ' +\n",
              "          '<a target=\"_blank\" href=https://colab.research.google.com/notebooks/data_table.ipynb>data table notebook</a>'\n",
              "          + ' to learn more about interactive tables.';\n",
              "        element.innerHTML = '';\n",
              "        dataTable['output_type'] = 'display_data';\n",
              "        await google.colab.output.renderOutput(dataTable, element);\n",
              "        const docLink = document.createElement('div');\n",
              "        docLink.innerHTML = docLinkHtml;\n",
              "        element.appendChild(docLink);\n",
              "      }\n",
              "    </script>\n",
              "  </div>\n",
              "\n",
              "\n",
              "    </div>\n",
              "  </div>\n"
            ],
            "application/vnd.google.colaboratory.intrinsic+json": {
              "type": "dataframe",
              "repr_error": "Out of range float values are not JSON compliant: nan"
            }
          },
          "metadata": {},
          "execution_count": 93
        }
      ],
      "source": [
        "# any missing values?\n",
        "countries[countries.isna().any(axis=1)]"
      ]
    },
    {
      "cell_type": "code",
      "execution_count": 49,
      "metadata": {
        "id": "TWXmBv-vtUVD",
        "scrolled": true,
        "colab": {
          "base_uri": "https://localhost:8080/"
        },
        "outputId": "aee409a8-cc07-4916-f50a-79219ff35cc7"
      },
      "outputs": [
        {
          "output_type": "stream",
          "name": "stdout",
          "text": [
            "<class 'geopandas.geodataframe.GeoDataFrame'>\n",
            "RangeIndex: 252 entries, 0 to 251\n",
            "Data columns (total 2 columns):\n",
            " #   Column    Non-Null Count  Dtype   \n",
            "---  ------    --------------  -----   \n",
            " 0   COUNTRY   252 non-null    object  \n",
            " 1   geometry  252 non-null    geometry\n",
            "dtypes: geometry(1), object(1)\n",
            "memory usage: 4.1+ KB\n"
          ]
        }
      ],
      "source": [
        "# types\n",
        "countries.info()"
      ]
    },
    {
      "cell_type": "markdown",
      "metadata": {
        "id": "QzT4ctrjtUVD"
      },
      "source": [
        "As you see, those pandas commands are working fine, but now we have a new column type: **geometry**. Let's see this map of countries:"
      ]
    },
    {
      "cell_type": "code",
      "execution_count": 50,
      "metadata": {
        "id": "DjMj9myHtUVD",
        "colab": {
          "base_uri": "https://localhost:8080/",
          "height": 318
        },
        "outputId": "d57c7930-0d5f-4390-82de-71b6faeb4933"
      },
      "outputs": [
        {
          "output_type": "execute_result",
          "data": {
            "text/plain": [
              "<Axes: >"
            ]
          },
          "metadata": {},
          "execution_count": 50
        },
        {
          "output_type": "display_data",
          "data": {
            "text/plain": [
              "<Figure size 640x480 with 1 Axes>"
            ],
            "image/png": "[encoded data removed]"
          },
          "metadata": {}
        }
      ],
      "source": [
        "countries.plot(facecolor=\"azure\",#color of polygon fill\n",
        "               edgecolor='red', #color of lines\n",
        "               linewidth=0.1) #thickness of lines"
      ]
    },
    {
      "cell_type": "markdown",
      "metadata": {
        "id": "iCtifGnqtUVD"
      },
      "source": [
        "Let's open the other maps:"
      ]
    },
    {
      "cell_type": "code",
      "execution_count": 98,
      "metadata": {
        "id": "lPbJ4wFHtUVD"
      },
      "outputs": [],
      "source": [
        "rivers=gpd.read_file(\"https://github.com/skere-programa/introgeodf/raw/refs/heads/main/maps/World_Hydrography/World_Hydrography.shp\")\n",
        "cities=gpd.read_file(\"https://github.com/skere-programa/introgeodf/raw/refs/heads/main/maps/World_Cities/World_Cities.shp\")"
      ]
    },
    {
      "cell_type": "code",
      "execution_count": 99,
      "metadata": {
        "id": "0uSjsr32uicE",
        "colab": {
          "base_uri": "https://localhost:8080/"
        },
        "outputId": "801369a3-9324-4dc7-a6fc-085d5441231b"
      },
      "outputs": [
        {
          "output_type": "execute_result",
          "data": {
            "text/plain": [
              "(array(['LineString', 'MultiLineString'], dtype=object),\n",
              " array(['Point'], dtype=object))"
            ]
          },
          "metadata": {},
          "execution_count": 99
        }
      ],
      "source": [
        "# what geo?\n",
        "rivers.geom_type.unique(), cities.geom_type.unique()"
      ]
    },
    {
      "cell_type": "markdown",
      "metadata": {
        "id": "pEEhe2LC910_"
      },
      "source": [
        "This is the rivers map:"
      ]
    },
    {
      "cell_type": "code",
      "execution_count": 100,
      "metadata": {
        "id": "8Gap_au4tUVD",
        "colab": {
          "base_uri": "https://localhost:8080/",
          "height": 254
        },
        "outputId": "83efb475-013e-4469-d6d8-10837ad0f451"
      },
      "outputs": [
        {
          "output_type": "execute_result",
          "data": {
            "text/plain": [
              "<Axes: >"
            ]
          },
          "metadata": {},
          "execution_count": 100
        },
        {
          "output_type": "display_data",
          "data": {
            "text/plain": [
              "<Figure size 640x480 with 1 Axes>"
            ],
            "image/png": "[encoded data removed]"
          },
          "metadata": {}
        }
      ],
      "source": [
        "rivers.plot(edgecolor='blue',\n",
        "            linewidth=1,\n",
        "            linestyle='dotted')"
      ]
    },
    {
      "cell_type": "markdown",
      "metadata": {
        "id": "kw_THmHJ910_"
      },
      "source": [
        "This is the cities map:"
      ]
    },
    {
      "cell_type": "code",
      "execution_count": 101,
      "metadata": {
        "id": "8nAC2GkptUVD",
        "colab": {
          "base_uri": "https://localhost:8080/",
          "height": 273
        },
        "outputId": "cff754f7-1adb-49ca-8520-c4c7d25b052e"
      },
      "outputs": [
        {
          "output_type": "execute_result",
          "data": {
            "text/plain": [
              "<Axes: >"
            ]
          },
          "metadata": {},
          "execution_count": 101
        },
        {
          "output_type": "display_data",
          "data": {
            "text/plain": [
              "<Figure size 640x480 with 1 Axes>"
            ],
            "image/png": "[encoded data removed]"
          },
          "metadata": {}
        }
      ],
      "source": [
        "cities.plot(marker='.', # marker type\n",
        "            color='red',\n",
        "            markersize=1,\n",
        "            alpha=0.3) # transparency"
      ]
    },
    {
      "cell_type": "markdown",
      "metadata": {
        "id": "ZOiFM3uYtUVE"
      },
      "source": [
        "You can start by creating the layer on the back (the base), and add layers on top:"
      ]
    },
    {
      "cell_type": "code",
      "execution_count": 102,
      "metadata": {
        "id": "rqkVAvHstUVE",
        "colab": {
          "base_uri": "https://localhost:8080/",
          "height": 430
        },
        "outputId": "963b809f-3182-4303-e425-1ceeccb10e41"
      },
      "outputs": [
        {
          "output_type": "execute_result",
          "data": {
            "text/plain": [
              "<Axes: >"
            ]
          },
          "metadata": {},
          "execution_count": 102
        },
        {
          "output_type": "display_data",
          "data": {
            "text/plain": [
              "<Figure size 1200x1200 with 1 Axes>"
            ],
            "image/png": "[encoded data removed]"
          },
          "metadata": {}
        }
      ],
      "source": [
        "base = countries.plot(facecolor=\"white\",\n",
        "                      edgecolor='black',\n",
        "                      linewidth=0.1,\n",
        "                      figsize=(12,12))\n",
        "\n",
        "rivers.plot(edgecolor='blue', linewidth=0.4,\n",
        "            ax=base)# on top of...\n",
        "cities.plot(marker='.', color='red', markersize=1,alpha=0.7,\n",
        "            ax=base) # on top of...\n"
      ]
    },
    {
      "cell_type": "markdown",
      "metadata": {
        "id": "KmWmPIzU911A"
      },
      "source": [
        "Saving into a different format (not shapefile):"
      ]
    },
    {
      "cell_type": "code",
      "execution_count": 103,
      "metadata": {
        "id": "MpkiTGvI911A"
      },
      "outputs": [],
      "source": [
        "# ONE file - SEVERAL layers\n",
        "import os\n",
        "\n",
        "countries.to_file(os.path.join(\"maps\",\"worldMaps.gpkg\"), layer='countries', driver=\"GPKG\")\n",
        "rivers.to_file(os.path.join(\"maps\",\"worldMaps.gpkg\"), layer='rivers', driver=\"GPKG\")\n",
        "cities.to_file(os.path.join(\"maps\",\"worldMaps.gpkg\"), layer='cities', driver=\"GPKG\")"
      ]
    },
    {
      "cell_type": "markdown",
      "metadata": {
        "id": "acfb54f3-247c-4a37-a049-7fdbba2653d4"
      },
      "source": [
        "\n",
        "# Map Projection\n",
        "\n",
        "The CRS is a very important property of the maps. They affect three some aspects:\n",
        "\n",
        "* shape\n",
        "* area\n",
        "* scale\n",
        "* direction\n",
        "\n",
        "Most maps come with a default CRS: 4326. Pay attention:"
      ]
    },
    {
      "cell_type": "code",
      "source": [
        "countries[countries.COUNTRY=='Brazil']"
      ],
      "metadata": {
        "colab": {
          "base_uri": "https://localhost:8080/",
          "height": 81
        },
        "id": "IZQmmhpYKny6",
        "outputId": "6cb050dc-ba72-4974-d3a9-c440d4a21d83"
      },
      "execution_count": 104,
      "outputs": [
        {
          "output_type": "execute_result",
          "data": {
            "text/plain": [
              "   COUNTRY                                           geometry\n",
              "29  Brazil  MULTIPOLYGON (((-70.62862 -9.94849, -70.62889 ..."
            ],
            "text/html": [
              "\n",
              "  <div id=\"df-1ab8741e-2afc-4308-8365-d9b1bbc94026\" class=\"colab-df-container\">\n",
              "    <div>\n",
              "<style scoped>\n",
              "    .dataframe tbody tr th:only-of-type {\n",
              "        vertical-align: middle;\n",
              "    }\n",
              "\n",
              "    .dataframe tbody tr th {\n",
              "        vertical-align: top;\n",
              "    }\n",
              "\n",
              "    .dataframe thead th {\n",
              "        text-align: right;\n",
              "    }\n",
              "</style>\n",
              "<table border=\"1\" class=\"dataframe\">\n",
              "  <thead>\n",
              "    <tr style=\"text-align: right;\">\n",
              "      <th></th>\n",
              "      <th>COUNTRY</th>\n",
              "      <th>geometry</th>\n",
              "    </tr>\n",
              "  </thead>\n",
              "  <tbody>\n",
              "    <tr>\n",
              "      <th>29</th>\n",
              "      <td>Brazil</td>\n",
              "      <td>MULTIPOLYGON (((-70.62862 -9.94849, -70.62889 ...</td>\n",
              "    </tr>\n",
              "  </tbody>\n",
              "</table>\n",
              "</div>\n",
              "    <div class=\"colab-df-buttons\">\n",
              "\n",
              "  <div class=\"colab-df-container\">\n",
              "    <button class=\"colab-df-convert\" onclick=\"convertToInteractive('df-1ab8741e-2afc-4308-8365-d9b1bbc94026')\"\n",
              "            title=\"Convert this dataframe to an interactive table.\"\n",
              "            style=\"display:none;\">\n",
              "\n",
              "  <svg xmlns=\"http://www.w3.org/2000/svg\" height=\"24px\" viewBox=\"0 -960 960 960\">\n",
              "    <path d=\"M120-120v-720h720v720H120Zm60-500h600v-160H180v160Zm220 220h160v-160H400v160Zm0 220h160v-160H400v160ZM180-400h160v-160H180v160Zm440 0h160v-160H620v160ZM180-180h160v-160H180v160Zm440 0h160v-160H620v160Z\"/>\n",
              "  </svg>\n",
              "    </button>\n",
              "\n",
              "  <style>\n",
              "    .colab-df-container {\n",
              "      display:flex;\n",
              "      gap: 12px;\n",
              "    }\n",
              "\n",
              "    .colab-df-convert {\n",
              "      background-color: #E8F0FE;\n",
              "      border: none;\n",
              "      border-radius: 50%;\n",
              "      cursor: pointer;\n",
              "      display: none;\n",
              "      fill: #1967D2;\n",
              "      height: 32px;\n",
              "      padding: 0 0 0 0;\n",
              "      width: 32px;\n",
              "    }\n",
              "\n",
              "    .colab-df-convert:hover {\n",
              "      background-color: #E2EBFA;\n",
              "      box-shadow: 0px 1px 2px rgba(60, 64, 67, 0.3), 0px 1px 3px 1px rgba(60, 64, 67, 0.15);\n",
              "      fill: #174EA6;\n",
              "    }\n",
              "\n",
              "    .colab-df-buttons div {\n",
              "      margin-bottom: 4px;\n",
              "    }\n",
              "\n",
              "    [theme=dark] .colab-df-convert {\n",
              "      background-color: #3B4455;\n",
              "      fill: #D2E3FC;\n",
              "    }\n",
              "\n",
              "    [theme=dark] .colab-df-convert:hover {\n",
              "      background-color: #434B5C;\n",
              "      box-shadow: 0px 1px 3px 1px rgba(0, 0, 0, 0.15);\n",
              "      filter: drop-shadow(0px 1px 2px rgba(0, 0, 0, 0.3));\n",
              "      fill: #FFFFFF;\n",
              "    }\n",
              "  </style>\n",
              "\n",
              "    <script>\n",
              "      const buttonEl =\n",
              "        document.querySelector('#df-1ab8741e-2afc-4308-8365-d9b1bbc94026 button.colab-df-convert');\n",
              "      buttonEl.style.display =\n",
              "        google.colab.kernel.accessAllowed ? 'block' : 'none';\n",
              "\n",
              "      async function convertToInteractive(key) {\n",
              "        const element = document.querySelector('#df-1ab8741e-2afc-4308-8365-d9b1bbc94026');\n",
              "        const dataTable =\n",
              "          await google.colab.kernel.invokeFunction('convertToInteractive',\n",
              "                                                    [key], {});\n",
              "        if (!dataTable) return;\n",
              "\n",
              "        const docLinkHtml = 'Like what you see? Visit the ' +\n",
              "          '<a target=\"_blank\" href=https://colab.research.google.com/notebooks/data_table.ipynb>data table notebook</a>'\n",
              "          + ' to learn more about interactive tables.';\n",
              "        element.innerHTML = '';\n",
              "        dataTable['output_type'] = 'display_data';\n",
              "        await google.colab.output.renderOutput(dataTable, element);\n",
              "        const docLink = document.createElement('div');\n",
              "        docLink.innerHTML = docLinkHtml;\n",
              "        element.appendChild(docLink);\n",
              "      }\n",
              "    </script>\n",
              "  </div>\n",
              "\n",
              "\n",
              "    </div>\n",
              "  </div>\n"
            ],
            "application/vnd.google.colaboratory.intrinsic+json": {
              "type": "dataframe",
              "summary": "{\n  \"name\": \"countries[countries\",\n  \"rows\": 1,\n  \"fields\": [\n    {\n      \"column\": \"COUNTRY\",\n      \"properties\": {\n        \"dtype\": \"string\",\n        \"num_unique_values\": 1,\n        \"samples\": [\n          \"Brazil\"\n        ],\n        \"semantic_type\": \"\",\n        \"description\": \"\"\n      }\n    },\n    {\n      \"column\": \"geometry\",\n      \"properties\": {\n        \"dtype\": \"geometry\",\n        \"num_unique_values\": 1,\n        \"samples\": [\n          \"MULTIPOLYGON (((-70.62861633300781 -9.948488235473633, -70.62889099121094 -9.895833969116211, -70.62556457519531 -9.825972557067871, -70.6126480102539 -9.798750877380371, -70.59529113769531 -9.781389236450195, -70.59083557128906 -9.631598472595215, -70.60758972167969 -9.575664520263672, -70.57722473144531 -9.538612365722656, -70.5452880859375 -9.500833511352539, -70.51466369628906 -9.428001403808594, -70.56806182861328 -9.433473587036133, -70.588623046875 -9.440834045410156, -70.64334106445312 -9.490835189819336, -70.7791748046875 -9.60555648803711, -70.84361267089844 -9.645557403564453, -70.8819580078125 -9.670000076293945, -70.96931457519531 -9.763890266418457, -70.9853515625 -9.796736717224121, -71.01396179199219 -9.820834159851074, -71.1385498046875 -9.86382007598877, -71.15889739990234 -9.890000343322754, -71.180419921875 -9.932223320007324, -71.29639434814453 -9.995417594909668, -71.36805725097656 -10.003889083862305, -71.45916748046875 -10.004167556762695, -71.64195251464844 -10.004446029663086, -71.93028259277344 -10.004446029663086, -71.97917175292969 -10.004446029663086, -72.01028442382812 -10.004446029663086, -72.05223083496094 -10.004722595214844, -72.14389038085938 -10.004722595214844, -72.18583679199219 -10.002500534057617, -72.1683349609375 -9.954444885253906, -72.15077209472656 -9.887014389038086, -72.16473388671875 -9.834722518920898, -72.18028259277344 -9.803403854370117, -72.22653198242188 -9.777778625488281, -72.2603530883789 -9.759167671203613, -72.2693099975586 -9.73055648803711, -72.25764465332031 -9.692570686340332, -72.25251007080078 -9.65694522857666, -72.30152893066406 -9.533195495605469, -72.37167358398438 -9.492640495300293, -72.40223693847656 -9.483612060546875, -72.60694885253906 -9.446111679077148, -72.73001098632812 -9.413057327270508, -72.84083557128906 -9.411666870117188, -72.86195373535156 -9.412223815917969, -72.9808349609375 -9.410833358764648, -73.20069885253906 -9.400764465332031, -73.18292999267578 -9.36500072479248, -73.15806579589844 -9.344446182250977, -73.11944580078125 -9.313333511352539, -73.02362060546875 -9.221111297607422, -72.96640014648438 -9.143056869506836, -72.95529174804688 -9.11916732788086, -72.94917297363281 -9.090139389038086, -72.94805908203125 -9.066529273986816, -72.95112609863281 -9.045833587646484, -72.96236419677734 -8.988472938537598, -73.00576782226562 -8.93034839630127, -73.05882263183594 -8.90243148803711, -73.1219482421875 -8.807500839233398, -73.13278198242188 -8.790555953979492, -73.14195251464844 -8.762223243713379, -73.15251159667969 -8.735000610351562, -73.16667175292969 -8.714167594909668, -73.18389892578125 -8.700139999389648, -73.21556091308594 -8.686111450195312, -73.24098205566406 -8.679583549499512, -73.2733383178711 -8.674237251281738, -73.345703125 -8.602361679077148, -73.40472412109375 -8.450555801391602, -73.47862243652344 -8.398612976074219, -73.533203125 -8.352361679077148, -73.54139709472656 -8.302778244018555, -73.55667114257812 -8.249168395996094, -73.595703125 -8.121390342712402, -73.65167236328125 -8.016667366027832, -73.70986938476562 -7.983889579772949, -73.7563247680664 -7.96708345413208, -73.77195739746094 -7.948056221008301, -73.77701568603516 -7.87288236618042, -73.72538757324219 -7.879583835601807, -73.69820404052734 -7.8461809158325195, -73.69375610351562 -7.803333759307861, -73.7066650390625 -7.776389122009277, -73.72416687011719 -7.7644453048706055, -73.751953125 -7.75694465637207, -73.82154083251953 -7.7316670417785645, -73.84223175048828 -7.7173614501953125, -73.8519515991211 -7.699584007263184, -73.86556243896484 -7.675278186798096, -73.93251037597656 -7.609167098999023, -73.97416687011719 -7.574444770812988, -74.00459289550781 -7.554375648498535, -74.00215148925781 -7.530451774597168, -73.98715209960938 -7.528833389282227, -73.96243286132812 -7.5273613929748535, -73.93052673339844 -7.442986488342285, -73.93112182617188 -7.359167098999023, -73.73819732666016 -7.333958625793457, -73.70584106445312 -7.309236526489258, -73.72000122070312 -7.223055839538574, -73.77556610107422 -7.137222766876221, -73.79513549804688 -7.122623443603516, -73.79972839355469 -7.080833435058594, -73.75445556640625 -6.894166946411133, -73.74417114257812 -6.876944541931152, -73.6763916015625 -6.804445266723633, -73.58750915527344 -6.7350006103515625, -73.36119079589844 -6.581986904144287, -73.33500671386719 -6.574444770812988, -73.29875946044922 -6.5744452476501465, -73.27639770507812 -6.575000762939453, -73.2166748046875 -6.566667556762695, -73.18611907958984 -6.547361373901367, -73.16084289550781 -6.515556335449219, -73.14500427246094 -6.489167213439941, -73.1239013671875 -6.447222709655762, -73.12001037597656 -6.418056488037109, -73.11862182617188 -6.381527900695801, -73.16639709472656 -6.240278244018555, -73.21861267089844 -6.146250247955322, -73.22557067871094 -6.121389389038086, -73.229736328125 -6.093611717224121, -73.21806335449219 -6.045278549194336, -73.20556640625 -6.017500877380371, -73.13027954101562 -5.876389503479004, -73.08222961425781 -5.82722282409668, -73.04806518554688 -5.79194450378418, -72.9888916015625 -5.711667060852051, -72.96195220947266 -5.648611545562744, -72.94278717041016 -5.537500381469727, -72.95256805419922 -5.51027774810791, -72.96417236328125 -5.477222919464111, -72.96139526367188 -5.452500820159912, -72.9183349609375 -5.321666717529297, -72.89862060546875 -5.172778129577637, -72.85195922851562 -5.124722480773926, -72.78666687011719 -5.088889122009277, -72.75666809082031 -5.0769453048706055, -72.61750793457031 -5.020277976989746, -72.47695922851562 -4.9411115646362305, -72.40333557128906 -4.874514102935791, -72.39056396484375 -4.838611602783203, -72.38959503173828 -4.805695056915283, -72.37528991699219 -4.784444808959961, -72.32528686523438 -4.760833740234375, -72.30097961425781 -4.756991386413574, -72.2791748046875 -4.763611793518066, -72.25361633300781 -4.761667251586914, -72.23500061035156 -4.753334045410156, -72.12918090820312 -4.693611145019531, -72.02806091308594 -4.612500190734863, -71.90248107910156 -4.5181884765625, -71.88197326660156 -4.510863304138184, -71.7471923828125 -4.490352630615234, -71.7266845703125 -4.493283271789551, -71.65056610107422 -4.508889198303223, -71.38223266601562 -4.43083381652832, -71.28593444824219 -4.381032466888428, -71.16944885253906 -4.357778549194336, -71.06514739990234 -4.362916946411133, -71.03665161132812 -4.381939888000488, -70.95626068115234 -4.382222652435303, -70.87255859375 -4.280118942260742, -70.868896484375 -4.25111198425293, -70.83222961425781 -4.187014579772949, -70.81028747558594 -4.17055606842041, -70.76243591308594 -4.147708415985107, -70.62570190429688 -4.160555839538574, -70.58416748046875 -4.195555686950684, -70.5 -4.179722785949707, -70.46528625488281 -4.154723167419434, -70.42938232421875 -4.132014274597168, -70.32014465332031 -4.13972282409668, -70.29972839355469 -4.174167156219482, -70.29833984375 -4.199028491973877, -70.30876159667969 -4.230278491973877, -70.3013916015625 -4.250000476837158, -70.25584411621094 -4.291389465332031, -70.19783020019531 -4.332650184631348, -70.01696014404297 -4.337942123413086, -69.9795913696289 -4.312500476837158, -69.96056365966797 -4.2831950187683105, -69.95028686523438 -4.262500762939453, -69.95692443847656 -4.236873626708984, -69.9433364868164 -4.2123613357543945, -69.8819580078125 -3.9202780723571777, -69.79306030273438 -3.4191670417785645, -69.63528442382812 -2.534444808959961, -69.62583923339844 -2.482222557067871, -69.6077880859375 -2.3863892555236816, -69.59417724609375 -2.3111114501953125, -69.52250671386719 -1.9141666889190674, -69.45263671875 -1.5260319709777832, -69.39104461669922 -1.3815279006958008, -69.37854766845703 -1.3379167318344116, -69.3900146484375 -1.2461111545562744, -69.41195678710938 -1.1319446563720703, -69.431396484375 -1.040972352027893, -69.44197082519531 -1.017807960510254, -69.43423461914062 -1.001180648803711, -69.48084259033203 -0.955000102519989, -69.51778411865234 -0.9334723353385925, -69.6126480102539 -0.7558333873748779, -69.61528778076172 -0.7243056297302246, -69.59632110595703 -0.7004861831665039, -69.58277893066406 -0.6680556535720825, -69.57354736328125 -0.6349306702613831, -69.60653686523438 -0.5198611617088318, -69.63041687011719 -0.4941667318344116, -69.6886215209961 -0.4668055772781372, -69.71709442138672 -0.4609722793102264, -69.73945617675781 -0.4556944668292999, -69.93347930908203 -0.3043055832386017, -70.02166748046875 -0.2036111354827881, -70.05805969238281 -0.1575000286102295, -70.05751037597656 -0.0880555659532547, -70.05552673339844 0, -70.05250549316406 0.1436111032962799, -70.04945373535156 0.3069444298744202, -70.04833984375 0.3683332800865173, -70.04640197753906 0.5113887786865234, -70.04473114013672 0.5849999785423279, -69.98347473144531 0.5979166030883789, -69.92250061035156 0.5977777242660522, -69.79570770263672 0.6015276908874512, -69.75 0.633888840675354, -69.68347930908203 0.6772221326828003, -69.45928192138672 0.7365971803665161, -69.32890319824219 0.6563888788223267, -69.28751373291016 0.622916579246521, -69.20977783203125 0.6163109540939331, -69.12781524658203 0.6440277099609375, -69.15930938720703 0.7529166340827942, -69.14028930664062 0.8634721636772156, -69.22792053222656 0.999027669429779, -69.2648696899414 1.0338886976242065, -69.3384780883789 1.0729165077209473, -69.37681579589844 1.0565277338027954, -69.43528747558594 1.0383331775665283, -69.61361694335938 1.0780553817749023, -69.71833801269531 1.0724999904632568, -69.84222412109375 1.0722219944000244, -69.84222412109375 1.6980555057525635, -69.84609985351562 1.7104551792144775, -69.78494262695312 1.7075692415237427, -69.7005615234375 1.7452776432037354, -69.55390167236328 1.783888816833496, -69.45916748046875 1.7602777481079102, -69.40028381347656 1.7444443702697754, -69.37247467041016 1.728055477142334, -69.24000549316406 1.728055477142334, -69.10305786132812 1.7274999618530273, -68.82890319824219 1.7261109352111816, -68.15306091308594 1.7241666316986084, -68.18264770507812 1.7665276527404785, -68.21153259277344 1.7718747854232788, -68.2327880859375 1.7755553722381592, -68.25723266601562 1.8527777194976807, -68.23695373535156 1.909722089767456, -68.22666931152344 1.9336109161376953, -68.19639587402344 1.9774999618530273, -68.17445373535156 1.9774999618530273, -68.12403106689453 1.963749885559082, -68.10486602783203 1.9518054723739624, -68.0884780883789 1.927083134651184, -68.07514190673828 1.8720831871032715, -68.06556701660156 1.8533332347869873, -68.0352783203125 1.8013887405395508, -68.01014709472656 1.7684720754623413, -67.99070739746094 1.7537498474121094, -67.96778106689453 1.7458332777023315, -67.94181060791016 1.742499828338623, -67.91473388671875 1.7452776432037354, -67.87250518798828 1.7551387548446655, -67.8116683959961 1.784305453300476, -67.77104949951172 1.818819284439087, -67.68722534179688 1.9195832014083862, -67.67695617675781 1.9369442462921143, -67.66639709472656 1.9733331203460693, -67.58598327636719 2.0530552864074707, -67.56584167480469 2.0672221183776855, -67.50584411621094 2.1069440841674805, -67.42257690429688 2.1428470611572266, -67.33972930908203 2.1130552291870117, -67.32542419433594 2.0884718894958496, -67.31973266601562 2.0630555152893066, -67.30889892578125 2.0327773094177246, -67.26472473144531 1.9469443559646606, -67.22819519042969 1.8918054103851318, -67.20660400390625 1.87583327293396, -67.16084289550781 1.8186109066009521, -67.11361694335938 1.7349998950958252, -67.07118225097656 1.6204073429107666, -67.05687713623047 1.5201387405395508, -67.06361389160156 1.43833327293396, -67.07389831542969 1.4144442081451416, -67.0804214477539 1.3852777481079102, -67.08778381347656 1.286388874053955, -67.08778381347656 1.2663886547088623, -67.08416748046875 1.1938886642456055, -67.07528686523438 1.1724998950958252, -67.03278350830078 1.182499885559082, -66.88529205322266 1.2210958003997803, -66.87045288085938 1.2209320068359375, -66.7872314453125 1.149444341659546, -66.33805847167969 0.7658332586288452, -66.31472778320312 0.7513888478279114, -66.28695678710938 0.7477777004241943, -66.12709045410156 0.7341666221618652, -65.9795913696289 0.7987499237060547, -65.95514678955078 0.8183332681655884, -65.92903900146484 0.8540276885032654, -65.91278076171875 0.8718055486679077, -65.87083435058594 0.9083333015441895, -65.73529052734375 0.9827777147293091, -65.6572265625 0.9897221326828003, -65.59542846679688 0.9904165863990784, -65.5594482421875 0.9711110591888428, -65.53973388671875 0.9499999284744263, -65.5220947265625 0.9269444346427917, -65.51013946533203 0.9019443988800049, -65.50695037841797 0.8718054890632629, -65.51111602783203 0.8388888835906982, -65.52737426757812 0.8066666126251221, -65.5675048828125 0.7647221684455872, -65.58257293701172 0.7297916412353516, -65.5755615234375 0.696388840675354, -65.5586166381836 0.6661110520362854, -65.54236602783203 0.6516666412353516, -65.52166748046875 0.6491666436195374, -65.48577117919922 0.6618749499320984, -65.43611145019531 0.6952776908874512, -65.40028381347656 0.7539582252502441, -65.39834594726562 0.7890276908874512, -65.39501190185547 0.8186110854148865, -65.3858413696289 0.8370832800865173, -65.32167053222656 0.9119443893432617, -65.29146575927734 0.9265971779823303, -65.25305938720703 0.9152776598930359, -65.22764587402344 0.9149999022483826, -65.1925048828125 0.9266665577888489, -65.17388916015625 0.9499999284744263, -65.16584777832031 0.9694443941116333, -65.16084289550781 0.989027738571167, -65.15444946289062 1.0352776050567627, -65.15390014648438 1.0555553436279297, -65.14653015136719 1.0976388454437256, -65.13626098632812 1.1184720993041992, -65.10388946533203 1.1420831680297852, -65.0069580078125 1.1658332347869873, -64.94306945800781 1.2105555534362793, -64.8190689086914 1.279478907585144, -64.78306579589844 1.2599999904632568, -64.75723266601562 1.2443054914474487, -64.73174285888672 1.2469443082809448, -64.697509765625 1.26277756690979, -64.59529113769531 1.3299999237060547, -64.57896423339844 1.3497915267944336, -64.56320190429688 1.3913887739181519, -64.54903411865234 1.4151387214660645, -64.52973175048828 1.4336109161376953, -64.3943099975586 1.511805534362793, -64.36576843261719 1.5075691938400269, -64.26445007324219 1.4761109352111816, -64.11320495605469 1.582916498184204, -64.07798767089844 1.6354165077209473, -64.06278228759766 1.6811109781265259, -64.04986572265625 1.8068054914474487, -64.0523681640625 1.8408331871032715, -64.05188751220703 1.8904858827590942, -64.03014373779297 1.9247221946716309, -64.00236511230469 1.9498610496520996, -63.970558166503906 1.9672222137451172, -63.93653106689453 1.9768054485321045, -63.82500457763672 1.9777777194976807, -63.739173889160156 2.0030550956726074, -63.71861267089844 2.023611068725586, -63.607086181640625 2.1059720516204834, -63.54541778564453 2.1299996376037598, -63.48833465576172 2.1305551528930664, -63.39944839477539 2.1495134830474854, -63.3800048828125 2.2291665077209473, -63.36076736450195 2.259097099304199, -63.34638977050781 2.4061107635498047, -63.365421295166016 2.419999599456787, -63.58167266845703 2.4347219467163086, -63.782203674316406 2.4271650314331055, -63.821807861328125 2.425833225250244, -64.0340347290039 2.4713189601898193, -64.04646301269531 2.509444236755371, -64.03125762939453 2.5497219562530518, -64.01722717285156 2.5738887786865234, -63.995418548583984 2.6230552196502686, -63.987850189208984 2.7186107635498047, -64.03472900390625 2.832777500152588, -64.08889770507812 2.94083309173584, -64.1461181640625 3.039721965789795, -64.15888977050781 3.060832977294922, -64.20529174804688 3.193333148956299, -64.22666931152344 3.3374996185302734, -64.23570251464844 3.4327776432037354, -64.22438049316406 3.4669442176818848, -64.1934814453125 3.5013887882232666, -64.18472290039062 3.527777671813965, -64.182373046875 3.5493054389953613, -64.19021606445312 3.5896525382995605, -64.30805969238281 3.7183332443237305, -64.3658447265625 3.7505555152893066, -64.40528869628906 3.7672219276428223, -64.44632720947266 3.787013530731201, -64.51806640625 3.8544440269470215, -64.62667846679688 3.965555191040039, -64.64208984375 3.9843053817749023, -64.66098022460938 4.016665935516357, -64.6944580078125 4.081943511962891, -64.70472717285156 4.118610382080078, -64.713134765625 4.144027233123779, -64.73389434814453 4.161249160766602, -64.7859115600586 4.185832500457764, -64.80195617675781 4.2108330726623535, -64.80001068115234 4.265069007873535, -64.78166961669922 4.286388397216797, -64.74626159667969 4.287221431732178, -64.72417449951172 4.281388282775879, -64.69306945800781 4.267221450805664, -64.67472839355469 4.257499694824219, -64.6519546508789 4.239166259765625, -64.64215087890625 4.223771095275879, -64.6077880859375 4.14527702331543, -64.5920181274414 4.127777099609375, -64.55292510986328 4.122360706329346, -64.46751403808594 4.133888244628906, -64.43028259277344 4.139999866485596, -64.40223693847656 4.149166107177734, -64.37986755371094 4.153610706329346, -64.33555603027344 4.154166221618652, -64.2489013671875 4.148055076599121, -64.22111511230469 4.141110420227051, -64.12638854980469 4.109582901000977, -64.10889434814453 4.082777500152588, -64.08778381347656 4.032776832580566, -64.06459045410156 3.955277442932129, -64.0527114868164 3.9084370136260986, -64.01779174804688 3.886110782623291, -63.99416732788086 3.8829164505004883, -63.95625305175781 3.891249895095825, -63.94055938720703 3.904582977294922, -63.90903091430664 3.9330551624298096, -63.848060607910156 3.958888530731201, -63.64445114135742 3.948610782623291, -63.61417007446289 3.9448606967926025, -63.58917236328125 3.928333282470703, -63.57361602783203 3.909721851348877, -63.54792022705078 3.8806941509246826, -63.5301399230957 3.8672220706939697, -63.49153137207031 3.8577773571014404, -63.45819854736328 3.866457939147949, -63.445556640625 3.89027738571167, -63.438751220703125 3.9151384830474854, -63.433616638183594 3.9416663646698, -63.41910171508789 3.967082977294922, -63.38250732421875 3.9708333015441895, -63.35945129394531 3.9658331871032715, -63.33555603027344 3.9580554962158203, -63.29396438598633 3.9393746852874756, -63.24229431152344 3.8981246948242188, -63.16416931152344 3.7952775955200195, -62.990562438964844 3.6043052673339844, -62.923614501953125 3.5672221183776855, -62.90306091308594 3.5629165172576904, -62.878055572509766 3.560138702392578, -62.781253814697266 3.6043052673339844, -62.75139617919922 3.638333320617676, -62.734031677246094 3.676527738571167, -62.72722625732422 3.705277442932129, -62.727500915527344 3.7311110496520996, -62.740142822265625 3.790555238723755, -62.758338928222656 3.8347220420837402, -62.777225494384766 3.8824996948242188, -62.780418395996094 3.90874981880188, -62.75777816772461 4.02027702331543, -62.72834014892578 4.038610935211182, -62.669864654541016 4.046804904937744, -62.60416793823242 4.0419440269470215, -62.53993225097656 4.112290859222412, -62.44013977050781 4.18267297744751, -62.39222717285156 4.179443836212158, -62.32111358642578 4.152499198913574, -62.281394958496094 4.136110305786133, -62.26250457763672 4.127222061157227, -62.22084045410156 4.112499237060547, -62.18097686767578 4.099582672119141, -62.142642974853516 4.093194007873535, -62.104793548583984 4.103888511657715, -62.07931137084961 4.1248602867126465, -62.05319595336914 4.1501383781433105, -61.98750305175781 4.169582366943359, -61.9520149230957 4.156805038452148, -61.91486358642578 4.14694356918335, -61.84889221191406 4.160554885864258, -61.81153106689453 4.184860706329346, -61.79056167602539 4.215693950653076, -61.76292037963867 4.24305534362793, -61.69917297363281 4.259027004241943, -61.66278076171875 4.255277633666992, -61.62527847290039 4.244235515594482, -61.554378509521484 4.248818874359131, -61.52403259277344 4.274860858917236, -61.51069641113281 4.303471565246582, -61.50736618041992 4.3273606300354, -61.51278305053711 4.361944198608398, -61.50736618041992 4.390554904937744, -61.492225646972656 4.406388282775879, -61.31361389160156 4.50666618347168, -61.16389465332031 4.49430513381958, -61.05250549316406 4.507777214050293, -60.98708724975586 4.519305229187012, -60.96833801269531 4.538332939147949, -60.95166778564453 4.556943893432617, -60.92986297607422 4.591874599456787, -60.924583435058594 4.637707710266113, -60.886531829833984 4.709721565246582, -60.8668098449707 4.7133331298828125, -60.83861541748047 4.718471527099609, -60.720279693603516 4.776110649108887, -60.675559997558594 4.8138885498046875, -60.64931106567383 4.842916011810303, -60.592506408691406 4.924721717834473, -60.57854461669922 4.952638149261475, -60.582366943359375 4.988471508026123, -60.64417266845703 5.1586103439331055, -60.65521240234375 5.181318759918213, -60.685142517089844 5.196944236755371, -60.710975646972656 5.202916145324707, -60.730369567871094 5.204798698425293, -60.68944549560547 5.216110706329346, -60.59743118286133 5.211943626403809, -60.57382583618164 5.197152137756348, -60.54639434814453 5.191388130187988, -60.317848205566406 5.197638511657715, -60.26840591430664 5.23527717590332, -60.250003814697266 5.258471965789795, -60.20236587524414 5.272707939147949, -60.114585876464844 5.245694160461426, -60.09833526611328 5.217222213745117, -60.081947326660156 5.1730546951293945, -60.08087158203125 5.161513328552246, -60.013893127441406 5.109999656677246, -59.983062744140625 5.022499084472656, -60.005836486816406 4.836943626403809, -60.02056121826172 4.734443664550781, -60.025840759277344 4.707221984863281, -60.072086334228516 4.618471622467041, -60.091529846191406 4.600693702697754, -60.12389373779297 4.59666633605957, -60.15222930908203 4.573332786560059, -60.148475646972656 4.5199995040893555, -60.130699157714844 4.509721755981445, -60.04528045654297 4.494027614593506, -59.96778106689453 4.501943588256836, -59.94180679321289 4.508054733276367, -59.791114807128906 4.456110954284668, -59.71722412109375 4.414166450500488, -59.67444610595703 4.385138511657715, -59.67528533935547 4.373332977294922, -59.7308349609375 4.293333053588867, -59.73111343383789 4.219166278839111, -59.72222900390625 4.191388130187988, -59.708614349365234 4.170693874359131, -59.58167266845703 3.9988884925842285, -59.56861114501953 3.899444103240967, -59.665557861328125 3.71138858795166, -59.78611755371094 3.6205554008483887, -59.831947326660156 3.5241665840148926, -59.81444549560547 3.4987497329711914, -59.81083679199219 3.3595831394195557, -59.835697174072266 3.3220832347869873, -59.856117248535156 3.2977776527404785, -59.869728088378906 3.276388645172119, -59.90472412109375 3.2041664123535156, -59.94972229003906 3.071944236755371, -59.96278381347656 3.0258331298828125, -59.97888946533203 2.8991665840148926, -59.98278045654297 2.8602776527404785, -59.98847579956055 2.6881940364837646, -59.95417022705078 2.6163887977600098, -59.925559997558594 2.567777633666992, -59.89278030395508 2.454444169998169, -59.888893127441406 2.407083034515381, -59.90167236328125 2.384444236755371, -59.89326477050781 2.3640968799591064, -59.84972381591797 2.3305554389953613, -59.79319763183594 2.2977774143218994, -59.73548889160156 2.284721851348877, -59.72701644897461 2.2412495613098145, -59.743614196777344 2.07277774810791, -59.75625228881836 1.908888816833496, -59.74903106689453 1.8613888025283813, -59.726322174072266 1.8541665077209473, -59.63247299194336 1.8422369956970215, -59.65361785888672 1.8022220134735107, -59.6752815246582 1.7670831680297852, -59.64576721191406 1.7351387739181519, -59.60541915893555 1.7194442749023438, -59.50750732421875 1.687499761581421, -59.48361587524414 1.6505554914474487, -59.414451599121094 1.56333327293396, -59.243961334228516 1.38652765750885, -59.10472869873047 1.344722032546997, -58.9727783203125 1.3197221755981445, -58.95750427246094 1.3144443035125732, -58.92486572265625 1.2993054389953613, -58.897361755371094 1.2618401050567627, -58.898406982421875 1.23111093044281, -58.86958694458008 1.2049999237060547, -58.836395263671875 1.1902775764465332, -58.81069564819336 1.1868748664855957, -58.751949310302734 1.2095831632614136, -58.72291946411133 1.2323609590530396, -58.708892822265625 1.2629165649414062, -58.692989349365234 1.284722089767456, -58.57250213623047 1.2752776145935059, -58.519622802734375 1.2696177959442139, -58.47514343261719 1.3140276670455933, -58.46764373779297 1.3376387357711792, -58.46931076049805 1.3584721088409424, -58.502288818359375 1.454674482345581, -58.38729476928711 1.4778469800949097, -58.29722595214844 1.582777738571167, -58.268333435058594 1.5705554485321045, -58.127784729003906 1.517777681350708, -58.00715637207031 1.515694260597229, -57.9829216003418 1.5723609924316406, -57.972503662109375 1.6134721040725708, -57.87611389160156 1.6649999618530273, -57.75944900512695 1.7178471088409424, -57.722503662109375 1.717499852180481, -57.687503814697266 1.7074998617172241, -57.65361785888672 1.6966664791107178, -57.63333511352539 1.6927776336669922, -57.55930709838867 1.699722170829773, -57.52806091308594 1.7158331871032715, -57.512367248535156 1.7308331727981567, -57.450904846191406 1.8111109733581543, -57.42805862426758 1.871249794960022, -57.42549133300781 1.9013887643814087, -57.331947326660156 1.972222089767456, -57.298194885253906 1.9819443225860596, -57.27667236328125 1.9795137643814087, -57.235347747802734 1.9497915506362915, -57.19917297363281 1.9711110591888428, -57.163063049316406 1.996666431427002, -57.10021209716797 2.0227773189544678, -57.07423782348633 2.015763521194458, -57.06083679199219 1.9841666221618652, -57.05083465576172 1.9522219896316528, -57.0038948059082 1.9229165315628052, -56.87389373779297 1.8916666507720947, -56.770694732666016 1.8756248950958252, -56.7520866394043 1.896944284439087, -56.73500442504883 1.9140970706939697, -56.62820053100586 1.9394443035125732, -56.595001220703125 1.9322221279144287, -56.57792282104492 1.9216666221618652, -56.52555847167969 1.9224998950958252, -56.47063446044922 1.9444990158081055, -56.4263916015625 1.934166431427002, -56.32695007324219 1.9252777099609375, -56.20166778564453 1.8916666507720947, -56.11333465576172 1.8636109828948975, -56.06806182861328 1.8455554246902466, -56.027503967285156 1.8362499475479126, -55.995975494384766 1.8376387357711792, -55.96583557128906 1.8452775478363037, -55.94264221191406 1.8561110496520996, -55.901737213134766 1.9010415077209473, -55.903961181640625 2.0477776527404785, -56.03639221191406 2.208888530731201, -56.11583709716797 2.249166488647461, -56.084449768066406 2.357499599456787, -56.00041961669922 2.4508330821990967, -55.98250198364258 2.522083044052124, -55.9627799987793 2.533055305480957, -55.941810607910156 2.530555248260498, -55.91750717163086 2.5206942558288574, -55.886390686035156 2.4970831871032715, -55.86410140991211 2.4714581966400146, -55.71368408203125 2.4001386165618896, -55.503334045410156 2.4388885498046875, -55.11194610595703 2.527222156524658, -55.091949462890625 2.534721851348877, -54.96944808959961 2.5505552291870117, -54.86916732788086 2.441944122314453, -54.847503662109375 2.436110734939575, -54.80375289916992 2.4380552768707275, -54.77538299560547 2.4568471908569336, -54.75312805175781 2.4706246852874756, -54.68986511230469 2.451596736907959, -54.69021224975586 2.3995137214660645, -54.70909881591797 2.387916326522827, -54.687503814697266 2.3255550861358643, -54.63472366333008 2.3200690746307373, -54.603782653808594 2.3291945457458496, -54.5936164855957 2.3297221660614014, -54.573890686035156 2.325277328491211, -54.541324615478516 2.3152081966400146, -54.527225494384766 2.2893052101135254, -54.51861572265625 2.2574996948242188, -54.464656829833984 2.211735725402832, -54.320556640625 2.161527395248413, -54.109657287597656 2.1134719848632812, -53.932640075683594 2.228055238723755, -53.928062438964844 2.252777576446533, -53.9102783203125 2.277222156524658, -53.7994499206543 2.352360963821411, -53.77680969238281 2.3645832538604736, -53.74611282348633 2.370971918106079, -53.721534729003906 2.34173583984375, -53.70166778564453 2.3102774620056152, -53.52777862548828 2.249513626098633, -53.4586181640625 2.2574996948242188, -53.34833526611328 2.3227081298828125, -53.34056091308594 2.3496525287628174, -53.319862365722656 2.3479857444763184, -53.296539306640625 2.319004535675049, -53.226112365722656 2.264444351196289, -53.239173889160156 2.2083330154418945, -53.19611358642578 2.2136106491088867, -53.11180877685547 2.2224998474121094, -53.08736801147461 2.2194442749023438, -53.06958770751953 2.2030553817749023, -53.05486297607422 2.1869442462921143, -52.99431228637695 2.175694227218628, -52.9547233581543 2.176180362701416, -52.896461486816406 2.2068052291870117, -52.882781982421875 2.224721908569336, -52.789451599121094 2.303333282470703, -52.675628662109375 2.374166250228882, -52.594451904296875 2.473888874053955, -52.56375503540039 2.522083044052124, -52.54222869873047 2.5655553340911865, -52.53986740112305 2.58638858795166, -52.55278396606445 2.6212499141693115, -52.51972961425781 2.69777774810791, -52.46417236328125 2.813333034515381, -52.40861511230469 2.922222137451172, -52.379173278808594 2.9741666316986084, -52.351951599121094 3.0399999618530273, -52.34486389160156 3.0884718894958496, -52.353057861328125 3.131666660308838, -52.344940185546875 3.1574034690856934, -52.27361297607422 3.241041421890259, -52.249656677246094 3.2437496185302734, -52.226741790771484 3.2530553340911865, -52.165283203125 3.342222213745117, -52.10028076171875 3.4488887786865234, -51.9958381652832 3.625833034515381, -51.99000549316406 3.6574997901916504, -51.98104476928711 3.6999998092651367, -51.927085876464844 3.776944398880005, -51.906394958496094 3.790832996368408, -51.81232833862305 3.8768229484558105, -51.79389190673828 3.9166665077209473, -51.78361511230469 3.961111068725586, -51.77180862426758 3.9834721088409424, -51.7538948059082 4.000555038452148, -51.72834014892578 4.015832901000977, -51.70417022705078 4.026110649108887, -51.68406677246094 4.034163475036621, -51.67333221435547 4.03615140914917, -51.63694763183594 4.0570831298828125, -51.614173889160156 4.096388816833496, -51.60667419433594 4.116110801696777, -51.540283203125 4.1536102294921875, -51.50444793701172 4.05972146987915, -51.447784423828125 3.9724998474121094, -51.459449768066406 4.021110534667969, -51.480003356933594 4.055276870727539, -51.50305938720703 4.114166259765625, -51.510284423828125 4.134444236755371, -51.548614501953125 4.26027774810791, -51.554725646972656 4.281388282775879, -51.55889129638672 4.304721832275391, -51.56000518798828 4.330832481384277, -51.5594482421875 4.364166259765625, -51.54813003540039 4.385693550109863, -51.332088470458984 4.230277061462402, -51.259307861328125 4.152499675750732, -51.20111846923828 4.073888778686523, -51.19139099121094 4.055832862854004, -51.167503356933594 3.9972219467163086, -51.165557861328125 3.895277500152588, -51.13750457763672 3.8755555152893066, -51.11708450317383 3.906527519226074, -51.092987060546875 3.9128470420837402, -51.07944869995117 3.886805295944214, -51.07167053222656 3.733333110809326, -51.07875442504883 3.6365275382995605, -51.07722473144531 3.5855555534362793, -51.06611633300781 3.3788886070251465, -51.06139373779297 3.3305554389953613, -51.05528259277344 3.2819442749023438, -51.051116943359375 3.258610725402832, -51.02361297607422 3.1299996376037598, -51.01805877685547 3.1080551147460938, -50.992225646972656 3.042499542236328, -50.91416931152344 2.8738884925842285, -50.85028076171875 2.7405552864074707, -50.82611846923828 2.6577773094177246, -50.81666946411133 2.6194443702697754, -50.78334045410156 2.487222194671631, -50.679725646972656 2.164721965789795, -50.59333801269531 2.027777671813965, -50.50139617919922 1.8861110210418701, -50.485557556152344 1.8633332252502441, -50.46694564819336 1.842499852180481, -50.445281982421875 1.8258333206176758, -50.402503967285156 1.8197221755981445, -50.32805633544922 1.8299999237060547, -50.193199157714844 1.8249999284744263, -50.048614501953125 1.7799999713897705, -50.01500701904297 1.7647221088409424, -49.93208312988281 1.709930419921875, -49.888893127441406 1.5805554389953613, -49.88555908203125 1.5594444274902344, -49.88250732421875 1.538888692855835, -49.88139343261719 1.5174999237060547, -49.87861633300781 1.4455554485321045, -49.89299011230469 1.3242359161376953, -49.97542190551758 1.2623610496520996, -50.02250671386719 1.2544443607330322, -50.043617248535156 1.2488887310028076, -50.08611297607422 1.2347221374511719, -50.110557556152344 1.2134026288986206, -50.07041931152344 1.2095832824707031, -49.99555969238281 1.223055362701416, -49.966670989990234 1.2312499284744263, -49.929168701171875 1.2499998807907104, -49.9112548828125 1.2352776527404785, -49.90347671508789 1.1970831155776978, -49.9031982421875 1.174444317817688, -49.91472625732422 1.1502776145935059, -49.940975189208984 1.1184720993041992, -49.98097610473633 1.086666464805603, -50.23694610595703 0.8886110782623291, -50.312225341796875 0.7530554533004761, -50.351951599121094 0.7222222089767456, -50.39653015136719 0.6905555129051208, -50.420005798339844 0.6797221899032593, -50.45000457763672 0.6618055105209351, -50.471946716308594 0.6222221851348877, -50.488616943359375 0.583611011505127, -50.50750732421875 0.5474998950958252, -50.56444549560547 0.4397221803665161, -50.57417297363281 0.4219444394111633, -50.59667205810547 0.3897221684455872, -50.64000701904297 0.336388885974884, -50.76042175292969 0.1959722191095352, -50.782779693603516 0.1769444346427918, -50.80500411987305 0.1663888692855835, -50.824588775634766 0.1729166507720947, -50.86528015136719 0.1724999696016312, -50.911949157714844 0.160833328962326, -50.93791961669922 0.1526388823986054, -50.95805740356445 0.1387499868869782, -50.98500442504883 0.1098611056804657, -51.005836486816406 0.0827777683734894, -51.04069519042969 0.0348611064255238, -51.06056213378906 0, -51.06806182861328 -0.0251388922333717, -51.086669921875 -0.0502777844667435, -51.091217041015625 -0.0536111146211624, -51.103057861328125 -0.0625, -51.13861846923828 -0.0825000107288361, -51.16444778442383 -0.0940277874469757, -51.18777847290039 -0.097777783870697, -51.210697174072266 -0.1029166653752327, -51.22509002685547 -0.1164231970906258, -51.253475189208984 -0.1376389116048813, -51.29750061035156 -0.1913889050483704, -51.31916809082031 -0.2250000238418579, -51.34972381591797 -0.276388943195343, -51.357505798339844 -0.2961111664772034, -51.36444854736328 -0.3267361223697662, -51.38139343261719 -0.3680555820465088, -51.40111541748047 -0.4030556082725525, -51.453060150146484 -0.4884722530841827, -51.47014236450195 -0.5055556297302246, -51.50708770751953 -0.5302777886390686, -51.60500717163086 -0.6351389288902283, -51.70000457763672 -0.752500057220459, -51.71375274658203 -0.7868056297302246, -51.72111511230469 -0.8697222471237183, -51.723060607910156 -0.9075000286102295, -51.720420837402344 -0.9526389837265015, -51.714447021484375 -0.9808334112167358, -51.71229553222656 -1.0238195657730103, -51.83708953857422 -1.1402778625488281, -51.876670837402344 -1.1491668224334717, -51.901390075683594 -1.1505556106567383, -51.91965866088867 -1.1667362451553345, -51.935420989990234 -1.198333501815796, -51.92250061035156 -1.245833396911621, -51.91680908203125 -1.30097234249115, -51.92750549316406 -1.334861159324646, -52.010284423828125 -1.4065278768539429, -52.04569625854492 -1.4181945323944092, -52.0755615234375 -1.4195834398269653, -52.099586486816406 -1.4172223806381226, -52.13166809082031 -1.4055557250976562, -52.164451599121094 -1.3747222423553467, -52.185420989990234 -1.3544445037841797, -52.22764205932617 -1.344930648803711, -52.44388961791992 -1.4469445943832397, -52.46771240234375 -1.4820139408111572, -52.570350646972656 -1.5284724235534668, -52.610557556152344 -1.527361273765564, -52.63750457763672 -1.5350000858306885, -52.7097282409668 -1.5655556917190552, -52.70695114135742 -1.603055715560913, -52.52222442626953 -1.573333501815796, -52.2933349609375 -1.5350000858306885, -52.27333450317383 -1.540972352027893, -52.23722839355469 -1.5776389837265015, -52.228614807128906 -1.607222318649292, -52.228397369384766 -1.6499708890914917, -52.23892593383789 -1.668017029762268, -52.26824951171875 -1.6819276809692383, -52.24907684326172 -1.7048614025115967, -52.20846939086914 -1.692078709602356, -52.1949348449707 -1.666513204574585, -52.178016662597656 -1.644707441329956, -52.15320587158203 -1.6274131536483765, -52.128013610839844 -1.6195179224014282, -52.08778762817383 -1.6266611814498901, -52.05357360839844 -1.6093668937683105, -52.01542282104492 -1.6168056726455688, -51.94667053222656 -1.5898611545562744, -51.87375259399414 -1.553055763244629, -51.849449157714844 -1.5294444561004639, -51.81945037841797 -1.5047223567962646, -51.66333770751953 -1.402361273765564, -51.63555908203125 -1.3938889503479004, -51.60597610473633 -1.3890279531478882, -51.5675048828125 -1.3794445991516113, -51.4888916015625 -1.3477778434753418, -51.4494514465332 -1.3270834684371948, -51.24680709838867 -1.2082639932632446, -51.21222686767578 -1.1438194513320923, -51.16917037963867 -1.1105557680130005, -51.114723205566406 -1.0822222232818604, -51.060699462890625 -1.0609723329544067, -51.035282135009766 -1.045138955116272, -50.99278259277344 -0.9986112117767334, -50.998199462890625 -0.979305624961853, -51.00847625732422 -0.955416738986969, -50.9953498840332 -0.9287500381469727, -50.92278289794922 -0.9108333587646484, -50.85292053222656 -0.9150000810623169, -50.82646179199219 -0.9287500381469727, -50.802223205566406 -1.173888921737671, -50.80458450317383 -1.2115278244018555, -50.81528091430664 -1.2509722709655762, -50.82597732543945 -1.2790278196334839, -50.83549118041992 -1.3401390314102173, -50.8145866394043 -1.4445834159851074, -50.76250457763672 -1.548055648803711, -50.740562438964844 -1.5672223567962646, -50.704444885253906 -1.5994446277618408, -50.687782287597656 -1.6172223091125488, -50.67875289916992 -1.6354167461395264, -50.6596565246582 -1.7414584159851074, -50.66722869873047 -1.7716667652130127, -50.78486251831055 -1.890069603919983, -50.814727783203125 -1.8983335494995117, -50.87028121948242 -1.864861249923706, -50.98694610595703 -1.8313889503479004, -51.067989349365234 -1.81166672706604, -51.12771224975586 -1.820555567741394, -51.26388931274414 -1.7536112070083618, -51.28083801269531 -1.7095834016799927, -51.28042221069336 -1.681597352027893, -51.30389404296875 -1.6608333587646484, -51.33659744262695 -1.6474305391311646, -51.41917419433594 -1.7813889980316162, -51.48278045654297 -1.893611192703247, -51.496673583984375 -1.9347224235534668, -51.50695037841797 -1.9725000858306885, -51.517784118652344 -2.024444580078125, -51.521949768066406 -2.046389102935791, -51.47819519042969 -2.2381253242492676, -51.447227478027344 -2.2791669368743896, -51.38842010498047 -2.3192362785339355, -51.409446716308594 -2.2894444465637207, -51.43083953857422 -2.2730557918548584, -51.453060150146484 -2.2459723949432373, -51.4808349609375 -2.072361469268799, -51.47291946411133 -2.0391669273376465, -51.37445068359375 -1.868333339691162, -51.308231353759766 -1.7669097185134888, -51.18833923339844 -1.8244445323944092, -51.1602783203125 -1.842777967453003, -51.15333557128906 -1.871666669845581, -51.090003967285156 -1.9272222518920898, -51.00389099121094 -2.0115280151367188, -50.99111557006836 -2.02958345413208, -50.99500274658203 -2.1108336448669434, -51.007503509521484 -2.1597225666046143, -51.021392822265625 -2.1802778244018555, -51.054588317871094 -2.195000171661377, -51.02916717529297 -2.3450002670288086, -51.01500701904297 -2.3852782249450684, -50.99611282348633 -2.4177780151367188, -50.96417236328125 -2.444167137145996, -50.92444610595703 -2.466111183166504, -50.876949310302734 -2.475764036178589, -50.860557556152344 -2.502500057220459, -50.84382247924805 -2.507500171661377, -50.8658332824707 -2.466458559036255, -50.89014434814453 -2.4598615169525146, -50.91542053222656 -2.451111316680908, -50.99201583862305 -2.3837502002716064, -51.00625228881836 -2.3398613929748535, -51.00666809082031 -2.305833339691162, -50.999725341796875 -2.2005558013916016, -50.984310150146484 -2.069166898727417, -50.93166732788086 -1.9925695657730103, -50.840003967285156 -2.0394444465637207, -50.78708267211914 -2.117014169692993, -50.793060302734375 -2.168055772781372, -50.71645736694336 -2.223264217376709, -50.70014190673828 -2.2047224044799805, -50.73027801513672 -2.1719446182250977, -50.763893127441406 -2.1236114501953125, -50.80375671386719 -2.038889169692993, -50.82305908203125 -1.98805570602417, -50.82292175292969 -1.9600000381469727, -50.80583953857422 -1.9394445419311523, -50.677955627441406 -1.810443639755249, -50.57417297363281 -1.8163890838623047, -50.45069885253906 -1.8575000762939453, -50.42882537841797 -1.89388906955719, -50.458892822265625 -1.9136111736297607, -50.467708587646484 -1.932013988494873, -50.447086334228516 -1.950139045715332, -50.41638946533203 -1.9522223472595215, -50.37055969238281 -1.948055624961853, -50.35028076171875 -1.9411112070083618, -50.32139587402344 -1.9150002002716064, -50.30333709716797 -1.9041666984558105, -50.26500701904297 -1.8830556869506836, -50.00284957885742 -1.8209723234176636, -49.953338623046875 -1.8341667652130127, -49.87278366088867 -1.8825000524520874, -49.84166717529297 -1.902777910232544, -49.63833999633789 -1.8754862546920776, -49.57000732421875 -1.8491668701171875, -49.53111267089844 -1.8163890838623047, -49.52027893066406 -1.7994446754455566, -49.50444793701172 -1.7843056917190552, -49.47416687011719 -1.7625000476837158, -49.44194793701172 -1.746250033378601, -49.330284118652344 -1.7130556106567383, -49.280906677246094 -1.7177084684371948, -49.276947021484375 -1.7663888931274414, -49.28569793701172 -1.7898612022399902, -49.36750030517578 -1.9294445514678955, -49.40778350830078 -2.025278091430664, -49.42319869995117 -2.12166690826416, -49.452640533447266 -2.190833568572998, -49.476253509521484 -2.2115280628204346, -49.505836486816406 -2.257500171661377, -49.50639343261719 -2.3144445419311523, -49.4909782409668 -2.3484725952148438, -49.47472381591797 -2.3855557441711426, -49.469451904296875 -2.406111240386963, -49.469451904296875 -2.4300003051757812, -49.47472381591797 -2.4808335304260254, -49.49000549316406 -2.565000057220459, -49.45166778564453 -2.5183334350585938, -49.433753967285156 -2.488194704055786, -49.43611526489258 -2.4523613452911377, -49.433128356933594 -2.3978471755981445, -49.41569900512695 -2.35027813911438, -49.368614196777344 -2.2672224044799805, -49.334449768066406 -2.2047224044799805, -49.31139373779297 -2.1458334922790527, -49.30083465576172 -2.101388931274414, -49.26222610473633 -1.9988890886306763, -49.19055938720703 -1.8980557918548584, -49.17347717285156 -1.880833387374878, -49.124568939208984 -1.8775781393051147, -49.087364196777344 -1.8551390171051025, -49.050140380859375 -1.858889102935791, -49.002506256103516 -1.8531945943832397, -48.970489501953125 -1.8405556678771973, -48.914451599121094 -1.753333568572998, -48.817779541015625 -1.644444465637207, -48.773895263671875 -1.5719444751739502, -48.73069763183594 -1.4986112117767334, -48.697227478027344 -1.4691667556762695, -48.67218780517578 -1.4849438667297363, -48.64662170410156 -1.5008026361465454, -48.6237907409668 -1.490549087524414, -48.606842041015625 -1.4711600542068481, -48.548892974853516 -1.5497223138809204, -48.53986740112305 -1.5819445848464966, -48.503196716308594 -1.6219446659088135, -48.427223205566406 -1.6602779626846313, -48.42444610595703 -1.6404167413711548, -48.43055725097656 -1.6125001907348633, -48.43805694580078 -1.591111183166504, -48.45319747924805 -1.5644445419311523, -48.413612365722656 -1.4994444847106934, -48.346946716308594 -1.4972224235534668, -48.188961029052734 -1.4662500619888306, -48.21430969238281 -1.4506945610046387, -48.2550048828125 -1.445833444595337, -48.298892974853516 -1.4473612308502197, -48.33250427246094 -1.4500000476837158, -48.39181137084961 -1.4565279483795166, -48.42791748046875 -1.4651390314102173, -48.448333740234375 -1.4747222661972046, -48.480003356933594 -1.4752779006958008, -48.499725341796875 -1.461458444595337, -48.49889373779297 -1.4088890552520752, -48.48118209838867 -1.3048611879348755, -48.44833755493164 -1.2863891124725342, -48.425697326660156 -1.2965279817581177, -48.40542221069336 -1.3105555772781372, -48.33979797363281 -1.3174999952316284, -48.27916717529297 -1.1575000286102295, -48.2711181640625 -1.1177778244018555, -48.3094482421875 -1.0411112308502197, -48.31486511230469 -1.0283334255218506, -48.31778335571289 -1.0075000524520874, -48.312782287597656 -0.9847222566604614, -48.29222869873047 -0.9450000524520874, -48.238059997558594 -0.8677778244018555, -48.056392669677734 -0.7080556154251099, -48.03319549560547 -0.70270836353302, -47.996116638183594 -0.7375000715255737, -47.98910140991211 -0.7575000524520874, -47.96180725097656 -0.7762500643730164, -47.892086029052734 -0.7288194894790649, -47.848060607910156 -0.6908334493637085, -47.77396011352539 -0.6417362093925476, -47.74458694458008 -0.6373611688613892, -47.719032287597656 -0.6665278673171997, -47.712501525878906 -0.7029861807823181, -47.73295593261719 -0.7464583516120911, -47.664451599121094 -0.7361111640930176, -47.64000701904297 -0.7197222709655762, -47.61236572265625 -0.698472261428833, -47.59861755371094 -0.677777886390686, -47.589378356933594 -0.6484028100967407, -47.54875183105469 -0.6359723210334778, -47.53083801269531 -0.6456945538520813, -47.483612060546875 -0.7355556488037109, -47.3980598449707 -0.8127778768539429, -47.38500213623047 -0.7765278220176697, -47.39222717285156 -0.7519445419311523, -47.432228088378906 -0.7230556011199951, -47.453338623046875 -0.71833336353302, -47.462501525878906 -0.6997222900390625, -47.470558166503906 -0.6223611831665039, -47.45958709716797 -0.5950000882148743, -47.431396484375 -0.5825001001358032, -47.285560607910156 -0.599166750907898, -47.20979690551758 -0.6413889527320862, -47.17028045654297 -0.7072222232818604, -47.06555938720703 -0.7533334493637085, -46.9597282409668 -0.7027778625488281, -46.92604446411133 -0.8405556082725525, -46.95777893066406 -0.8602778315544128, -46.96000289916992 -0.8984723091125488, -46.90111541748047 -0.8650000095367432, -46.86695098876953 -0.7786111831665039, -46.8266716003418 -0.7131944894790649, -46.80250549316406 -0.7279167771339417, -46.803062438964844 -0.761388897895813, -46.81694793701172 -0.8136111497879028, -46.79084014892578 -0.8422223329544067, -46.74555969238281 -0.8300000429153442, -46.6301383972168 -0.8256250619888306, -46.601112365722656 -0.8677778244018555, -46.57139587402344 -0.9759722352027893, -46.61000061035156 -1.0375001430511475, -46.598060607910156 -1.0226389169692993, -46.55577087402344 -1.0050694942474365, -46.539306640625 -1.0287500619888306, -46.448333740234375 -1.043055772781372, -46.418060302734375 -1.0375001430511475, -46.26167297363281 -0.9888889789581299, -46.19194793701172 -0.9575001001358032, -46.211669921875 -1.0594446659088135, -46.246673583984375 -1.1430556774139404, -46.25944900512695 -1.177777886390686, -46.165000915527344 -1.1463890075683594, -46.12750244140625 -1.1061112880706787, -46.09111785888672 -1.1788890361785889, -46.08709716796875 -1.2102763652801514, -46.046669006347656 -1.210277795791626, -46.0311164855957 -1.194722294807434, -46.0351448059082 -1.1598613262176514, -46.0130615234375 -1.1115278005599976, -45.9756965637207 -1.0775001049041748, -45.89000701904297 -1.1406946182250977, -45.876670837402344 -1.171389102935791, -45.861114501953125 -1.2361111640930176, -45.86153030395508 -1.2595139741897583, -45.785003662109375 -1.2675001621246338, -45.735557556152344 -1.1800000667572021, -45.7197265625 -1.2188889980316162, -45.69618225097656 -1.3686805963516235, -45.63291931152344 -1.3714584112167358, -45.61431121826172 -1.3401390314102173, -45.616668701171875 -1.3088890314102173, -45.61000061035156 -1.279513955116272, -45.55555725097656 -1.276944637298584, -45.44694519042969 -1.31083345413208, -45.415000915527344 -1.355555772781372, -45.5064582824707 -1.464861273765564, -45.4632682800293 -1.510069489479065, -45.46222686767578 -1.545555591583252, -45.45403289794922 -1.5437500476837158, -45.384727478027344 -1.413888931274414, -45.35611343383789 -1.3367362022399902, -45.353336334228516 -1.314583420753479, -45.32472610473633 -1.3147224187850952, -45.310420989990234 -1.3376390933990479, -45.29916763305664 -1.3805556297302246, -45.29930877685547 -1.4180556535720825, -45.317222595214844 -1.440833568572998, -45.35527801513672 -1.4772224426269531, -45.37250518798828 -1.5408334732055664, -45.367088317871094 -1.7155556678771973, -45.3506965637207 -1.7368056774139404, -45.320838928222656 -1.7444446086883545, -45.2838249206543 -1.7354862689971924, -45.222293853759766 -1.6758333444595337, -45.240142822265625 -1.643194556236267, -45.25222396850586 -1.6112500429153442, -45.2435417175293 -1.5727084875106812, -45.19861602783203 -1.5200002193450928, -45.158756256103516 -1.4804167747497559, -45.091670989990234 -1.4640278816223145, -45.004722595214844 -1.4891667366027832, -44.95500183105469 -1.5022222995758057, -44.85889434814453 -1.430625081062317, -44.84819793701172 -1.46708345413208, -44.8558349609375 -1.4897223711013794, -44.879005432128906 -1.5029723644256592, -44.915283203125 -1.5461113452911377, -44.951393127441406 -1.6016666889190674, -44.934722900390625 -1.6191668510437012, -44.913612365722656 -1.6391668319702148, -44.9072265625 -1.615277886390686, -44.82722091674805 -1.5763195753097534, -44.79806137084961 -1.6077778339385986, -44.790279388427734 -1.6269445419311523, -44.799171447753906 -1.7050001621246338, -44.7197265625 -1.7936112880706787, -44.69500732421875 -1.8177778720855713, -44.64000701904297 -1.7891666889190674, -44.56916809082031 -1.816666841506958, -44.53889465332031 -1.8322222232818604, -44.52777862548828 -1.8591668605804443, -44.511390686035156 -1.9075000286102295, -44.48972702026367 -1.9866667985916138, -44.49652862548828 -2.0476391315460205, -44.588890075683594 -2.1702780723571777, -44.63694763183594 -2.223611354827881, -44.66139221191406 -2.281111240386963, -44.65493392944336 -2.323680877685547, -44.63417053222656 -2.2838892936706543, -44.61625289916992 -2.2570834159851074, -44.50437545776367 -2.1485416889190674, -44.450836181640625 -2.1463890075683594, -44.42812728881836 -2.156458616256714, -44.39500427246094 -2.1987502574920654, -44.36639404296875 -2.294722318649292, -44.361671447753906 -2.3202781677246094, -44.360557556152344 -2.341944694519043, -44.37910079956055 -2.3995139598846436, -44.406394958496094 -2.4100003242492676, -44.441532135009766 -2.412083625793457, -44.50750732421875 -2.4708337783813477, -44.582088470458984 -2.566805839538574, -44.577781677246094 -2.616666793823242, -44.60833740234375 -2.674722671508789, -44.65180969238281 -2.7680556774139404, -44.68250274658203 -2.9125003814697266, -44.691463470458984 -2.9951391220092773, -44.677711486816406 -3.016805648803711, -44.62361145019531 -3.0341668128967285, -44.6259765625 -3.0551390647888184, -44.75639343261719 -3.193333625793457, -44.78389358520508 -3.2045140266418457, -44.78639221191406 -3.2975001335144043, -44.753334045410156 -3.274444580078125, -44.660003662109375 -3.188055992126465, -44.616111755371094 -3.1100001335144043, -44.546669006347656 -3.056389331817627, -44.48027801513672 -3.0081944465637207, -44.456947326660156 -2.983055591583252, -44.43695068359375 -2.955000400543213, -44.42306137084961 -2.9344446659088135, -44.410560607910156 -2.8980560302734375, -44.405555725097656 -2.868055820465088, -44.38417053222656 -2.7013893127441406, -44.36750030517578 -2.5552778244018555, -44.35694885253906 -2.5266671180725098, -44.283199310302734 -2.481389284133911, -44.25638961791992 -2.4827778339385986, -44.21194839477539 -2.4734725952148438, -44.167503356933594 -2.453611373901367, -44.12375259399414 -2.425694704055786, -44.104862213134766 -2.413889169692993, -44.06333923339844 -2.4058337211608887, -44.03388977050781 -2.41361141204834, -44.029029846191406 -2.5188891887664795, -44.04194641113281 -2.5476391315460205, -44.13291931152344 -2.668055772781372, -44.162086486816406 -2.690139055252075, -44.18708801269531 -2.6954169273376465, -44.23278045654297 -2.7133336067199707, -44.26722717285156 -2.733611583709717, -44.33837127685547 -2.7807986736297607, -44.34035110473633 -2.8273613452911377, -44.2933349609375 -2.8353474140167236, -44.277503967285156 -2.8102779388427734, -44.2645149230957 -2.783125162124634, -44.19063186645508 -2.7634029388427734, -44.17680740356445 -2.8165626525878906, -44.21437454223633 -2.8495142459869385, -44.198333740234375 -2.868889331817627, -44.17778015136719 -2.848055839538574, -44.121116638183594 -2.7708334922790527, -44.021392822265625 -2.651111125946045, -44.005279541015625 -2.6330556869506836, -43.92833709716797 -2.5484724044799805, -43.87306213378906 -2.5697226524353027, -43.7997932434082 -2.5516669750213623, -43.70750427246094 -2.510000228881836, -43.560279846191406 -2.5230560302734375, -43.448333740234375 -2.537777900695801, -43.458335876464844 -2.4580559730529785, -43.478614807128906 -2.4109725952148438, -43.47771072387695 -2.3827781677246094, -43.43833541870117 -2.3679168224334717, -43.347503662109375 -2.3658337593078613, -43.3216667175293 -2.3676390647888184, -43.28334045410156 -2.37333345413208, -43.16924285888672 -2.397916793823242, -43.11583709716797 -2.4258337020874023, -43.03972625732422 -2.4538888931274414, -43.00083541870117 -2.4653472900390625, -42.96306228637695 -2.4656946659088135, -42.93409729003906 -2.4722225666046143, -42.89000701904297 -2.5030555725097656, -42.79618453979492 -2.5609028339385986, -42.7550048828125 -2.558055877685547, -42.70667266845703 -2.5627779960632324, -42.68229675292969 -2.583125352859497, -42.62583923339844 -2.6463890075683594, -42.50444793701172 -2.7316670417785645, -42.45750427246094 -2.750694513320923, -42.34410095214844 -2.7688891887664795, -42.312782287597656 -2.7597222328186035, -42.29138946533203 -2.754167079925537, -42.26986312866211 -2.756527900695801, -42.2337532043457 -2.805694580078125, -42.23583984375 -2.837778091430664, -42.233612060546875 -2.8330559730529785, -42.211669921875 -2.808819532394409, -42.11000061035156 -2.8027782440185547, -42.061668395996094 -2.8194446563720703, -42.027503967285156 -2.830000400543213, -41.95208740234375 -2.8450002670288086, -41.936805725097656 -2.8205559253692627, -41.93534851074219 -2.7870140075683594, -41.97819900512695 -2.756805896759033, -41.94944763183594 -2.745555877685547, -41.87083435058594 -2.732222557067871, -41.83434295654297 -2.7396183013916016, -41.84026336669922 -2.7669196128845215, -41.826393127441406 -2.7622222900390625, -41.793060302734375 -2.7747225761413574, -41.72722625732422 -2.813333511352539, -41.69944763183594 -2.830277919769287, -41.67986297607422 -2.844444513320923, -41.66653060913086 -2.8632638454437256, -41.694515228271484 -2.8640973567962646, -41.67472839355469 -2.8830556869506836, -41.6038932800293 -2.90458345413208, -41.52000045776367 -2.9123613834381104, -41.49528503417969 -2.9063892364501953, -41.475765228271484 -2.897430658340454, -41.401390075683594 -2.9084722995758057, -41.332088470458984 -2.930417060852051, -41.26889419555664 -2.9852781295776367, -41.248069763183594 -3.0235543251037598, -41.236045837402344 -3.015000104904175, -41.23847579956055 -2.9750001430511475, -41.263893127441406 -2.932361364364624, -41.2227783203125 -2.8802781105041504, -40.9102783203125 -2.8727779388427734, -40.79084014892578 -2.8658337593078613, -40.656394958496094 -2.8397226333618164, -40.630836486816406 -2.8397226333618164, -40.60569763183594 -2.8383336067199707, -40.54888916015625 -2.821666717529297, -40.5069465637207 -2.80222225189209, -40.4727783203125 -2.7958335876464844, -40.320556640625 -2.805555820465088, -40.19111633300781 -2.820000171661377, -39.99875259399414 -2.8465280532836914, -39.86320114135742 -2.919023275375366, -39.83028030395508 -2.9548614025115967, -39.738616943359375 -3.015277862548828, -39.71722412109375 -3.0258336067199707, -39.575279235839844 -3.093611240386963, -39.4748649597168 -3.1555557250976562, -39.380836486816406 -3.1895835399627686, -39.220001220703125 -3.2894444465637207, -39.07222366333008 -3.3827779293060303, -39.02305603027344 -3.386666774749756, -38.99444580078125 -3.3955557346343994, -38.95777893066406 -3.4208335876464844, -38.93028259277344 -3.461667060852051, -38.852500915527344 -3.5427780151367188, -38.661251068115234 -3.6786112785339355, -38.63555908203125 -3.6902780532836914, -38.53014373779297 -3.7208335399627686, -38.49653244018555 -3.7248613834381104, -38.33972930908203 -3.91194486618042, -38.31195068359375 -3.935694694519043, -38.29180908203125 -3.943194627761841, -38.26194763183594 -3.9515280723571777, -38.17750549316406 -4.057222366333008, -38.16395950317383 -4.091389179229736, -38.141395568847656 -4.12166690826416, -38.1087532043457 -4.157917022705078, -38.072227478027344 -4.196805953979492, -38.011375427246094 -4.253239631652832, -37.91889190673828 -4.317778587341309, -37.80555725097656 -4.395000457763672, -37.73194885253906 -4.484723091125488, -37.712223052978516 -4.523125171661377, -37.6451416015625 -4.586945056915283, -37.596256256103516 -4.617500305175781, -37.54903030395508 -4.6394453048706055, -37.475563049316406 -4.641388893127441, -37.42250061035156 -4.657777786254883, -37.344451904296875 -4.690555572509766, -37.323612213134766 -4.700833797454834, -37.28972625732422 -4.72611141204834, -37.27278137207031 -4.7436113357543945, -37.24092102050781 -4.831413269042969, -37.22541809082031 -4.859723091125488, -37.21111297607422 -4.879861831665039, -37.17444610595703 -4.918611526489258, -37.15583801269531 -4.928055763244629, -37.12527847290039 -4.930139064788818, -37.068336486816406 -4.9283342361450195, -36.955562591552734 -4.92791748046875, -36.8770866394043 -4.953680992126465, -36.8175048828125 -5.0144453048706055, -36.804935455322266 -5.0366668701171875, -36.76917266845703 -5.066667556762695, -36.68458557128906 -5.098472595214844, -36.61278533935547 -5.099445343017578, -36.58167266845703 -5.088055610656738, -36.470699310302734 -5.077778339385986, -36.42472839355469 -5.080833435058594, -36.34083557128906 -5.0941667556762695, -36.286529541015625 -5.111111640930176, -36.12375259399414 -5.095833778381348, -36.06889343261719 -5.074167251586914, -36.00444793701172 -5.050833702087402, -35.974308013916016 -5.049167156219482, -35.934722900390625 -5.05222225189209, -35.84972381591797 -5.078888893127441, -35.68611145019531 -5.10805606842041, -35.64167022705078 -5.110834121704102, -35.60444641113281 -5.110834121704102, -35.511390686035156 -5.149861812591553, -35.47972869873047 -5.166111946105957, -35.41444778442383 -5.218472480773926, -35.37319564819336 -5.279028415679932, -35.31555938720703 -5.386667251586914, -35.225563049316406 -5.583611488342285, -35.19354248046875 -5.69812536239624, -35.19569778442383 -5.746528148651123, -35.14556121826172 -5.938889503479004, -35.13180923461914 -5.959444999694824, -35.10083770751953 -6.091667175292969, -35.09278106689453 -6.178889274597168, -35.08778381347656 -6.199167251586914, -35.04138946533203 -6.233889579772949, -34.98027801513672 -6.406389236450195, -34.971946716308594 -6.438889503479004, -34.96722412109375 -6.482500076293945, -34.96635437011719 -6.504082679748535, -34.96111297607422 -6.541111469268799, -34.96403121948242 -6.602778434753418, -34.96528244018555 -6.627917289733887, -34.96055603027344 -6.657500267028809, -34.954444885253906 -6.678611755371094, -34.883056640625 -6.9066667556762695, -34.86805725097656 -6.93861198425293, -34.86396026611328 -6.979613780975342, -34.87555694580078 -7.040000915527344, -34.89952087402344 -7.0688581466674805, -34.89840316772461 -7.097940921783447, -34.90129089355469 -7.1252522468566895, -34.86410140991211 -7.077434062957764, -34.84732437133789 -7.021505832672119, -34.83129119873047 -6.981796741485596, -34.82383346557617 -7.032318592071533, -34.836509704589844 -7.062892436981201, -34.830833435058594 -7.108612060546875, -34.79291915893555 -7.172778129577637, -34.79944610595703 -7.336389541625977, -34.80194854736328 -7.389166831970215, -34.810279846191406 -7.504167556762695, -34.83306121826172 -7.542778015136719, -34.89319610595703 -7.543094635009766, -34.83708953857422 -7.557778358459473, -34.81861114501953 -7.590278625488281, -34.80180740356445 -7.636250019073486, -34.827362060546875 -7.682639122009277, -34.8547248840332 -7.6997222900390625, -34.883056640625 -7.745833396911621, -34.89000701904297 -7.781389236450195, -34.889930725097656 -7.812014102935791, -34.86528015136719 -7.832222938537598, -34.8447265625 -7.8355560302734375, -34.827781677246094 -7.867222785949707, -34.81583786010742 -7.909584045410156, -34.815284729003906 -7.935277938842773, -34.83097839355469 -8.009305953979492, -34.84639358520508 -8.062917709350586, -34.86500549316406 -8.0730562210083, -34.90416717529297 -8.19527816772461, -34.94111633300781 -8.342500686645508, -35.04194641113281 -8.616111755371094, -35.067779541015625 -8.673055648803711, -35.105003356933594 -8.776111602783203, -35.13195037841797 -8.870834350585938, -35.148887634277344 -8.913312911987305, -35.164031982421875 -8.955556869506836, -35.181114196777344 -8.98666763305664, -35.19930648803711 -9.010278701782227, -35.22056198120117 -9.030556678771973, -35.28951644897461 -9.165763854980469, -35.32750701904297 -9.228889465332031, -35.37694549560547 -9.290279388427734, -35.401947021484375 -9.31944465637207, -35.618896484375 -9.555278778076172, -35.67444610595703 -9.610834121704102, -35.79944610595703 -9.68972396850586, -35.84845733642578 -9.78322982788086, -35.87805938720703 -9.840278625488281, -35.90611267089844 -9.882223129272461, -36.043128967285156 -10.073958396911621, -36.12778091430664 -10.152222633361816, -36.16584014892578 -10.176389694213867, -36.22084045410156 -10.219722747802734, -36.25611114501953 -10.256668090820312, -36.28514099121094 -10.295416831970215, -36.320556640625 -10.385557174682617, -36.389862060546875 -10.489167213439941, -36.404823303222656 -10.49879264831543, -36.46305847167969 -10.518890380859375, -36.520835876464844 -10.530279159545898, -36.55750274658203 -10.547224044799805, -36.6572265625 -10.607224464416504, -36.700279235839844 -10.63333511352539, -36.85028076171875 -10.733890533447266, -36.9123649597168 -10.790000915527344, -36.95528030395508 -10.84736156463623, -36.99500274658203 -10.908056259155273, -37.01194763183594 -10.929723739624023, -37.03229522705078 -10.928750991821289, -37.036251068115234 -10.892500877380371, -37.02528381347656 -10.858890533447266, -37.058616638183594 -10.79916763305664, -37.09222412109375 -10.743890762329102, -37.155696868896484 -10.7540283203125, -37.13410186767578 -10.827640533447266, -37.08416748046875 -10.827362060546875, -37.054588317871094 -10.8270845413208, -37.03986740112305 -10.842501640319824, -37.07305908203125 -10.96722412109375, -37.15451431274414 -11.099791526794434, -37.1884765625 -11.07722282409668, -37.19236755371094 -11.056806564331055, -37.21236801147461 -11.035279273986816, -37.2388916015625 -11.026390075683594, -37.27562713623047 -11.025208473205566, -37.26292037963867 -11.068195343017578, -37.225006103515625 -11.098611831665039, -37.190284729003906 -11.107224464416504, -37.20722961425781 -11.219446182250977, -37.26250457763672 -11.2920560836792, -37.27400588989258 -11.31389045715332, -37.311668395996094 -11.386112213134766, -37.322086334228516 -11.420069694519043, -37.37187957763672 -11.429862022399902, -37.39111328125 -11.400835037231445, -37.360145568847656 -11.312222480773926, -37.33416748046875 -11.304166793823242, -37.31391906738281 -11.277000427246094, -37.29783630371094 -11.247334480285645, -37.29014205932617 -11.211251258850098, -37.34236145019531 -11.187500953674316, -37.33611297607422 -11.230278015136719, -37.36458969116211 -11.301806449890137, -37.39527893066406 -11.33388900756836, -37.41222381591797 -11.402778625488281, -37.394100189208984 -11.44777774810791, -37.41097640991211 -11.480834007263184, -37.44917297363281 -11.505001068115234, -37.46778106689453 -11.514446258544922, -37.48790740966797 -11.520227432250977, -37.44667053222656 -11.519166946411133, -37.42333984375 -11.545278549194336, -37.455284118652344 -11.610279083251953, -37.5665283203125 -11.85222339630127, -37.58111572265625 -11.886390686035156, -37.603614807128906 -11.940279006958008, -37.61750030517578 -11.975000381469727, -37.63111114501953 -12.003055572509766, -37.65917205810547 -12.058334350585938, -37.6844482421875 -12.102500915527344, -37.700279235839844 -12.128613471984863, -37.7933349609375 -12.25833511352539, -37.871673583984375 -12.366390228271484, -37.929725646972656 -12.429722785949707, -37.954654693603516 -12.47611141204834, -37.99555969238281 -12.576112747192383, -38.04138946533203 -12.633056640625, -38.31792068481445 -12.937223434448242, -38.35028076171875 -12.960416793823242, -38.47465515136719 -13.016597747802734, -38.53052520751953 -13.016007423400879, -38.51139450073242 -12.926250457763672, -38.4877815246582 -12.9168062210083, -38.47875213623047 -12.847708702087402, -38.50736618041992 -12.726458549499512, -38.54972839355469 -12.725557327270508, -38.60972595214844 -12.721111297607422, -38.62694549560547 -12.710556030273438, -38.64194869995117 -12.68777847290039, -38.654449462890625 -12.628613471984863, -38.69799041748047 -12.581111907958984, -38.72167205810547 -12.618612289428711, -38.748268127441406 -12.722882270812988, -38.75111389160156 -12.76500129699707, -38.783199310302734 -12.819584846496582, -38.818267822265625 -12.843542098999023, -38.85430908203125 -12.825278282165527, -38.875282287597656 -12.756668090820312, -38.88555908203125 -12.71569538116455, -38.878753662109375 -12.69527816772461, -38.859100341796875 -12.687153816223145, -38.861183166503906 -12.6627779006958, -38.90111541748047 -12.705556869506836, -38.91722869873047 -12.743612289428711, -38.89778137207031 -12.785833358764648, -38.857643127441406 -12.849862098693848, -38.827850341796875 -12.86430549621582, -38.80403137207031 -12.85472297668457, -38.730140686035156 -12.871251106262207, -38.75944519042969 -12.985000610351562, -38.78611755371094 -13.020833969116211, -38.83680725097656 -13.05694580078125, -38.85292053222656 -13.171250343322754, -38.93271255493164 -13.231945991516113, -38.955284118652344 -13.273889541625977, -38.963340759277344 -13.293611526489258, -38.96833801269531 -13.32638931274414, -38.95667266845703 -13.380001068115234, -38.968894958496094 -13.373056411743164, -38.99889373779297 -13.360000610351562, -39.0433349609375 -13.3558349609375, -39.057090759277344 -13.380278587341309, -39.080284118652344 -13.538333892822266, -39.05705261230469 -13.49333381652832, -39.009033203125 -13.506250381469727, -38.993614196777344 -13.540279388427734, -39.0080680847168 -13.565958976745605, -39.0040397644043 -13.60488510131836, -38.98457717895508 -13.623677253723145, -38.96347427368164 -13.686112403869629, -38.99945068359375 -13.791112899780273, -39.030006408691406 -13.843334197998047, -39.009727478027344 -13.972223281860352, -38.99500274658203 -14.010833740234375, -38.993309020996094 -14.058347702026367, -39.02861404418945 -14.089167594909668, -39.06542205810547 -14.075278282165527, -39.074588775634766 -14.146112442016602, -39.036529541015625 -14.17500114440918, -38.959312438964844 -14.067639350891113, -38.95667266845703 -14.045001029968262, -38.96916961669922 -13.985279083251953, -38.97639465332031 -13.954444885253906, -38.9891357421875 -13.929479598999023, -38.93653106689453 -13.89159870147705, -38.92070007324219 -13.925139427185059, -38.92472839355469 -14.0352783203125, -38.95220184326172 -14.113680839538574, -38.98625183105469 -14.198473930358887, -38.991111755371094 -14.24444580078125, -39.00139617919922 -14.338611602783203, -39.03388977050781 -14.537778854370117, -39.060142517089844 -14.626251220703125, -39.06666946411133 -14.650418281555176, -39.06333923339844 -14.714445114135742, -39.05375289916992 -14.804445266723633, -39.040000915527344 -14.821667671203613, -39.00361633300781 -14.981805801391602, -39.00250244140625 -15.044723510742188, -38.99139404296875 -15.264167785644531, -38.95195007324219 -15.546112060546875, -38.93556213378906 -15.662223815917969, -38.910560607910156 -15.743890762329102, -38.88667297363281 -15.795278549194336, -38.8719482421875 -15.874168395996094, -38.94416809082031 -16.07917022705078, -39.013893127441406 -16.286945343017578, -39.046669006347656 -16.421669006347656, -39.06444549560547 -16.498611450195312, -39.07722473144531 -16.5625, -39.081390380859375 -16.607501983642578, -39.084449768066406 -16.632225036621094, -39.100555419921875 -16.697988510131836, -39.117919921875 -16.72791862487793, -39.130836486816406 -16.76055908203125, -39.134727478027344 -16.788196563720703, -39.13611602783203 -16.85028076171875, -39.12986755371094 -16.871530532836914, -39.14111328125 -16.936946868896484, -39.16944885253906 -17.041667938232422, -39.198753356933594 -17.13250160217285, -39.20903015136719 -17.166114807128906, -39.213340759277344 -17.25222396850586, -39.21472930908203 -17.309722900390625, -39.21055603027344 -17.37944793701172, -39.19445037841797 -17.54528045654297, -39.1895866394043 -17.58152961730957, -39.18305969238281 -17.605974197387695, -39.1612548828125 -17.643892288208008, -39.13819885253906 -17.666946411132812, -39.132225036621094 -17.686321258544922, -39.27555847167969 -17.86916732788086, -39.29778289794922 -17.882362365722656, -39.32805633544922 -17.895000457763672, -39.39167022705078 -17.9102783203125, -39.4243049621582 -17.925418853759766, -39.45166778564453 -17.949722290039062, -39.504722595214844 -18.016944885253906, -39.6259765625 -18.18791961669922, -39.64625549316406 -18.231252670288086, -39.65861511230469 -18.278614044189453, -39.66893005371094 -18.325603485107422, -39.684722900390625 -18.365558624267578, -39.713199615478516 -18.460697174072266, -39.72819900512695 -18.530141830444336, -39.744728088378906 -18.673614501953125, -39.74806213378906 -18.705280303955078, -39.7469482421875 -18.7933349609375, -39.74028015136719 -18.92388916015625, -39.7308349609375 -19.024444580078125, -39.72333526611328 -19.07917022705078, -39.71666717529297 -19.106945037841797, -39.70347595214844 -19.201251983642578, -39.69416809082031 -19.29888916015625, -39.69445037841797 -19.319446563720703, -39.69917297363281 -19.39305877685547, -39.70403289794922 -19.423612594604492, -39.71417236328125 -19.449169158935547, -39.787506103515625 -19.603614807128906, -39.809932708740234 -19.64201545715332, -39.87361145019531 -19.673336029052734, -39.89680862426758 -19.682363510131836, -39.93500518798828 -19.69805908203125, -39.98583984375 -19.726390838623047, -40.00667190551758 -19.741390228271484, -40.0211181640625 -19.762779235839844, -40.12805938720703 -19.964725494384766, -40.14527893066406 -20.025558471679688, -40.167503356933594 -20.118335723876953, -40.19083786010742 -20.194583892822266, -40.24055862426758 -20.2838191986084, -40.29319763183594 -20.242536544799805, -40.34972381591797 -20.234725952148438, -40.364723205566406 -20.284446716308594, -40.36833953857422 -20.31187629699707, -40.331809997558594 -20.325002670288086, -40.2822265625 -20.343612670898438, -40.33555603027344 -20.468612670898438, -40.345001220703125 -20.487781524658203, -40.40611267089844 -20.599445343017578, -40.417503356933594 -20.616668701171875, -40.62715530395508 -20.8311824798584, -40.6427116394043 -20.81444549560547, -40.74083709716797 -20.84166717529297, -40.761878967285156 -20.85465431213379, -40.81312561035156 -20.92819595336914, -40.821533203125 -20.969654083251953, -40.81708526611328 -21.011945724487305, -40.83222961425781 -21.05750274658203, -40.84382247924805 -21.08708381652832, -40.86500549316406 -21.118196487426758, -40.89000701904297 -21.143333435058594, -40.93333435058594 -21.192501068115234, -40.945556640625 -21.20888900756836, -40.96055603027344 -21.235836029052734, -40.96653366088867 -21.25833511352539, -40.964332580566406 -21.276565551757812, -40.961116790771484 -21.283613204956055, -40.96923828125 -21.352571487426758, -41.01472473144531 -21.427501678466797, -41.02916717529297 -21.448890686035156, -41.0433349609375 -21.57666778564453, -41.01805877685547 -21.675556182861328, -40.9668083190918 -21.957918167114258, -40.97014236450195 -21.982501983642578, -40.98722839355469 -22.00861358642578, -41.00194549560547 -22.023056030273438, -41.02027893066406 -22.033889770507812, -41.199310302734375 -22.127779006958008, -41.23389434814453 -22.14055633544922, -41.27861785888672 -22.15416717529297, -41.3013916015625 -22.16055679321289, -41.343055725097656 -22.170001983642578, -41.40028381347656 -22.186111450195312, -41.5211181640625 -22.224166870117188, -41.543060302734375 -22.23111343383789, -41.58167266845703 -22.243614196777344, -41.60778045654297 -22.253890991210938, -41.671112060546875 -22.285003662109375, -41.698890686035156 -22.30111312866211, -41.7630615234375 -22.346111297607422, -41.84972381591797 -22.43777847290039, -41.96604537963867 -22.534515380859375, -41.98743438720703 -22.565696716308594, -41.99555969238281 -22.624168395996094, -41.994728088378906 -22.664169311523438, -41.990142822265625 -22.70569610595703, -41.97513961791992 -22.73514175415039, -41.98750305175781 -22.831111907958984, -42.034446716308594 -22.919170379638672, -42.150840759277344 -22.949722290039062, -42.42945098876953 -22.941112518310547, -42.548614501953125 -22.93944549560547, -42.570281982421875 -22.93944549560547, -42.62639236450195 -22.944169998168945, -42.65986633300781 -22.950695037841797, -42.680145263671875 -22.960002899169922, -42.94111251831055 -22.9808349609375, -43.09416961669922 -22.95333480834961, -43.12541961669922 -22.931041717529297, -43.12944793701172 -22.89055633544922, -43.091670989990234 -22.82805824279785, -43.06361389160156 -22.802780151367188, -43.02653121948242 -22.743196487426758, -43.02056121826172 -22.716392517089844, -43.02611541748047 -22.679306030273438, -43.075836181640625 -22.6683349609375, -43.254310607910156 -22.73659896850586, -43.27125549316406 -22.77764129638672, -43.26222229003906 -22.80666732788086, -43.251670837402344 -22.824861526489258, -43.22951889038086 -22.83562660217285, -43.163333892822266 -22.894447326660156, -43.14743423461914 -22.951807022094727, -43.185142517089844 -22.98278045654297, -43.22722625732422 -22.99903106689453, -43.289451599121094 -23.013057708740234, -43.3336181640625 -23.01000213623047, -43.390281677246094 -23.011112213134766, -43.63972473144531 -23.046112060546875, -43.90555953979492 -23.074445724487305, -43.94445037841797 -23.082778930664062, -43.976951599121094 -23.09416961669922, -43.9969482421875 -23.103057861328125, -44.005279541015625 -23.099863052368164, -44.00639343261719 -23.077503204345703, -44.00111389160156 -23.057086944580078, -43.977088928222656 -23.040903091430664, -43.89472961425781 -23.05083465576172, -43.81611633300781 -23.054168701171875, -43.7933349609375 -23.05500030517578, -43.77278137207031 -23.053890228271484, -43.7047233581543 -23.045419692993164, -43.606807708740234 -23.018888473510742, -43.768890380859375 -22.92667007446289, -43.8587532043457 -22.896806716918945, -44.038612365722656 -22.936946868896484, -44.07569885253906 -22.98680877685547, -44.09222412109375 -23.006807327270508, -44.12583923339844 -23.032085418701172, -44.19194793701172 -23.05111312866211, -44.2367057800293 -23.04829978942871, -44.32305908203125 -22.920698165893555, -44.35375213623047 -22.92041778564453, -44.411529541015625 -22.945280075073242, -44.43035125732422 -22.963335037231445, -44.47333526611328 -23.008056640625, -44.53361511230469 -23.02777862548828, -44.602779388427734 -23.040555953979492, -44.64556121826172 -23.0433349609375, -44.67521286010742 -23.055696487426758, -44.69694519042969 -23.109447479248047, -44.714866638183594 -23.20041847229004, -44.70930862426758 -23.22222328186035, -44.64305877685547 -23.228614807128906, -44.56909942626953 -23.230070114135742, -44.50076675415039 -23.28958511352539, -44.57430648803711 -23.353683471679688, -44.600833892822266 -23.35638999938965, -44.634727478027344 -23.34333610534668, -44.71757125854492 -23.346668243408203, -44.72564697265625 -23.35327911376953, -44.729793548583984 -23.3648624420166, -44.838199615478516 -23.38972282409668, -44.851322174072266 -23.372501373291016, -44.90645980834961 -23.341251373291016, -44.94389343261719 -23.362224578857422, -45.00139617919922 -23.40666961669922, -45.028892517089844 -23.44527816772461, -45.011390686035156 -23.458242416381836, -45.06000518798828 -23.496112823486328, -45.09222412109375 -23.51055908203125, -45.266395568847656 -23.587501525878906, -45.41083526611328 -23.628890991210938, -45.428890228271484 -23.655071258544922, -45.42660140991211 -23.711389541625977, -45.40277862548828 -23.75444793701172, -45.39472579956055 -23.80312728881836, -45.41548538208008 -23.82805633544922, -45.5050048828125 -23.84333610534668, -45.530975341796875 -23.826391220092773, -45.54972839355469 -23.805557250976562, -45.635284423828125 -23.788333892822266, -45.66638946533203 -23.783058166503906, -45.83500671386719 -23.75889015197754, -45.89000701904297 -23.767780303955078, -45.91917037963867 -23.774723052978516, -45.9748649597168 -23.787641525268555, -46.085838317871094 -23.83611297607422, -46.12944793701172 -23.858333587646484, -46.22694778442383 -23.919099807739258, -46.1863899230957 -23.916528701782227, -46.15055847167969 -23.878820419311523, -46.11771011352539 -23.865903854370117, -46.16584014892578 -23.960281372070312, -46.195556640625 -23.992225646972656, -46.27972412109375 -24.025835037231445, -46.311668395996094 -24.018890380859375, -46.300209045410156 -24.000904083251953, -46.27479553222656 -23.991043090820312, -46.282615661621094 -23.962112426757812, -46.30548858642578 -23.919099807739258, -46.38042068481445 -23.868751525878906, -46.433616638183594 -23.941251754760742, -46.41680908203125 -23.98569679260254, -46.43611145019531 -24.02138900756836, -46.477783203125 -24.03778076171875, -46.591949462890625 -24.09222412109375, -46.82305908203125 -24.211669921875, -46.841949462890625 -24.221668243408203, -46.90167236328125 -24.256946563720703, -46.92444610595703 -24.270835876464844, -46.950836181640625 -24.28805923461914, -46.97222900390625 -24.303611755371094, -46.985347747802734 -24.3190975189209, -47.005489349365234 -24.386945724487305, -47.21472930908203 -24.56305694580078, -47.3175048828125 -24.622222900390625, -47.42278289794922 -24.677501678466797, -47.48445129394531 -24.694446563720703, -47.545562744140625 -24.708614349365234, -47.59667205810547 -24.738056182861328, -47.71666717529297 -24.82278060913086, -47.798057556152344 -24.873336791992188, -47.833892822265625 -24.896114349365234, -47.983062744140625 -25.01028060913086, -48.02611541748047 -25.015003204345703, -48.05410385131836 -25.051355361938477, -47.996673583984375 -25.07666778564453, -47.954586029052734 -25.08007049560547, -47.9204216003418 -25.06528091430664, -47.89486312866211 -25.05902862548828, -47.89500427246094 -25.103614807128906, -47.914306640625 -25.152362823486328, -47.93500518798828 -25.18000030517578, -47.9525032043457 -25.199445724487305, -47.98451614379883 -25.2177791595459, -48.01972579956055 -25.229446411132812, -48.04389190673828 -25.255279541015625, -48.06361389160156 -25.278335571289062, -48.07486343383789 -25.29555892944336, -48.08270263671875 -25.31491470336914, -48.16903305053711 -25.37375259399414, -48.18500518798828 -25.393333435058594, -48.19861602783203 -25.42583656311035, -48.20819854736328 -25.460140228271484, -48.243404388427734 -25.453126907348633, -48.24653244018555 -25.42028045654297, -48.22639465332031 -25.34027862548828, -48.208614349365234 -25.325557708740234, -48.169586181640625 -25.303821563720703, -48.134056091308594 -25.284730911254883, -48.22416687011719 -25.3013916015625, -48.281394958496094 -25.330001831054688, -48.33722686767578 -25.32833480834961, -48.35889434814453 -25.305835723876953, -48.39500427246094 -25.296112060546875, -48.429725646972656 -25.317779541015625, -48.44111633300781 -25.34972381591797, -48.44750213623047 -25.37166976928711, -48.43611145019531 -25.388614654541016, -48.41437530517578 -25.418127059936523, -48.461395263671875 -25.473892211914062, -48.48069763183594 -25.480140686035156, -48.56639099121094 -25.46527862548828, -48.63945007324219 -25.449169158935547, -48.68979263305664 -25.417850494384766, -48.71861267089844 -25.424724578857422, -48.73027801513672 -25.477222442626953, -48.70847702026367 -25.49847412109375, -48.644447326660156 -25.524169921875, -48.605560302734375 -25.53083610534668, -48.562225341796875 -25.525279998779297, -48.51569747924805 -25.516807556152344, -48.379310607910156 -25.551668167114258, -48.36180877685547 -25.579444885253906, -48.37778091430664 -25.594099044799805, -48.42403030395508 -25.6188907623291, -48.450836181640625 -25.65250015258789, -48.492225646972656 -25.71916961669922, -48.52278137207031 -25.78028106689453, -48.601951599121094 -25.825000762939453, -48.75708770751953 -25.85778045654297, -48.7701416015625 -25.884098052978516, -48.64167022705078 -25.881946563720703, -48.58111572265625 -25.872222900390625, -48.57167053222656 -25.941112518310547, -48.5841064453125 -25.981201171875, -48.608612060546875 -26.03778076171875, -48.609031677246094 -26.057918548583984, -48.586669921875 -26.13041877746582, -48.57666778564453 -26.153335571289062, -48.5810432434082 -26.175695419311523, -48.65222930908203 -26.226112365722656, -48.67680740356445 -26.24152946472168, -48.698890686035156 -26.240140914916992, -48.739654541015625 -26.213613510131836, -48.745697021484375 -26.177640914916992, -48.771392822265625 -26.103614807128906, -48.79187774658203 -26.067569732666016, -48.7933349609375 -26.132225036621094, -48.75556182861328 -26.289447784423828, -48.64583969116211 -26.38500213623047, -48.60972595214844 -26.439653396606445, -48.61625289916992 -26.468891143798828, -48.63750457763672 -26.501113891601562, -48.67444610595703 -26.571807861328125, -48.681312561035156 -26.60065460205078, -48.6844482421875 -26.673057556152344, -48.684722900390625 -26.705280303955078, -48.67854309082031 -26.730209350585938, -48.62986373901367 -26.77222442626953, -48.62944793701172 -26.876392364501953, -48.613059997558594 -27.108890533447266, -48.59307098388672 -27.14061164855957, -48.565269470214844 -27.15188980102539, -48.5434455871582 -27.139265060424805, -48.51597213745117 -27.122570037841797, -48.49333572387695 -27.163890838623047, -48.4869499206543 -27.21347427368164, -48.516807556152344 -27.21706771850586, -48.54458236694336 -27.200958251953125, -48.62055969238281 -27.237085342407227, -48.64250183105469 -27.456947326660156, -48.605838775634766 -27.60500144958496, -48.642086029052734 -27.647640228271484, -48.6219482421875 -27.757503509521484, -48.590003967285156 -27.808197021484375, -48.576114654541016 -27.82680892944336, -48.56389617919922 -27.864444732666016, -48.619171142578125 -27.997779846191406, -48.62889099121094 -28.086669921875, -48.652503967285156 -28.22555923461914, -48.76180648803711 -28.49069595336914, -48.783546447753906 -28.485071182250977, -48.80684280395508 -28.442119598388672, -48.79361343383789 -28.387014389038086, -48.852779388427734 -28.32027816772461, -48.86937713623047 -28.339237213134766, -48.868896484375 -28.427223205566406, -48.85791778564453 -28.47708511352539, -48.78354263305664 -28.524099349975586, -48.842506408691406 -28.617778778076172, -48.91694641113281 -28.641944885253906, -48.947296142578125 -28.65472412109375, -49.18944549560547 -28.810836791992188, -49.211669921875 -28.82638931274414, -49.39139175415039 -28.970558166503906, -49.450279235839844 -29.026668548583984, -49.63195037841797 -29.220558166503906, -49.65917205810547 -29.26555633544922, -49.689170837402344 -29.308334350585938, -49.70238494873047 -29.32468032836914, -49.75250244140625 -29.36972427368164, -49.79208755493164 -29.421669006347656, -49.902503967285156 -29.58444595336914, -49.94667053222656 -29.655834197998047, -50.04217529296875 -29.81589126586914, -50.05848693847656 -29.8468017578125, -50.082679748535156 -29.898439407348633, -50.17250061035156 -30.125, -50.22528076171875 -30.265277862548828, -50.23139190673828 -30.28805923461914, -50.23833465576172 -30.309722900390625, -50.25861358642578 -30.358196258544922, -50.2711181640625 -30.38555908203125, -50.31139373779297 -30.461669921875, -50.37055969238281 -30.555835723876953, -50.421810150146484 -30.625696182250977, -50.47666931152344 -30.699447631835938, -50.6361198425293 -30.918638229370117, -50.65139389038086 -30.94666862487793, -50.675697326660156 -30.99180793762207, -50.71527862548828 -31.04138946533203, -50.74945068359375 -31.081111907958984, -50.847503662109375 -31.186946868896484, -50.91638946533203 -31.258892059326172, -51.04138946533203 -31.386390686035156, -51.06389617919922 -31.408336639404297, -51.13361358642578 -31.465835571289062, -51.233062744140625 -31.545833587646484, -51.4808349609375 -31.735000610351562, -51.6138916015625 -31.80750274658203, -51.63555908203125 -31.816390991210938, -51.67903137207031 -31.831945419311523, -51.83708953857422 -31.914167404174805, -51.87139129638672 -31.936389923095703, -51.90388870239258 -31.963890075683594, -51.94194793701172 -32.01472473144531, -51.97389221191406 -32.057228088378906, -52.06965637207031 -32.17194747924805, -52.08097457885742 -32.14805603027344, -52.0663948059082 -32.109031677246094, -52.04806137084961 -32.082923889160156, -52.03986358642578 -32.06195068359375, -52.01757049560547 -31.9429874420166, -52.051673889160156 -31.89694595336914, -52.0755615234375 -31.868892669677734, -52.093753814697266 -31.849308013916016, -52.08674240112305 -31.826805114746094, -52.05291748046875 -31.814584732055664, -52.02722930908203 -31.817501068115234, -51.99229431152344 -31.82638931274414, -51.962501525878906 -31.83930778503418, -51.94278335571289 -31.85694694519043, -51.92680740356445 -31.870834350585938, -51.8972282409668 -31.87930679321289, -51.86125564575195 -31.87291717529297, -51.69611358642578 -31.796112060546875, -51.6602783203125 -31.77166748046875, -51.64361572265625 -31.75861358642578, -51.534446716308594 -31.637222290039062, -51.460838317871094 -31.555278778076172, -51.41320037841797 -31.517709732055664, -51.38417053222656 -31.528059005737305, -51.34847640991211 -31.526113510131836, -51.31889343261719 -31.517778396606445, -51.268890380859375 -31.484447479248047, -51.25139617919922 -31.471668243408203, -51.23278045654297 -31.45305633544922, -51.19215393066406 -31.401458740234375, -51.168060302734375 -31.320556640625, -51.156532287597656 -31.26930809020996, -51.15888977050781 -31.20389175415039, -51.16139221191406 -31.18222427368164, -51.17145919799805 -31.153682708740234, -51.15896224975586 -31.077848434448242, -51.05805969238281 -31.073890686035156, -51.0109748840332 -31.090557098388672, -50.99357986450195 -31.13628578186035, -50.97084045410156 -31.122222900390625, -50.98930740356445 -31.045001983642578, -50.956947326660156 -30.930557250976562, -50.9263916015625 -30.899169921875, -50.87306213378906 -30.87694549560547, -50.7712516784668 -30.824447631835938, -50.75083923339844 -30.811111450195312, -50.72819900512695 -30.79104232788086, -50.703617095947266 -30.75139045715332, -50.69416809082031 -30.721389770507812, -50.676673889160156 -30.631389617919922, -50.67333984375 -30.599166870117188, -50.68695068359375 -30.472503662109375, -50.651390075683594 -30.43486213684082, -50.618896484375 -30.479446411132812, -50.59535217285156 -30.480972290039062, -50.56809997558594 -30.457550048828125, -50.5433349609375 -30.35055923461914, -50.53722381591797 -30.30666732788086, -50.537506103515625 -30.286666870117188, -50.54403305053711 -30.261945724487305, -50.605003356933594 -30.194028854370117, -50.62750244140625 -30.186250686645508, -50.64785385131836 -30.19236183166504, -50.66493225097656 -30.230764389038086, -50.65409851074219 -30.252500534057617, -50.66291809082031 -30.284515380859375, -50.68541717529297 -30.29562759399414, -50.781951904296875 -30.294445037841797, -50.910560607910156 -30.3165283203125, -50.92326736450195 -30.334932327270508, -50.93222427368164 -30.406112670898438, -50.966392517089844 -30.408889770507812, -51.01805877685547 -30.384445190429688, -51.02166748046875 -30.32027816772461, -51.01190948486328 -30.289411544799805, -51.064449310302734 -30.240140914916992, -51.10944747924805 -30.24854278564453, -51.13118362426758 -30.25812530517578, -51.16972351074219 -30.23139190673828, -51.21666717529297 -30.161392211914062, -51.24174118041992 -30.080764770507812, -51.234031677246094 -30.049030303955078, -51.27503967285156 -30.010557174682617, -51.3145866394043 -30.161392211914062, -51.28632354736328 -30.28660011291504, -51.20625686645508 -30.40389060974121, -51.24278259277344 -30.448612213134766, -51.2690315246582 -30.509307861328125, -51.28972625732422 -30.590002059936523, -51.286163330078125 -30.64990997314453, -51.265838623046875 -30.75777816772461, -51.267784118652344 -30.780834197998047, -51.27729415893555 -30.7999324798584, -51.308265686035156 -30.779932022094727, -51.2913932800293 -30.766597747802734, -51.2933349609375 -30.726947784423828, -51.32321548461914 -30.65618896484375, -51.35222625732422 -30.634723663330078, -51.376949310302734 -30.651111602783203, -51.3859748840332 -30.671112060546875, -51.387779235839844 -30.7469482421875, -51.462223052978516 -30.896738052368164, -51.478614807128906 -30.928058624267578, -51.48472595214844 -30.958057403564453, -51.48472595214844 -30.978057861328125, -51.4818115234375 -31.03236198425293, -51.46778106689453 -31.06097412109375, -51.513336181640625 -31.099445343017578, -51.57194519042969 -31.123889923095703, -51.616458892822266 -31.13479232788086, -51.64000701904297 -31.16861343383789, -51.64805603027344 -31.18972396850586, -51.655696868896484 -31.2218074798584, -51.91819763183594 -31.30805778503418, -51.96375274658203 -31.337364196777344, -51.99139404296875 -31.398334503173828, -51.997920989990234 -31.424585342407227, -52.004722595214844 -31.54916763305664, -52.042640686035156 -31.635000228881836, -52.066810607910156 -31.673751831054688, -52.08680725097656 -31.688196182250977, -52.12445068359375 -31.700000762939453, -52.15888977050781 -31.71111297607422, -52.19694900512695 -31.726530075073242, -52.2176399230957 -31.74500274658203, -52.22472381591797 -31.841114044189453, -52.19389343261719 -31.886947631835938, -52.17833709716797 -31.94264030456543, -52.23875427246094 -31.973196029663086, -52.254722595214844 -32.05528259277344, -52.22718811035156 -32.08830261230469, -52.183616638183594 -32.08055877685547, -52.122779846191406 -32.103057861328125, -52.10083770751953 -32.11500549316406, -52.09076690673828 -32.16437911987305, -52.15416717529297 -32.20166778564453, -52.22757339477539 -32.25465393066406, -52.2550048828125 -32.288612365722656, -52.26861572265625 -32.312225341796875, -52.37590408325195 -32.500282287597656, -52.4263916015625 -32.651947021484375, -52.44194793701172 -32.70222473144531, -52.447364807128906 -32.72972869873047, -52.45555877685547 -32.76167297363281, -52.49945068359375 -32.872779846191406, -52.518890380859375 -32.91278076171875, -52.62861633300781 -33.11528015136719, -52.63986587524414 -33.13375473022461, -52.736114501953125 -33.2509765625, -52.91139221191406 -33.39556121826172, -52.950279235839844 -33.42583465576172, -53.146949768066406 -33.57750701904297, -53.21611785888672 -33.64055633544922, -53.23542022705078 -33.655418395996094, -53.268890380859375 -33.679168701171875, -53.31056213378906 -33.7065315246582, -53.374298095703125 -33.74066925048828, -53.397640228271484 -33.74111557006836, -53.52132034301758 -33.681739807128906, -53.534446716308594 -33.656951904296875, -53.528892517089844 -33.611114501953125, -53.52305603027344 -33.57417297363281, -53.513893127441406 -33.52472686767578, -53.508338928222656 -33.48638916015625, -53.5050048828125 -33.46028137207031, -53.50139617919922 -33.428062438964844, -53.50111389160156 -33.408058166503906, -53.50917053222656 -33.32139587402344, -53.51569747924805 -33.29042053222656, -53.52222442626953 -33.25944519042969, -53.52861785888672 -33.22111511230469, -53.53028106689453 -33.19944763183594, -53.52458572387695 -33.15708541870117, -53.52104568481445 -33.1416130065918, -53.515838623046875 -33.129310607910156, -53.500282287597656 -33.10000228881836, -53.48041915893555 -33.07486343383789, -53.46222686767578 -33.059173583984375, -53.43556213378906 -33.040283203125, -53.298614501953125 -32.94667053222656, -53.24555969238281 -32.86222839355469, -53.17079544067383 -32.802181243896484, -53.09830093383789 -32.72343826293945, -53.15917205810547 -32.66111755371094, -53.19166946411133 -32.634029388427734, -53.26000213623047 -32.60083770751953, -53.34972381591797 -32.57917022705078, -53.378196716308594 -32.57430648803711, -53.404170989990234 -32.568058013916016, -53.5211181640625 -32.474449157714844, -53.53722381591797 -32.460838317871094, -53.55333709716797 -32.44611358642578, -53.5675048828125 -32.431114196777344, -53.63076400756836 -32.35799026489258, -53.64361572265625 -32.305625915527344, -53.63722610473633 -32.271392822265625, -53.66472625732422 -32.206947326660156, -53.74305725097656 -32.09667205810547, -53.87541580200195 -31.97444725036621, -53.91854476928711 -31.942153930664062, -54.07132339477539 -31.875696182250977, -54.09584045410156 -31.884166717529297, -54.164451599121094 -31.887222290039062, -54.28583526611328 -31.804447174072266, -54.351112365722656 -31.750141143798828, -54.38319778442383 -31.715696334838867, -54.415000915527344 -31.69361114501953, -54.441673278808594 -31.68166732788086, -54.463401794433594 -31.672611236572266, -54.472225189208984 -31.579792022705078, -54.59410095214844 -31.460905075073242, -54.70500564575195 -31.440139770507812, -54.72834014892578 -31.438613891601562, -54.763057708740234 -31.441112518310547, -54.80708694458008 -31.43569564819336, -54.83403396606445 -31.426668167114258, -54.86583709716797 -31.409725189208984, -54.913612365722656 -31.374446868896484, -54.9425048828125 -31.350833892822266, -54.976951599121094 -31.318889617919922, -55.06312942504883 -31.325279235839844, -55.08958435058594 -31.325695037841797, -55.22875213623047 -31.249725341796875, -55.24736404418945 -31.231252670288086, -55.3302116394043 -31.07840347290039, -55.3506965637207 -31.045696258544922, -55.421669006347656 -30.963058471679688, -55.5211181640625 -30.88888931274414, -55.584171295166016 -30.84625244140625, -55.6290283203125 -30.850418090820312, -55.64042282104492 -30.870697021484375, -55.67195129394531 -30.949447631835938, -55.75944519042969 -31.016944885253906, -55.83791732788086 -31.072778701782227, -55.89055633544922 -31.080001831054688, -55.910560607910156 -31.082225799560547, -55.986671447753906 -31.081668853759766, -56.0089225769043 -31.07979393005371, -56.01222229003906 -31.066390991210938, -56.00666809082031 -30.963611602783203, -56.00222396850586 -30.921876907348633, -55.98500442504883 -30.890697479248047, -55.976810455322266 -30.851041793823242, -55.989723205566406 -30.81277847290039, -56.001670837402344 -30.795833587646484, -56.11639404296875 -30.67583465576172, -56.23583984375 -30.558334350585938, -56.266944885253906 -30.53583526611328, -56.315284729003906 -30.50833511352539, -56.38750457763672 -30.460002899169922, -56.51111602783203 -30.358890533447266, -56.526947021484375 -30.345836639404297, -56.548057556152344 -30.32305908203125, -56.567779541015625 -30.29916763305664, -56.6391716003418 -30.228473663330078, -56.790283203125 -30.115558624267578, -56.81139373779297 -30.10527801513672, -56.860557556152344 -30.096668243408203, -56.933616638183594 -30.097503662109375, -57.07097625732422 -30.108890533447266, -57.1038932800293 -30.135417938232422, -57.14417266845703 -30.185001373291016, -57.14708709716797 -30.208057403564453, -57.147918701171875 -30.238197326660156, -57.1936149597168 -30.28264045715332, -57.21389389038086 -30.292085647583008, -57.23389434814453 -30.2933349609375, -57.2852783203125 -30.2933349609375, -57.30375289916992 -30.275419235229492, -57.322227478027344 -30.26666831970215, -57.35639190673828 -30.27222442626953, -57.49542236328125 -30.279863357543945, -57.524864196777344 -30.274585723876953, -57.54736328125 -30.266389846801758, -57.56660079956055 -30.247432708740234, -57.564308166503906 -30.21514129638672, -57.57680892944336 -30.197084426879883, -57.608001708984375 -30.184925079345703, -57.58250427246094 -30.180835723876953, -57.55389404296875 -30.172779083251953, -57.53361511230469 -30.163333892822266, -57.4869499206543 -30.132225036621094, -57.34452438354492 -30, -57.32549285888672 -29.978273391723633, -57.318931579589844 -29.91083526611328, -57.31868362426758 -29.87527847290039, -57.29742431640625 -29.825834274291992, -57.27991485595703 -29.805696487426758, -57.257503509521484 -29.791391372680664, -57.227783203125 -29.780555725097656, -57.194725036621094 -29.77750015258789, -57.14472579956055 -29.77652931213379, -57.10388946533203 -29.762155532836914, -57.07625198364258 -29.737918853759766, -57.045005798339844 -29.706111907958984, -56.913063049316406 -29.55889129638672, -56.81333923339844 -29.46722412109375, -56.69583511352539 -29.343265533447266, -56.65521240234375 -29.26326560974121, -56.65486526489258 -29.2308349609375, -56.64417266845703 -29.20069694519043, -56.625 -29.17444610595703, -56.592227935791016 -29.140695571899414, -56.57167053222656 -29.124725341796875, -56.53417205810547 -29.103336334228516, -56.51500701904297 -29.09278106689453, -56.42739486694336 -29.069570541381836, -56.413063049316406 -29.046390533447266, -56.301673889160156 -28.831947326660156, -56.2954216003418 -28.79743194580078, -56.27556228637695 -28.776668548583984, -56.170005798339844 -28.728336334228516, -56.06611633300781 -28.626113891601562, -56.01111602783203 -28.561111450195312, -55.97888946533203 -28.48833465576172, -55.893062591552734 -28.36972427368164, -55.86979293823242 -28.356321334838867, -55.83306121826172 -28.353057861328125, -55.73291778564453 -28.363195419311523, -55.72062683105469 -28.38763999938965, -55.697540283203125 -28.4077091217041, -55.667640686035156 -28.33562660217285, -55.68083572387695 -28.302431106567383, -55.71778106689453 -28.280834197998047, -55.76750564575195 -28.256250381469727, -55.77027893066406 -28.235626220703125, -55.74833679199219 -28.217084884643555, -55.709449768066406 -28.208614349365234, -55.678611755371094 -28.195556640625, -55.63389205932617 -28.15882110595703, -55.62629699707031 -28.141021728515625, -55.58222961425781 -28.133056640625, -55.447784423828125 -28.086669921875, -55.380279541015625 -28.025835037231445, -55.37958526611328 -27.99347496032715, -55.374168395996094 -27.973613739013672, -55.32125473022461 -27.92208480834961, -55.179725646972656 -27.856250762939453, -55.06375503540039 -27.8456974029541, -55.02166748046875 -27.83388900756836, -54.90819549560547 -27.73027992248535, -54.90167236328125 -27.71111297607422, -54.89861297607422 -27.67028045654297, -54.81361389160156 -27.53555679321289, -54.792503356933594 -27.533058166503906, -54.789520263671875 -27.553890228271484, -54.7712516784668 -27.565139770507812, -54.68611526489258 -27.555280685424805, -54.62694549560547 -27.530834197998047, -54.52972412109375 -27.49083709716797, -54.450836181640625 -27.46916961669922, -54.358062744140625 -27.456947326660156, -54.28028106689453 -27.424514770507812, -54.234169006347656 -27.381389617919922, -54.14555740356445 -27.290002822875977, -54.11375427246094 -27.290836334228516, -54.091949462890625 -27.283336639404297, -54.070838928222656 -27.26805877685547, -54.048614501953125 -27.25027847290039, -54.026390075683594 -27.225000381469727, -54.00584030151367 -27.191112518310547, -53.89972686767578 -27.15528106689453, -53.85778045654297 -27.149169921875, -53.83875274658203 -27.171119689941406, -53.80778503417969 -27.129169464111328, -53.74555969238281 -27.00278091430664, -53.734169006347656 -26.978057861328125, -53.705284118652344 -26.911666870117188, -53.69861602783203 -26.882919311523438, -53.71708679199219 -26.782642364501953, -53.73583984375 -26.69583511352539, -53.72583770751953 -26.65666961669922, -53.709449768066406 -26.511112213134766, -53.71173858642578 -26.364099502563477, -53.690975189208984 -26.334863662719727, -53.66889190673828 -26.310001373291016, -53.653892517089844 -26.277502059936523, -53.65028381347656 -26.263057708740234, -53.65000534057617 -26.250001907348633, -53.654170989990234 -26.217639923095703, -53.664306640625 -26.193334579467773, -53.738616943359375 -26.087779998779297, -53.82687759399414 -25.95138931274414, -53.83472442626953 -25.881389617919922, -53.8256950378418 -25.822778701782227, -53.825279235839844 -25.8013916015625, -53.86166763305664 -25.685279846191406, -53.888614654541016 -25.633752822875977, -54.107574462890625 -25.49639129638672, -54.15611267089844 -25.53555679321289, -54.17750549316406 -25.561946868896484, -54.278682708740234 -25.552743911743164, -54.31333923339844 -25.555278778076172, -54.384033203125 -25.58069610595703, -54.45250701904297 -25.633056640625, -54.468894958496094 -25.620555877685547, -54.546390533447266 -25.570280075073242, -54.598915100097656 -25.573223114013672, -54.598915100097656 -25.510456085205078, -54.616458892822266 -25.445695877075195, -54.574310302734375 -25.354446411132812, -54.54958724975586 -25.332223892211914, -54.52444839477539 -25.303197860717773, -54.505699157714844 -25.280418395996094, -54.42750549316406 -25.153057098388672, -54.423545837402344 -25.133127212524414, -54.45541763305664 -25.089723587036133, -54.45833969116211 -25.0665283203125, -54.453617095947266 -25.017223358154297, -54.408058166503906 -24.838890075683594, -54.396392822265625 -24.804447174072266, -54.33055877685547 -24.6794490814209, -54.32500457763672 -24.661945343017578, -54.31555938720703 -24.62778091430664, -54.31180953979492 -24.602779388427734, -54.321533203125 -24.554794311523438, -54.334312438964844 -24.518474578857422, -54.331390380859375 -24.492778778076172, -54.32333755493164 -24.469724655151367, -54.312503814697266 -24.450557708740234, -54.293617248535156 -24.428890228271484, -54.27597427368164 -24.4133358001709, -54.249446868896484 -24.353544235229492, -54.26298904418945 -24.29326629638672, -54.2801399230957 -24.272640228271484, -54.302642822265625 -24.257225036621094, -54.31666946411133 -24.241668701171875, -54.336669921875 -24.148056030273438, -54.325836181640625 -24.117502212524414, -54.294307708740234 -24.085418701171875, -54.26958465576172 -24.06569480895996, -54.243896484375 -24.053607940673828, -54.288612365722656 -24.020278930664062, -54.4072265625 -23.916667938232422, -54.539451599121094 -23.847503662109375, -54.62569808959961 -23.804931640625, -54.8814582824707 -23.921112060546875, -54.90257263183594 -23.948959350585938, -54.92472839355469 -23.96527862548828, -55.031394958496094 -23.99444580078125, -55.15028381347656 -24.01639175415039, -55.17500305175781 -24.020557403564453, -55.19639205932617 -24.019306182861328, -55.347503662109375 -23.992639541625977, -55.371253967285156 -23.984445571899414, -55.39666748046875 -23.971111297607422, -55.412086486816406 -23.954307556152344, -55.42028045654297 -23.924724578857422, -55.420562744140625 -23.878334045410156, -55.42778015136719 -23.802780151367188, -55.43305969238281 -23.75055694580078, -55.44215393066406 -23.70271110534668, -55.462989807128906 -23.66139030456543, -55.48500442504883 -23.638057708740234, -55.50528335571289 -23.624170303344727, -55.520835876464844 -23.60527992248535, -55.535213470458984 -23.459169387817383, -55.50242614746094 -23.379722595214844, -55.54361343383789 -23.333057403564453, -55.54965591430664 -23.307016372680664, -55.549171447753906 -23.137500762939453, -55.583892822265625 -23.085281372070312, -55.60639190673828 -23.020278930664062, -55.64500427246094 -22.85791778564453, -55.64840316772461 -22.814931869506836, -55.632850646972656 -22.77743148803711, -55.610076904296875 -22.734098434448242, -55.609169006347656 -22.638473510742188, -55.62611389160156 -22.62090492248535, -55.6641731262207 -22.60722541809082, -55.689727783203125 -22.591114044189453, -55.709449768066406 -22.573890686035156, -55.72722625732422 -22.546253204345703, -55.734310150146484 -22.5262508392334, -55.739723205566406 -22.477779388427734, -55.74083709716797 -22.45361328125, -55.74125289916992 -22.420141220092773, -55.74430847167969 -22.39750099182129, -55.84972381591797 -22.288890838623047, -55.9888916015625 -22.273334503173828, -56.04667282104492 -22.278335571289062, -56.0855598449707 -22.292152404785156, -56.16819763183594 -22.283891677856445, -56.202919006347656 -22.27472496032715, -56.309173583984375 -22.20333480834961, -56.329444885253906 -22.186668395996094, -56.360836029052734 -22.157711029052734, -56.3708381652832 -22.12611198425293, -56.39653015136719 -22.068681716918945, -56.456947326660156 -22.075836181640625, -56.49528503417969 -22.08831024169922, -56.52611541748047 -22.11541748046875, -56.54597473144531 -22.144447326660156, -56.55597686767578 -22.166667938232422, -56.573890686035156 -22.18944549560547, -56.63417053222656 -22.25194549560547, -56.67778015136719 -22.23368263244629, -56.6981315612793 -22.21611213684082, -56.758056640625 -22.241390228271484, -56.76953125 -22.248043060302734, -56.80833435058594 -22.264724731445312, -56.87750244140625 -22.274169921875, -56.9888916015625 -22.23278045654297, -57.15333557128906 -22.20361328125, -57.197784423828125 -22.207225799560547, -57.239585876464844 -22.212501525878906, -57.331947326660156 -22.218055725097656, -57.37458801269531 -22.2177791595459, -57.60944747924805 -22.17500114440918, -57.64000701904297 -22.121112823486328, -57.767784118652344 -22.113056182861328, -57.79167175292969 -22.129169464111328, -57.824867248535156 -22.14402961730957, -57.8922233581543 -22.129030227661133, -57.92889404296875 -22.117780685424805, -57.985107421875 -22.091827392578125, -57.98722839355469 -22.060836791992188, -57.984031677246094 -22.02569580078125, -57.963340759277344 -21.972225189208984, -57.9356689453125 -21.77194595336914, -57.926395416259766 -21.656667709350586, -57.937782287597656 -21.63652801513672, -57.95431137084961 -21.51388931274414, -57.93250274658203 -21.461669921875, -57.915557861328125 -21.429168701171875, -57.879173278808594 -21.380279541015625, -57.85264205932617 -21.34166717529297, -57.8145866394043 -20.97875213623047, -57.85667419433594 -20.838611602783203, -57.85958480834961 -20.734724044799805, -57.90888977050781 -20.676389694213867, -57.93590545654297 -20.671459197998047, -57.967742919921875 -20.710140228271484, -57.995975494384766 -20.618057250976562, -58.00882339477539 -20.513471603393555, -58.05889129638672 -20.401111602783203, -58.09722900390625 -20.341392517089844, -58.13694763183594 -20.278892517089844, -58.15583801269531 -20.228614807128906, -58.15888977050781 -20.16805648803711, -58.10972595214844 -20.149169921875, -57.90083694458008 -20.029029846191406, -57.85187530517578 -19.975509643554688, -58.10334014892578 -19.76028060913086, -58.121116638183594 -19.741390228271484, -58.08722686767578 -19.677223205566406, -57.96055603027344 -19.421112060546875, -57.855003356933594 -19.206390380859375, -57.82139587402344 -19.137222290039062, -57.78722381591797 -19.068058013916016, -57.77667236328125 -19.047500610351562, -57.70472717285156 -19.04361343383789, -57.71666717529297 -18.9344482421875, -57.7230339050293 -18.913606643676758, -57.77028274536133 -18.906112670898438, -57.62694549560547 -18.468055725097656, -57.56333923339844 -18.274723052978516, -57.552364349365234 -18.246807098388672, -57.5211181640625 -18.20389175415039, -57.58167266845703 -18.096111297607422, -57.718894958496094 -17.845001220703125, -57.72111511230469 -17.775001525878906, -57.71817398071289 -17.738582611083984, -57.71728515625 -17.727577209472656, -57.72945022583008 -17.720558166503906, -57.75917053222656 -17.686946868896484, -57.77947998046875 -17.637741088867188, -57.765838623046875 -17.61277961730957, -57.745513916015625 -17.593887329101562, -57.788063049316406 -17.553611755371094, -57.880836486816406 -17.476947784423828, -57.90167236328125 -17.461944580078125, -57.983558654785156 -17.50069236755371, -58.01667022705078 -17.49764060974121, -58.09166717529297 -17.45555877685547, -58.10889434814453 -17.438892364501953, -58.12055969238281 -17.41278076171875, -58.25 -17.326114654541016, -58.29444885253906 -17.299724578857422, -58.32194519042969 -17.292919158935547, -58.351112365722656 -17.28722381591797, -58.371116638183594 -17.278892517089844, -58.390419006347656 -17.259584426879883, -58.40306091308594 -17.226390838623047, -58.409446716308594 -17.190555572509766, -58.40666961669922 -17.138336181640625, -58.40736389160156 -17.112085342407227, -58.42444610595703 -17.009723663330078, -58.435142517089844 -16.97097396850586, -58.44514083862305 -16.95277976989746, -58.4587516784668 -16.92444610595703, -58.463478088378906 -16.90069580078125, -58.47639465332031 -16.721668243408203, -58.47576904296875 -16.674633026123047, -58.467918395996094 -16.64402961730957, -58.431671142578125 -16.59000015258789, -58.41944885253906 -16.573612213134766, -58.39778137207031 -16.553058624267578, -58.36208724975586 -16.525835037231445, -58.34638977050781 -16.50611114501953, -58.32444763183594 -16.396114349365234, -58.325836181640625 -16.30666732788086, -58.32750701904297 -16.27916717529297, -58.388893127441406 -16.28291893005371, -58.400699615478516 -16.305557250976562, -58.41500473022461 -16.32000160217285, -58.439170837402344 -16.329723358154297, -58.54194641113281 -16.32666778564453, -58.9727783203125 -16.310836791992188, -59.489723205566406 -16.290836334228516, -59.53278350830078 -16.289169311523438, -60.00556182861328 -16.270000457763672, -60.10667419433594 -16.26583480834961, -60.1602783203125 -16.263057708740234, -60.18431091308594 -15.980417251586914, -60.22722625732422 -15.478612899780273, -60.439727783203125 -15.241390228271484, -60.57139587402344 -15.097501754760742, -60.384727478027344 -15.092500686645508, -60.292503356933594 -15.094446182250977, -60.25889587402344 -15.093612670898438, -60.26000213623047 -15.036666870117188, -60.26445007324219 -14.913612365722656, -60.27611541748047 -14.706666946411133, -60.28111267089844 -14.623334884643555, -60.34650421142578 -14.483418464660645, -60.42747497558594 -14.324304580688477, -60.45051956176758 -14.291125297546387, -60.48200225830078 -14.16786003112793, -60.46486282348633 -14.101806640625, -60.425838470458984 -14.067084312438965, -60.40055847167969 -14.02972412109375, -60.38450241088867 -13.987258911132812, -60.476810455322266 -13.803472518920898, -60.583335876464844 -13.768611907958984, -60.675559997558594 -13.738611221313477, -60.744293212890625 -13.68235969543457, -60.770652770996094 -13.683300018310547, -60.791603088378906 -13.679455757141113, -60.95777893066406 -13.582778930664062, -61.004173278808594 -13.540834426879883, -61.038978576660156 -13.493118286132812, -61.26164245605469 -13.523086547851562, -61.49278259277344 -13.553335189819336, -61.521141052246094 -13.550382614135742, -61.5775032043457 -13.525973320007324, -61.593528747558594 -13.507240295410156, -61.61639404296875 -13.513055801391602, -61.73018264770508 -13.536879539489746, -61.81006622314453 -13.548666000366211, -61.84031295776367 -13.538744926452637, -61.868446350097656 -13.480876922607422, -61.87417984008789 -13.45394229888916, -61.94445037841797 -13.395833969116211, -61.97294616699219 -13.375429153442383, -62.00250244140625 -13.362222671508789, -62.08555603027344 -13.27138900756836, -62.10972595214844 -13.183334350585938, -62.11367416381836 -13.153708457946777, -62.21375274658203 -13.120973587036133, -62.24458694458008 -13.126667976379395, -62.26852798461914 -13.140892028808594, -62.330833435058594 -13.14777946472168, -62.384727478027344 -13.145833969116211, -62.419219970703125 -13.132522583007812, -62.645477294921875 -13.032364845275879, -62.64586639404297 -13.007362365722656, -62.688255310058594 -12.968598365783691, -62.76972961425781 -13.005834579467773, -62.843841552734375 -12.942338943481445, -62.89666748046875 -12.900278091430664, -62.97376251220703 -12.852897644042969, -62.994171142578125 -12.839332580566406, -63.049171447753906 -12.7475004196167, -63.06230163574219 -12.697895050048828, -63.067100524902344 -12.659868240356445, -63.13334655761719 -12.635881423950195, -63.16333770751953 -12.648889541625977, -63.21611404418945 -12.680903434753418, -63.24708938598633 -12.70583438873291, -63.32487106323242 -12.704208374023438, -63.394615173339844 -12.668363571166992, -63.415557861328125 -12.653890609741211, -63.4643669128418 -12.595918655395508, -63.47138977050781 -12.570416450500488, -63.67195129394531 -12.470556259155273, -63.79750061035156 -12.460000991821289, -63.83250427246094 -12.474166870117188, -63.87055969238281 -12.493890762329102, -63.89861297607422 -12.52861213684082, -63.92796325683594 -12.547270774841309, -64.02001190185547 -12.537084579467773, -64.03952026367188 -12.517987251281738, -64.1763916015625 -12.485555648803711, -64.2388916015625 -12.479167938232422, -64.29330444335938 -12.48206901550293, -64.37306213378906 -12.468334197998047, -64.39944458007812 -12.458090782165527, -64.42140197753906 -12.441113471984863, -64.4969482421875 -12.366250991821289, -64.51653289794922 -12.242222785949707, -64.6176528930664 -12.210972785949707, -64.73861694335938 -12.150070190429688, -64.76333618164062 -12.0977783203125, -64.7911148071289 -12.041528701782227, -64.8095932006836 -12.02861213684082, -64.83584594726562 -12.02319622039795, -64.8961181640625 -12.023335456848145, -64.98431396484375 -12.011112213134766, -65.00834655761719 -11.989444732666016, -65.01695251464844 -11.970001220703125, -65.03556823730469 -11.881668090820312, -65.0433349609375 -11.809722900390625, -65.06237030029297 -11.754861831665039, -65.1183853149414 -11.698956489562988, -65.14952087402344 -11.772153854370117, -65.19174194335938 -11.75201416015625, -65.20916748046875 -11.711668014526367, -65.20083618164062 -11.685556411743164, -65.18833923339844 -11.656389236450195, -65.1694564819336 -11.614723205566406, -65.2229232788086 -11.51875114440918, -65.24153900146484 -11.505972862243652, -65.28973388671875 -11.505001068115234, -65.3102798461914 -11.494138717651367, -65.34834289550781 -11.40472412109375, -65.39070892333984 -11.274723052978516, -65.40194702148438 -11.169724464416504, -65.39361572265625 -11.149444580078125, -65.34333801269531 -11.058055877685547, -65.30265045166016 -10.985556602478027, -65.31584167480469 -10.880834579467773, -65.32919311523438 -10.851892471313477, -65.3900146484375 -10.755834579467773, -65.43806457519531 -10.618751525878906, -65.44197082519531 -10.473484992980957, -65.4023666381836 -10.442222595214844, -65.3912582397461 -10.413750648498535, -65.3957748413086 -10.393579483032227, -65.39584350585938 -10.393333435058594, -65.38890075683594 -10.372501373291016, -65.3781967163086 -10.354862213134766, -65.3479232788086 -10.325556755065918, -65.3247299194336 -10.306806564331055, -65.31153106689453 -10.288750648498535, -65.28917694091797 -10.217778205871582, -65.28861999511719 -10.195417404174805, -65.30375671386719 -10.100833892822266, -65.31306457519531 -10.075279235839844, -65.3304214477539 -10.043889999389648, -65.33645629882812 -9.947084426879883, -65.32271575927734 -9.903542518615723, -65.30181121826172 -9.842153549194336, -65.34194946289062 -9.762500762939453, -65.376953125 -9.703333854675293, -65.4068832397461 -9.686250686645508, -65.44233703613281 -9.679195404052734, -65.49250793457031 -9.719167709350586, -65.51222229003906 -9.741390228271484, -65.51570129394531 -9.773959159851074, -65.5693130493164 -9.835139274597168, -65.6059799194336 -9.834931373596191, -65.74583435058594 -9.770557403564453, -65.792236328125 -9.775001525878906, -65.84390258789062 -9.777778625488281, -65.97195434570312 -9.77972412109375, -66.07764434814453 -9.775556564331055, -66.17500305175781 -9.797223091125488, -66.38334655761719 -9.866666793823242, -66.43708801269531 -9.888611793518066, -66.47931671142578 -9.881806373596191, -66.54570007324219 -9.887917518615723, -66.63048553466797 -9.90576457977295, -66.6402587890625 -9.918272018432617, -66.64250946044922 -9.930140495300293, -66.65924072265625 -9.948542594909668, -66.6934814453125 -9.96319580078125, -66.73222351074219 -9.976945877075195, -66.76028442382812 -9.990835189819336, -66.89375305175781 -10.09152889251709, -66.92528533935547 -10.12319564819336, -66.95001220703125 -10.151390075683594, -66.97084045410156 -10.172224044799805, -67.04640197753906 -10.243612289428711, -67.07695007324219 -10.26875114440918, -67.1832046508789 -10.323680877685547, -67.22541809082031 -10.311944961547852, -67.30029296875 -10.316667556762695, -67.32327270507812 -10.32347297668457, -67.32667541503906 -10.358959197998047, -67.44944763183594 -10.441667556762695, -67.50917053222656 -10.4727783203125, -67.5291748046875 -10.481111526489258, -67.58250427246094 -10.504446029663086, -67.60973358154297 -10.530139923095703, -67.67500305175781 -10.620000839233398, -67.70333862304688 -10.694723129272461, -67.74237060546875 -10.712918281555176, -67.7872314453125 -10.684167861938477, -67.8175048828125 -10.665279388427734, -67.83667755126953 -10.659306526184082, -67.8658447265625 -10.656946182250977, -68.01764678955078 -10.6602783203125, -68.06111145019531 -10.676389694213867, -68.08222961425781 -10.690279006958008, -68.10195922851562 -10.705278396606445, -68.11896514892578 -10.731945037841797, -68.12459564208984 -10.759306907653809, -68.23028564453125 -10.911666870117188, -68.2809066772461 -10.97972297668457, -68.31306457519531 -10.996667861938477, -68.34403228759766 -11.006875038146973, -68.40251159667969 -11.017778396606445, -68.52257537841797 -11.059306144714355, -68.55223083496094 -11.088890075683594, -68.57645416259766 -11.103069305419922, -68.62083435058594 -11.116390228271484, -68.65472412109375 -11.124444961547852, -68.7005615234375 -11.134723663330078, -68.76670837402344 -11.137118339538574, -68.84889221191406 -11.016111373901367, -69.07612609863281 -10.96722412109375, -69.2227783203125 -10.950834274291992, -69.4122314453125 -10.93777847290039, -69.44764709472656 -10.947640419006348, -69.48695373535156 -10.951112747192383, -69.54055786132812 -10.95222282409668, -69.5675048828125 -10.950555801391602, -69.58612060546875 -10.950279235839844, -69.66612243652344 -10.95333480834961, -69.68861389160156 -10.958612442016602, -69.73792266845703 -10.961597442626953, -69.78021240234375 -10.924722671508789, -69.92597961425781 -10.914029121398926, -69.95001220703125 -10.920001029968262, -69.96945190429688 -10.928611755371094, -70 -10.946945190429688, -70.05168151855469 -10.979167938232422, -70.1541748046875 -11.030000686645508, -70.17500305175781 -11.037500381469727, -70.22653198242188 -11.052778244018555, -70.32890319824219 -11.069168090820312, -70.352783203125 -11.066113471984863, -70.40251159667969 -11.045557022094727, -70.43667602539062 -11.026945114135742, -70.45694732666016 -11.001667022705078, -70.47111511230469 -10.981111526489258, -70.49931335449219 -10.953473091125488, -70.52639770507812 -10.935694694519043, -70.58168029785156 -10.971111297607422, -70.63139343261719 -11.009166717529297, -70.6319580078125 -10.975278854370117, -70.6319580078125 -10.913057327270508, -70.63084411621094 -10.781667709350586, -70.63027954101562 -10.608612060546875, -70.62945556640625 -10.338611602783203, -70.62918090820312 -10.186389923095703, -70.62945556640625 -10.068889617919922, -70.62861633300781 -9.948488235473633)), ((-50.48500061035156 2.117499828338623, -50.4969482421875 2.1202774047851562, -50.53361511230469 2.149722099304199, -50.535560607910156 2.1599998474121094, -50.5322265625 2.1777777671813965, -50.51722717285156 2.2030553817749023, -50.50528335571289 2.21138858795166, -50.46055603027344 2.2141666412353516, -50.43695068359375 2.2091665267944336, -50.420562744140625 2.2024998664855957, -50.405555725097656 2.193610668182373, -50.396671295166016 2.1730551719665527, -50.39805603027344 2.161388874053955, -50.40472412109375 2.146388530731201, -50.413063049316406 2.1399998664855957, -50.47528076171875 2.1197218894958496, -50.48500061035156 2.117499828338623)), ((-50.40472412109375 1.8799998760223389, -50.42375564575195 1.889860987663269, -50.433616638183594 1.9011108875274658, -50.50416946411133 2.0209720134735107, -50.49945068359375 2.07777738571167, -50.495140075683594 2.097360849380493, -50.48500061035156 2.1044440269470215, -50.398338317871094 2.134305477142334, -50.37889099121094 2.133333206176758, -50.356117248535156 2.1169443130493164, -50.35139465332031 2.1080551147460938, -50.304725646972656 1.998333215713501, -50.29778289794922 1.981388807296753, -50.298336029052734 1.9618054628372192, -50.30333709716797 1.9505553245544434, -50.31139373779297 1.9422221183776855, -50.361671447753906 1.8908331394195557, -50.3800048828125 1.8852777481079102, -50.39666748046875 1.8813886642456055, -50.40472412109375 1.8799998760223389)), ((-50.024444580078125 0.9297221899032593, -50.07444763183594 0.9447221755981445, -50.07444763183594 0.9811110496520996, -50.02806091308594 1.0479165315628052, -50.01750183105469 1.0538887977600098, -50.00194549560547 1.0552775859832764, -49.96278381347656 1.0552775859832764, -49.947784423828125 1.0544443130493164, -49.93597412109375 1.0315276384353638, -49.94236755371094 0.9988887310028076, -49.9505615234375 0.9858332872390747, -49.984169006347656 0.9538887739181519, -50.00944519042969 0.9352777004241943, -50.024444580078125 0.9297221899032593)), ((-50.24500274658203 0.7441666126251221, -50.264034271240234 0.7488888502120972, -50.27056121826172 0.7605555057525635, -50.275840759277344 0.8063888549804688, -50.26861572265625 0.821388840675354, -50.24028015136719 0.8474999666213989, -50.22472381591797 0.861111044883728, -50.20444869995117 0.8770832419395447, -50.1925048828125 0.8816666603088379, -50.148250579833984 0.8866092562675476, -50.12274932861328 0.8836438059806824, -50.09872817993164 0.8735613226890564, -50.085975646972656 0.8702993988990784, -50.0684814453125 0.8708924651145935, -50.03882598876953 0.8780094981193542, -50.01055908203125 0.919583261013031, -50.004722595214844 0.8969444036483765, -50.007225036621094 0.8816666603088379, -50.04778289794922 0.8111110925674438, -50.05389404296875 0.8030555248260498, -50.06916809082031 0.7886110544204712, -50.094451904296875 0.7708332538604736, -50.11083984375 0.7624999284744263, -50.132503509521484 0.7561110854148865, -50.17041778564453 0.7487499117851257, -50.24500274658203 0.7441666126251221)), ((-50.254173278808594 0.3419443964958191, -50.290283203125 0.3473610877990723, -50.30194854736328 0.3519443869590759, -50.30694580078125 0.3611111044883728, -50.310279846191406 0.3780555129051208, -50.31305694580078 0.395277738571167, -50.317222595214844 0.4288888573646545, -50.317779541015625 0.4679166376590729, -50.3154182434082 0.4854166209697723, -50.30805969238281 0.506388783454895, -50.255279541015625 0.5694444179534912, -50.23333740234375 0.5911110639572144, -50.076114654541016 0.6505554914474487, -50.05986404418945 0.6430554986000061, -50.02583694458008 0.5991665720939636, -50.02250671386719 0.5761110782623291, -50.02166748046875 0.5583332777023315, -50.02305603027344 0.5419443845748901, -50.14805603027344 0.4138888716697693, -50.23750305175781 0.3508332967758179, -50.254173278808594 0.3419443964958191)), ((-50.44111633300781 0.1711111068725586, -50.45972442626953 0.1719444394111633, -50.51708984375 0.1911111027002335, -50.5322265625 0.2094444334506988, -50.53639221191406 0.2223610877990723, -50.531394958496094 0.2355555295944214, -50.51500701904297 0.2491666376590729, -50.50264358520508 0.2576388418674469, -50.491111755371094 0.2677777409553528, -50.48027801513672 0.2841666340827942, -50.471946716308594 0.308888852596283, -50.46722412109375 0.3261110782623291, -50.462501525878906 0.3433333039283752, -50.4425048828125 0.4844444394111633, -50.43500518798828 0.5387499332427979, -50.428611755371094 0.5508332252502441, -50.37778091430664 0.6183332800865173, -50.359310150146484 0.6097221970558167, -50.35472869873047 0.5891666412353516, -50.34722900390625 0.5199999809265137, -50.350563049316406 0.4883332848548889, -50.35388946533203 0.4705555438995361, -50.356117248535156 0.4474999904632568, -50.356117248535156 0.429444432258606, -50.34931182861328 0.3845833241939545, -50.344451904296875 0.3719444274902344, -50.32680892944336 0.3431944251060486, -50.31916809082031 0.3241666555404663, -50.317779541015625 0.308888852596283, -50.32194519042969 0.2938888669013977, -50.338340759277344 0.2522221803665161, -50.3668098449707 0.2431944310665131, -50.38916778564453 0.2369444370269775, -50.40416717529297 0.226666659116745, -50.41638946533203 0.2108333110809326, -50.44111633300781 0.1711111068725586)), ((-49.99305725097656 -0.0733333379030228, -50.04639434814453 -0.0172222256660461, -50.07638931274414 0, -50.07861328125 0.0013888888061047, -50.102500915527344 0.0102777760475874, -50.127227783203125 0.0141666661947966, -50.14222717285156 0.0163888856768608, -50.15888977050781 0.0169444419443607, -50.19445037841797 0.0169444419443607, -50.210838317871094 0.0169444419443607, -50.23833465576172 0.0136111099272966, -50.26555633544922 0.0116666648536921, -50.27722930908203 0.0108333323150873, -50.29930877685547 0.0112499985843897, -50.334171295166016 0.0159722194075584, -50.3498649597168 0.021805552765727, -50.361671447753906 0.0299999974668026, -50.36833953857422 0.0388888865709305, -50.37389373779297 0.0547222197055817, -50.39250183105469 0.1094444394111633, -50.39666748046875 0.1733333170413971, -50.391944885253906 0.1897222101688385, -50.38125228881836 0.1986110955476761, -50.294864654541016 0.2168055474758148, -50.27305603027344 0.2108333110809326, -50.191673278808594 0.2136110961437225, -50.17388916015625 0.2144444286823273, -50.15834045410156 0.2205555438995361, -50.150001525878906 0.2261110842227936, -50.14111328125 0.2322221994400024, -50.1300048828125 0.2430555522441864, -50.10472869873047 0.262222170829773, -50.06361389160156 0.289722204208374, -50.0333366394043 0.2979166507720947, -50.00194549560547 0.2994444370269775, -49.975006103515625 0.2994444370269775, -49.9072265625 0.3061110973358154, -49.80583953857422 0.3186110854148865, -49.74083709716797 0.3308333158493042, -49.725006103515625 0.3369444012641907, -49.70389175415039 0.3349999785423279, -49.692222595214844 0.3302777409553528, -49.67583465576172 0.3199999928474426, -49.648895263671875 0.2952777743339539, -49.63222885131836 0.2761110663414002, -49.628334045410156 0.2636110782623291, -49.63111114501953 0.2438888847827911, -49.63611602783203 0.2274999916553497, -49.64361572265625 0.2102777659893036, -49.660003662109375 0.2005555331707001, -49.67500305175781 0.1966666579246521, -49.69972229003906 0.1849999725818634, -49.781951904296875 0.1383333206176758, -49.80750274658203 0.1205555498600006, -49.82361602783203 0.1061111092567444, -49.831947326660156 0.0972222089767456, -49.852500915527344 0.0697222203016281, -49.865562438964844 0.0505555495619774, -49.87861633300781 0.0313888862729073, -49.88945007324219 0.0130555564537644, -49.895015716552734 0, -49.906253814697266 -0.0245833359658718, -49.9212532043457 -0.0391666702926159, -49.98472595214844 -0.0722222328186035, -49.99305725097656 -0.0733333379030228)), ((-50.50139617919922 -0.0330555588006973, -50.517784118652344 -0.0322222262620926, -50.53972625732422 -0.0234722252935171, -50.56861114501953 -0.001666666707024, -50.570228576660156 0, -50.59333801269531 0.0224999971687794, -50.63389587402344 0.091666653752327, -50.65458679199219 0.1280555427074432, -50.65778350830078 0.1523610949516296, -50.643333435058594 0.1711111068725586, -50.591392517089844 0.2083333134651184, -50.57680892944336 0.2088888734579086, -50.4727783203125 0.1541666388511658, -50.465003967285156 0.1466666460037231, -50.45417022705078 0.1263888776302338, -50.45000457763672 0.1041666567325592, -50.435977935791016 0.011944442987442, -50.43714141845703 0, -50.43889617919922 -0.0083333346992731, -50.44611358642578 -0.0172222256660461, -50.45555877685547 -0.0227777808904648, -50.50139617919922 -0.0330555588006973)), ((-49.694725036621094 -0.156388908624649, -49.71278381347656 -0.151666671037674, -49.8275032043457 -0.1062499955296516, -49.83972930908203 -0.0988888889551163, -49.8477783203125 -0.0816666781902313, -49.852500915527344 -0.0644444525241852, -49.76982879638672 0, -49.766944885253906 0.0038888887502253, -49.7086181640625 0.0477777719497681, -49.650978088378906 0.077361099421978, -49.59444808959961 0.0813888758420944, -49.558616638183594 0.0786111056804657, -49.524169921875 0.0752777755260468, -49.501670837402344 0.0705555528402328, -49.43833541870117 0.0495833270251751, -49.4263916015625 0.0424999967217445, -49.418617248535156 0.0355555489659309, -49.399169921875 0.0074999989010394, -49.39781188964844 0, -49.38444519042969 -0.0283333361148834, -49.382225036621094 -0.0438888892531395, -49.38111114501953 -0.0686111152172089, -49.41416931152344 -0.105694442987442, -49.437225341796875 -0.1180555671453476, -49.46278381347656 -0.1241666674613953, -49.52555847167969 -0.1344444453716278, -49.59083557128906 -0.1368055641651154, -49.60388946533203 -0.1344444453716278, -49.619728088378906 -0.135833352804184, -49.63611602783203 -0.1391666829586029, -49.67778015136719 -0.1502777934074402, -49.694725036621094 -0.156388908624649)), ((-50.90834045410156 0, -50.90028381347656 0.0094444435089827, -50.86944580078125 0.0347222164273262, -50.834171295166016 0.0591666623950005, -50.802642822265625 0.0673611015081406, -50.765838623046875 0.066388875246048, -50.73583984375 0.0566666647791862, -50.70736312866211 0.0344444401562214, -50.69791793823242 0.0197222214192152, -50.70736312866211 0.0063888882286847, -50.734615325927734 0, -50.82361602783203 -0.0297222249209881, -50.841949462890625 -0.0358333364129066, -50.86000061035156 -0.0400000065565109, -50.88611602783203 -0.0452777817845345, -50.90167236328125 -0.0475000068545342, -50.923614501953125 -0.0461111180484295, -50.935142517089844 -0.0326388888061047, -50.93305969238281 -0.0200000032782555, -50.923614501953125 -0.0119444448500872, -50.90834045410156 0)), ((-50.85778045654297 -0.2830556035041809, -50.872779846191406 -0.2708333730697632, -50.89000701904297 -0.2661111354827881, -50.905006408691406 -0.2652778029441834, -50.92889404296875 -0.2688888907432556, -51.0150032043457 -0.2320833504199982, -51.02722930908203 -0.2241666913032532, -51.03055953979492 -0.2033333480358124, -51.021392822265625 -0.1694444715976715, -51.01403045654297 -0.1493055671453476, -51.00111389160156 -0.1283333599567413, -50.98583984375 -0.1049999967217445, -50.9727783203125 -0.0900000035762787, -50.95333480834961 -0.0870833396911621, -50.93194580078125 -0.087777778506279, -50.84972381591797 -0.063888892531395, -50.77916717529297 -0.0419444516301155, -50.76250457763672 -0.0358333364129066, -50.738616943359375 -0.0194444470107555, -50.710140228271484 -0.0073611121624708, -50.69861602783203 -0.0055555561557412, -50.62694549560547 -0.0070833340287209, -50.6138916015625 -0.0105555560439825, -50.5625 -0.054166667163372, -50.55694580078125 -0.0625, -50.68055725097656 -0.1666666865348816, -50.7105598449707 -0.1797222346067429, -50.73708724975586 -0.1820833534002304, -50.74889373779297 -0.1886111199855804, -50.775001525878906 -0.2091666758060455, -50.809722900390625 -0.2400000095367432, -50.85778045654297 -0.2830556035041809)), ((-48.876670837402344 -1.4877779483795166, -48.901390075683594 -1.500833511352539, -48.952781677246094 -1.5247223377227783, -49.16638946533203 -1.6138889789581299, -49.38347625732422 -1.6472222805023193, -49.51319885253906 -1.6270835399627686, -49.554866790771484 -1.7001389265060425, -49.67250061035156 -1.7766668796539307, -49.718780517578125 -1.737611174583435, -49.757572174072266 -1.6387500762939453, -49.772361755371094 -1.6569445133209229, -49.76778030395508 -1.6825001239776611, -49.757781982421875 -1.703611135482788, -49.74528121948242 -1.7362501621246338, -49.754695892333984 -1.7656667232513428, -49.76719665527344 -1.7882083654403687, -49.81298828125 -1.8144445419311523, -49.884727478027344 -1.7877779006958008, -49.917503356933594 -1.7672224044799805, -49.94917297363281 -1.7494444847106934, -50.0543098449707 -1.7084722518920898, -50.09028244018555 -1.7301390171051025, -50.105838775634766 -1.754722237586975, -50.30333709716797 -1.8177778720855713, -50.37458801269531 -1.8356945514678955, -50.43861389160156 -1.8308334350585938, -50.57951736450195 -1.7986806631088257, -50.63125228881836 -1.7593055963516235, -50.64083480834961 -1.7362501621246338, -50.64666748046875 -1.6398613452911377, -50.66139221191406 -1.61347234249115, -50.706390380859375 -1.5761113166809082, -50.732784271240234 -1.547639012336731, -50.774169921875 -1.4794445037841797, -50.80083465576172 -1.4445834159851074, -50.81431198120117 -1.3295139074325562, -50.78111267089844 -1.151944637298584, -50.74150466918945 -1.1275556087493896, -50.70900344848633 -1.140222430229187, -50.670005798339844 -1.14388906955719, -50.62889099121094 -1.1505556106567383, -50.56945037841797 -1.1019444465637207, -50.564308166503906 -1.0659029483795166, -50.647361755371094 -1.0938889980316162, -50.7256965637207 -1.0852917432785034, -50.743614196777344 -1.0736666917800903, -50.78569412231445 -1.0395833253860474, -50.79695129394531 -0.9719444513320923, -50.79722595214844 -0.9262501001358032, -50.78334045410156 -0.6636111736297607, -50.775001525878906 -0.6441667079925537, -50.728126525878906 -0.5952084064483643, -50.71983337402344 -0.6166666746139526, -50.705501556396484 -0.6438333988189697, -50.68250274658203 -0.6483334302902222, -50.59292221069336 -0.6823611855506897, -50.557430267333984 -0.678611159324646, -50.58694839477539 -0.6518056392669678, -50.60805892944336 -0.6452778577804565, -50.64472579956055 -0.6408333778381348, -50.668617248535156 -0.6373611688613892, -50.68994903564453 -0.6014445424079895, -50.714447021484375 -0.5322778224945068, -50.72639465332031 -0.4977778196334839, -50.70361328125 -0.3894444704055786, -50.6925048828125 -0.35916668176651, -50.65986633300781 -0.2838889062404633, -50.64666748046875 -0.2625000476837158, -50.58555603027344 -0.2002778053283691, -50.56111526489258 -0.1769444644451141, -50.521949768066406 -0.1530555784702301, -50.49945068359375 -0.1400000154972076, -50.45180892944336 -0.1185416653752327, -50.413753509521484 -0.1084722280502319, -50.351951599121094 -0.1008333414793014, -50.328895568847656 -0.1002777814865112, -50.14167022705078 -0.1269444525241852, -50.107505798339844 -0.1338889002799988, -49.81083679199219 -0.2016666829586029, -49.713340759277344 -0.2277777791023254, -49.64556121826172 -0.2483333349227905, -49.408477783203125 -0.2187500149011612, -49.40153121948242 -0.1995833367109299, -49.35055923461914 -0.169027790427208, -49.328338623046875 -0.159722238779068, -49.19000244140625 -0.135833352804184, -49.14750671386719 -0.1377778053283691, -49.0050048828125 -0.1544444561004639, -48.825279235839844 -0.2072222232818604, -48.63056182861328 -0.2250000238418579, -48.4102783203125 -0.2621273994445801, -48.36958694458008 -0.2926389276981354, -48.36375427246094 -0.3137500286102295, -48.372642517089844 -0.3722222447395325, -48.3875732421875 -0.3953472375869751, -48.41770935058594 -0.4201389253139496, -48.43194580078125 -0.4436111450195312, -48.461395263671875 -0.5168056488037109, -48.46708679199219 -0.5384722948074341, -48.46611404418945 -0.5867361426353455, -48.484169006347656 -0.6875, -48.49444580078125 -0.7347222566604614, -48.524444580078125 -0.8533333539962769, -48.530006408691406 -0.8752778768539429, -48.53916931152344 -0.900277853012085, -48.561668395996094 -0.920555591583252, -48.588890075683594 -0.9327778816223145, -48.621742248535156 -0.9443750381469727, -48.643890380859375 -0.9888889789581299, -48.64305877685547 -1.010000228881836, -48.63139343261719 -1.0313889980316162, -48.629241943359375 -1.0657639503479004, -48.75611114501953 -1.232222318649292, -48.84514236450195 -1.458194613456726, -48.86083984375 -1.478055715560913, -48.876670837402344 -1.4877779483795166)), ((-51.39000701904297 -0.4861111640930176, -51.398338317871094 -0.4852778315544128, -51.40708541870117 -0.4740277826786041, -51.40555953979492 -0.4544444680213928, -51.399169921875 -0.4347222447395325, -51.39167022705078 -0.4277778267860413, -51.364173889160156 -0.4113889336585998, -51.28778076171875 -0.3012500107288361, -51.280555725097656 -0.279722273349762, -51.258056640625 -0.230277806520462, -51.25305938720703 -0.2208333611488342, -51.2388916015625 -0.2016666829586029, -51.223060607910156 -0.183055579662323, -51.20806121826172 -0.1700000166893005, -51.192222595214844 -0.159166693687439, -51.11430740356445 -0.1213888898491859, -51.099308013916016 -0.1244444623589516, -51.095001220703125 -0.1352777779102325, -51.11194610595703 -0.2208333611488342, -51.13750457763672 -0.285277783870697, -51.22028350830078 -0.3675000071525574, -51.247779846191406 -0.3922222256660461, -51.31195068359375 -0.4413889050483704, -51.337501525878906 -0.4591667056083679, -51.38056182861328 -0.4847222566604614, -51.39000701904297 -0.4861111640930176)), ((-50.846946716308594 -0.3630555868148804, -50.904239654541016 -0.3583333492279053, -50.90278244018555 -0.3463889360427856, -50.87306213378906 -0.3177778124809265, -50.751461029052734 -0.2279166728258133, -50.7469482421875 -0.2383333444595337, -50.74889373779297 -0.2897222638130188, -50.751670837402344 -0.3008333444595337, -50.763336181640625 -0.3302778005599976, -50.77931213378906 -0.3522222340106964, -50.80333709716797 -0.3588889241218567, -50.846946716308594 -0.3630555868148804)), ((-51.115562438964844 -0.5441666841506958, -51.13611602783203 -0.542222261428833, -51.150421142578125 -0.5309723019599915, -51.15028381347656 -0.5188889503479004, -51.13014221191406 -0.3993055820465088, -51.045143127441406 -0.2827777862548828, -51.03055953979492 -0.2855556011199951, -50.94791793823242 -0.3420833647251129, -50.9484748840332 -0.3579167127609253, -50.96291732788086 -0.3694444596767426, -50.98722839355469 -0.3730555772781372, -51.013893127441406 -0.3797222375869751, -51.02361297607422 -0.3833333849906921, -51.04750061035156 -0.3988889455795288, -51.06375503540039 -0.428472250699997, -51.08111572265625 -0.4811111688613892, -51.09083557128906 -0.508055567741394, -51.0977783203125 -0.5236111879348755, -51.10778045654297 -0.5400000810623169, -51.115562438964844 -0.5441666841506958)), ((-50.98389434814453 -0.576388955116272, -50.956947326660156 -0.5222222805023193, -50.888336181640625 -0.3973611295223236, -50.878334045410156 -0.3852778077125549, -50.85055923461914 -0.3740277886390686, -50.822227478027344 -0.371666669845581, -50.78889083862305 -0.3783333599567413, -50.776947021484375 -0.3838889002799988, -50.76222610473633 -0.4048611223697662, -50.75708770751953 -0.421111136674881, -50.75944900512695 -0.4397222697734833, -50.765281677246094 -0.4516667127609253, -50.78334045410156 -0.471666693687439, -50.79695129394531 -0.4852778315544128, -50.80500030517578 -0.492222249507904, -50.824588775634766 -0.5073611736297607, -50.9586181640625 -0.567500114440918, -50.98389434814453 -0.576388955116272)), ((-51.072227478027344 -0.5541666746139526, -51.07715606689453 -0.5431945323944092, -51.07722473144531 -0.505000114440918, -51.07444763183594 -0.4938889145851135, -51.070281982421875 -0.4844444990158081, -51.06139373779297 -0.472777783870697, -51.04972839355469 -0.463888943195343, -50.993614196777344 -0.4241666793823242, -50.95472717285156 -0.4016667008399963, -50.92250061035156 -0.3858333826065064, -50.902225494384766 -0.3786805868148804, -50.910282135009766 -0.4127777814865112, -50.9597282409668 -0.5073611736297607, -51.00250244140625 -0.5433334112167358, -51.011390686035156 -0.5480556488037109, -51.072227478027344 -0.5541666746139526)), ((-51.901390075683594 -1.4766666889190674, -51.924861907958984 -1.4713889360427856, -51.949378967285156 -1.443819522857666, -51.94694900512695 -1.4188889265060425, -51.926116943359375 -1.3897223472595215, -51.90055847167969 -1.3494446277618408, -51.8859748840332 -1.3223612308502197, -51.879032135009766 -1.2986112833023071, -51.880836486816406 -1.2738890647888184, -51.89104080200195 -1.2343751192092896, -51.88486099243164 -1.1834028959274292, -51.869171142578125 -1.169722318649292, -51.84333801269531 -1.1658334732055664, -51.80097579956055 -1.1633334159851074, -51.71986389160156 -1.1386111974716187, -51.69055938720703 -1.1191668510437012, -51.67388916015625 -1.100555658340454, -51.66222381591797 -1.0833334922790527, -51.652366638183594 -1.0513889789581299, -51.6543083190918 -1.0294445753097534, -51.66069793701172 -1.008333444595337, -51.664451599121094 -0.9855556488037109, -51.66694641113281 -0.9486111402511597, -51.665000915527344 -0.9005556106567383, -51.65834045410156 -0.8738889694213867, -51.60972595214844 -0.7338889837265015, -51.54958724975586 -0.6565278172492981, -51.52916717529297 -0.6375000476837158, -51.49611282348633 -0.6137501001358032, -51.38229751586914 -0.5429167151451111, -51.30389404296875 -0.5347223281860352, -51.198333740234375 -0.5302778482437134, -51.18389129638672 -0.5593056082725525, -51.150142669677734 -0.6608334183692932, -51.1520881652832 -0.682638943195343, -51.18861389160156 -0.7547222375869751, -51.20806121826172 -0.7905555963516235, -51.222503662109375 -0.823888897895813, -51.24305725097656 -0.894444465637207, -51.26166915893555 -0.9804167151451111, -51.27680969238281 -1.0200001001358032, -51.347503662109375 -1.0631945133209229, -51.365562438964844 -1.086944580078125, -51.3811149597168 -1.1126389503479004, -51.40028381347656 -1.1472222805023193, -51.43333435058594 -1.1938889026641846, -51.45000457763672 -1.2108335494995117, -51.466949462890625 -1.2275002002716064, -51.48333740234375 -1.2402780055999756, -51.55750274658203 -1.293055772781372, -51.67528533935547 -1.3738889694213867, -51.73750305175781 -1.4158334732055664, -51.800140380859375 -1.4534722566604614, -51.882781982421875 -1.4747223854064941, -51.901390075683594 -1.4766666889190674)), ((-51.14000701904297 -0.9622223377227783, -51.14903259277344 -0.9491667151451111, -51.148895263671875 -0.9355555772781372, -51.13667297363281 -0.8758333921432495, -51.101951599121094 -0.7650001049041748, -51.09278106689453 -0.7361111640930176, -51.08528137207031 -0.7188889980316162, -51.07722473144531 -0.7033333778381348, -51.070281982421875 -0.6944445371627808, -50.96070098876953 -0.6137500405311584, -50.90416717529297 -0.585277795791626, -50.87778091430664 -0.5733333826065063, -50.85778045654297 -0.5669444799423218, -50.834449768066406 -0.5655555725097656, -50.81361389160156 -0.5761111378669739, -50.808753967285156 -0.592222273349762, -50.8175048828125 -0.6791666746139526, -50.82375717163086 -0.6915278434753418, -50.843894958496094 -0.7005555629730225, -50.85388946533203 -0.7025001049041748, -50.87889099121094 -0.7072222232818604, -50.910282135009766 -0.7131944894790649, -50.923614501953125 -0.7197222709655762, -50.935001373291016 -0.7295833826065063, -50.950279235839844 -0.7497222423553467, -50.96055603027344 -0.7655556201934814, -51.02722930908203 -0.8608334064483643, -51.10722351074219 -0.9383333921432495, -51.13195037841797 -0.959444522857666, -51.14000701904297 -0.9622223377227783)), ((-50.935279846191406 -0.8463889360427856, -50.943336486816406 -0.845833420753479, -50.96403121948242 -0.838472306728363, -50.968753814697266 -0.8234723210334778, -50.96527862548828 -0.8108333349227905, -50.91875457763672 -0.7265278697013855, -50.9072265625 -0.7230556011199951, -50.8719482421875 -0.7211111783981323, -50.85639190673828 -0.7225000858306885, -50.84278106689453 -0.7277778387069702, -50.83778381347656 -0.7375000715255737, -50.83750534057617 -0.7676389813423157, -50.85055923461914 -0.814583420753479, -50.9163932800293 -0.8436111807823181, -50.935279846191406 -0.8463889360427856)), ((-51.38750457763672 -1.2150001525878906, -51.399169921875 -1.2130556106567383, -51.40028381347656 -1.2019445896148682, -51.398338317871094 -1.1902778148651123, -51.39000701904297 -1.1711113452911377, -51.363616943359375 -1.1294445991516113, -51.350563049316406 -1.1150000095367432, -51.30625534057617 -1.0701390504837036, -51.276390075683594 -1.0519444942474365, -51.2569465637207 -1.0373612642288208, -51.24889373779297 -1.0247223377227783, -51.24083709716797 -1.0052778720855713, -51.23389434814453 -0.9847222566604614, -51.22167205810547 -0.9444445371627808, -51.219451904296875 -0.9280556440353394, -51.21958923339844 -0.9076389670372009, -51.22084045410156 -0.8813889026641846, -51.21847915649414 -0.8608333468437195, -51.212642669677734 -0.8454167246818542, -51.20305633544922 -0.8416666984558105, -51.191532135009766 -0.854305624961853, -51.18250274658203 -0.8702778816223145, -51.181114196777344 -0.8897222280502319, -51.18055725097656 -0.9355555772781372, -51.181114196777344 -0.9552778005599976, -51.18250274658203 -0.9677778482437134, -51.1875 -0.990277886390686, -51.190834045410156 -1.0005557537078857, -51.23944854736328 -1.1438889503479004, -51.25278091430664 -1.1647223234176636, -51.262779235839844 -1.1752779483795166, -51.27916717529297 -1.1861112117767334, -51.299171447753906 -1.1938889026641846, -51.364173889160156 -1.2108335494995117, -51.375282287597656 -1.213611125946045, -51.38750457763672 -1.2150001525878906)), ((-50.973045349121094 -0.8689796924591064, -50.927154541015625 -0.8706250190734863, -50.95268630981445 -0.8995246887207031, -50.998600006103516 -0.9054828882217407, -51.01261901855469 -0.9195021986961365, -51.01892852783203 -0.9570037722587585, -51.01472091674805 -0.9815375208854675, -51.019447326660156 -0.9916666746139526, -51.03334045410156 -1.0052778720855713, -51.070037841796875 -1.0377938747406006, -51.158058166503906 -1.0850000381469727, -51.17805862426758 -1.09208345413208, -51.18805694580078 -1.0804167985916138, -51.17083740234375 -1.0266668796539307, -51.159446716308594 -1.0088889598846436, -51.140838623046875 -0.9861111640930176, -51.070838928222656 -0.9113889932632446, -51.05419921875 -0.8967059850692749, -51.045005798339844 -0.8897222280502319, -51.02972412109375 -0.8786112070083618, -51.02027893066406 -0.8744444847106934, -51.00237274169922 -0.8679125308990479, -50.98722839355469 -0.8663889169692993, -50.973045349121094 -0.8689796924591064)), ((-46.524169921875 -1.0222222805023193, -46.531532287597656 -1.0191668272018433, -46.54417419433594 -1.0011112689971924, -46.54875564575195 -0.9883334040641785, -46.547645568847656 -0.9694445133209229, -46.53667068481445 -0.9393056035041809, -46.52222442626953 -0.9227778911590576, -46.47125244140625 -0.8808333873748779, -46.455284118652344 -0.8906944990158081, -46.44028091430664 -1.0033334493637085, -46.48722839355469 -1.0180556774139404, -46.49889373779297 -1.020277976989746, -46.524169921875 -1.0222222805023193)), ((-48.3477783203125 -1.2188889980316162, -48.38444900512695 -1.2165278196334839, -48.413612365722656 -1.2066667079925537, -48.45903396606445 -1.1700000762939453, -48.46632385253906 -1.1555556058883667, -48.4107666015625 -1.0749306678771973, -48.395835876464844 -1.070833444595337, -48.35139465332031 -1.067500114440918, -48.33972930908203 -1.0680556297302246, -48.32493209838867 -1.0743056535720825, -48.314170837402344 -1.1169445514678955, -48.312782287597656 -1.151111125946045, -48.31889343261719 -1.1894445419311523, -48.34027862548828 -1.212777853012085, -48.3477783203125 -1.2188889980316162)), ((-45.6763916015625 -1.3619446754455566, -45.68972396850586 -1.3584723472595215, -45.646392822265625 -1.1605556011199951, -45.64222717285156 -1.1463890075683594, -45.628753662109375 -1.127916693687439, -45.60945129394531 -1.1337502002716064, -45.60778045654297 -1.1488890647888184, -45.609169006347656 -1.1616668701171875, -45.63417053222656 -1.3463890552520752, -45.6763916015625 -1.3619446754455566)), ((-44.993614196777344 -1.4025001525878906, -44.99889373779297 -1.401111125946045, -45.009727478027344 -1.391111135482788, -45.02180862426758 -1.3726389408111572, -45.02708435058594 -1.3337501287460327, -44.993896484375 -1.2836112976074219, -44.975563049316406 -1.2616667747497559, -44.921669006347656 -1.2595833539962769, -44.87812805175781 -1.2869446277618408, -44.8719482421875 -1.309027910232544, -44.88417053222656 -1.3322222232818604, -44.96055603027344 -1.3886113166809082, -44.9727783203125 -1.3963890075683594, -44.98750305175781 -1.401944637298584, -44.993614196777344 -1.4025001525878906)), ((-52.4183349609375 -1.5275001525878906, -52.43055725097656 -1.5263890027999878, -52.453895568847656 -1.5150001049041748, -52.4586181640625 -1.4925000667572021, -52.45166778564453 -1.4794445037841797, -52.431114196777344 -1.4663889408111572, -52.20319747924805 -1.3633333444595337, -52.168617248535156 -1.4083335399627686, -52.1693115234375 -1.4212501049041748, -52.2227783203125 -1.4500000476837158, -52.25917053222656 -1.468611240386963, -52.388336181640625 -1.5212501287460327, -52.4183349609375 -1.5275001525878906)), ((-52.200836181640625 -1.6466667652130127, -52.19805908203125 -1.5804167985916138, -52.202781677246094 -1.5686111450195312, -52.21055603027344 -1.5611112117767334, -52.17222595214844 -1.4972224235534668, -52.0333366394043 -1.4401389360427856, -52.0211181640625 -1.4405555725097656, -51.99528503417969 -1.4494445323944092, -51.98638916015625 -1.4541668891906738, -51.97084045410156 -1.4650001525878906, -51.96305847167969 -1.4713890552520752, -51.91514587402344 -1.5202778577804565, -51.920562744140625 -1.5316667556762695, -51.933616638183594 -1.5429167747497559, -51.971946716308594 -1.5625, -51.99945068359375 -1.573333501815796, -52.02472686767578 -1.580277919769287, -52.06333923339844 -1.5897223949432373, -52.088340759277344 -1.5933334827423096, -52.126529693603516 -1.5852779150009155, -52.162506103515625 -1.599583387374878, -52.17472839355469 -1.608889102935791, -52.200836181640625 -1.6466667652130127)), ((-44.76917266845703 -1.672222375869751, -44.778541564941406 -1.667638897895813, -44.78750228881836 -1.6530556678771973, -44.78334045410156 -1.6191668510437012, -44.771392822265625 -1.608055591583252, -44.75111389160156 -1.5900001525878906, -44.71514129638672 -1.5618056058883667, -44.6844482421875 -1.5662500858306885, -44.6704216003418 -1.5819445848464966, -44.65834045410156 -1.603888988494873, -44.65264129638672 -1.6211111545562744, -44.66166687011719 -1.6604862213134766, -44.687225341796875 -1.6497223377227783, -44.74305725097656 -1.6636111736297607, -44.76917266845703 -1.672222375869751)), ((-48.97084045410156 -1.79972243309021, -48.986392974853516 -1.798472285270691, -49.024932861328125 -1.7769445180892944, -49.046531677246094 -1.7083334922790527, -49.01111602783203 -1.6347222328186035, -49.00305938720703 -1.6225001811981201, -48.98020935058594 -1.597152829170227, -48.926673889160156 -1.5777778625488281, -48.91181182861328 -1.5758335590362549, -48.89958190917969 -1.5825001001358032, -48.900840759277344 -1.630000114440918, -48.94445037841797 -1.7641668319702148, -48.94805908203125 -1.774444580078125, -48.95472717285156 -1.788055658340454, -48.96111297607422 -1.7958333492279053, -48.97084045410156 -1.79972243309021)), ((-49.13861846923828 -1.8669445514678955, -49.1520881652832 -1.8633334636688232, -49.156394958496094 -1.8519444465637207, -49.15222930908203 -1.8422224521636963, -49.0987548828125 -1.7484723329544067, -49.08972930908203 -1.7402780055999756, -49.05486297607422 -1.72284734249115, -49.04032516479492 -1.771475076675415, -49.02592849731445 -1.7912027835845947, -49.00736618041992 -1.7954168319702148, -49.024169921875 -1.8291668891906738, -49.051876068115234 -1.8511111736297607, -49.092044830322266 -1.8397222757339478, -49.13861846923828 -1.8669445514678955)), ((-50.84611511230469 -2.0038890838623047, -50.88750457763672 -1.9969446659088135, -50.919525146484375 -1.9742348194122314, -50.94374465942383 -1.9636383056640625, -50.970741271972656 -1.984326720237732, -50.988059997558594 -1.9936113357543945, -51.03611755371094 -1.9758334159851074, -51.04778289794922 -1.9669444561004639, -51.10945129394531 -1.9047224521636963, -51.143890380859375 -1.8636112213134766, -51.14875411987305 -1.851388931274414, -51.14396286010742 -1.8245140314102173, -51.06180953979492 -1.8241667747497559, -50.981117248535156 -1.8497223854064941, -50.97167205810547 -1.853888988494873, -50.86569595336914 -1.9090278148651123, -50.84916687011719 -1.980555772781372, -50.84611511230469 -2.0038890838623047)), ((-44.590003967285156 -3.0627779960632324, -44.593894958496094 -3.0119447708129883, -44.57710647583008 -2.988335371017456, -44.55984115600586 -2.9130988121032715, -44.58583450317383 -2.844444751739502, -44.57750701904297 -2.8019447326660156, -44.57194519042969 -2.786111354827881, -44.564727783203125 -2.772639274597168, -44.51917266845703 -2.721944808959961, -44.50847244262695 -2.7156946659088135, -44.48389434814453 -2.7100000381469727, -44.4808349609375 -2.7258334159851074, -44.476951599121094 -2.7486114501953125, -44.4808349609375 -2.861666679382324, -44.49472427368164 -2.948125123977661, -44.51861572265625 -2.966111183166504, -44.532501220703125 -2.9725003242492676, -44.54597473144531 -2.986527919769287, -44.570281982421875 -3.024167060852051, -44.586395263671875 -3.0525002479553223, -44.590003967285156 -3.0627779960632324)), ((-38.77972412109375 -13.135278701782227, -38.786251068115234 -13.131528854370117, -38.79167175292969 -13.099445343017578, -38.793060302734375 -13.087223052978516, -38.794307708740234 -13.060139656066895, -38.7852783203125 -13.051668167114258, -38.75556182861328 -13.039722442626953, -38.7469482421875 -13.034444808959961, -38.727783203125 -13.018890380859375, -38.71055603027344 -13.00139045715332, -38.679168701171875 -12.968889236450195, -38.667362213134766 -12.942501068115234, -38.66917419433594 -12.928890228271484, -38.67750549316406 -12.916112899780273, -38.68653106689453 -12.9077787399292, -38.69306182861328 -12.883055686950684, -38.67653274536133 -12.879584312438965, -38.6446533203125 -12.891806602478027, -38.621395111083984 -12.911945343017578, -38.59222412109375 -12.957500457763672, -38.58778381347656 -12.974445343017578, -38.59514236450195 -12.99083423614502, -38.662506103515625 -13.041389465332031, -38.754722595214844 -13.113056182861328, -38.77972412109375 -13.135278701782227)), ((-38.94139099121094 -13.565279006958008, -38.98194885253906 -13.56361198425293, -38.98122024536133 -13.521663665771484, -38.96444320678711 -13.498845100402832, -39.01544952392578 -13.484750747680664, -39.04208755493164 -13.459723472595215, -39.03354263305664 -13.392431259155273, -38.91395950317383 -13.38277816772461, -38.903892517089844 -13.395278930664062, -38.8961181640625 -13.448890686035156, -38.89659881591797 -13.466388702392578, -38.906394958496094 -13.49333381652832, -38.93556213378906 -13.560556411743164, -38.94139099121094 -13.565279006958008)), ((-44.323890686035156 -23.221111297607422, -44.329444885253906 -23.220279693603516, -44.36819839477539 -23.174724578857422, -44.3668098449707 -23.163612365722656, -44.23167037963867 -23.07166862487793, -44.11222839355469 -23.12722396850586, -44.08458709716797 -23.168821334838867, -44.10444641113281 -23.180835723876953, -44.177223205566406 -23.192222595214844, -44.241947174072266 -23.198196411132812, -44.25139617919922 -23.19028091430664, -44.268333435058594 -23.177501678466797, -44.29833984375 -23.17722511291504, -44.31195068359375 -23.196666717529297, -44.323890686035156 -23.221111297607422)), ((-45.24333953857422 -23.96722412109375, -45.274444580078125 -23.950836181640625, -45.341949462890625 -23.929168701171875, -45.35430908203125 -23.93514060974121, -45.36944580078125 -23.938335418701172, -45.40167236328125 -23.94000244140625, -45.41638946533203 -23.94000244140625, -45.42750549316406 -23.937225341796875, -45.43972396850586 -23.930696487426758, -45.44791793823242 -23.91750144958496, -45.45389175415039 -23.895973205566406, -45.44166946411133 -23.87139129638672, -45.43361282348633 -23.8648624420166, -45.410560607910156 -23.855003356933594, -45.393333435058594 -23.843334197998047, -45.38111114501953 -23.833335876464844, -45.360557556152344 -23.810001373291016, -45.350563049316406 -23.798057556152344, -45.3418083190918 -23.780834197998047, -45.335838317871094 -23.760833740234375, -45.332645416259766 -23.74555778503418, -45.32194900512695 -23.726947784423828, -45.31111526489258 -23.72416877746582, -45.26472473144531 -23.739168167114258, -45.253334045410156 -23.74639129638672, -45.22236633300781 -23.777362823486328, -45.21417236328125 -23.94875144958496, -45.220558166503906 -23.957223892211914, -45.232505798339844 -23.963611602783203, -45.24333953857422 -23.96722412109375)), ((-48.585838317871094 -26.425556182861328, -48.62611389160156 -26.393333435058594, -48.70569610595703 -26.308820724487305, -48.542572021484375 -26.167987823486328, -48.526390075683594 -26.17055892944336, -48.515838623046875 -26.17819595336914, -48.48500061035156 -26.231529235839844, -48.49028015136719 -26.243057250976562, -48.517784118652344 -26.28000259399414, -48.529170989990234 -26.29389190673828, -48.540283203125 -26.307781219482422, -48.545005798339844 -26.317222595214844, -48.58000564575195 -26.389169692993164, -48.585838317871094 -26.425556182861328)), ((-48.556671142578125 -27.82278060913086, -48.56542205810547 -27.81507110595703, -48.566253662109375 -27.795833587646484, -48.550559997558594 -27.69611358642578, -48.53166961669922 -27.64694595336914, -48.501949310302734 -27.55889129638672, -48.50222396850586 -27.54680633544922, -48.52166748046875 -27.518333435058594, -48.52777862548828 -27.491668701171875, -48.52361297607422 -27.466392517089844, -48.51778030395508 -27.433197021484375, -48.42778396606445 -27.389446258544922, -48.413543701171875 -27.39291763305664, -48.37153244018555 -27.446666717529297, -48.406394958496094 -27.59278106689453, -48.412506103515625 -27.601112365722656, -48.448333740234375 -27.630836486816406, -48.458892822265625 -27.641944885253906, -48.496673583984375 -27.71139144897461, -48.50014114379883 -27.72555923461914, -48.49903106689453 -27.737503051757812, -48.492225646972656 -27.748611450195312, -48.48500061035156 -27.75611114501953, -48.47972869873047 -27.768335342407227, -48.484169006347656 -27.778335571289062, -48.540557861328125 -27.816669464111328, -48.550559997558594 -27.821392059326172, -48.556671142578125 -27.82278060913086)))\"\n        ],\n        \"semantic_type\": \"\",\n        \"description\": \"\"\n      }\n    }\n  ]\n}"
            }
          },
          "metadata": {},
          "execution_count": 104
        }
      ]
    },
    {
      "cell_type": "code",
      "execution_count": 105,
      "metadata": {
        "id": "SPHIKjXnxk4S"
      },
      "outputs": [],
      "source": [
        "brazil=countries[countries.COUNTRY=='Brazil']"
      ]
    },
    {
      "cell_type": "code",
      "execution_count": 106,
      "metadata": {
        "id": "032135e2-edb7-42fd-908e-8873d3e6683e",
        "colab": {
          "base_uri": "https://localhost:8080/"
        },
        "outputId": "19065d83-7eb5-45f1-8e28-6ad03073b358"
      },
      "outputs": [
        {
          "output_type": "execute_result",
          "data": {
            "text/plain": [
              "<Geographic 2D CRS: EPSG:4326>\n",
              "Name: WGS 84\n",
              "Axis Info [ellipsoidal]:\n",
              "- Lat[north]: Geodetic latitude (degree)\n",
              "- Lon[east]: Geodetic longitude (degree)\n",
              "Area of Use:\n",
              "- name: World.\n",
              "- bounds: (-180.0, -90.0, 180.0, 90.0)\n",
              "Datum: World Geodetic System 1984 ensemble\n",
              "- Ellipsoid: WGS 84\n",
              "- Prime Meridian: Greenwich"
            ]
          },
          "metadata": {},
          "execution_count": 106
        }
      ],
      "source": [
        "brazil.crs"
      ]
    },
    {
      "cell_type": "code",
      "execution_count": 107,
      "metadata": {
        "id": "d6125ed3-d5da-46ed-b530-532a30ec35f8",
        "colab": {
          "base_uri": "https://localhost:8080/"
        },
        "outputId": "e331a6f6-7653-4554-931e-fc123fc0cd8d"
      },
      "outputs": [
        {
          "output_type": "execute_result",
          "data": {
            "text/plain": [
              "[Axis(name=Geodetic latitude, abbrev=Lat, direction=north, unit_auth_code=EPSG, unit_code=9122, unit_name=degree),\n",
              " Axis(name=Geodetic longitude, abbrev=Lon, direction=east, unit_auth_code=EPSG, unit_code=9122, unit_name=degree)]"
            ]
          },
          "metadata": {},
          "execution_count": 107
        }
      ],
      "source": [
        "# check units of measurement\n",
        "brazil.crs.axis_info"
      ]
    },
    {
      "cell_type": "code",
      "execution_count": 108,
      "metadata": {
        "id": "7b4fa59a-25e3-4ef2-8b2e-9e868d92c5a1",
        "colab": {
          "base_uri": "https://localhost:8080/"
        },
        "outputId": "a65831cf-1dd7-4d6d-95ec-32caff6b25a6"
      },
      "outputs": [
        {
          "output_type": "execute_result",
          "data": {
            "text/plain": [
              "False"
            ]
          },
          "metadata": {},
          "execution_count": 108
        }
      ],
      "source": [
        "# is this CRS projected?\n",
        "brazil.crs.is_projected"
      ]
    },
    {
      "cell_type": "markdown",
      "metadata": {
        "id": "2005d64e-0437-4b66-8f93-e170ffe5f1d1"
      },
      "source": [
        "Polygons have a centroid. When we try getting a centroid from an **unprojected** polygon, you get:"
      ]
    },
    {
      "cell_type": "code",
      "execution_count": 109,
      "metadata": {
        "id": "d1dde3fd-bfcb-4004-89fa-2c9bb3f8d784",
        "colab": {
          "base_uri": "https://localhost:8080/",
          "height": 190
        },
        "outputId": "88111234-12f5-438a-ae5a-0529eba71faf"
      },
      "outputs": [
        {
          "output_type": "stream",
          "name": "stderr",
          "text": [
            "<ipython-input-109-7f66e1ea2110>:2: UserWarning: Geometry is in a geographic CRS. Results from 'centroid' are likely incorrect. Use 'GeoSeries.to_crs()' to re-project geometries to a projected CRS before this operation.\n",
            "\n",
            "  brazil.centroid\n"
          ]
        },
        {
          "output_type": "execute_result",
          "data": {
            "text/plain": [
              "29    POINT (-53.09009 -10.77302)\n",
              "dtype: geometry"
            ],
            "text/html": [
              "<div>\n",
              "<style scoped>\n",
              "    .dataframe tbody tr th:only-of-type {\n",
              "        vertical-align: middle;\n",
              "    }\n",
              "\n",
              "    .dataframe tbody tr th {\n",
              "        vertical-align: top;\n",
              "    }\n",
              "\n",
              "    .dataframe thead th {\n",
              "        text-align: right;\n",
              "    }\n",
              "</style>\n",
              "<table border=\"1\" class=\"dataframe\">\n",
              "  <thead>\n",
              "    <tr style=\"text-align: right;\">\n",
              "      <th></th>\n",
              "      <th>0</th>\n",
              "    </tr>\n",
              "  </thead>\n",
              "  <tbody>\n",
              "    <tr>\n",
              "      <th>29</th>\n",
              "      <td>POINT (-53.09009 -10.77302)</td>\n",
              "    </tr>\n",
              "  </tbody>\n",
              "</table>\n",
              "</div><br><label><b>dtype:</b> geometry</label>"
            ]
          },
          "metadata": {},
          "execution_count": 109
        }
      ],
      "source": [
        "# centroid\n",
        "brazil.centroid"
      ]
    },
    {
      "cell_type": "markdown",
      "metadata": {
        "id": "a182ba5b-fb0a-4c43-beeb-0a6c2a4fcfc8"
      },
      "source": [
        "## Reprojecting\n",
        "\n",
        "A projected CRS will have units in meters or feet (or similar). You can request a crs per country [here](https://epsg.io/?q=brazil+kind%3APROJCRS):"
      ]
    },
    {
      "cell_type": "code",
      "execution_count": 110,
      "metadata": {
        "id": "8c63293a-d9a0-4869-a7e8-7fbe2f4bbb59",
        "colab": {
          "base_uri": "https://localhost:8080/"
        },
        "outputId": "dd822b06-047a-4624-c649-4d4c5429a067"
      },
      "outputs": [
        {
          "output_type": "execute_result",
          "data": {
            "text/plain": [
              "[Axis(name=Easting, abbrev=X, direction=east, unit_auth_code=EPSG, unit_code=9001, unit_name=metre),\n",
              " Axis(name=Northing, abbrev=Y, direction=north, unit_auth_code=EPSG, unit_code=9001, unit_name=metre)]"
            ]
          },
          "metadata": {},
          "execution_count": 110
        }
      ],
      "source": [
        "# recommended for Brazil (meters)\n",
        "brazil.to_crs(5641).crs.axis_info"
      ]
    },
    {
      "cell_type": "code",
      "execution_count": 111,
      "metadata": {
        "id": "3c24db6e-8716-4f59-9a81-fead758b59e6",
        "colab": {
          "base_uri": "https://localhost:8080/",
          "height": 115
        },
        "outputId": "a7096349-69d5-4f67-9f9f-9f6bd141511a"
      },
      "outputs": [
        {
          "output_type": "execute_result",
          "data": {
            "text/plain": [
              "29    POINT (3884486.179 8756856.093)\n",
              "dtype: geometry"
            ],
            "text/html": [
              "<div>\n",
              "<style scoped>\n",
              "    .dataframe tbody tr th:only-of-type {\n",
              "        vertical-align: middle;\n",
              "    }\n",
              "\n",
              "    .dataframe tbody tr th {\n",
              "        vertical-align: top;\n",
              "    }\n",
              "\n",
              "    .dataframe thead th {\n",
              "        text-align: right;\n",
              "    }\n",
              "</style>\n",
              "<table border=\"1\" class=\"dataframe\">\n",
              "  <thead>\n",
              "    <tr style=\"text-align: right;\">\n",
              "      <th></th>\n",
              "      <th>0</th>\n",
              "    </tr>\n",
              "  </thead>\n",
              "  <tbody>\n",
              "    <tr>\n",
              "      <th>29</th>\n",
              "      <td>POINT (3884486.179 8756856.093)</td>\n",
              "    </tr>\n",
              "  </tbody>\n",
              "</table>\n",
              "</div><br><label><b>dtype:</b> geometry</label>"
            ]
          },
          "metadata": {},
          "execution_count": 111
        }
      ],
      "source": [
        "# now this works with no warning\n",
        "brazil.to_crs(5641).centroid"
      ]
    },
    {
      "cell_type": "code",
      "execution_count": 112,
      "metadata": {
        "id": "7c8e31a4-54d4-4c95-adb7-81b1466e9938",
        "colab": {
          "base_uri": "https://localhost:8080/",
          "height": 481
        },
        "outputId": "16c789a6-7f36-424f-d185-23e7f899c379"
      },
      "outputs": [
        {
          "output_type": "execute_result",
          "data": {
            "text/plain": [
              "<Axes: >"
            ]
          },
          "metadata": {},
          "execution_count": 112
        },
        {
          "output_type": "display_data",
          "data": {
            "text/plain": [
              "<Figure size 640x480 with 1 Axes>"
            ],
            "image/png": "[encoded data removed]"
          },
          "metadata": {}
        }
      ],
      "source": [
        "# replotting:\n",
        "\n",
        "base5641=brazil.to_crs(5641).plot()\n",
        "brazil.to_crs(5641).centroid.plot(color='red',ax=base5641)"
      ]
    },
    {
      "cell_type": "markdown",
      "metadata": {
        "id": "7402b0e4-fda8-431b-ad8d-62e0c12278f6"
      },
      "source": [
        "Let's keep the projected version for all our maps:"
      ]
    },
    {
      "cell_type": "code",
      "source": [
        "cities"
      ],
      "metadata": {
        "colab": {
          "base_uri": "https://localhost:8080/",
          "height": 423
        },
        "id": "9oW8HT7Jgo0s",
        "outputId": "0ee43b61-4d67-4b0e-90b2-0f3461464c57"
      },
      "execution_count": 117,
      "outputs": [
        {
          "output_type": "execute_result",
          "data": {
            "text/plain": [
              "                 NAME      COUNTRY CAPITAL                    geometry\n",
              "0            Murmansk       Russia       N   POINT (33.08604 68.96355)\n",
              "1         Arkhangelsk       Russia       N   POINT (40.64616 64.52067)\n",
              "2    Saint Petersburg       Russia       N   POINT (30.45333 59.95189)\n",
              "3             Magadan       Russia       N    POINT (150.78001 59.571)\n",
              "4               Perm'       Russia       N   POINT (56.23246 58.00024)\n",
              "..                ...          ...     ...                         ...\n",
              "605         Singapore    Singapore       N   POINT (103.82688 1.34654)\n",
              "606              Gaza    Palestine       N   POINT (34.41939 31.46288)\n",
              "607              Juba  South Sudan       Y    POINT (31.76671 4.57511)\n",
              "608              Dili   East Timor       Y  POINT (125.67275 -8.56601)\n",
              "609             Abuja      Nigeria       Y     POINT (7.45338 9.22675)\n",
              "\n",
              "[610 rows x 4 columns]"
            ],
            "text/html": [
              "\n",
              "  <div id=\"df-d50238ef-6e97-4863-8c10-c748ad62214f\" class=\"colab-df-container\">\n",
              "    <div>\n",
              "<style scoped>\n",
              "    .dataframe tbody tr th:only-of-type {\n",
              "        vertical-align: middle;\n",
              "    }\n",
              "\n",
              "    .dataframe tbody tr th {\n",
              "        vertical-align: top;\n",
              "    }\n",
              "\n",
              "    .dataframe thead th {\n",
              "        text-align: right;\n",
              "    }\n",
              "</style>\n",
              "<table border=\"1\" class=\"dataframe\">\n",
              "  <thead>\n",
              "    <tr style=\"text-align: right;\">\n",
              "      <th></th>\n",
              "      <th>NAME</th>\n",
              "      <th>COUNTRY</th>\n",
              "      <th>CAPITAL</th>\n",
              "      <th>geometry</th>\n",
              "    </tr>\n",
              "  </thead>\n",
              "  <tbody>\n",
              "    <tr>\n",
              "      <th>0</th>\n",
              "      <td>Murmansk</td>\n",
              "      <td>Russia</td>\n",
              "      <td>N</td>\n",
              "      <td>POINT (33.08604 68.96355)</td>\n",
              "    </tr>\n",
              "    <tr>\n",
              "      <th>1</th>\n",
              "      <td>Arkhangelsk</td>\n",
              "      <td>Russia</td>\n",
              "      <td>N</td>\n",
              "      <td>POINT (40.64616 64.52067)</td>\n",
              "    </tr>\n",
              "    <tr>\n",
              "      <th>2</th>\n",
              "      <td>Saint Petersburg</td>\n",
              "      <td>Russia</td>\n",
              "      <td>N</td>\n",
              "      <td>POINT (30.45333 59.95189)</td>\n",
              "    </tr>\n",
              "    <tr>\n",
              "      <th>3</th>\n",
              "      <td>Magadan</td>\n",
              "      <td>Russia</td>\n",
              "      <td>N</td>\n",
              "      <td>POINT (150.78001 59.571)</td>\n",
              "    </tr>\n",
              "    <tr>\n",
              "      <th>4</th>\n",
              "      <td>Perm'</td>\n",
              "      <td>Russia</td>\n",
              "      <td>N</td>\n",
              "      <td>POINT (56.23246 58.00024)</td>\n",
              "    </tr>\n",
              "    <tr>\n",
              "      <th>...</th>\n",
              "      <td>...</td>\n",
              "      <td>...</td>\n",
              "      <td>...</td>\n",
              "      <td>...</td>\n",
              "    </tr>\n",
              "    <tr>\n",
              "      <th>605</th>\n",
              "      <td>Singapore</td>\n",
              "      <td>Singapore</td>\n",
              "      <td>N</td>\n",
              "      <td>POINT (103.82688 1.34654)</td>\n",
              "    </tr>\n",
              "    <tr>\n",
              "      <th>606</th>\n",
              "      <td>Gaza</td>\n",
              "      <td>Palestine</td>\n",
              "      <td>N</td>\n",
              "      <td>POINT (34.41939 31.46288)</td>\n",
              "    </tr>\n",
              "    <tr>\n",
              "      <th>607</th>\n",
              "      <td>Juba</td>\n",
              "      <td>South Sudan</td>\n",
              "      <td>Y</td>\n",
              "      <td>POINT (31.76671 4.57511)</td>\n",
              "    </tr>\n",
              "    <tr>\n",
              "      <th>608</th>\n",
              "      <td>Dili</td>\n",
              "      <td>East Timor</td>\n",
              "      <td>Y</td>\n",
              "      <td>POINT (125.67275 -8.56601)</td>\n",
              "    </tr>\n",
              "    <tr>\n",
              "      <th>609</th>\n",
              "      <td>Abuja</td>\n",
              "      <td>Nigeria</td>\n",
              "      <td>Y</td>\n",
              "      <td>POINT (7.45338 9.22675)</td>\n",
              "    </tr>\n",
              "  </tbody>\n",
              "</table>\n",
              "<p>610 rows × 4 columns</p>\n",
              "</div>\n",
              "    <div class=\"colab-df-buttons\">\n",
              "\n",
              "  <div class=\"colab-df-container\">\n",
              "    <button class=\"colab-df-convert\" onclick=\"convertToInteractive('df-d50238ef-6e97-4863-8c10-c748ad62214f')\"\n",
              "            title=\"Convert this dataframe to an interactive table.\"\n",
              "            style=\"display:none;\">\n",
              "\n",
              "  <svg xmlns=\"http://www.w3.org/2000/svg\" height=\"24px\" viewBox=\"0 -960 960 960\">\n",
              "    <path d=\"M120-120v-720h720v720H120Zm60-500h600v-160H180v160Zm220 220h160v-160H400v160Zm0 220h160v-160H400v160ZM180-400h160v-160H180v160Zm440 0h160v-160H620v160ZM180-180h160v-160H180v160Zm440 0h160v-160H620v160Z\"/>\n",
              "  </svg>\n",
              "    </button>\n",
              "\n",
              "  <style>\n",
              "    .colab-df-container {\n",
              "      display:flex;\n",
              "      gap: 12px;\n",
              "    }\n",
              "\n",
              "    .colab-df-convert {\n",
              "      background-color: #E8F0FE;\n",
              "      border: none;\n",
              "      border-radius: 50%;\n",
              "      cursor: pointer;\n",
              "      display: none;\n",
              "      fill: #1967D2;\n",
              "      height: 32px;\n",
              "      padding: 0 0 0 0;\n",
              "      width: 32px;\n",
              "    }\n",
              "\n",
              "    .colab-df-convert:hover {\n",
              "      background-color: #E2EBFA;\n",
              "      box-shadow: 0px 1px 2px rgba(60, 64, 67, 0.3), 0px 1px 3px 1px rgba(60, 64, 67, 0.15);\n",
              "      fill: #174EA6;\n",
              "    }\n",
              "\n",
              "    .colab-df-buttons div {\n",
              "      margin-bottom: 4px;\n",
              "    }\n",
              "\n",
              "    [theme=dark] .colab-df-convert {\n",
              "      background-color: #3B4455;\n",
              "      fill: #D2E3FC;\n",
              "    }\n",
              "\n",
              "    [theme=dark] .colab-df-convert:hover {\n",
              "      background-color: #434B5C;\n",
              "      box-shadow: 0px 1px 3px 1px rgba(0, 0, 0, 0.15);\n",
              "      filter: drop-shadow(0px 1px 2px rgba(0, 0, 0, 0.3));\n",
              "      fill: #FFFFFF;\n",
              "    }\n",
              "  </style>\n",
              "\n",
              "    <script>\n",
              "      const buttonEl =\n",
              "        document.querySelector('#df-d50238ef-6e97-4863-8c10-c748ad62214f button.colab-df-convert');\n",
              "      buttonEl.style.display =\n",
              "        google.colab.kernel.accessAllowed ? 'block' : 'none';\n",
              "\n",
              "      async function convertToInteractive(key) {\n",
              "        const element = document.querySelector('#df-d50238ef-6e97-4863-8c10-c748ad62214f');\n",
              "        const dataTable =\n",
              "          await google.colab.kernel.invokeFunction('convertToInteractive',\n",
              "                                                    [key], {});\n",
              "        if (!dataTable) return;\n",
              "\n",
              "        const docLinkHtml = 'Like what you see? Visit the ' +\n",
              "          '<a target=\"_blank\" href=https://colab.research.google.com/notebooks/data_table.ipynb>data table notebook</a>'\n",
              "          + ' to learn more about interactive tables.';\n",
              "        element.innerHTML = '';\n",
              "        dataTable['output_type'] = 'display_data';\n",
              "        await google.colab.output.renderOutput(dataTable, element);\n",
              "        const docLink = document.createElement('div');\n",
              "        docLink.innerHTML = docLinkHtml;\n",
              "        element.appendChild(docLink);\n",
              "      }\n",
              "    </script>\n",
              "  </div>\n",
              "\n",
              "\n",
              "<div id=\"df-40f82d3d-ab24-4440-b942-f55c4d128fff\">\n",
              "  <button class=\"colab-df-quickchart\" onclick=\"quickchart('df-40f82d3d-ab24-4440-b942-f55c4d128fff')\"\n",
              "            title=\"Suggest charts\"\n",
              "            style=\"display:none;\">\n",
              "\n",
              "<svg xmlns=\"http://www.w3.org/2000/svg\" height=\"24px\"viewBox=\"0 0 24 24\"\n",
              "     width=\"24px\">\n",
              "    <g>\n",
              "        <path d=\"M19 3H5c-1.1 0-2 .9-2 2v14c0 1.1.9 2 2 2h14c1.1 0 2-.9 2-2V5c0-1.1-.9-2-2-2zM9 17H7v-7h2v7zm4 0h-2V7h2v10zm4 0h-2v-4h2v4z\"/>\n",
              "    </g>\n",
              "</svg>\n",
              "  </button>\n",
              "\n",
              "<style>\n",
              "  .colab-df-quickchart {\n",
              "      --bg-color: #E8F0FE;\n",
              "      --fill-color: #1967D2;\n",
              "      --hover-bg-color: #E2EBFA;\n",
              "      --hover-fill-color: #174EA6;\n",
              "      --disabled-fill-color: #AAA;\n",
              "      --disabled-bg-color: #DDD;\n",
              "  }\n",
              "\n",
              "  [theme=dark] .colab-df-quickchart {\n",
              "      --bg-color: #3B4455;\n",
              "      --fill-color: #D2E3FC;\n",
              "      --hover-bg-color: #434B5C;\n",
              "      --hover-fill-color: #FFFFFF;\n",
              "      --disabled-bg-color: #3B4455;\n",
              "      --disabled-fill-color: #666;\n",
              "  }\n",
              "\n",
              "  .colab-df-quickchart {\n",
              "    background-color: var(--bg-color);\n",
              "    border: none;\n",
              "    border-radius: 50%;\n",
              "    cursor: pointer;\n",
              "    display: none;\n",
              "    fill: var(--fill-color);\n",
              "    height: 32px;\n",
              "    padding: 0;\n",
              "    width: 32px;\n",
              "  }\n",
              "\n",
              "  .colab-df-quickchart:hover {\n",
              "    background-color: var(--hover-bg-color);\n",
              "    box-shadow: 0 1px 2px rgba(60, 64, 67, 0.3), 0 1px 3px 1px rgba(60, 64, 67, 0.15);\n",
              "    fill: var(--button-hover-fill-color);\n",
              "  }\n",
              "\n",
              "  .colab-df-quickchart-complete:disabled,\n",
              "  .colab-df-quickchart-complete:disabled:hover {\n",
              "    background-color: var(--disabled-bg-color);\n",
              "    fill: var(--disabled-fill-color);\n",
              "    box-shadow: none;\n",
              "  }\n",
              "\n",
              "  .colab-df-spinner {\n",
              "    border: 2px solid var(--fill-color);\n",
              "    border-color: transparent;\n",
              "    border-bottom-color: var(--fill-color);\n",
              "    animation:\n",
              "      spin 1s steps(1) infinite;\n",
              "  }\n",
              "\n",
              "  @keyframes spin {\n",
              "    0% {\n",
              "      border-color: transparent;\n",
              "      border-bottom-color: var(--fill-color);\n",
              "      border-left-color: var(--fill-color);\n",
              "    }\n",
              "    20% {\n",
              "      border-color: transparent;\n",
              "      border-left-color: var(--fill-color);\n",
              "      border-top-color: var(--fill-color);\n",
              "    }\n",
              "    30% {\n",
              "      border-color: transparent;\n",
              "      border-left-color: var(--fill-color);\n",
              "      border-top-color: var(--fill-color);\n",
              "      border-right-color: var(--fill-color);\n",
              "    }\n",
              "    40% {\n",
              "      border-color: transparent;\n",
              "      border-right-color: var(--fill-color);\n",
              "      border-top-color: var(--fill-color);\n",
              "    }\n",
              "    60% {\n",
              "      border-color: transparent;\n",
              "      border-right-color: var(--fill-color);\n",
              "    }\n",
              "    80% {\n",
              "      border-color: transparent;\n",
              "      border-right-color: var(--fill-color);\n",
              "      border-bottom-color: var(--fill-color);\n",
              "    }\n",
              "    90% {\n",
              "      border-color: transparent;\n",
              "      border-bottom-color: var(--fill-color);\n",
              "    }\n",
              "  }\n",
              "</style>\n",
              "\n",
              "  <script>\n",
              "    async function quickchart(key) {\n",
              "      const quickchartButtonEl =\n",
              "        document.querySelector('#' + key + ' button');\n",
              "      quickchartButtonEl.disabled = true;  // To prevent multiple clicks.\n",
              "      quickchartButtonEl.classList.add('colab-df-spinner');\n",
              "      try {\n",
              "        const charts = await google.colab.kernel.invokeFunction(\n",
              "            'suggestCharts', [key], {});\n",
              "      } catch (error) {\n",
              "        console.error('Error during call to suggestCharts:', error);\n",
              "      }\n",
              "      quickchartButtonEl.classList.remove('colab-df-spinner');\n",
              "      quickchartButtonEl.classList.add('colab-df-quickchart-complete');\n",
              "    }\n",
              "    (() => {\n",
              "      let quickchartButtonEl =\n",
              "        document.querySelector('#df-40f82d3d-ab24-4440-b942-f55c4d128fff button');\n",
              "      quickchartButtonEl.style.display =\n",
              "        google.colab.kernel.accessAllowed ? 'block' : 'none';\n",
              "    })();\n",
              "  </script>\n",
              "</div>\n",
              "\n",
              "  <div id=\"id_9b9a044a-5b56-4dd2-a8d0-7a697577b9d7\">\n",
              "    <style>\n",
              "      .colab-df-generate {\n",
              "        background-color: #E8F0FE;\n",
              "        border: none;\n",
              "        border-radius: 50%;\n",
              "        cursor: pointer;\n",
              "        display: none;\n",
              "        fill: #1967D2;\n",
              "        height: 32px;\n",
              "        padding: 0 0 0 0;\n",
              "        width: 32px;\n",
              "      }\n",
              "\n",
              "      .colab-df-generate:hover {\n",
              "        background-color: #E2EBFA;\n",
              "        box-shadow: 0px 1px 2px rgba(60, 64, 67, 0.3), 0px 1px 3px 1px rgba(60, 64, 67, 0.15);\n",
              "        fill: #174EA6;\n",
              "      }\n",
              "\n",
              "      [theme=dark] .colab-df-generate {\n",
              "        background-color: #3B4455;\n",
              "        fill: #D2E3FC;\n",
              "      }\n",
              "\n",
              "      [theme=dark] .colab-df-generate:hover {\n",
              "        background-color: #434B5C;\n",
              "        box-shadow: 0px 1px 3px 1px rgba(0, 0, 0, 0.15);\n",
              "        filter: drop-shadow(0px 1px 2px rgba(0, 0, 0, 0.3));\n",
              "        fill: #FFFFFF;\n",
              "      }\n",
              "    </style>\n",
              "    <button class=\"colab-df-generate\" onclick=\"generateWithVariable('cities')\"\n",
              "            title=\"Generate code using this dataframe.\"\n",
              "            style=\"display:none;\">\n",
              "\n",
              "  <svg xmlns=\"http://www.w3.org/2000/svg\" height=\"24px\"viewBox=\"0 0 24 24\"\n",
              "       width=\"24px\">\n",
              "    <path d=\"M7,19H8.4L18.45,9,17,7.55,7,17.6ZM5,21V16.75L18.45,3.32a2,2,0,0,1,2.83,0l1.4,1.43a1.91,1.91,0,0,1,.58,1.4,1.91,1.91,0,0,1-.58,1.4L9.25,21ZM18.45,9,17,7.55Zm-12,3A5.31,5.31,0,0,0,4.9,8.1,5.31,5.31,0,0,0,1,6.5,5.31,5.31,0,0,0,4.9,4.9,5.31,5.31,0,0,0,6.5,1,5.31,5.31,0,0,0,8.1,4.9,5.31,5.31,0,0,0,12,6.5,5.46,5.46,0,0,0,6.5,12Z\"/>\n",
              "  </svg>\n",
              "    </button>\n",
              "    <script>\n",
              "      (() => {\n",
              "      const buttonEl =\n",
              "        document.querySelector('#id_9b9a044a-5b56-4dd2-a8d0-7a697577b9d7 button.colab-df-generate');\n",
              "      buttonEl.style.display =\n",
              "        google.colab.kernel.accessAllowed ? 'block' : 'none';\n",
              "\n",
              "      buttonEl.onclick = () => {\n",
              "        google.colab.notebook.generateWithVariable('cities');\n",
              "      }\n",
              "      })();\n",
              "    </script>\n",
              "  </div>\n",
              "\n",
              "    </div>\n",
              "  </div>\n"
            ],
            "application/vnd.google.colaboratory.intrinsic+json": {
              "type": "dataframe",
              "variable_name": "cities",
              "summary": "{\n  \"name\": \"cities\",\n  \"rows\": 610,\n  \"fields\": [\n    {\n      \"column\": \"NAME\",\n      \"properties\": {\n        \"dtype\": \"string\",\n        \"num_unique_values\": 606,\n        \"samples\": [\n          \"Tel Aviv-Yafo\",\n          \"Santiago\",\n          \"Ottawa\"\n        ],\n        \"semantic_type\": \"\",\n        \"description\": \"\"\n      }\n    },\n    {\n      \"column\": \"COUNTRY\",\n      \"properties\": {\n        \"dtype\": \"category\",\n        \"num_unique_values\": 168,\n        \"samples\": [\n          \"Sri Lanka\",\n          \"Armenia\",\n          \"Djibouti\"\n        ],\n        \"semantic_type\": \"\",\n        \"description\": \"\"\n      }\n    },\n    {\n      \"column\": \"CAPITAL\",\n      \"properties\": {\n        \"dtype\": \"category\",\n        \"num_unique_values\": 2,\n        \"samples\": [\n          \"Y\",\n          \"N\"\n        ],\n        \"semantic_type\": \"\",\n        \"description\": \"\"\n      }\n    },\n    {\n      \"column\": \"geometry\",\n      \"properties\": {\n        \"dtype\": \"geometry\",\n        \"num_unique_values\": 610,\n        \"samples\": [\n          \"POINT (26.122976303100586 44.430484771728516)\",\n          \"POINT (-103.34379577636719 20.67359161376953)\"\n        ],\n        \"semantic_type\": \"\",\n        \"description\": \"\"\n      }\n    }\n  ]\n}"
            }
          },
          "metadata": {},
          "execution_count": 117
        }
      ]
    },
    {
      "cell_type": "code",
      "source": [
        "cities[cities.COUNTRY=='Brazil']"
      ],
      "metadata": {
        "id": "i95KILq8oN4d",
        "outputId": "00ab31cd-a8c9-4210-ec24-7ad7f2ac3db5",
        "colab": {
          "base_uri": "https://localhost:8080/",
          "height": 645
        }
      },
      "execution_count": 118,
      "outputs": [
        {
          "output_type": "execute_result",
          "data": {
            "text/plain": [
              "               NAME COUNTRY CAPITAL                     geometry\n",
              "261       Fortaleza  Brazil       N    POINT (-38.5889 -3.78332)\n",
              "266          Recife  Brazil       N   POINT (-34.91464 -8.08517)\n",
              "268        Brasilia  Brazil       Y  POINT (-47.89775 -15.79211)\n",
              "271         Goiania  Brazil       N   POINT (-49.25481 -16.7267)\n",
              "274  Belo Horizonte  Brazil       N  POINT (-43.90907 -19.85172)\n",
              "275  Rio de Janeiro  Brazil       N  POINT (-43.45518 -22.72157)\n",
              "276       Sao Paulo  Brazil       N    POINT (-46.6229 -23.5813)\n",
              "277          Santos  Brazil       N   POINT (-46.30949 -23.9547)\n",
              "279        Curitiba  Brazil       N  POINT (-49.28451 -25.43048)\n",
              "285    Porto Alegre  Brazil       N  POINT (-51.20799 -30.03953)\n",
              "318           Belem  Brazil       N   POINT (-48.31628 -1.60533)\n",
              "338     Porto Velho  Brazil       N          POINT (-63.9 -8.75)\n",
              "340          Cuiaba  Brazil       N        POINT (-56.05 -15.55)\n",
              "380          Manaus  Brazil       N    POINT (-60.01462 -3.1223)\n",
              "381        Santarem  Brazil       N         POINT (-54.61 -2.46)\n",
              "421       Boa Vista  Brazil       N           POINT (-60.5 2.75)\n",
              "447           Natal  Brazil       N         POINT (-35.25 -5.78)\n",
              "466        Sao Luis  Brazil       N       POINT (-44.43006 -2.5)\n",
              "568        Salvador  Brazil       N     POINT (-38.48 -12.60026)"
            ],
            "text/html": [
              "\n",
              "  <div id=\"df-9316df5c-5736-4617-8b67-a53407b130ec\" class=\"colab-df-container\">\n",
              "    <div>\n",
              "<style scoped>\n",
              "    .dataframe tbody tr th:only-of-type {\n",
              "        vertical-align: middle;\n",
              "    }\n",
              "\n",
              "    .dataframe tbody tr th {\n",
              "        vertical-align: top;\n",
              "    }\n",
              "\n",
              "    .dataframe thead th {\n",
              "        text-align: right;\n",
              "    }\n",
              "</style>\n",
              "<table border=\"1\" class=\"dataframe\">\n",
              "  <thead>\n",
              "    <tr style=\"text-align: right;\">\n",
              "      <th></th>\n",
              "      <th>NAME</th>\n",
              "      <th>COUNTRY</th>\n",
              "      <th>CAPITAL</th>\n",
              "      <th>geometry</th>\n",
              "    </tr>\n",
              "  </thead>\n",
              "  <tbody>\n",
              "    <tr>\n",
              "      <th>261</th>\n",
              "      <td>Fortaleza</td>\n",
              "      <td>Brazil</td>\n",
              "      <td>N</td>\n",
              "      <td>POINT (-38.5889 -3.78332)</td>\n",
              "    </tr>\n",
              "    <tr>\n",
              "      <th>266</th>\n",
              "      <td>Recife</td>\n",
              "      <td>Brazil</td>\n",
              "      <td>N</td>\n",
              "      <td>POINT (-34.91464 -8.08517)</td>\n",
              "    </tr>\n",
              "    <tr>\n",
              "      <th>268</th>\n",
              "      <td>Brasilia</td>\n",
              "      <td>Brazil</td>\n",
              "      <td>Y</td>\n",
              "      <td>POINT (-47.89775 -15.79211)</td>\n",
              "    </tr>\n",
              "    <tr>\n",
              "      <th>271</th>\n",
              "      <td>Goiania</td>\n",
              "      <td>Brazil</td>\n",
              "      <td>N</td>\n",
              "      <td>POINT (-49.25481 -16.7267)</td>\n",
              "    </tr>\n",
              "    <tr>\n",
              "      <th>274</th>\n",
              "      <td>Belo Horizonte</td>\n",
              "      <td>Brazil</td>\n",
              "      <td>N</td>\n",
              "      <td>POINT (-43.90907 -19.85172)</td>\n",
              "    </tr>\n",
              "    <tr>\n",
              "      <th>275</th>\n",
              "      <td>Rio de Janeiro</td>\n",
              "      <td>Brazil</td>\n",
              "      <td>N</td>\n",
              "      <td>POINT (-43.45518 -22.72157)</td>\n",
              "    </tr>\n",
              "    <tr>\n",
              "      <th>276</th>\n",
              "      <td>Sao Paulo</td>\n",
              "      <td>Brazil</td>\n",
              "      <td>N</td>\n",
              "      <td>POINT (-46.6229 -23.5813)</td>\n",
              "    </tr>\n",
              "    <tr>\n",
              "      <th>277</th>\n",
              "      <td>Santos</td>\n",
              "      <td>Brazil</td>\n",
              "      <td>N</td>\n",
              "      <td>POINT (-46.30949 -23.9547)</td>\n",
              "    </tr>\n",
              "    <tr>\n",
              "      <th>279</th>\n",
              "      <td>Curitiba</td>\n",
              "      <td>Brazil</td>\n",
              "      <td>N</td>\n",
              "      <td>POINT (-49.28451 -25.43048)</td>\n",
              "    </tr>\n",
              "    <tr>\n",
              "      <th>285</th>\n",
              "      <td>Porto Alegre</td>\n",
              "      <td>Brazil</td>\n",
              "      <td>N</td>\n",
              "      <td>POINT (-51.20799 -30.03953)</td>\n",
              "    </tr>\n",
              "    <tr>\n",
              "      <th>318</th>\n",
              "      <td>Belem</td>\n",
              "      <td>Brazil</td>\n",
              "      <td>N</td>\n",
              "      <td>POINT (-48.31628 -1.60533)</td>\n",
              "    </tr>\n",
              "    <tr>\n",
              "      <th>338</th>\n",
              "      <td>Porto Velho</td>\n",
              "      <td>Brazil</td>\n",
              "      <td>N</td>\n",
              "      <td>POINT (-63.9 -8.75)</td>\n",
              "    </tr>\n",
              "    <tr>\n",
              "      <th>340</th>\n",
              "      <td>Cuiaba</td>\n",
              "      <td>Brazil</td>\n",
              "      <td>N</td>\n",
              "      <td>POINT (-56.05 -15.55)</td>\n",
              "    </tr>\n",
              "    <tr>\n",
              "      <th>380</th>\n",
              "      <td>Manaus</td>\n",
              "      <td>Brazil</td>\n",
              "      <td>N</td>\n",
              "      <td>POINT (-60.01462 -3.1223)</td>\n",
              "    </tr>\n",
              "    <tr>\n",
              "      <th>381</th>\n",
              "      <td>Santarem</td>\n",
              "      <td>Brazil</td>\n",
              "      <td>N</td>\n",
              "      <td>POINT (-54.61 -2.46)</td>\n",
              "    </tr>\n",
              "    <tr>\n",
              "      <th>421</th>\n",
              "      <td>Boa Vista</td>\n",
              "      <td>Brazil</td>\n",
              "      <td>N</td>\n",
              "      <td>POINT (-60.5 2.75)</td>\n",
              "    </tr>\n",
              "    <tr>\n",
              "      <th>447</th>\n",
              "      <td>Natal</td>\n",
              "      <td>Brazil</td>\n",
              "      <td>N</td>\n",
              "      <td>POINT (-35.25 -5.78)</td>\n",
              "    </tr>\n",
              "    <tr>\n",
              "      <th>466</th>\n",
              "      <td>Sao Luis</td>\n",
              "      <td>Brazil</td>\n",
              "      <td>N</td>\n",
              "      <td>POINT (-44.43006 -2.5)</td>\n",
              "    </tr>\n",
              "    <tr>\n",
              "      <th>568</th>\n",
              "      <td>Salvador</td>\n",
              "      <td>Brazil</td>\n",
              "      <td>N</td>\n",
              "      <td>POINT (-38.48 -12.60026)</td>\n",
              "    </tr>\n",
              "  </tbody>\n",
              "</table>\n",
              "</div>\n",
              "    <div class=\"colab-df-buttons\">\n",
              "\n",
              "  <div class=\"colab-df-container\">\n",
              "    <button class=\"colab-df-convert\" onclick=\"convertToInteractive('df-9316df5c-5736-4617-8b67-a53407b130ec')\"\n",
              "            title=\"Convert this dataframe to an interactive table.\"\n",
              "            style=\"display:none;\">\n",
              "\n",
              "  <svg xmlns=\"http://www.w3.org/2000/svg\" height=\"24px\" viewBox=\"0 -960 960 960\">\n",
              "    <path d=\"M120-120v-720h720v720H120Zm60-500h600v-160H180v160Zm220 220h160v-160H400v160Zm0 220h160v-160H400v160ZM180-400h160v-160H180v160Zm440 0h160v-160H620v160ZM180-180h160v-160H180v160Zm440 0h160v-160H620v160Z\"/>\n",
              "  </svg>\n",
              "    </button>\n",
              "\n",
              "  <style>\n",
              "    .colab-df-container {\n",
              "      display:flex;\n",
              "      gap: 12px;\n",
              "    }\n",
              "\n",
              "    .colab-df-convert {\n",
              "      background-color: #E8F0FE;\n",
              "      border: none;\n",
              "      border-radius: 50%;\n",
              "      cursor: pointer;\n",
              "      display: none;\n",
              "      fill: #1967D2;\n",
              "      height: 32px;\n",
              "      padding: 0 0 0 0;\n",
              "      width: 32px;\n",
              "    }\n",
              "\n",
              "    .colab-df-convert:hover {\n",
              "      background-color: #E2EBFA;\n",
              "      box-shadow: 0px 1px 2px rgba(60, 64, 67, 0.3), 0px 1px 3px 1px rgba(60, 64, 67, 0.15);\n",
              "      fill: #174EA6;\n",
              "    }\n",
              "\n",
              "    .colab-df-buttons div {\n",
              "      margin-bottom: 4px;\n",
              "    }\n",
              "\n",
              "    [theme=dark] .colab-df-convert {\n",
              "      background-color: #3B4455;\n",
              "      fill: #D2E3FC;\n",
              "    }\n",
              "\n",
              "    [theme=dark] .colab-df-convert:hover {\n",
              "      background-color: #434B5C;\n",
              "      box-shadow: 0px 1px 3px 1px rgba(0, 0, 0, 0.15);\n",
              "      filter: drop-shadow(0px 1px 2px rgba(0, 0, 0, 0.3));\n",
              "      fill: #FFFFFF;\n",
              "    }\n",
              "  </style>\n",
              "\n",
              "    <script>\n",
              "      const buttonEl =\n",
              "        document.querySelector('#df-9316df5c-5736-4617-8b67-a53407b130ec button.colab-df-convert');\n",
              "      buttonEl.style.display =\n",
              "        google.colab.kernel.accessAllowed ? 'block' : 'none';\n",
              "\n",
              "      async function convertToInteractive(key) {\n",
              "        const element = document.querySelector('#df-9316df5c-5736-4617-8b67-a53407b130ec');\n",
              "        const dataTable =\n",
              "          await google.colab.kernel.invokeFunction('convertToInteractive',\n",
              "                                                    [key], {});\n",
              "        if (!dataTable) return;\n",
              "\n",
              "        const docLinkHtml = 'Like what you see? Visit the ' +\n",
              "          '<a target=\"_blank\" href=https://colab.research.google.com/notebooks/data_table.ipynb>data table notebook</a>'\n",
              "          + ' to learn more about interactive tables.';\n",
              "        element.innerHTML = '';\n",
              "        dataTable['output_type'] = 'display_data';\n",
              "        await google.colab.output.renderOutput(dataTable, element);\n",
              "        const docLink = document.createElement('div');\n",
              "        docLink.innerHTML = docLinkHtml;\n",
              "        element.appendChild(docLink);\n",
              "      }\n",
              "    </script>\n",
              "  </div>\n",
              "\n",
              "\n",
              "<div id=\"df-67e18f75-0b32-4b0b-b33b-bd8401dea118\">\n",
              "  <button class=\"colab-df-quickchart\" onclick=\"quickchart('df-67e18f75-0b32-4b0b-b33b-bd8401dea118')\"\n",
              "            title=\"Suggest charts\"\n",
              "            style=\"display:none;\">\n",
              "\n",
              "<svg xmlns=\"http://www.w3.org/2000/svg\" height=\"24px\"viewBox=\"0 0 24 24\"\n",
              "     width=\"24px\">\n",
              "    <g>\n",
              "        <path d=\"M19 3H5c-1.1 0-2 .9-2 2v14c0 1.1.9 2 2 2h14c1.1 0 2-.9 2-2V5c0-1.1-.9-2-2-2zM9 17H7v-7h2v7zm4 0h-2V7h2v10zm4 0h-2v-4h2v4z\"/>\n",
              "    </g>\n",
              "</svg>\n",
              "  </button>\n",
              "\n",
              "<style>\n",
              "  .colab-df-quickchart {\n",
              "      --bg-color: #E8F0FE;\n",
              "      --fill-color: #1967D2;\n",
              "      --hover-bg-color: #E2EBFA;\n",
              "      --hover-fill-color: #174EA6;\n",
              "      --disabled-fill-color: #AAA;\n",
              "      --disabled-bg-color: #DDD;\n",
              "  }\n",
              "\n",
              "  [theme=dark] .colab-df-quickchart {\n",
              "      --bg-color: #3B4455;\n",
              "      --fill-color: #D2E3FC;\n",
              "      --hover-bg-color: #434B5C;\n",
              "      --hover-fill-color: #FFFFFF;\n",
              "      --disabled-bg-color: #3B4455;\n",
              "      --disabled-fill-color: #666;\n",
              "  }\n",
              "\n",
              "  .colab-df-quickchart {\n",
              "    background-color: var(--bg-color);\n",
              "    border: none;\n",
              "    border-radius: 50%;\n",
              "    cursor: pointer;\n",
              "    display: none;\n",
              "    fill: var(--fill-color);\n",
              "    height: 32px;\n",
              "    padding: 0;\n",
              "    width: 32px;\n",
              "  }\n",
              "\n",
              "  .colab-df-quickchart:hover {\n",
              "    background-color: var(--hover-bg-color);\n",
              "    box-shadow: 0 1px 2px rgba(60, 64, 67, 0.3), 0 1px 3px 1px rgba(60, 64, 67, 0.15);\n",
              "    fill: var(--button-hover-fill-color);\n",
              "  }\n",
              "\n",
              "  .colab-df-quickchart-complete:disabled,\n",
              "  .colab-df-quickchart-complete:disabled:hover {\n",
              "    background-color: var(--disabled-bg-color);\n",
              "    fill: var(--disabled-fill-color);\n",
              "    box-shadow: none;\n",
              "  }\n",
              "\n",
              "  .colab-df-spinner {\n",
              "    border: 2px solid var(--fill-color);\n",
              "    border-color: transparent;\n",
              "    border-bottom-color: var(--fill-color);\n",
              "    animation:\n",
              "      spin 1s steps(1) infinite;\n",
              "  }\n",
              "\n",
              "  @keyframes spin {\n",
              "    0% {\n",
              "      border-color: transparent;\n",
              "      border-bottom-color: var(--fill-color);\n",
              "      border-left-color: var(--fill-color);\n",
              "    }\n",
              "    20% {\n",
              "      border-color: transparent;\n",
              "      border-left-color: var(--fill-color);\n",
              "      border-top-color: var(--fill-color);\n",
              "    }\n",
              "    30% {\n",
              "      border-color: transparent;\n",
              "      border-left-color: var(--fill-color);\n",
              "      border-top-color: var(--fill-color);\n",
              "      border-right-color: var(--fill-color);\n",
              "    }\n",
              "    40% {\n",
              "      border-color: transparent;\n",
              "      border-right-color: var(--fill-color);\n",
              "      border-top-color: var(--fill-color);\n",
              "    }\n",
              "    60% {\n",
              "      border-color: transparent;\n",
              "      border-right-color: var(--fill-color);\n",
              "    }\n",
              "    80% {\n",
              "      border-color: transparent;\n",
              "      border-right-color: var(--fill-color);\n",
              "      border-bottom-color: var(--fill-color);\n",
              "    }\n",
              "    90% {\n",
              "      border-color: transparent;\n",
              "      border-bottom-color: var(--fill-color);\n",
              "    }\n",
              "  }\n",
              "</style>\n",
              "\n",
              "  <script>\n",
              "    async function quickchart(key) {\n",
              "      const quickchartButtonEl =\n",
              "        document.querySelector('#' + key + ' button');\n",
              "      quickchartButtonEl.disabled = true;  // To prevent multiple clicks.\n",
              "      quickchartButtonEl.classList.add('colab-df-spinner');\n",
              "      try {\n",
              "        const charts = await google.colab.kernel.invokeFunction(\n",
              "            'suggestCharts', [key], {});\n",
              "      } catch (error) {\n",
              "        console.error('Error during call to suggestCharts:', error);\n",
              "      }\n",
              "      quickchartButtonEl.classList.remove('colab-df-spinner');\n",
              "      quickchartButtonEl.classList.add('colab-df-quickchart-complete');\n",
              "    }\n",
              "    (() => {\n",
              "      let quickchartButtonEl =\n",
              "        document.querySelector('#df-67e18f75-0b32-4b0b-b33b-bd8401dea118 button');\n",
              "      quickchartButtonEl.style.display =\n",
              "        google.colab.kernel.accessAllowed ? 'block' : 'none';\n",
              "    })();\n",
              "  </script>\n",
              "</div>\n",
              "\n",
              "    </div>\n",
              "  </div>\n"
            ],
            "application/vnd.google.colaboratory.intrinsic+json": {
              "type": "dataframe",
              "summary": "{\n  \"name\": \"cities[cities\",\n  \"rows\": 19,\n  \"fields\": [\n    {\n      \"column\": \"NAME\",\n      \"properties\": {\n        \"dtype\": \"string\",\n        \"num_unique_values\": 19,\n        \"samples\": [\n          \"Fortaleza\",\n          \"Rio de Janeiro\",\n          \"Porto Velho\"\n        ],\n        \"semantic_type\": \"\",\n        \"description\": \"\"\n      }\n    },\n    {\n      \"column\": \"COUNTRY\",\n      \"properties\": {\n        \"dtype\": \"category\",\n        \"num_unique_values\": 1,\n        \"samples\": [\n          \"Brazil\"\n        ],\n        \"semantic_type\": \"\",\n        \"description\": \"\"\n      }\n    },\n    {\n      \"column\": \"CAPITAL\",\n      \"properties\": {\n        \"dtype\": \"category\",\n        \"num_unique_values\": 2,\n        \"samples\": [\n          \"Y\"\n        ],\n        \"semantic_type\": \"\",\n        \"description\": \"\"\n      }\n    },\n    {\n      \"column\": \"geometry\",\n      \"properties\": {\n        \"dtype\": \"geometry\",\n        \"num_unique_values\": 19,\n        \"samples\": [\n          \"POINT (-38.58890151977539 -3.7833218574523926)\"\n        ],\n        \"semantic_type\": \"\",\n        \"description\": \"\"\n      }\n    }\n  ]\n}"
            }
          },
          "metadata": {},
          "execution_count": 118
        }
      ]
    },
    {
      "cell_type": "code",
      "execution_count": 116,
      "metadata": {
        "id": "ufejejnzzNjY"
      },
      "outputs": [],
      "source": [
        "cities_brazil_5641=cities[cities.COUNTRY=='Brazil'].to_crs(5641)"
      ]
    },
    {
      "cell_type": "code",
      "execution_count": 119,
      "metadata": {
        "id": "oydGjZPQzrS8"
      },
      "outputs": [],
      "source": [
        "riversBrazil_clipped=gpd.clip(rivers,brazil)"
      ]
    },
    {
      "cell_type": "code",
      "execution_count": 120,
      "metadata": {
        "id": "71d42ed2-f296-480a-b603-7213575761c6"
      },
      "outputs": [],
      "source": [
        "brazil_5641=brazil.to_crs(5641)\n",
        "\n",
        "rivers_brazil_5641=riversBrazil_clipped.to_crs(brazil_5641.crs)"
      ]
    },
    {
      "cell_type": "code",
      "execution_count": 121,
      "metadata": {
        "id": "2f54a006-ca29-43db-9942-fdfa5c38e075"
      },
      "outputs": [],
      "source": [
        "## saving\n",
        "\n",
        "\n",
        "import os\n",
        "\n",
        "brazil_5641.to_file(os.path.join(\"maps\",\"brazilMaps_5641.gpkg\"), layer='country', driver=\"GPKG\")\n",
        "cities_brazil_5641.to_file(os.path.join(\"maps\",\"brazilMaps_5641.gpkg\"), layer='cities', driver=\"GPKG\")\n",
        "rivers_brazil_5641.to_file(os.path.join(\"maps\",\"brazilMaps_5641.gpkg\"), layer='rivers', driver=\"GPKG\")\n",
        "#brazil_5641.centroid.to_file(os.path.join(\"maps\",\"brazilMaps_5641.gpkg\"), layer='centroid', driver=\"GPKG\")"
      ]
    },
    {
      "cell_type": "markdown",
      "metadata": {
        "id": "67c0b63b-c198-4b76-8f24-68f2f4e24ccf"
      },
      "source": [
        "### Exercise 1\n",
        "<div class=\"alert-success\">\n",
        "\n",
        "1. Reproject your country's map layers.\n",
        "2. Plot the reprojected layers\n",
        "3. Save the reprojected layers as **gpkg**.\n",
        "    \n",
        "</div>"
      ]
    },
    {
      "cell_type": "markdown",
      "metadata": {
        "id": "57780f1f-2c19-49b4-8fbe-b3cc954a83f2"
      },
      "source": [
        "## Creating Spatial data\n",
        "\n",
        "You have a \"data\"folder in **Paideia** with a CSV file with information on the airports in Brazil. Create a similar 'data' folder in your local computer, inside the current _repo_.\n",
        "\n",
        "Let's open the **CSV**:"
      ]
    },
    {
      "cell_type": "code",
      "execution_count": null,
      "metadata": {
        "id": "c95003f5-30f7-4941-85d1-fd2d87743c80"
      },
      "outputs": [],
      "source": [
        "import pandas as pd\n",
        "infoairports=pd.read_csv(os.path.join(\"data\",\"br-airports.csv\"))\n",
        "\n",
        "# some rows\n",
        "\n",
        "infoairports.iloc[[0,1,2,3,-4,-3,-2,-1],:] #head and tail\n"
      ]
    },
    {
      "cell_type": "markdown",
      "metadata": {
        "id": "186b6ca4-e5f0-4502-91b4-dea1021fcdd2"
      },
      "source": [
        "This needs some cleaning:"
      ]
    },
    {
      "cell_type": "code",
      "execution_count": null,
      "metadata": {
        "id": "faf009a8-7a75-461c-ba05-0e5760c971ff"
      },
      "outputs": [],
      "source": [
        "# bye first row\n",
        "infoairports.drop(index=0,inplace=True)\n",
        "infoairports.reset_index(drop=True, inplace=True)\n",
        "infoairports.head()"
      ]
    },
    {
      "cell_type": "code",
      "execution_count": null,
      "metadata": {
        "id": "5d857678-c28e-4988-86b4-2ee6b11efdba"
      },
      "outputs": [],
      "source": [
        "# keep the  columns needed\n",
        "\n",
        "infoairports.columns\n"
      ]
    },
    {
      "cell_type": "code",
      "execution_count": null,
      "metadata": {
        "id": "22dd51af-cad6-4aa3-843d-f2dbadefb990"
      },
      "outputs": [],
      "source": [
        "keep=['name','type','latitude_deg', 'longitude_deg','elevation_ft','region_name','municipality']\n",
        "infoairports=infoairports.loc[:,keep]\n",
        "\n",
        "infoairports.info()"
      ]
    },
    {
      "cell_type": "markdown",
      "metadata": {
        "id": "a9f96cbf-6d53-45d1-9c5d-e236d6e3e652"
      },
      "source": [
        "Some formatting:"
      ]
    },
    {
      "cell_type": "code",
      "execution_count": null,
      "metadata": {
        "id": "b4cb8ee0-18a7-40c1-864b-cbc8086861c8"
      },
      "outputs": [],
      "source": [
        "numericCols=['latitude_deg', 'longitude_deg','elevation_ft']\n",
        "infoairports[numericCols]=infoairports.loc[:,numericCols].apply(lambda x:pd.to_numeric(x))"
      ]
    },
    {
      "cell_type": "code",
      "execution_count": null,
      "metadata": {
        "id": "4e7f0d14-934f-4465-b42f-d0c60efb6d32"
      },
      "outputs": [],
      "source": [
        "# now\n",
        "infoairports.info()"
      ]
    },
    {
      "cell_type": "code",
      "execution_count": null,
      "metadata": {
        "id": "b340ab20-2258-41a2-bbd4-6b6c31d422a0"
      },
      "outputs": [],
      "source": [
        "# let's plot\n",
        "\n",
        "base = brazil_5641.plot(color='white', edgecolor='black') #unprojected\n",
        "\n",
        "infoairports.plot.scatter(x = 'longitude_deg', y = 'latitude_deg',ax=base)"
      ]
    },
    {
      "cell_type": "markdown",
      "metadata": {
        "id": "77acc474-bb83-4174-9579-a8a641ff6adc"
      },
      "source": [
        "Why is it wrong?"
      ]
    },
    {
      "cell_type": "code",
      "execution_count": null,
      "metadata": {
        "id": "7b04453e-c335-4857-8fff-6a26c2daf730"
      },
      "outputs": [],
      "source": [
        "airports=gpd.GeoDataFrame(data=infoairports.copy(),\n",
        "                 geometry=gpd.points_from_xy(infoairports.longitude_deg,\n",
        "                                             infoairports.latitude_deg),\n",
        "                 crs=brazil.crs.to_epsg())# the coordinates were in degrees - unprojected\n",
        "\n",
        "# let's plot\n",
        "\n",
        "base = brazil_5641.plot(color='white', edgecolor='black')\n",
        "airports.plot(ax=base)"
      ]
    },
    {
      "cell_type": "code",
      "execution_count": null,
      "metadata": {
        "id": "755fb348-f7a6-4383-bd1c-54195e23eea2"
      },
      "outputs": [],
      "source": [
        "#remember:\n",
        "type(airports), type(infoairports)"
      ]
    },
    {
      "cell_type": "markdown",
      "metadata": {
        "id": "1bfd9c61-b4cf-4de2-8d65-cfce0f82a8a2"
      },
      "source": [
        "Let's re project!"
      ]
    },
    {
      "cell_type": "code",
      "execution_count": null,
      "metadata": {
        "id": "a6791c26-5306-4cc3-86cb-8a42fba88276"
      },
      "outputs": [],
      "source": [
        "airports_5641=airports.to_crs(5641)\n",
        "\n",
        "## then\n",
        "\n",
        "base = brazil_5641.plot(color='white', edgecolor='black')\n",
        "airports_5641.plot(ax=base)"
      ]
    },
    {
      "cell_type": "markdown",
      "metadata": {
        "id": "980c890f-bcdb-4a11-b926-f587df9cace2"
      },
      "source": [
        "Remember you have type of airports:"
      ]
    },
    {
      "cell_type": "code",
      "execution_count": null,
      "metadata": {
        "id": "5d44ab9b-d949-4976-af37-5b80786459f3"
      },
      "outputs": [],
      "source": [
        "airports_5641['type'].value_counts() # this will not work: airports.type.value_counts()"
      ]
    },
    {
      "cell_type": "markdown",
      "metadata": {
        "id": "d6e6386d-2636-4194-a79b-594ece5958d0"
      },
      "source": [
        "We may use that in the future. For now, just rename the **type** column to a different one."
      ]
    },
    {
      "cell_type": "code",
      "execution_count": null,
      "metadata": {
        "id": "576e913d-62e9-45a0-ba8c-58ba2504a052"
      },
      "outputs": [],
      "source": [
        "airports_5641.rename(columns={'type':'kind'},inplace=True)\n",
        "\n",
        "## adding the airports to GPKG\n",
        "airports_5641.to_file(os.path.join(\"maps\",\"brazilMaps_5641.gpkg\"), layer='airports', driver=\"GPKG\")"
      ]
    },
    {
      "cell_type": "markdown",
      "metadata": {
        "id": "90565e2b-836a-4495-95da-2b722ae43b5d"
      },
      "source": [
        "### Exercise 2\n",
        "<div class=\"alert-success\">\n",
        "\n",
        "1. Find the airports for your country [here](https://ourairports.com/data/). The data is in a CSV file.\n",
        "2. Create projected layer of airports.\n",
        "3. Plot all the layers and airports on top.\n",
        "    \n",
        "</div>"
      ]
    },
    {
      "cell_type": "markdown",
      "metadata": {
        "id": "1a244be3"
      },
      "source": [
        "<a class=\"anchor\" id=\"11\"></a>\n",
        "\n",
        "## Formating Geoseries projections\n",
        "\n"
      ]
    },
    {
      "cell_type": "markdown",
      "metadata": {
        "id": "56f39f71"
      },
      "source": [
        "You know **brazil_5641** is a multipolygon:"
      ]
    },
    {
      "cell_type": "code",
      "execution_count": null,
      "metadata": {
        "id": "0c0f557c"
      },
      "outputs": [],
      "source": [
        "brazil_5641"
      ]
    },
    {
      "cell_type": "markdown",
      "metadata": {
        "id": "a1623e72"
      },
      "source": [
        "Sometime, you just need the border (lines):"
      ]
    },
    {
      "cell_type": "code",
      "execution_count": null,
      "metadata": {
        "id": "39db903a"
      },
      "outputs": [],
      "source": [
        "brazil_5641.boundary"
      ]
    },
    {
      "cell_type": "code",
      "execution_count": null,
      "metadata": {
        "id": "ef42fd87"
      },
      "outputs": [],
      "source": [
        "# This is just the borderline\n",
        "brazil_5641.boundary.plot()"
      ]
    },
    {
      "cell_type": "markdown",
      "metadata": {
        "id": "24f53d89"
      },
      "source": [
        "Always check the data type:"
      ]
    },
    {
      "cell_type": "code",
      "execution_count": null,
      "metadata": {
        "id": "a18b7ce2"
      },
      "outputs": [],
      "source": [
        "# does 'boundary' return a GDF?\n",
        "type(brazil_5641.boundary)"
      ]
    },
    {
      "cell_type": "markdown",
      "metadata": {
        "id": "5b3845aa"
      },
      "source": [
        "Some operations in geopandas require GDF or GS. If you need a GDF instead of a GS:"
      ]
    },
    {
      "cell_type": "code",
      "execution_count": null,
      "metadata": {
        "id": "c4899f6e"
      },
      "outputs": [],
      "source": [
        "# converting into GDF\n",
        "brazil_5641.boundary.to_frame()"
      ]
    },
    {
      "cell_type": "code",
      "execution_count": null,
      "metadata": {
        "id": "EWdGY-5K6feq"
      },
      "outputs": [],
      "source": [
        "brazil_5641.boundary.to_frame().info()"
      ]
    },
    {
      "cell_type": "markdown",
      "metadata": {
        "id": "ee31770d"
      },
      "source": [
        "Notice you get a very simple GDF, and you may want to add some information:"
      ]
    },
    {
      "cell_type": "code",
      "execution_count": null,
      "metadata": {
        "id": "1aa88edb"
      },
      "outputs": [],
      "source": [
        "# conversion\n",
        "brazil_border=brazil_5641.boundary.to_frame()\n",
        "\n",
        "# new column (optional)\n",
        "brazil_border['name']='Brazil'\n",
        "\n",
        "# renaming the geometry column\n",
        "brazil_border.rename(columns={0:'geometry'},inplace=True)\n",
        "\n",
        "#setting the geometry (the name is not enough)\n",
        "brazil_border = brazil_border.set_geometry(\"geometry\")\n",
        "\n",
        "# verifying:\n",
        "brazil_border.crs"
      ]
    },
    {
      "cell_type": "code",
      "execution_count": null,
      "metadata": {
        "id": "m4ce9tnN64x2"
      },
      "outputs": [],
      "source": [
        "brazil_border"
      ]
    },
    {
      "cell_type": "markdown",
      "metadata": {
        "id": "56253f89"
      },
      "source": [
        "You can add this GDF as a layer."
      ]
    },
    {
      "cell_type": "markdown",
      "metadata": {
        "id": "a1a60dee"
      },
      "source": [
        "### Exercise 3\n",
        "\n",
        "<div class=\"alert-success\">\n",
        "    \n",
        "1. Check if your country is a polygon or multipolygon.\n",
        "    \n",
        "2. Recover just the boundaries of that country.\n",
        "    \n",
        "3. Turn the boundary into a GDF.\n",
        "</div>"
      ]
    },
    {
      "cell_type": "markdown",
      "metadata": {
        "id": "2c049934"
      },
      "source": [
        "<a class=\"anchor\" id=\"12\"></a>\n",
        "\n",
        "## Maps Lacking CRS information"
      ]
    },
    {
      "cell_type": "markdown",
      "metadata": {
        "id": "ae03899d"
      },
      "source": [
        "Reprojecting seems a simple process, but you might find some interesting cases.\n",
        "\n",
        "Download the compressed file \"Brazil_subnational\". Unzip or decompress that files. Move the decompressed folder into your current _maps_ folder.\n",
        "\n",
        "Let's read the maps on _states_(adm1) and _municipalities_ (adm2):"
      ]
    },
    {
      "cell_type": "code",
      "execution_count": null,
      "metadata": {
        "id": "8f1ffae0"
      },
      "outputs": [],
      "source": [
        "brazil_states=gpd.read_file(os.path.join(\"maps\",\"bra_adm_ibge_2020_shp\",\"bra_admbnda_adm1_ibge_2020.shp\"))\n",
        "brazil_municipalities=gpd.read_file(os.path.join(\"maps\",\"bra_adm_ibge_2020_shp\",\"bra_admbnda_adm2_ibge_2020.shp\"))"
      ]
    },
    {
      "cell_type": "markdown",
      "metadata": {
        "id": "04c40df3-a43f-4252-a589-ab8449fcd9dd"
      },
      "source": [
        "They are maps, for sure:"
      ]
    },
    {
      "cell_type": "code",
      "execution_count": null,
      "metadata": {
        "id": "c94b207d-0723-4b51-82ff-0ff999a844ac"
      },
      "outputs": [],
      "source": [
        "type(brazil_states), type(brazil_municipalities)"
      ]
    },
    {
      "cell_type": "code",
      "execution_count": null,
      "metadata": {
        "id": "b8871df8-0f49-4ef7-9c0f-c6eb7aa3205d"
      },
      "outputs": [],
      "source": [
        "brazil_states.geometry.head()"
      ]
    },
    {
      "cell_type": "code",
      "execution_count": null,
      "metadata": {
        "id": "ca1bb428-8608-44b0-ad0a-fa5a6a1f5a61"
      },
      "outputs": [],
      "source": [
        "brazil_municipalities.geometry.head()"
      ]
    },
    {
      "cell_type": "markdown",
      "metadata": {
        "id": "1fc50b42"
      },
      "source": [
        "But, notice this:"
      ]
    },
    {
      "cell_type": "code",
      "execution_count": null,
      "metadata": {
        "id": "fcf97ff7"
      },
      "outputs": [],
      "source": [
        "brazil_states.crs, brazil_municipalities.crs"
      ]
    },
    {
      "cell_type": "markdown",
      "metadata": {
        "id": "d5d3fb9f"
      },
      "source": [
        "They do not have crs information, however they can be plotted:"
      ]
    },
    {
      "cell_type": "code",
      "execution_count": null,
      "metadata": {
        "id": "55f99615"
      },
      "outputs": [],
      "source": [
        "import matplotlib.pyplot as plt\n",
        "\n",
        "fig, (ax1, ax2) = plt.subplots(ncols=2, sharex=False, sharey=False, figsize=(12,12))\n",
        "\n",
        "brazil_states.plot(ax=ax1, facecolor='lightgrey', edgecolor='black')\n",
        "brazil_municipalities.plot(ax=ax2, facecolor='lightgrey', edgecolor='black',linewidth=0.2)\n"
      ]
    },
    {
      "cell_type": "markdown",
      "metadata": {
        "id": "1b744542"
      },
      "source": [
        "Since we are using the crs 5641 for Brazil, the initial strategy could be to set the CRS with the right projection :"
      ]
    },
    {
      "cell_type": "code",
      "execution_count": null,
      "metadata": {
        "id": "931bfad1"
      },
      "outputs": [],
      "source": [
        "## uncomment this to see the error message\n",
        "# brazil_states.to_crs(5641)"
      ]
    },
    {
      "cell_type": "markdown",
      "metadata": {
        "id": "4c6125eb"
      },
      "source": [
        "Python says _\"Please set a crs on the object first\"_. This would mean to know the actual projection, of the geometry:"
      ]
    },
    {
      "cell_type": "markdown",
      "metadata": {
        "id": "947b1955"
      },
      "source": [
        "From the plots above and the rows seen, we conclude the maps are unprojected; then:"
      ]
    },
    {
      "cell_type": "code",
      "execution_count": null,
      "metadata": {
        "id": "b0cea549"
      },
      "outputs": [],
      "source": [
        "# set as unprojected\n",
        "brazil_states.crs = \"EPSG:4326\"\n",
        "brazil_municipalities.crs = \"EPSG:4326\""
      ]
    },
    {
      "cell_type": "markdown",
      "metadata": {
        "id": "370b9b22"
      },
      "source": [
        "Now, we can reproject:"
      ]
    },
    {
      "cell_type": "code",
      "execution_count": null,
      "metadata": {
        "id": "b5931b04"
      },
      "outputs": [],
      "source": [
        "brazil_states=brazil_states.to_crs(5641)\n",
        "brazil_municipalities=brazil_municipalities.to_crs(5641)"
      ]
    },
    {
      "cell_type": "markdown",
      "metadata": {
        "id": "4bd63172"
      },
      "source": [
        "### Exercise 4\n",
        "\n",
        "<div class=\"alert-success\">\n",
        "\n",
        "1. Look for sub administrative divisions of your country\n",
        "2. Check all the CRSs of those divisions\n",
        "3. If you find one CRS is missing, fill the CRS with the right projection. If not, just state nothing is to be done.\n",
        "</div>"
      ]
    },
    {
      "cell_type": "markdown",
      "metadata": {
        "id": "cQgamTbX911A"
      },
      "source": [
        "## Geo Merging\n",
        "\n",
        "The countries map has no interesting information beyond the geometry."
      ]
    },
    {
      "cell_type": "code",
      "execution_count": null,
      "metadata": {
        "id": "QkRTmDTZ911A"
      },
      "outputs": [],
      "source": [
        "countries.head()"
      ]
    },
    {
      "cell_type": "markdown",
      "metadata": {
        "id": "mL6Pw18r911A"
      },
      "source": [
        "Let add some information to each country:"
      ]
    },
    {
      "cell_type": "code",
      "execution_count": null,
      "metadata": {
        "id": "97btXyge911A"
      },
      "outputs": [],
      "source": [
        "import pandas as pd\n",
        "\n",
        "fragilityCiaLink=\"https://github.com/CienciaDeDatosEspacial/merging/raw/main/FragilityCia_isos.csv\"\n",
        "\n",
        "fragilityCia=pd.read_csv(fragilityCiaLink)\n",
        "\n",
        "fragilityCia.head()"
      ]
    },
    {
      "cell_type": "markdown",
      "metadata": {
        "id": "ucMytkM9911A"
      },
      "source": [
        "We want to add the _fragilityCia_ data into the map. That is the merging process.\n",
        "For that, we need a common column. The _Country_ column is the option."
      ]
    },
    {
      "cell_type": "code",
      "execution_count": null,
      "metadata": {
        "id": "_vJq-o89911B"
      },
      "outputs": [],
      "source": [
        "# to upper case.\n",
        "countries['COUNTRY']=countries.COUNTRY.str.upper()"
      ]
    },
    {
      "cell_type": "markdown",
      "metadata": {
        "id": "qQjjpN3J911B"
      },
      "source": [
        "It is very unlikely the names are written the same. Verify:"
      ]
    },
    {
      "cell_type": "code",
      "execution_count": null,
      "metadata": {
        "id": "XQSKl9Nz911B"
      },
      "outputs": [],
      "source": [
        "onlyFragilCia=set(fragilityCia.Country)- set(countries.COUNTRY)\n",
        "onlyMap=set(countries.COUNTRY)- set(fragilityCia.Country)"
      ]
    },
    {
      "cell_type": "markdown",
      "metadata": {
        "id": "6HxnDC7W911B"
      },
      "source": [
        "Check here:"
      ]
    },
    {
      "cell_type": "code",
      "execution_count": null,
      "metadata": {
        "id": "hE_aSvmQ911B"
      },
      "outputs": [],
      "source": [
        "onlyFragilCia"
      ]
    },
    {
      "cell_type": "code",
      "execution_count": null,
      "metadata": {
        "id": "zbTizb6b911B"
      },
      "outputs": [],
      "source": [
        "# and here\n",
        "onlyMap"
      ]
    },
    {
      "cell_type": "markdown",
      "metadata": {
        "id": "6_UJQaV3911B"
      },
      "source": [
        "## Fuzzy merging"
      ]
    },
    {
      "cell_type": "markdown",
      "metadata": {
        "id": "1Ru8Wp9f911C"
      },
      "source": [
        "Let's find similar names:"
      ]
    },
    {
      "cell_type": "code",
      "execution_count": null,
      "metadata": {
        "id": "5kOc6YjOBuwj"
      },
      "outputs": [],
      "source": [
        "# !pip install thefuzz"
      ]
    },
    {
      "cell_type": "code",
      "execution_count": null,
      "metadata": {
        "id": "OGiG_W77911G"
      },
      "outputs": [],
      "source": [
        "from thefuzz import process\n",
        "\n",
        "[(country, process.extractOne(country,onlyMap)) for country in sorted(onlyFragilCia)]"
      ]
    },
    {
      "cell_type": "code",
      "execution_count": null,
      "metadata": {
        "id": "X_BTyMJ6911G"
      },
      "outputs": [],
      "source": [
        "# keeping high scores\n",
        "\n",
        "[(country, process.extractOne(country,onlyMap)) for country in sorted(onlyFragilCia)\n",
        " if process.extractOne(country,onlyMap)[1]>=90]"
      ]
    },
    {
      "cell_type": "markdown",
      "metadata": {
        "id": "f4HfKg5a911G"
      },
      "source": [
        "Preparing a _dict_ of changes:"
      ]
    },
    {
      "cell_type": "code",
      "execution_count": null,
      "metadata": {
        "id": "HaGAV_eE911G"
      },
      "outputs": [],
      "source": [
        "# then:\n",
        "try1={country: process.extractOne(country,onlyMap)[0] for country in sorted(onlyFragilCia)\n",
        " if process.extractOne(country,onlyMap)[1]>=90}\n",
        "try1"
      ]
    },
    {
      "cell_type": "markdown",
      "metadata": {
        "id": "SZBdNu65911G"
      },
      "source": [
        "Making changes and updating:"
      ]
    },
    {
      "cell_type": "code",
      "execution_count": null,
      "metadata": {
        "id": "2uoQ0nu-911G"
      },
      "outputs": [],
      "source": [
        "fragilityCia.replace(to_replace={'Country':try1},inplace=True)\n",
        "\n",
        "# updating\n",
        "onlyFragilCia=set(fragilityCia.Country)- set(countries.COUNTRY)\n",
        "onlyMap=set(countries.COUNTRY)- set(fragilityCia.Country)\n",
        "# new matches\n",
        "[(country, process.extractOne(country,onlyMap)) for country in sorted(onlyFragilCia)]"
      ]
    },
    {
      "cell_type": "code",
      "execution_count": null,
      "metadata": {
        "id": "SKGDe5d7911G"
      },
      "outputs": [],
      "source": [
        "# some manual\n",
        "\n",
        "countries[countries.COUNTRY.str.contains('LAO|SWA|KOR')]"
      ]
    },
    {
      "cell_type": "code",
      "execution_count": null,
      "metadata": {
        "id": "2F0OGU0z911H"
      },
      "outputs": [],
      "source": [
        "manualChanges={'SWAZILAND':'ESWATINI','LAOS':\"LAO PEOPLE'S DEMOCRATIC REPUBLIC (THE)\",'SOUTH KOREA':'KOREA (THE REPUBLIC OF)'}\n",
        "\n",
        "countries.replace(to_replace={'COUNTRY':manualChanges},inplace=True)\n",
        "\n",
        "# updating\n",
        "onlyFragilCia=set(fragilityCia.Country)- set(countries.COUNTRY)\n",
        "onlyMap=set(countries.COUNTRY)- set(fragilityCia.Country)\n",
        "# new matches\n",
        "[(country, process.extractOne(country,onlyMap)) for country in sorted(onlyFragilCia)]"
      ]
    },
    {
      "cell_type": "code",
      "execution_count": null,
      "metadata": {
        "id": "teIn9O7l911H"
      },
      "outputs": [],
      "source": [
        "# then:\n",
        "try2={country: process.extractOne(country,onlyMap)[0] for country in sorted(onlyFragilCia)}\n",
        "try2"
      ]
    },
    {
      "cell_type": "code",
      "execution_count": null,
      "metadata": {
        "id": "F7DRk15v911H"
      },
      "outputs": [],
      "source": [
        "# changing\n",
        "fragilityCia.replace(to_replace={'Country':try2},inplace=True)\n",
        "\n",
        "# new update\n",
        "onlyFragilCia=set(fragilityCia.Country)- set(countries.COUNTRY)\n",
        "onlyMap=set(countries.COUNTRY)- set(fragilityCia.Country)\n",
        "\n",
        "# new matches\n",
        "[(country, process.extractOne(country,onlyMap)) for country in sorted(onlyFragilCia)]"
      ]
    },
    {
      "cell_type": "markdown",
      "metadata": {
        "id": "zDRNBfSF911H"
      },
      "source": [
        "We can not improve the situation.\n",
        "\n",
        "Now, when you merge a GDF with a DF, **the GDF has to be on the left**:"
      ]
    },
    {
      "cell_type": "code",
      "execution_count": null,
      "metadata": {
        "id": "Uh4HwdF3911H"
      },
      "outputs": [],
      "source": [
        "theMapAndData=countries.merge(fragilityCia,left_on='COUNTRY', right_on='Country')\n",
        "\n",
        "theMapAndData.drop(columns=['Country'],inplace=True) # no need for this column\n",
        "# here it is (new map):\n",
        "theMapAndData.info()"
      ]
    },
    {
      "cell_type": "markdown",
      "metadata": {
        "id": "mZicl2ut911H"
      },
      "source": [
        "# Choropleths\n",
        "\n",
        "## Transformation of data values\n",
        "\n",
        "### Re Scaling\n",
        "\n",
        "We should plan how to color the polygons based on some variable, let me check our variables of interest:"
      ]
    },
    {
      "cell_type": "code",
      "execution_count": null,
      "metadata": {
        "id": "4KpqfrRB911H"
      },
      "outputs": [],
      "source": [
        "DataNames=['fragility', 'co2', 'ForestRev_gdp']"
      ]
    },
    {
      "cell_type": "code",
      "execution_count": null,
      "metadata": {
        "id": "owx8zLXQ911I"
      },
      "outputs": [],
      "source": [
        "\n",
        "pd.melt(theMapAndData[DataNames])"
      ]
    },
    {
      "cell_type": "code",
      "execution_count": null,
      "metadata": {
        "id": "hCvWgr63911I"
      },
      "outputs": [],
      "source": [
        "import seaborn as sns\n",
        "import matplotlib.pyplot as plt\n",
        "\n",
        "sns.displot(pd.melt(theMapAndData[DataNames]),\n",
        "            x=\"value\", hue=\"variable\",kind=\"kde\",\n",
        "            log_scale=(False,False))"
      ]
    },
    {
      "cell_type": "markdown",
      "metadata": {
        "id": "P3hCupcF911I"
      },
      "source": [
        "The variables are in different units, we should try a data rescaling strategy:"
      ]
    },
    {
      "cell_type": "code",
      "execution_count": null,
      "metadata": {
        "id": "_Vo-RpYT911I"
      },
      "outputs": [],
      "source": [
        "# !pip install -U scikit-learn"
      ]
    },
    {
      "cell_type": "markdown",
      "metadata": {
        "id": "tftzIdbg911I"
      },
      "source": [
        "* **StandardScaler**:"
      ]
    },
    {
      "cell_type": "code",
      "execution_count": null,
      "metadata": {
        "id": "IAf2hGcY911I"
      },
      "outputs": [],
      "source": [
        "from sklearn.preprocessing import StandardScaler\n",
        "\n",
        "scaler = StandardScaler()\n",
        "normalized_data = scaler.fit_transform(theMapAndData[DataNames])\n",
        "sns.displot(pd.melt(pd.DataFrame(normalized_data,columns=DataNames)),\n",
        "            x=\"value\", hue=\"variable\",kind=\"kde\",\n",
        "            log_scale=(False,False))"
      ]
    },
    {
      "cell_type": "markdown",
      "metadata": {
        "id": "ixk2GsQ8911I"
      },
      "source": [
        "* **MinMaxScaler**:"
      ]
    },
    {
      "cell_type": "code",
      "execution_count": null,
      "metadata": {
        "id": "EycFhq7i911J"
      },
      "outputs": [],
      "source": [
        "from sklearn.preprocessing import MinMaxScaler\n",
        "\n",
        "scaler = MinMaxScaler(feature_range=(0, 1))\n",
        "scaled_data=scaler.fit_transform(theMapAndData[DataNames])\n",
        "\n",
        "sns.displot(pd.melt(pd.DataFrame(scaled_data,columns=DataNames)),\n",
        "            x=\"value\", hue=\"variable\",kind=\"kde\",\n",
        "            log_scale=(False,False))"
      ]
    },
    {
      "cell_type": "markdown",
      "metadata": {
        "id": "hdV_cuuY911J"
      },
      "source": [
        "* **RobustScaler**:"
      ]
    },
    {
      "cell_type": "code",
      "execution_count": null,
      "metadata": {
        "id": "eyVByKu4911J"
      },
      "outputs": [],
      "source": [
        "from sklearn.preprocessing import RobustScaler\n",
        "scaler = RobustScaler()\n",
        "robScaled_data = scaler.fit_transform(theMapAndData[DataNames])\n",
        "\n",
        "sns.displot(pd.melt(pd.DataFrame(robScaled_data,columns=DataNames)),\n",
        "            x=\"value\", hue=\"variable\",kind=\"kde\",\n",
        "            log_scale=(False,False))"
      ]
    },
    {
      "cell_type": "markdown",
      "metadata": {
        "id": "MlIt2ggd911J"
      },
      "source": [
        "* **QuantileTransformer**:"
      ]
    },
    {
      "cell_type": "code",
      "execution_count": null,
      "metadata": {
        "id": "0r0hi-BE911J"
      },
      "outputs": [],
      "source": [
        "from sklearn.preprocessing import QuantileTransformer\n",
        "scaler = QuantileTransformer(n_quantiles=99, random_state=0,output_distribution='normal') #or 'uniform'\n",
        "QtScaled_data = scaler.fit_transform(theMapAndData[DataNames])\n",
        "\n",
        "sns.displot(pd.melt(pd.DataFrame(QtScaled_data,columns=DataNames)),\n",
        "            x=\"value\", hue=\"variable\",kind=\"kde\",\n",
        "            log_scale=(False,False))"
      ]
    },
    {
      "cell_type": "markdown",
      "metadata": {
        "id": "la4Wko9duich"
      },
      "source": [
        "Let's keep the last one:"
      ]
    },
    {
      "cell_type": "code",
      "execution_count": null,
      "metadata": {
        "id": "bM1DZOXx911J"
      },
      "outputs": [],
      "source": [
        "theMapAndData['fragility_Qt']=QtScaled_data[:,0]"
      ]
    },
    {
      "cell_type": "markdown",
      "metadata": {
        "id": "Mvu1FQMh911J"
      },
      "source": [
        "### Discretizing"
      ]
    },
    {
      "cell_type": "markdown",
      "metadata": {
        "id": "UHh74IeT911J"
      },
      "source": [
        "I will keep the _data_Qt_ data frame. Now, I want cut the data.\n",
        "Please install [**numba**](https://numba.readthedocs.io/en/stable/user/installing.html) before runing the next code; also make sure you have **pysal**, **mapclassify** and **numpy** installed:"
      ]
    },
    {
      "cell_type": "code",
      "execution_count": null,
      "metadata": {
        "id": "pSSN_XDv911K"
      },
      "outputs": [],
      "source": [
        "! pip show numba mapclassify numpy"
      ]
    },
    {
      "cell_type": "code",
      "execution_count": null,
      "metadata": {
        "id": "nBBm8XmEuicm"
      },
      "outputs": [],
      "source": [
        "# !pip install mapclassify"
      ]
    },
    {
      "cell_type": "markdown",
      "metadata": {
        "id": "XifM5dIB911K"
      },
      "source": [
        "Let me discretize **fragility_Qt**:"
      ]
    },
    {
      "cell_type": "code",
      "execution_count": null,
      "metadata": {
        "id": "CvipvzA1911K"
      },
      "outputs": [],
      "source": [
        "import mapclassify\n",
        "import numpy as np\n",
        "\n",
        "np.random.seed(12345) # so we all get the same results!\n",
        "\n",
        "# let's try 5 intervals\n",
        "K=5\n",
        "theVar=theMapAndData.fragility_Qt\n",
        "# same interval width, easy interpretation\n",
        "ei5 = mapclassify.EqualInterval(theVar, k=K)\n",
        "# same interval width based on standard deviation, easy - but not as the previous one, poor when high skewness\n",
        "msd = mapclassify.StdMean(theVar)\n",
        "# interval width varies, counts per interval are close, not easy to grasp, repeated values complicate cuts\n",
        "q5=mapclassify.Quantiles(theVar,k=K)\n",
        "\n",
        "# based on similarity, good for multimodal data\n",
        "mb5 = mapclassify.MaximumBreaks(theVar, k=K)\n",
        "# based on similarity, good for skewed data\n",
        "ht = mapclassify.HeadTailBreaks(theVar) # no K needed\n",
        "# based on similarity, optimizer\n",
        "fj5 = mapclassify.FisherJenks(theVar, k=K)\n",
        "# based on similarity, optimizer\n",
        "jc5 = mapclassify.JenksCaspall(theVar, k=K)\n",
        "# based on similarity, optimizer\n",
        "mp5 = mapclassify.MaxP(theVar, k=K)"
      ]
    },
    {
      "cell_type": "markdown",
      "metadata": {
        "id": "jMjS1bE0911K"
      },
      "source": [
        "How can we select the right classification?\n",
        "Let me use the the Absolute deviation around class median (ADCM) to make the comparisson:"
      ]
    },
    {
      "cell_type": "code",
      "execution_count": null,
      "metadata": {
        "id": "bKvo0_cQ911K"
      },
      "outputs": [],
      "source": [
        "class5 = ei5,msd, q5,mb5,  ht, fj5, jc5, mp5\n",
        "# Collect ADCM for each classifier\n",
        "fits = np.array([ c.adcm for c in class5])\n",
        "# Convert ADCM scores to a DataFrame\n",
        "adcms = pd.DataFrame(fits)\n",
        "# Add classifier names\n",
        "adcms['classifier'] = [c.name for c in class5]\n",
        "# Add column names to the ADCM\n",
        "adcms.columns = ['ADCM', 'Classifier']"
      ]
    },
    {
      "cell_type": "markdown",
      "metadata": {
        "id": "anEyZGV6911L"
      },
      "source": [
        "Now, plot the **adcms**:"
      ]
    },
    {
      "cell_type": "code",
      "execution_count": null,
      "metadata": {
        "id": "TnYEkaJf911L"
      },
      "outputs": [],
      "source": [
        "adcms.sort_values('ADCM').plot.barh(x='Classifier')"
      ]
    },
    {
      "cell_type": "markdown",
      "metadata": {
        "id": "v22izWrv911L"
      },
      "source": [
        "Let's save the best strategy:"
      ]
    },
    {
      "cell_type": "code",
      "execution_count": null,
      "metadata": {
        "id": "QVab2hAl911L"
      },
      "outputs": [],
      "source": [
        "theMapAndData['fragility_Qt_jc5'] = jc5.yb"
      ]
    },
    {
      "cell_type": "code",
      "execution_count": null,
      "metadata": {
        "id": "NlOeXrph911L"
      },
      "outputs": [],
      "source": [
        "# there you are\n",
        "theMapAndData[['fragility_Qt','fragility_Qt_jc5']].head()"
      ]
    },
    {
      "cell_type": "markdown",
      "metadata": {
        "id": "6tBZSYFY911L"
      },
      "source": [
        "Let's check the mean of 'fragility_Qt' by the labels of the columns created (from '0' to '4')"
      ]
    },
    {
      "cell_type": "code",
      "execution_count": null,
      "metadata": {
        "id": "z0hBWL1d911L"
      },
      "outputs": [],
      "source": [
        "indexList=['fragility_Qt_jc5'] # add more?\n",
        "aggregator={'fragility_Qt': ['mean']}\n",
        "\n",
        "pd.concat([theMapAndData[['fragility_Qt',col]].groupby(col,as_index=False).agg(aggregator) for col in indexList],axis=1)"
      ]
    },
    {
      "cell_type": "markdown",
      "metadata": {
        "id": "eZdX-5M4911L"
      },
      "source": [
        "We could create a new column:"
      ]
    },
    {
      "cell_type": "code",
      "execution_count": null,
      "metadata": {
        "id": "5GT4XA4C911P"
      },
      "outputs": [],
      "source": [
        "# renaming\n",
        "newLabelsForLevels={0:\"0_Great\", 1:\"1_Good\", 2:\"2_Middle\", 3:\"3_Bad\", 4:\"4_Poor\"}\n",
        "\n",
        "theMapAndData['fragility_Qt_jc5_cat']=theMapAndData.loc[:,'fragility_Qt_jc5'].replace(newLabelsForLevels)\n",
        "\n",
        "# we have\n",
        "theMapAndData[['fragility_Qt','fragility_Qt_jc5','fragility_Qt_jc5_cat']].head(20)"
      ]
    },
    {
      "cell_type": "markdown",
      "metadata": {
        "id": "WMBgSJUw911P"
      },
      "source": [
        "We are ready for a choropleth:"
      ]
    },
    {
      "cell_type": "code",
      "execution_count": null,
      "metadata": {
        "id": "0BIR7WUe911P"
      },
      "outputs": [],
      "source": [
        "import matplotlib.pyplot as plt\n",
        "\n",
        "f, ax = plt.subplots(1, figsize=(10, 10))\n",
        "theMapAndData.plot(column='fragility_Qt_jc5_cat', # variable to plot\n",
        "                   cmap='viridis', # set of colors\n",
        "                   categorical=True, # can be interpreted as category\n",
        "                   edgecolor='white', # border color\n",
        "                   linewidth=0., # width of border\n",
        "                   alpha=1, # level of transparency (0 is invisible)\n",
        "                   legend=True, # need a legend?\n",
        "                   # location of legend: 'best', 'upper right', 'upper left', 'lower left',\n",
        "                   # 'lower right', 'right', 'center left', 'center right',\n",
        "                   # 'lower center', 'upper center', 'center'\n",
        "                   legend_kwds={'loc':\"lower left\"},\n",
        "        ax=ax\n",
        "       )\n",
        "\n",
        "ax.set_axis_off()"
      ]
    },
    {
      "cell_type": "markdown",
      "metadata": {
        "id": "x-qr4wOk911P"
      },
      "source": [
        "However, once you know the ADCM, you can request the choropleth without creating a variable:"
      ]
    },
    {
      "cell_type": "code",
      "execution_count": null,
      "metadata": {
        "id": "F_IIJHYb911Q"
      },
      "outputs": [],
      "source": [
        "import matplotlib.pyplot as plt\n",
        "\n",
        "f, ax = plt.subplots(1, figsize=(10, 10))\n",
        "theMapAndData.plot(column='fragility_Qt',\n",
        "                   cmap='OrRd',\n",
        "                   scheme=\"jenkscaspall\",k=5,\n",
        "        edgecolor='grey',\n",
        "        linewidth=0.5,\n",
        "        alpha=1,\n",
        "        legend=True,\n",
        "        legend_kwds={'loc':3},\n",
        "        ax=ax\n",
        "       )\n",
        "\n",
        "ax.set_axis_off()"
      ]
    },
    {
      "cell_type": "code",
      "execution_count": null,
      "metadata": {
        "id": "w-7bSegs911Q"
      },
      "outputs": [],
      "source": [
        "# finally\n",
        "\n",
        "theMapAndData.to_file(os.path.join(\"maps\",\"worldMaps.gpkg\"), layer='indicators', driver=\"GPKG\")"
      ]
    },
    {
      "cell_type": "markdown",
      "metadata": {
        "id": "eK_uY-Ge911Q"
      },
      "source": [
        "### Exercise 5\n",
        "\n",
        "<div class=\"alert-success\">\n",
        "\n",
        "1. Transform the co2 and forest variables.\n",
        "2. Discretize the result chosen.\n",
        "3. Make the maps for the co2 and forest variables.\n",
        "4. Add another variable (merge) from the web (or any other source). Transform it , discretize it, and map it.\n",
        "   \n",
        "    \n",
        "</div>"
      ]
    }
  ],
  "metadata": {
    "anaconda-cloud": {
      "attach-environment": true,
      "summary": "test"
    },
    "colab": {
      "provenance": []
    },
    "hide_input": false,
    "kernelspec": {
      "display_name": "Python 3 (ipykernel)",
      "language": "python",
      "name": "python3"
    },
    "language_info": {
      "codemirror_mode": {
        "name": "ipython",
        "version": 3
      },
      "file_extension": ".py",
      "mimetype": "text/x-python",
      "name": "python",
      "nbconvert_exporter": "python",
      "pygments_lexer": "ipython3",
      "version": "3.11.9"
    },
    "toc-autonumbering": false
  },
  "nbformat": 4,
  "nbformat_minor": 0
}